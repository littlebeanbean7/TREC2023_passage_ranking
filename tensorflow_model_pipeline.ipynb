{
 "cells": [
  {
   "cell_type": "code",
   "execution_count": 19,
   "metadata": {},
   "outputs": [],
   "source": [
    "# # https://www.tensorflow.org/ranking/tutorials/tfr_bert\n",
    "\n",
    "# # import os\n",
    "# # import tensorflow as tf\n",
    "\n",
    "# #import tensorflow_ranking as tfr\n",
    "# #from official.nlp.configs import encoders\n",
    "# from tensorflow_ranking.extension.premade import tfrbert_task\n",
    "\n",
    "# the last import got error ValueError: mutable default <class 'official.nlp.configs.encoders.EncoderConfig'> for field encoder is not allowed: use default_factory"
   ]
  },
  {
   "cell_type": "markdown",
   "metadata": {},
   "source": [
    "from tensorflow_ranking.extension import pipeline"
   ]
  },
  {
   "cell_type": "markdown",
   "metadata": {},
   "source": [
    "# Load package and pretrained model"
   ]
  },
  {
   "cell_type": "code",
   "execution_count": 1,
   "metadata": {},
   "outputs": [
    {
     "name": "stderr",
     "output_type": "stream",
     "text": [
      "2024-03-17 23:59:43.547176: I tensorflow/core/platform/cpu_feature_guard.cc:210] This TensorFlow binary is optimized to use available CPU instructions in performance-critical operations.\n",
      "To enable the following instructions: AVX2 FMA, in other operations, rebuild TensorFlow with the appropriate compiler flags.\n",
      "2024-03-17 23:59:44.522485: W tensorflow/compiler/tf2tensorrt/utils/py_utils.cc:38] TF-TRT Warning: Could not find TensorRT\n"
     ]
    }
   ],
   "source": [
    "import numpy as np\n",
    "import pandas as pd\n",
    "import tensorflow as tf\n",
    "from transformers import BertTokenizer, TFBertModel\n",
    "from tensorflow.keras.layers import Input, Dense\n",
    "from tensorflow.keras.models import Model\n"
   ]
  },
  {
   "cell_type": "code",
   "execution_count": 2,
   "metadata": {},
   "outputs": [
    {
     "name": "stderr",
     "output_type": "stream",
     "text": [
      "2024-03-17 23:59:47.022499: W tensorflow/core/common_runtime/gpu/gpu_device.cc:2251] Cannot dlopen some GPU libraries. Please make sure the missing libraries mentioned above are installed properly if you would like to use GPU. Follow the guide at https://www.tensorflow.org/install/gpu for how to download and setup the required libraries for your platform.\n",
      "Skipping registering GPU devices...\n",
      "Some weights of the PyTorch model were not used when initializing the TF 2.0 model TFBertModel: ['cls.predictions.transform.dense.weight', 'cls.predictions.transform.dense.bias', 'cls.seq_relationship.bias', 'cls.predictions.transform.LayerNorm.weight', 'cls.predictions.transform.LayerNorm.bias', 'cls.seq_relationship.weight', 'cls.predictions.bias']\n",
      "- This IS expected if you are initializing TFBertModel from a PyTorch model trained on another task or with another architecture (e.g. initializing a TFBertForSequenceClassification model from a BertForPreTraining model).\n",
      "- This IS NOT expected if you are initializing TFBertModel from a PyTorch model that you expect to be exactly identical (e.g. initializing a TFBertForSequenceClassification model from a BertForSequenceClassification model).\n",
      "All the weights of TFBertModel were initialized from the PyTorch model.\n",
      "If your task is similar to the task the model of the checkpoint was trained on, you can already use TFBertModel for predictions without further training.\n"
     ]
    }
   ],
   "source": [
    "# Load pre-trained BERT model and tokenizer\n",
    "tokenizer = BertTokenizer.from_pretrained('bert-base-uncased')\n",
    "bert_model = TFBertModel.from_pretrained('bert-base-uncased')"
   ]
  },
  {
   "cell_type": "markdown",
   "metadata": {},
   "source": [
    "# Load data"
   ]
  },
  {
   "cell_type": "code",
   "execution_count": 124,
   "metadata": {},
   "outputs": [],
   "source": [
    "# import pandas as pd\n",
    "# # query\n",
    "# query_train = pd.read_csv(\"./output/query_train_set_with_passage_info.csv\")\n",
    "# query_test =pd.read_csv(\"./output/query_test_set_with_passage_info.csv\")\n",
    "\n",
    "# # passage\n",
    "# passage_train = pd.read_csv(\"./output/train_passage_id_content_cleaned.csv\")\n",
    "# passage_test = pd.read_csv(\"./output/test_passage_id_content_cleaned.csv\")"
   ]
  },
  {
   "cell_type": "code",
   "execution_count": 37,
   "metadata": {},
   "outputs": [],
   "source": [
    "passage_train = pd.DataFrame({\n",
    "    'passage_id': [1, 2, 3, 4, 5, 6],\n",
    "    'passage': ['I like bananas.', 'Bananas are my favorite fruit.', 'Apples are also good.', 'I prefer apples over bananas.', 'This is a passage about cooking.', 'Python is a programming language.']\n",
    "})\n",
    "\n",
    "# Example pandas DataFrame representing query_train\n",
    "# Note: Replace this with your actual DataFrame\n",
    "query_train = pd.DataFrame({\n",
    "    'query_id': [1, 1, 1, 2, 2, 2],\n",
    "    'query': ['What is the best fruit?', 'What is the best fruit?', 'What is the best fruit?', 'How to cook pasta?', 'How to cook pasta?', 'How to cook pasta?'],\n",
    "    'passage_id': [1, 2, 3, 4, 5, 6],\n",
    "    'rank': [1, 2, 3, 1, 2, 3],\n",
    "    'score': [0.8, 0.7, 0.6, 0.9, 0.85, 0.75],\n",
    "    'rel': [1, 0, 1, 1, 0, 1]\n",
    "})"
   ]
  },
  {
   "cell_type": "code",
   "execution_count": 38,
   "metadata": {},
   "outputs": [],
   "source": [
    "# Example pandas DataFrame representing query_test\n",
    "# Note: Replace this with your actual DataFrame\n",
    "query_test = pd.DataFrame({\n",
    "    'query_id': [3, 3, 4, 4],\n",
    "    'query': ['How to learn Spanish?', 'How to learn Spanish?', 'What is the capital of France?', 'What is the capital of France?'],\n",
    "    'passage_id': [5, 6, 1, 2],\n",
    "    'rank': [1, 2, 1, 2],\n",
    "    'score': [0.85, 0.75, 0.8, 0.7],\n",
    "    'rel': [1, 0, 1, 1]\n",
    "})\n",
    "\n",
    "# Example pandas DataFrame representing passage_test\n",
    "# Note: Replace this with your actual DataFrame\n",
    "passage_test = pd.DataFrame({\n",
    "    'passage_id': [7, 8, 9, 10, 11, 12],\n",
    "    'passage': ['Spanish is spoken in many countries.', 'Learning Spanish can be fun.', 'The capital of France is Paris.', 'Paris is a beautiful city.', 'Python is a programming language.', 'Python is widely used for data science.']\n",
    "})\n"
   ]
  },
  {
   "cell_type": "markdown",
   "metadata": {},
   "source": [
    "# (!! todo) Train (Use BERT and Fine tune)"
   ]
  },
  {
   "cell_type": "code",
   "execution_count": 73,
   "metadata": {},
   "outputs": [],
   "source": [
    "# Function to compute BERT embeddings\n",
    "def compute_embeddings(texts):\n",
    "    tokenized_texts = tokenizer(texts.tolist(), padding=True, truncation=True, return_tensors='tf', max_length=32)\n",
    "    embeddings = bert_model(tokenized_texts)[0][:, 0, :].numpy() # Use [CLS] token embedding\n",
    "    return embeddings"
   ]
  },
  {
   "cell_type": "code",
   "execution_count": 75,
   "metadata": {},
   "outputs": [],
   "source": [
    "passage_embeddings =  compute_embeddings(passage_train['passage'])"
   ]
  },
  {
   "cell_type": "code",
   "execution_count": 76,
   "metadata": {},
   "outputs": [
    {
     "name": "stdout",
     "output_type": "stream",
     "text": [
      "(6, 768)\n",
      "(6, 768)\n"
     ]
    }
   ],
   "source": [
    "print(query_embeddings.shape)\n",
    "print(passage_embeddings.shape)"
   ]
  },
  {
   "cell_type": "code",
   "execution_count": 77,
   "metadata": {},
   "outputs": [],
   "source": [
    "# # Concatenate query and passage embeddings\n",
    "concatenated_embeddings = tf.concat([query_embeddings, passage_embeddings], axis=1)"
   ]
  },
  {
   "cell_type": "code",
   "execution_count": 78,
   "metadata": {},
   "outputs": [
    {
     "ename": "ValueError",
     "evalue": "When providing `outputs` as a list/tuple, all values in the list/tuple must be KerasTensors. Received: outputs=[<tf.Tensor: shape=(6, 1), dtype=float32, numpy=\narray([[0.5475777 ],\n       [0.54350626],\n       [0.5533128 ],\n       [0.54824376],\n       [0.56135833],\n       [0.58291   ]], dtype=float32)>] including invalid value [[0.5475777 ]\n [0.54350626]\n [0.5533128 ]\n [0.54824376]\n [0.56135833]\n [0.58291   ]] of type <class 'tensorflow.python.framework.ops.EagerTensor'>",
     "output_type": "error",
     "traceback": [
      "\u001b[0;31m---------------------------------------------------------------------------\u001b[0m",
      "\u001b[0;31mValueError\u001b[0m                                Traceback (most recent call last)",
      "\u001b[1;32m/home/lingling/TREC2023/tensorflow_ranking.ipynb Cell 16\u001b[0m line \u001b[0;36m7\n\u001b[1;32m      <a href='vscode-notebook-cell://ssh-remote%2B7b22686f73744e616d65223a225a657573227d/home/lingling/TREC2023/tensorflow_ranking.ipynb#Y216sdnNjb2RlLXJlbW90ZQ%3D%3D?line=3'>4</a>\u001b[0m output_layer \u001b[39m=\u001b[39m Dense(\u001b[39m1\u001b[39m, activation\u001b[39m=\u001b[39m\u001b[39m'\u001b[39m\u001b[39msigmoid\u001b[39m\u001b[39m'\u001b[39m)(dense_layer_2)\n\u001b[1;32m      <a href='vscode-notebook-cell://ssh-remote%2B7b22686f73744e616d65223a225a657573227d/home/lingling/TREC2023/tensorflow_ranking.ipynb#Y216sdnNjb2RlLXJlbW90ZQ%3D%3D?line=5'>6</a>\u001b[0m \u001b[39m# Define the model\u001b[39;00m\n\u001b[0;32m----> <a href='vscode-notebook-cell://ssh-remote%2B7b22686f73744e616d65223a225a657573227d/home/lingling/TREC2023/tensorflow_ranking.ipynb#Y216sdnNjb2RlLXJlbW90ZQ%3D%3D?line=6'>7</a>\u001b[0m model \u001b[39m=\u001b[39m Model(inputs\u001b[39m=\u001b[39m[query_input_ids, passage_input_ids], outputs\u001b[39m=\u001b[39m[output_layer])\n\u001b[1;32m      <a href='vscode-notebook-cell://ssh-remote%2B7b22686f73744e616d65223a225a657573227d/home/lingling/TREC2023/tensorflow_ranking.ipynb#Y216sdnNjb2RlLXJlbW90ZQ%3D%3D?line=8'>9</a>\u001b[0m \u001b[39m# Compile the model\u001b[39;00m\n\u001b[1;32m     <a href='vscode-notebook-cell://ssh-remote%2B7b22686f73744e616d65223a225a657573227d/home/lingling/TREC2023/tensorflow_ranking.ipynb#Y216sdnNjb2RlLXJlbW90ZQ%3D%3D?line=9'>10</a>\u001b[0m model\u001b[39m.\u001b[39mcompile(optimizer\u001b[39m=\u001b[39m\u001b[39m'\u001b[39m\u001b[39madam\u001b[39m\u001b[39m'\u001b[39m, loss\u001b[39m=\u001b[39m\u001b[39m'\u001b[39m\u001b[39mbinary_crossentropy\u001b[39m\u001b[39m'\u001b[39m, metrics\u001b[39m=\u001b[39m[\u001b[39m'\u001b[39m\u001b[39maccuracy\u001b[39m\u001b[39m'\u001b[39m])\n",
      "File \u001b[0;32m~/project/enter/lib/python3.11/site-packages/keras/src/models/model.py:143\u001b[0m, in \u001b[0;36mModel.__new__\u001b[0;34m(cls, *args, **kwargs)\u001b[0m\n\u001b[1;32m    140\u001b[0m \u001b[39mif\u001b[39;00m functional_init_arguments(args, kwargs) \u001b[39mand\u001b[39;00m \u001b[39mcls\u001b[39m \u001b[39m==\u001b[39m Model:\n\u001b[1;32m    141\u001b[0m     \u001b[39mfrom\u001b[39;00m \u001b[39mkeras\u001b[39;00m\u001b[39m.\u001b[39;00m\u001b[39msrc\u001b[39;00m\u001b[39m.\u001b[39;00m\u001b[39mmodels\u001b[39;00m \u001b[39mimport\u001b[39;00m functional\n\u001b[0;32m--> 143\u001b[0m     \u001b[39mreturn\u001b[39;00m functional\u001b[39m.\u001b[39mFunctional(\u001b[39m*\u001b[39margs, \u001b[39m*\u001b[39m\u001b[39m*\u001b[39mkwargs)\n\u001b[1;32m    144\u001b[0m \u001b[39mreturn\u001b[39;00m \u001b[39msuper\u001b[39m()\u001b[39m.\u001b[39m\u001b[39m__new__\u001b[39m(\u001b[39mcls\u001b[39m)\n",
      "File \u001b[0;32m~/project/enter/lib/python3.11/site-packages/keras/src/utils/tracking.py:25\u001b[0m, in \u001b[0;36mno_automatic_dependency_tracking.<locals>.wrapper\u001b[0;34m(*args, **kwargs)\u001b[0m\n\u001b[1;32m     22\u001b[0m \u001b[39m@wraps\u001b[39m(fn)\n\u001b[1;32m     23\u001b[0m \u001b[39mdef\u001b[39;00m \u001b[39mwrapper\u001b[39m(\u001b[39m*\u001b[39margs, \u001b[39m*\u001b[39m\u001b[39m*\u001b[39mkwargs):\n\u001b[1;32m     24\u001b[0m     \u001b[39mwith\u001b[39;00m DotNotTrackScope():\n\u001b[0;32m---> 25\u001b[0m         \u001b[39mreturn\u001b[39;00m fn(\u001b[39m*\u001b[39margs, \u001b[39m*\u001b[39m\u001b[39m*\u001b[39mkwargs)\n",
      "File \u001b[0;32m~/project/enter/lib/python3.11/site-packages/keras/src/models/functional.py:137\u001b[0m, in \u001b[0;36mFunctional.__init__\u001b[0;34m(self, inputs, outputs, name, **kwargs)\u001b[0m\n\u001b[1;32m    135\u001b[0m     \u001b[39mfor\u001b[39;00m x \u001b[39min\u001b[39;00m outputs:\n\u001b[1;32m    136\u001b[0m         \u001b[39mif\u001b[39;00m \u001b[39mnot\u001b[39;00m \u001b[39misinstance\u001b[39m(x, backend\u001b[39m.\u001b[39mKerasTensor):\n\u001b[0;32m--> 137\u001b[0m             \u001b[39mraise\u001b[39;00m \u001b[39mValueError\u001b[39;00m(\n\u001b[1;32m    138\u001b[0m                 \u001b[39m\"\u001b[39m\u001b[39mWhen providing `outputs` as a list/tuple, all values \u001b[39m\u001b[39m\"\u001b[39m\n\u001b[1;32m    139\u001b[0m                 \u001b[39mf\u001b[39m\u001b[39m\"\u001b[39m\u001b[39min the list/tuple must be KerasTensors. Received: \u001b[39m\u001b[39m\"\u001b[39m\n\u001b[1;32m    140\u001b[0m                 \u001b[39mf\u001b[39m\u001b[39m\"\u001b[39m\u001b[39moutputs=\u001b[39m\u001b[39m{\u001b[39;00moutputs\u001b[39m}\u001b[39;00m\u001b[39m including invalid value \u001b[39m\u001b[39m{\u001b[39;00mx\u001b[39m}\u001b[39;00m\u001b[39m of \u001b[39m\u001b[39m\"\u001b[39m\n\u001b[1;32m    141\u001b[0m                 \u001b[39mf\u001b[39m\u001b[39m\"\u001b[39m\u001b[39mtype \u001b[39m\u001b[39m{\u001b[39;00m\u001b[39mtype\u001b[39m(x)\u001b[39m}\u001b[39;00m\u001b[39m\"\u001b[39m\n\u001b[1;32m    142\u001b[0m             )\n\u001b[1;32m    143\u001b[0m \u001b[39melif\u001b[39;00m \u001b[39mnot\u001b[39;00m \u001b[39misinstance\u001b[39m(outputs, backend\u001b[39m.\u001b[39mKerasTensor):\n\u001b[1;32m    144\u001b[0m     \u001b[39mraise\u001b[39;00m \u001b[39mValueError\u001b[39;00m(\n\u001b[1;32m    145\u001b[0m         \u001b[39mf\u001b[39m\u001b[39m\"\u001b[39m\u001b[39mUnrecognized type for `outputs`: \u001b[39m\u001b[39m{\u001b[39;00moutputs\u001b[39m}\u001b[39;00m\u001b[39m \u001b[39m\u001b[39m\"\u001b[39m\n\u001b[1;32m    146\u001b[0m         \u001b[39mf\u001b[39m\u001b[39m\"\u001b[39m\u001b[39m(of type \u001b[39m\u001b[39m{\u001b[39;00m\u001b[39mtype\u001b[39m(outputs)\u001b[39m}\u001b[39;00m\u001b[39m)\u001b[39m\u001b[39m\"\u001b[39m\n\u001b[1;32m    147\u001b[0m     )\n",
      "\u001b[0;31mValueError\u001b[0m: When providing `outputs` as a list/tuple, all values in the list/tuple must be KerasTensors. Received: outputs=[<tf.Tensor: shape=(6, 1), dtype=float32, numpy=\narray([[0.5475777 ],\n       [0.54350626],\n       [0.5533128 ],\n       [0.54824376],\n       [0.56135833],\n       [0.58291   ]], dtype=float32)>] including invalid value [[0.5475777 ]\n [0.54350626]\n [0.5533128 ]\n [0.54824376]\n [0.56135833]\n [0.58291   ]] of type <class 'tensorflow.python.framework.ops.EagerTensor'>"
     ]
    }
   ],
   "source": [
    "\n",
    "\n",
    "# Define dense layers\n",
    "dense_layer_1 = Dense(256, activation='relu')(concatenated_embeddings)\n",
    "dense_layer_2 = Dense(128, activation='relu')(dense_layer_1)\n",
    "output_layer = Dense(1, activation='sigmoid')(dense_layer_2)\n",
    "\n",
    "# Define the model\n",
    "model = Model(inputs=[query_input_ids, passage_input_ids], outputs=[output_layer])\n",
    "\n",
    "# Compile the model\n",
    "model.compile(optimizer='adam', loss='binary_crossentropy', metrics=['accuracy'])"
   ]
  },
  {
   "cell_type": "code",
   "execution_count": 28,
   "metadata": {},
   "outputs": [
    {
     "name": "stderr",
     "output_type": "stream",
     "text": [
      "Some weights of the PyTorch model were not used when initializing the TF 2.0 model TFBertModel: ['cls.seq_relationship.weight', 'cls.predictions.transform.dense.bias', 'cls.predictions.transform.LayerNorm.bias', 'cls.predictions.transform.dense.weight', 'cls.seq_relationship.bias', 'cls.predictions.bias', 'cls.predictions.transform.LayerNorm.weight']\n",
      "- This IS expected if you are initializing TFBertModel from a PyTorch model trained on another task or with another architecture (e.g. initializing a TFBertForSequenceClassification model from a BertForPreTraining model).\n",
      "- This IS NOT expected if you are initializing TFBertModel from a PyTorch model that you expect to be exactly identical (e.g. initializing a TFBertForSequenceClassification model from a BertForSequenceClassification model).\n",
      "All the weights of TFBertModel were initialized from the PyTorch model.\n",
      "If your task is similar to the task the model of the checkpoint was trained on, you can already use TFBertModel for predictions without further training.\n"
     ]
    },
    {
     "ename": "ValueError",
     "evalue": "Exception encountered when calling layer 'tf_bert_model_1' (type TFBertModel).\n\nData of type <class 'keras.src.backend.common.keras_tensor.KerasTensor'> is not allowed only (<class 'tensorflow.python.framework.tensor.Tensor'>, <class 'bool'>, <class 'int'>, <class 'transformers.utils.generic.ModelOutput'>, <class 'tuple'>, <class 'list'>, <class 'dict'>, <class 'numpy.ndarray'>) is accepted for input_ids.\n\nCall arguments received by layer 'tf_bert_model_1' (type TFBertModel):\n  • input_ids=<KerasTensor shape=(None, 32), dtype=int32, sparse=None, name=query_input>\n  • attention_mask=None\n  • token_type_ids=None\n  • position_ids=None\n  • head_mask=None\n  • inputs_embeds=None\n  • encoder_hidden_states=None\n  • encoder_attention_mask=None\n  • past_key_values=None\n  • use_cache=None\n  • output_attentions=None\n  • output_hidden_states=None\n  • return_dict=None\n  • training=False",
     "output_type": "error",
     "traceback": [
      "\u001b[0;31m---------------------------------------------------------------------------\u001b[0m",
      "\u001b[0;31mValueError\u001b[0m                                Traceback (most recent call last)",
      "\u001b[1;32m/home/lingling/TREC2023/tensorflow_ranking.ipynb Cell 10\u001b[0m line \u001b[0;36m6\n\u001b[1;32m     <a href='vscode-notebook-cell://ssh-remote%2B7b22686f73744e616d65223a225a657573227d/home/lingling/TREC2023/tensorflow_ranking.ipynb#Y202sdnNjb2RlLXJlbW90ZQ%3D%3D?line=57'>58</a>\u001b[0m passage_input \u001b[39m=\u001b[39m Input(shape\u001b[39m=\u001b[39m(max_passage_length,), dtype\u001b[39m=\u001b[39mtf\u001b[39m.\u001b[39mint32, name\u001b[39m=\u001b[39m\u001b[39m\"\u001b[39m\u001b[39mpassage_input\u001b[39m\u001b[39m\"\u001b[39m)\n\u001b[1;32m     <a href='vscode-notebook-cell://ssh-remote%2B7b22686f73744e616d65223a225a657573227d/home/lingling/TREC2023/tensorflow_ranking.ipynb#Y202sdnNjb2RlLXJlbW90ZQ%3D%3D?line=59'>60</a>\u001b[0m \u001b[39m# Compute embeddings for query and passage texts using BERT\u001b[39;00m\n\u001b[0;32m---> <a href='vscode-notebook-cell://ssh-remote%2B7b22686f73744e616d65223a225a657573227d/home/lingling/TREC2023/tensorflow_ranking.ipynb#Y202sdnNjb2RlLXJlbW90ZQ%3D%3D?line=60'>61</a>\u001b[0m query_embeddings \u001b[39m=\u001b[39m bert_model(query_input)[\u001b[39m0\u001b[39m][:, \u001b[39m0\u001b[39m, :]\n\u001b[1;32m     <a href='vscode-notebook-cell://ssh-remote%2B7b22686f73744e616d65223a225a657573227d/home/lingling/TREC2023/tensorflow_ranking.ipynb#Y202sdnNjb2RlLXJlbW90ZQ%3D%3D?line=61'>62</a>\u001b[0m passage_embeddings \u001b[39m=\u001b[39m bert_model(passage_input)[\u001b[39m0\u001b[39m][:, \u001b[39m0\u001b[39m, :]\n\u001b[1;32m     <a href='vscode-notebook-cell://ssh-remote%2B7b22686f73744e616d65223a225a657573227d/home/lingling/TREC2023/tensorflow_ranking.ipynb#Y202sdnNjb2RlLXJlbW90ZQ%3D%3D?line=63'>64</a>\u001b[0m \u001b[39m# Concatenate query and passage embeddings\u001b[39;00m\n",
      "File \u001b[0;32m~/project/enter/lib/python3.11/site-packages/tf_keras/src/utils/traceback_utils.py:70\u001b[0m, in \u001b[0;36mfilter_traceback.<locals>.error_handler\u001b[0;34m(*args, **kwargs)\u001b[0m\n\u001b[1;32m     67\u001b[0m     filtered_tb \u001b[39m=\u001b[39m _process_traceback_frames(e\u001b[39m.\u001b[39m__traceback__)\n\u001b[1;32m     68\u001b[0m     \u001b[39m# To get the full stack trace, call:\u001b[39;00m\n\u001b[1;32m     69\u001b[0m     \u001b[39m# `tf.debugging.disable_traceback_filtering()`\u001b[39;00m\n\u001b[0;32m---> 70\u001b[0m     \u001b[39mraise\u001b[39;00m e\u001b[39m.\u001b[39mwith_traceback(filtered_tb) \u001b[39mfrom\u001b[39;00m \u001b[39mNone\u001b[39;00m\n\u001b[1;32m     71\u001b[0m \u001b[39mfinally\u001b[39;00m:\n\u001b[1;32m     72\u001b[0m     \u001b[39mdel\u001b[39;00m filtered_tb\n",
      "File \u001b[0;32m~/project/enter/lib/python3.11/site-packages/transformers/modeling_tf_utils.py:427\u001b[0m, in \u001b[0;36munpack_inputs.<locals>.run_call_with_unpacked_inputs\u001b[0;34m(self, *args, **kwargs)\u001b[0m\n\u001b[1;32m    424\u001b[0m \u001b[39melse\u001b[39;00m:\n\u001b[1;32m    425\u001b[0m     config \u001b[39m=\u001b[39m \u001b[39mself\u001b[39m\u001b[39m.\u001b[39mconfig\n\u001b[0;32m--> 427\u001b[0m unpacked_inputs \u001b[39m=\u001b[39m input_processing(func, config, \u001b[39m*\u001b[39m\u001b[39m*\u001b[39mfn_args_and_kwargs)\n\u001b[1;32m    428\u001b[0m \u001b[39mreturn\u001b[39;00m func(\u001b[39mself\u001b[39m, \u001b[39m*\u001b[39m\u001b[39m*\u001b[39munpacked_inputs)\n",
      "File \u001b[0;32m~/project/enter/lib/python3.11/site-packages/transformers/modeling_tf_utils.py:557\u001b[0m, in \u001b[0;36minput_processing\u001b[0;34m(func, config, **kwargs)\u001b[0m\n\u001b[1;32m    555\u001b[0m         output[main_input_name] \u001b[39m=\u001b[39m main_input\n\u001b[1;32m    556\u001b[0m     \u001b[39melse\u001b[39;00m:\n\u001b[0;32m--> 557\u001b[0m         \u001b[39mraise\u001b[39;00m \u001b[39mValueError\u001b[39;00m(\n\u001b[1;32m    558\u001b[0m             \u001b[39mf\u001b[39m\u001b[39m\"\u001b[39m\u001b[39mData of type \u001b[39m\u001b[39m{\u001b[39;00m\u001b[39mtype\u001b[39m(main_input)\u001b[39m}\u001b[39;00m\u001b[39m is not allowed only \u001b[39m\u001b[39m{\u001b[39;00mallowed_types\u001b[39m}\u001b[39;00m\u001b[39m is accepted for\u001b[39m\u001b[39m\"\u001b[39m\n\u001b[1;32m    559\u001b[0m             \u001b[39mf\u001b[39m\u001b[39m\"\u001b[39m\u001b[39m \u001b[39m\u001b[39m{\u001b[39;00mmain_input_name\u001b[39m}\u001b[39;00m\u001b[39m.\u001b[39m\u001b[39m\"\u001b[39m\n\u001b[1;32m    560\u001b[0m         )\n\u001b[1;32m    562\u001b[0m \u001b[39m# Populates any unspecified argument with their default value, according to the signature.\u001b[39;00m\n\u001b[1;32m    563\u001b[0m \u001b[39mfor\u001b[39;00m name \u001b[39min\u001b[39;00m parameter_names:\n",
      "\u001b[0;31mValueError\u001b[0m: Exception encountered when calling layer 'tf_bert_model_1' (type TFBertModel).\n\nData of type <class 'keras.src.backend.common.keras_tensor.KerasTensor'> is not allowed only (<class 'tensorflow.python.framework.tensor.Tensor'>, <class 'bool'>, <class 'int'>, <class 'transformers.utils.generic.ModelOutput'>, <class 'tuple'>, <class 'list'>, <class 'dict'>, <class 'numpy.ndarray'>) is accepted for input_ids.\n\nCall arguments received by layer 'tf_bert_model_1' (type TFBertModel):\n  • input_ids=<KerasTensor shape=(None, 32), dtype=int32, sparse=None, name=query_input>\n  • attention_mask=None\n  • token_type_ids=None\n  • position_ids=None\n  • head_mask=None\n  • inputs_embeds=None\n  • encoder_hidden_states=None\n  • encoder_attention_mask=None\n  • past_key_values=None\n  • use_cache=None\n  • output_attentions=None\n  • output_hidden_states=None\n  • return_dict=None\n  • training=False"
     ]
    }
   ],
   "source": [
    "\n",
    "\n",
    "# # Compile the model\n",
    "# model.compile(optimizer='adam', loss='binary_crossentropy', metrics=['accuracy'])\n",
    "\n",
    "# # Train the model (assuming you have labels for passage ranking)\n",
    "# # Replace y_train with your actual labels\n",
    "# model.fit(x=[query_inputs['input_ids'], passage_inputs['input_ids']], y=y_train, batch_size=32, epochs=5, validation_split=0.2)\n",
    "\n",
    "# # Evaluate the model on test data\n",
    "# # Replace y_test with your actual labels\n",
    "# loss, accuracy = model.evaluate(x=[query_inputs_test['input_ids'], passage_inputs_test['input_ids']], y=y_test)\n",
    "# print(\"Test Loss:\", loss)\n",
    "# print(\"Test Accuracy:\", accuracy)\n"
   ]
  },
  {
   "cell_type": "markdown",
   "metadata": {},
   "source": [
    "# Predict on Test Set (now using pretrained model)"
   ]
  },
  {
   "cell_type": "code",
   "execution_count": 50,
   "metadata": {},
   "outputs": [],
   "source": [
    "passage_test = passage_train\n",
    "query_test = query_train"
   ]
  },
  {
   "cell_type": "code",
   "execution_count": 51,
   "metadata": {},
   "outputs": [],
   "source": [
    "# Function to compute BERT embeddings\n",
    "def compute_embeddings(texts):\n",
    "    tokenized_texts = tokenizer(texts, padding=True, truncation=True, return_tensors='tf', max_length=32)\n",
    "    embeddings = bert_model(tokenized_texts)[0][:, 0, :].numpy().flatten()  # Use [CLS] token embedding\n",
    "    return embeddings\n"
   ]
  },
  {
   "cell_type": "code",
   "execution_count": 52,
   "metadata": {},
   "outputs": [],
   "source": [
    "# Tokenize queries and passages, and compute embeddings\n",
    "passage_test[\"vector\"] = passage_test[\"passage\"].apply(lambda x :compute_embeddings(x))\n",
    "query_test[\"vector\"] = query_test[\"query\"].apply(lambda x :compute_embeddings(x))"
   ]
  },
  {
   "cell_type": "code",
   "execution_count": 53,
   "metadata": {},
   "outputs": [
    {
     "data": {
      "text/plain": [
       "(768,)"
      ]
     },
     "execution_count": 53,
     "metadata": {},
     "output_type": "execute_result"
    }
   ],
   "source": [
    "passage_test[\"vector\"][3].shape"
   ]
  },
  {
   "cell_type": "code",
   "execution_count": 54,
   "metadata": {},
   "outputs": [
    {
     "data": {
      "text/plain": [
       "768"
      ]
     },
     "execution_count": 54,
     "metadata": {},
     "output_type": "execute_result"
    }
   ],
   "source": [
    "len(passage_test[\"vector\"][3])"
   ]
  },
  {
   "cell_type": "code",
   "execution_count": 55,
   "metadata": {},
   "outputs": [
    {
     "data": {
      "text/plain": [
       "(768,)"
      ]
     },
     "execution_count": 55,
     "metadata": {},
     "output_type": "execute_result"
    }
   ],
   "source": [
    "query_test[\"vector\"][3].shape"
   ]
  },
  {
   "cell_type": "code",
   "execution_count": 56,
   "metadata": {},
   "outputs": [
    {
     "data": {
      "text/html": [
       "<div>\n",
       "<style scoped>\n",
       "    .dataframe tbody tr th:only-of-type {\n",
       "        vertical-align: middle;\n",
       "    }\n",
       "\n",
       "    .dataframe tbody tr th {\n",
       "        vertical-align: top;\n",
       "    }\n",
       "\n",
       "    .dataframe thead th {\n",
       "        text-align: right;\n",
       "    }\n",
       "</style>\n",
       "<table border=\"1\" class=\"dataframe\">\n",
       "  <thead>\n",
       "    <tr style=\"text-align: right;\">\n",
       "      <th></th>\n",
       "      <th>query_id</th>\n",
       "      <th>query</th>\n",
       "      <th>passage_id</th>\n",
       "      <th>rank</th>\n",
       "      <th>score</th>\n",
       "      <th>rel</th>\n",
       "      <th>vector</th>\n",
       "    </tr>\n",
       "  </thead>\n",
       "  <tbody>\n",
       "    <tr>\n",
       "      <th>0</th>\n",
       "      <td>1</td>\n",
       "      <td>What is the best fruit?</td>\n",
       "      <td>1</td>\n",
       "      <td>1</td>\n",
       "      <td>0.80</td>\n",
       "      <td>1</td>\n",
       "      <td>[-0.33224335, 0.23328725, -0.06571609, -0.0480...</td>\n",
       "    </tr>\n",
       "    <tr>\n",
       "      <th>1</th>\n",
       "      <td>1</td>\n",
       "      <td>What is the best fruit?</td>\n",
       "      <td>2</td>\n",
       "      <td>2</td>\n",
       "      <td>0.70</td>\n",
       "      <td>0</td>\n",
       "      <td>[-0.33224335, 0.23328725, -0.06571609, -0.0480...</td>\n",
       "    </tr>\n",
       "    <tr>\n",
       "      <th>2</th>\n",
       "      <td>1</td>\n",
       "      <td>What is the best fruit?</td>\n",
       "      <td>3</td>\n",
       "      <td>3</td>\n",
       "      <td>0.60</td>\n",
       "      <td>1</td>\n",
       "      <td>[-0.33224335, 0.23328725, -0.06571609, -0.0480...</td>\n",
       "    </tr>\n",
       "    <tr>\n",
       "      <th>3</th>\n",
       "      <td>2</td>\n",
       "      <td>How to cook pasta?</td>\n",
       "      <td>4</td>\n",
       "      <td>1</td>\n",
       "      <td>0.90</td>\n",
       "      <td>1</td>\n",
       "      <td>[-0.03376377, -0.13022594, -0.4259836, -0.0493...</td>\n",
       "    </tr>\n",
       "    <tr>\n",
       "      <th>4</th>\n",
       "      <td>2</td>\n",
       "      <td>How to cook pasta?</td>\n",
       "      <td>5</td>\n",
       "      <td>2</td>\n",
       "      <td>0.85</td>\n",
       "      <td>0</td>\n",
       "      <td>[-0.03376377, -0.13022594, -0.4259836, -0.0493...</td>\n",
       "    </tr>\n",
       "    <tr>\n",
       "      <th>5</th>\n",
       "      <td>2</td>\n",
       "      <td>How to cook pasta?</td>\n",
       "      <td>6</td>\n",
       "      <td>3</td>\n",
       "      <td>0.75</td>\n",
       "      <td>1</td>\n",
       "      <td>[-0.03376377, -0.13022594, -0.4259836, -0.0493...</td>\n",
       "    </tr>\n",
       "  </tbody>\n",
       "</table>\n",
       "</div>"
      ],
      "text/plain": [
       "   query_id                    query  passage_id  rank  score  rel  \\\n",
       "0         1  What is the best fruit?           1     1   0.80    1   \n",
       "1         1  What is the best fruit?           2     2   0.70    0   \n",
       "2         1  What is the best fruit?           3     3   0.60    1   \n",
       "3         2       How to cook pasta?           4     1   0.90    1   \n",
       "4         2       How to cook pasta?           5     2   0.85    0   \n",
       "5         2       How to cook pasta?           6     3   0.75    1   \n",
       "\n",
       "                                              vector  \n",
       "0  [-0.33224335, 0.23328725, -0.06571609, -0.0480...  \n",
       "1  [-0.33224335, 0.23328725, -0.06571609, -0.0480...  \n",
       "2  [-0.33224335, 0.23328725, -0.06571609, -0.0480...  \n",
       "3  [-0.03376377, -0.13022594, -0.4259836, -0.0493...  \n",
       "4  [-0.03376377, -0.13022594, -0.4259836, -0.0493...  \n",
       "5  [-0.03376377, -0.13022594, -0.4259836, -0.0493...  "
      ]
     },
     "execution_count": 56,
     "metadata": {},
     "output_type": "execute_result"
    }
   ],
   "source": [
    "query_test"
   ]
  },
  {
   "cell_type": "code",
   "execution_count": 57,
   "metadata": {},
   "outputs": [
    {
     "data": {
      "text/html": [
       "<div>\n",
       "<style scoped>\n",
       "    .dataframe tbody tr th:only-of-type {\n",
       "        vertical-align: middle;\n",
       "    }\n",
       "\n",
       "    .dataframe tbody tr th {\n",
       "        vertical-align: top;\n",
       "    }\n",
       "\n",
       "    .dataframe thead th {\n",
       "        text-align: right;\n",
       "    }\n",
       "</style>\n",
       "<table border=\"1\" class=\"dataframe\">\n",
       "  <thead>\n",
       "    <tr style=\"text-align: right;\">\n",
       "      <th></th>\n",
       "      <th>passage_id</th>\n",
       "      <th>passage</th>\n",
       "      <th>vector</th>\n",
       "    </tr>\n",
       "  </thead>\n",
       "  <tbody>\n",
       "    <tr>\n",
       "      <th>0</th>\n",
       "      <td>1</td>\n",
       "      <td>I like bananas.</td>\n",
       "      <td>[-0.061493658, 0.07960134, -0.3148743, -0.1612...</td>\n",
       "    </tr>\n",
       "    <tr>\n",
       "      <th>1</th>\n",
       "      <td>2</td>\n",
       "      <td>Bananas are my favorite fruit.</td>\n",
       "      <td>[0.009189999, 0.14451826, -0.4573639, -0.12262...</td>\n",
       "    </tr>\n",
       "    <tr>\n",
       "      <th>2</th>\n",
       "      <td>3</td>\n",
       "      <td>Apples are also good.</td>\n",
       "      <td>[-0.19710626, 0.10753094, -0.47878844, -0.1922...</td>\n",
       "    </tr>\n",
       "    <tr>\n",
       "      <th>3</th>\n",
       "      <td>4</td>\n",
       "      <td>I prefer apples over bananas.</td>\n",
       "      <td>[-0.071586266, 0.13607278, -0.5791471, -0.3332...</td>\n",
       "    </tr>\n",
       "    <tr>\n",
       "      <th>4</th>\n",
       "      <td>5</td>\n",
       "      <td>This is a passage about cooking.</td>\n",
       "      <td>[-0.30001095, 0.25777134, -0.67168224, -0.1257...</td>\n",
       "    </tr>\n",
       "    <tr>\n",
       "      <th>5</th>\n",
       "      <td>6</td>\n",
       "      <td>Python is a programming language.</td>\n",
       "      <td>[-0.21201693, -0.27617264, -0.31954288, -0.089...</td>\n",
       "    </tr>\n",
       "  </tbody>\n",
       "</table>\n",
       "</div>"
      ],
      "text/plain": [
       "   passage_id                            passage  \\\n",
       "0           1                    I like bananas.   \n",
       "1           2     Bananas are my favorite fruit.   \n",
       "2           3              Apples are also good.   \n",
       "3           4      I prefer apples over bananas.   \n",
       "4           5   This is a passage about cooking.   \n",
       "5           6  Python is a programming language.   \n",
       "\n",
       "                                              vector  \n",
       "0  [-0.061493658, 0.07960134, -0.3148743, -0.1612...  \n",
       "1  [0.009189999, 0.14451826, -0.4573639, -0.12262...  \n",
       "2  [-0.19710626, 0.10753094, -0.47878844, -0.1922...  \n",
       "3  [-0.071586266, 0.13607278, -0.5791471, -0.3332...  \n",
       "4  [-0.30001095, 0.25777134, -0.67168224, -0.1257...  \n",
       "5  [-0.21201693, -0.27617264, -0.31954288, -0.089...  "
      ]
     },
     "execution_count": 57,
     "metadata": {},
     "output_type": "execute_result"
    }
   ],
   "source": [
    "\n",
    "passage_test"
   ]
  },
  {
   "cell_type": "markdown",
   "metadata": {},
   "source": [
    "# Evaluate on Test Set"
   ]
  },
  {
   "cell_type": "code",
   "execution_count": 58,
   "metadata": {},
   "outputs": [],
   "source": [
    "# Function for calculating average precision for a query\n",
    "def average_precision(qid, qvector, topn = 10):  \n",
    "    from sklearn.metrics.pairwise import cosine_similarity \n",
    "    # ========= for each query_id, do the following:\n",
    "    #print(f\"\\nStarted to work on query_id {qid}\")\n",
    "    # get passage_id (each query_id would have upto 10 passage_id)\n",
    "    qresult = query_test.loc[query_test[\"query_id\"] == qid, [\"passage_id\", \"rel\"]]\n",
    "    # get passage vector for each passage_id\n",
    "    qcorpus = passage_test.loc[passage_test[\"passage_id\"].isin(qresult[\"passage_id\"]),[\"passage_id\",\"vector\"]]\n",
    "    \n",
    "    # inner join passage_id with passage vector\n",
    "    # this is a result table of <= 10 rows, 2 columns: passage_id and vector\n",
    "    qresult = pd.merge(qresult, qcorpus, on = \"passage_id\", how = \"inner\")\n",
    "\n",
    "    # create a new column \"similarity\", \n",
    "    # by comparing similarity between the query vector (input qvector) with passage vector (the \"vector\" column)\n",
    "    qresult[\"similarity\"] = qresult[\"vector\"].apply(lambda x: cosine_similarity(\n",
    "                          np.array(qvector).reshape(1, -1)\n",
    "                          , np.array(x).reshape(1, -1)).item())\n",
    "    \n",
    "    # sort rows so that passages with the highest similarity ranks as top \n",
    "    qresult.sort_values(by=\"similarity\", ascending = False, inplace=True)\n",
    "\n",
    "    # # Taking Top 10 documents for the evaluation\n",
    "    ranking = qresult.head(topn)['rel'].values\n",
    "    #display(qresult.head(15))\n",
    "    \n",
    "    # # Calculating precision\n",
    "    precision=[]\n",
    "    for i in range(1,len(ranking)+1):\n",
    "      if ranking[i-1]:\n",
    "        precision.append(np.sum(ranking[:i])/i)\n",
    "    \n",
    "    # If no relevant document in list then return 0\n",
    "    if precision==[]:\n",
    "      return 0\n",
    "    #print(len(precision))\n",
    "    #print(precision)\n",
    "    avg_precision = np.mean(precision)\n",
    "    #print(\"Avg precision: {}\".format(avg_precision))\n",
    "    return avg_precision"
   ]
  },
  {
   "cell_type": "code",
   "execution_count": 59,
   "metadata": {},
   "outputs": [],
   "source": [
    "# Calculating average precision for all queries in the test set\n",
    "query_test[\"avg_precision\"] = query_test.apply(lambda x: average_precision(x[\"query_id\"]\n",
    "                                                                           ,x[\"vector\"]),axis=1)"
   ]
  },
  {
   "cell_type": "code",
   "execution_count": 60,
   "metadata": {},
   "outputs": [
    {
     "data": {
      "text/html": [
       "<div>\n",
       "<style scoped>\n",
       "    .dataframe tbody tr th:only-of-type {\n",
       "        vertical-align: middle;\n",
       "    }\n",
       "\n",
       "    .dataframe tbody tr th {\n",
       "        vertical-align: top;\n",
       "    }\n",
       "\n",
       "    .dataframe thead th {\n",
       "        text-align: right;\n",
       "    }\n",
       "</style>\n",
       "<table border=\"1\" class=\"dataframe\">\n",
       "  <thead>\n",
       "    <tr style=\"text-align: right;\">\n",
       "      <th></th>\n",
       "      <th>query_id</th>\n",
       "      <th>query</th>\n",
       "      <th>passage_id</th>\n",
       "      <th>rank</th>\n",
       "      <th>score</th>\n",
       "      <th>rel</th>\n",
       "      <th>vector</th>\n",
       "      <th>avg_precision</th>\n",
       "    </tr>\n",
       "  </thead>\n",
       "  <tbody>\n",
       "    <tr>\n",
       "      <th>0</th>\n",
       "      <td>1</td>\n",
       "      <td>What is the best fruit?</td>\n",
       "      <td>1</td>\n",
       "      <td>1</td>\n",
       "      <td>0.80</td>\n",
       "      <td>1</td>\n",
       "      <td>[-0.33224335, 0.23328725, -0.06571609, -0.0480...</td>\n",
       "      <td>0.583333</td>\n",
       "    </tr>\n",
       "    <tr>\n",
       "      <th>1</th>\n",
       "      <td>1</td>\n",
       "      <td>What is the best fruit?</td>\n",
       "      <td>2</td>\n",
       "      <td>2</td>\n",
       "      <td>0.70</td>\n",
       "      <td>0</td>\n",
       "      <td>[-0.33224335, 0.23328725, -0.06571609, -0.0480...</td>\n",
       "      <td>0.583333</td>\n",
       "    </tr>\n",
       "    <tr>\n",
       "      <th>2</th>\n",
       "      <td>1</td>\n",
       "      <td>What is the best fruit?</td>\n",
       "      <td>3</td>\n",
       "      <td>3</td>\n",
       "      <td>0.60</td>\n",
       "      <td>1</td>\n",
       "      <td>[-0.33224335, 0.23328725, -0.06571609, -0.0480...</td>\n",
       "      <td>0.583333</td>\n",
       "    </tr>\n",
       "    <tr>\n",
       "      <th>3</th>\n",
       "      <td>2</td>\n",
       "      <td>How to cook pasta?</td>\n",
       "      <td>4</td>\n",
       "      <td>1</td>\n",
       "      <td>0.90</td>\n",
       "      <td>1</td>\n",
       "      <td>[-0.03376377, -0.13022594, -0.4259836, -0.0493...</td>\n",
       "      <td>0.833333</td>\n",
       "    </tr>\n",
       "    <tr>\n",
       "      <th>4</th>\n",
       "      <td>2</td>\n",
       "      <td>How to cook pasta?</td>\n",
       "      <td>5</td>\n",
       "      <td>2</td>\n",
       "      <td>0.85</td>\n",
       "      <td>0</td>\n",
       "      <td>[-0.03376377, -0.13022594, -0.4259836, -0.0493...</td>\n",
       "      <td>0.833333</td>\n",
       "    </tr>\n",
       "    <tr>\n",
       "      <th>5</th>\n",
       "      <td>2</td>\n",
       "      <td>How to cook pasta?</td>\n",
       "      <td>6</td>\n",
       "      <td>3</td>\n",
       "      <td>0.75</td>\n",
       "      <td>1</td>\n",
       "      <td>[-0.03376377, -0.13022594, -0.4259836, -0.0493...</td>\n",
       "      <td>0.833333</td>\n",
       "    </tr>\n",
       "  </tbody>\n",
       "</table>\n",
       "</div>"
      ],
      "text/plain": [
       "   query_id                    query  passage_id  rank  score  rel  \\\n",
       "0         1  What is the best fruit?           1     1   0.80    1   \n",
       "1         1  What is the best fruit?           2     2   0.70    0   \n",
       "2         1  What is the best fruit?           3     3   0.60    1   \n",
       "3         2       How to cook pasta?           4     1   0.90    1   \n",
       "4         2       How to cook pasta?           5     2   0.85    0   \n",
       "5         2       How to cook pasta?           6     3   0.75    1   \n",
       "\n",
       "                                              vector  avg_precision  \n",
       "0  [-0.33224335, 0.23328725, -0.06571609, -0.0480...       0.583333  \n",
       "1  [-0.33224335, 0.23328725, -0.06571609, -0.0480...       0.583333  \n",
       "2  [-0.33224335, 0.23328725, -0.06571609, -0.0480...       0.583333  \n",
       "3  [-0.03376377, -0.13022594, -0.4259836, -0.0493...       0.833333  \n",
       "4  [-0.03376377, -0.13022594, -0.4259836, -0.0493...       0.833333  \n",
       "5  [-0.03376377, -0.13022594, -0.4259836, -0.0493...       0.833333  "
      ]
     },
     "execution_count": 60,
     "metadata": {},
     "output_type": "execute_result"
    }
   ],
   "source": [
    "query_test"
   ]
  },
  {
   "cell_type": "code",
   "execution_count": 61,
   "metadata": {},
   "outputs": [
    {
     "name": "stdout",
     "output_type": "stream",
     "text": [
      "Mean Average Precision=> 0.7083333333333331\n"
     ]
    }
   ],
   "source": [
    "print('Mean Average Precision=>', query_test[\"avg_precision\"].mean())"
   ]
  },
  {
   "cell_type": "code",
   "execution_count": null,
   "metadata": {},
   "outputs": [],
   "source": []
  },
  {
   "cell_type": "code",
   "execution_count": null,
   "metadata": {},
   "outputs": [],
   "source": []
  }
 ],
 "metadata": {
  "kernelspec": {
   "display_name": "base",
   "language": "python",
   "name": "python3"
  },
  "language_info": {
   "codemirror_mode": {
    "name": "ipython",
    "version": 3
   },
   "file_extension": ".py",
   "mimetype": "text/x-python",
   "name": "python",
   "nbconvert_exporter": "python",
   "pygments_lexer": "ipython3",
   "version": "3.11.4"
  },
  "orig_nbformat": 4
 },
 "nbformat": 4,
 "nbformat_minor": 2
}
