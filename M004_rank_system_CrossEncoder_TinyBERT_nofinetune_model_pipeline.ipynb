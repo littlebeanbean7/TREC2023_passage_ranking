{
 "cells": [
  {
   "cell_type": "markdown",
   "metadata": {},
   "source": [
    "# About\n",
    "\n",
    "This notebook builds an IR ranking system. It builds a CrossEncoder model using a pretrianed BERT model but did not finetune the model using Train and Evaluation sets. The evaluator used for finetuning is CERerankingEvaluator developed by the sentence transformer package. The ranking system is evaluated by the top 10 ranked passages for each query in the Test set.\n",
    "\n",
    "reference: \n",
    "https://github.com/UKPLab/sentence-transformers/blob/master/examples/applications/cross-encoder/cross-encoder_usage.py\n",
    "https://www.sbert.net/docs/package_reference/cross_encoder.html#evaluation\n"
   ]
  },
  {
   "cell_type": "code",
   "execution_count": 1,
   "metadata": {},
   "outputs": [],
   "source": [
    "import pandas as pd\n",
    "import numpy as np\n",
    "import matplotlib.pyplot as plt\n",
    "import logging\n",
    "from sentence_transformers import LoggingHandler#, util\n",
    "from datetime import datetime\n",
    "from sentence_transformers.cross_encoder import CrossEncoder\n",
    "# from torch.utils.data import DataLoader\n",
    "# from sentence_transformers.cross_encoder.evaluation import CERerankingEvaluator, CEBinaryClassificationEvaluator\n",
    "# import gzip\n",
    "# import os\n",
    "# import tarfile\n",
    "# from sentence_transformers import InputExample, losses\n",
    "from datetime import datetime"
   ]
  },
  {
   "cell_type": "code",
   "execution_count": 2,
   "metadata": {},
   "outputs": [],
   "source": [
    "# #### Just some code to print debug information to stdout\n",
    "# logging.basicConfig(\n",
    "#     format=\"%(asctime)s - %(message)s\", datefmt=\"%Y-%m-%d %H:%M:%S\", level=logging.INFO, handlers=[LoggingHandler()]\n",
    "# )\n",
    "# #### /print debug information to stdout"
   ]
  },
  {
   "cell_type": "markdown",
   "metadata": {},
   "source": [
    "# Define functions"
   ]
  },
  {
   "cell_type": "code",
   "execution_count": 2,
   "metadata": {},
   "outputs": [],
   "source": [
    "def df_to_list(query_df, passage_df):\n",
    "    \"\"\"\n",
    "    # this function create train, test data\n",
    "    # it reads in query_df and passage_df, then for loop to create a list of list\n",
    "    # each query, passage pair is a list of 4 elements: [query, passage, score, rel]\n",
    "    # the ouput is [[query, passage, score, rel], [query, passage, score, rel], ...]\n",
    "    \"\"\"\n",
    "    list_query_passage_score_rel = []\n",
    "    for index, row in query_df.iterrows():\n",
    "        list = []\n",
    "        list.append(row['query'])\n",
    "        list.append(passage_df[passage_df['passage_id'] == row['passage_id']][\"passage\"].iloc[0])\n",
    "        list.append(row[\"score\"])\n",
    "        list.append(row[\"rel\"])\n",
    "        list_query_passage_score_rel.append(list)\n",
    "    return list_query_passage_score_rel"
   ]
  },
  {
   "cell_type": "markdown",
   "metadata": {},
   "source": [
    "# Read in Train, Validation, Test sets"
   ]
  },
  {
   "cell_type": "code",
   "execution_count": 3,
   "metadata": {},
   "outputs": [],
   "source": [
    "# query\n",
    "query_train = pd.read_csv(\"./output/query_train_set_with_passage_info.csv\")\n",
    "query_val =pd.read_csv(\"./output/query_val_set_with_passage_info.csv\")\n",
    "query_test =pd.read_csv(\"./output/query_test_set_with_passage_info.csv\")\n",
    "\n",
    "# passage\n",
    "passage_train = pd.read_csv(\"./output/train_passage_id_content_cleaned.csv\")\n",
    "passage_val = pd.read_csv(\"./output/val_passage_id_content_cleaned.csv\")\n",
    "passage_test = pd.read_csv(\"./output/test_passage_id_content_cleaned.csv\")"
   ]
  },
  {
   "cell_type": "code",
   "execution_count": 4,
   "metadata": {},
   "outputs": [
    {
     "name": "stdout",
     "output_type": "stream",
     "text": [
      "(20000, 9)\n",
      "(20000, 9)\n",
      "(20000, 9)\n"
     ]
    }
   ],
   "source": [
    "print(query_train.shape)\n",
    "print(query_val.shape)\n",
    "print(query_test.shape)"
   ]
  },
  {
   "cell_type": "code",
   "execution_count": 5,
   "metadata": {},
   "outputs": [
    {
     "data": {
      "text/html": [
       "<div>\n",
       "<style scoped>\n",
       "    .dataframe tbody tr th:only-of-type {\n",
       "        vertical-align: middle;\n",
       "    }\n",
       "\n",
       "    .dataframe tbody tr th {\n",
       "        vertical-align: top;\n",
       "    }\n",
       "\n",
       "    .dataframe thead th {\n",
       "        text-align: right;\n",
       "    }\n",
       "</style>\n",
       "<table border=\"1\" class=\"dataframe\">\n",
       "  <thead>\n",
       "    <tr style=\"text-align: right;\">\n",
       "      <th></th>\n",
       "      <th>query_id</th>\n",
       "      <th>query</th>\n",
       "      <th>used</th>\n",
       "      <th>passage_id</th>\n",
       "      <th>rank</th>\n",
       "      <th>score</th>\n",
       "      <th>username</th>\n",
       "      <th>rel</th>\n",
       "      <th>query_cleaned</th>\n",
       "    </tr>\n",
       "  </thead>\n",
       "  <tbody>\n",
       "    <tr>\n",
       "      <th>0</th>\n",
       "      <td>568182</td>\n",
       "      <td>what are the characteristics of wool fibres</td>\n",
       "      <td>Q0</td>\n",
       "      <td>msmarco_passage_62_547459701</td>\n",
       "      <td>1</td>\n",
       "      <td>16.102699</td>\n",
       "      <td>Anserini</td>\n",
       "      <td>1</td>\n",
       "      <td>what are the characteristics of wool fibres</td>\n",
       "    </tr>\n",
       "    <tr>\n",
       "      <th>1</th>\n",
       "      <td>568182</td>\n",
       "      <td>what are the characteristics of wool fibres</td>\n",
       "      <td>Q0</td>\n",
       "      <td>msmarco_passage_21_588232716</td>\n",
       "      <td>2</td>\n",
       "      <td>14.784700</td>\n",
       "      <td>Anserini</td>\n",
       "      <td>1</td>\n",
       "      <td>what are the characteristics of wool fibres</td>\n",
       "    </tr>\n",
       "    <tr>\n",
       "      <th>2</th>\n",
       "      <td>568182</td>\n",
       "      <td>what are the characteristics of wool fibres</td>\n",
       "      <td>Q0</td>\n",
       "      <td>msmarco_passage_11_97323294</td>\n",
       "      <td>3</td>\n",
       "      <td>13.865800</td>\n",
       "      <td>Anserini</td>\n",
       "      <td>1</td>\n",
       "      <td>what are the characteristics of wool fibres</td>\n",
       "    </tr>\n",
       "    <tr>\n",
       "      <th>3</th>\n",
       "      <td>568182</td>\n",
       "      <td>what are the characteristics of wool fibres</td>\n",
       "      <td>Q0</td>\n",
       "      <td>msmarco_passage_68_54887603</td>\n",
       "      <td>4</td>\n",
       "      <td>13.865799</td>\n",
       "      <td>Anserini</td>\n",
       "      <td>1</td>\n",
       "      <td>what are the characteristics of wool fibres</td>\n",
       "    </tr>\n",
       "    <tr>\n",
       "      <th>4</th>\n",
       "      <td>568182</td>\n",
       "      <td>what are the characteristics of wool fibres</td>\n",
       "      <td>Q0</td>\n",
       "      <td>msmarco_passage_62_547466749</td>\n",
       "      <td>5</td>\n",
       "      <td>13.793600</td>\n",
       "      <td>Anserini</td>\n",
       "      <td>1</td>\n",
       "      <td>what are the characteristics of wool fibres</td>\n",
       "    </tr>\n",
       "  </tbody>\n",
       "</table>\n",
       "</div>"
      ],
      "text/plain": [
       "   query_id                                        query used  \\\n",
       "0    568182  what are the characteristics of wool fibres   Q0   \n",
       "1    568182  what are the characteristics of wool fibres   Q0   \n",
       "2    568182  what are the characteristics of wool fibres   Q0   \n",
       "3    568182  what are the characteristics of wool fibres   Q0   \n",
       "4    568182  what are the characteristics of wool fibres   Q0   \n",
       "\n",
       "                     passage_id  rank      score  username  rel  \\\n",
       "0  msmarco_passage_62_547459701     1  16.102699  Anserini    1   \n",
       "1  msmarco_passage_21_588232716     2  14.784700  Anserini    1   \n",
       "2   msmarco_passage_11_97323294     3  13.865800  Anserini    1   \n",
       "3   msmarco_passage_68_54887603     4  13.865799  Anserini    1   \n",
       "4  msmarco_passage_62_547466749     5  13.793600  Anserini    1   \n",
       "\n",
       "                                 query_cleaned  \n",
       "0  what are the characteristics of wool fibres  \n",
       "1  what are the characteristics of wool fibres  \n",
       "2  what are the characteristics of wool fibres  \n",
       "3  what are the characteristics of wool fibres  \n",
       "4  what are the characteristics of wool fibres  "
      ]
     },
     "execution_count": 5,
     "metadata": {},
     "output_type": "execute_result"
    }
   ],
   "source": [
    "query_train.head()"
   ]
  },
  {
   "cell_type": "code",
   "execution_count": 6,
   "metadata": {},
   "outputs": [
    {
     "data": {
      "text/html": [
       "<div>\n",
       "<style scoped>\n",
       "    .dataframe tbody tr th:only-of-type {\n",
       "        vertical-align: middle;\n",
       "    }\n",
       "\n",
       "    .dataframe tbody tr th {\n",
       "        vertical-align: top;\n",
       "    }\n",
       "\n",
       "    .dataframe thead th {\n",
       "        text-align: right;\n",
       "    }\n",
       "</style>\n",
       "<table border=\"1\" class=\"dataframe\">\n",
       "  <thead>\n",
       "    <tr style=\"text-align: right;\">\n",
       "      <th></th>\n",
       "      <th>passage_id</th>\n",
       "      <th>passage</th>\n",
       "      <th>passage_cleaned</th>\n",
       "      <th>passage_cleaned_lemmatized</th>\n",
       "    </tr>\n",
       "  </thead>\n",
       "  <tbody>\n",
       "    <tr>\n",
       "      <th>0</th>\n",
       "      <td>msmarco_passage_62_547459701</td>\n",
       "      <td>Table of Contents. Growth. Harvesting. Grading...</td>\n",
       "      <td>table of contents growth harvesting grading of...</td>\n",
       "      <td>table content growth harvesting grade wool fib...</td>\n",
       "    </tr>\n",
       "    <tr>\n",
       "      <th>1</th>\n",
       "      <td>msmarco_passage_21_588232716</td>\n",
       "      <td>A micron ( micrometre) is the measurement used...</td>\n",
       "      <td>a micron micrometre is the measurement used to...</td>\n",
       "      <td>micron micrometre measurement express diameter...</td>\n",
       "    </tr>\n",
       "    <tr>\n",
       "      <th>2</th>\n",
       "      <td>msmarco_passage_11_97323294</td>\n",
       "      <td>Objective measurements include diameter (micro...</td>\n",
       "      <td>objective measurements include diameter micron...</td>\n",
       "      <td>objective measurement include diameter micron ...</td>\n",
       "    </tr>\n",
       "    <tr>\n",
       "      <th>3</th>\n",
       "      <td>msmarco_passage_68_54887603</td>\n",
       "      <td>Objective measurements include diameter (micro...</td>\n",
       "      <td>objective measurements include diameter micron...</td>\n",
       "      <td>objective measurement include diameter micron ...</td>\n",
       "    </tr>\n",
       "    <tr>\n",
       "      <th>4</th>\n",
       "      <td>msmarco_passage_62_547466749</td>\n",
       "      <td>Summary of Characteristics of Wool Fibers. Woo...</td>\n",
       "      <td>summary of characteristics of wool fibers wool...</td>\n",
       "      <td>summary characteristic wool fiber wool protein...</td>\n",
       "    </tr>\n",
       "  </tbody>\n",
       "</table>\n",
       "</div>"
      ],
      "text/plain": [
       "                     passage_id  \\\n",
       "0  msmarco_passage_62_547459701   \n",
       "1  msmarco_passage_21_588232716   \n",
       "2   msmarco_passage_11_97323294   \n",
       "3   msmarco_passage_68_54887603   \n",
       "4  msmarco_passage_62_547466749   \n",
       "\n",
       "                                             passage  \\\n",
       "0  Table of Contents. Growth. Harvesting. Grading...   \n",
       "1  A micron ( micrometre) is the measurement used...   \n",
       "2  Objective measurements include diameter (micro...   \n",
       "3  Objective measurements include diameter (micro...   \n",
       "4  Summary of Characteristics of Wool Fibers. Woo...   \n",
       "\n",
       "                                     passage_cleaned  \\\n",
       "0  table of contents growth harvesting grading of...   \n",
       "1  a micron micrometre is the measurement used to...   \n",
       "2  objective measurements include diameter micron...   \n",
       "3  objective measurements include diameter micron...   \n",
       "4  summary of characteristics of wool fibers wool...   \n",
       "\n",
       "                          passage_cleaned_lemmatized  \n",
       "0  table content growth harvesting grade wool fib...  \n",
       "1  micron micrometre measurement express diameter...  \n",
       "2  objective measurement include diameter micron ...  \n",
       "3  objective measurement include diameter micron ...  \n",
       "4  summary characteristic wool fiber wool protein...  "
      ]
     },
     "execution_count": 6,
     "metadata": {},
     "output_type": "execute_result"
    }
   ],
   "source": [
    "passage_train.head()"
   ]
  },
  {
   "cell_type": "markdown",
   "metadata": {},
   "source": [
    "# Prepare model input for Validation"
   ]
  },
  {
   "cell_type": "code",
   "execution_count": 7,
   "metadata": {},
   "outputs": [],
   "source": [
    "def produce_evaluation_list(list_qid_eval, query_df, passage_df):\n",
    "\n",
    "    \"\"\"\n",
    "    This function create validation data\n",
    "    list_qid_eval: a list of query id that contains validation data\n",
    "    query_df: a pandas df that contains the query text\n",
    "    passage_df: a pandas df that contains the passage text\n",
    "\n",
    "    output: a list of dictionaries. \n",
    "    each dictionary is for a query and has 3 elements: {\"query\": query_text, \"positive\": {positive_passage_text1, positive_passage_text2, ...}\n",
    "    , \"negative\": {negative_passage_text1, negative_passage_text2, ...}\n",
    "\n",
    "    the output look like: [{\"query\": query_text, \"positive\": {positive_passage_text1, positive_passage_text2, ...}\n",
    "    , \"negative\": {negative_passage_text1, negative_passage_text2, ...}\n",
    "    , {\"query\": query_ext, \"positive\": {positive_passage_text1, positive_passage_text2, ...}\n",
    "    , \"negative\": {negative_passage_text1, negative_passage_text2, ...}\n",
    "    ...]\n",
    "    \"\"\"\n",
    "\n",
    "    list_eval = []\n",
    "\n",
    "    for qid in list_qid_eval:\n",
    "\n",
    "        # for each query (qid), create a dictionary\n",
    "        dev_samples = {}\n",
    "\n",
    "        # pandas df whose query_id = qid, rows contain all relavent and irrelavent passages\n",
    "        query_all_passage_subset = query_df[query_df[\"query_id\"] == qid]\n",
    "\n",
    "        # create the 3 elements for the dictionary\n",
    "        dev_samples[\"query\"] = query_all_passage_subset[\"query\"].iloc[0]\n",
    "        dev_samples[\"positive\"] = set()\n",
    "        dev_samples[\"negative\"] = set()\n",
    "\n",
    "        # for each qid, for loop each row which may contain relavent or irrelavent passages\n",
    "        for index, row in query_all_passage_subset.iterrows():\n",
    "            # if this row contains relavent passage, add the passage text to the value of \"positive\" key\n",
    "            if row['rel'] == 1:\n",
    "                dev_samples[\"positive\"].add(\n",
    "                    passage_df[passage_df['passage_id'] == row['passage_id']][\"passage\"].iloc[0])\n",
    "                \n",
    "            # if this row contains irrelavent passage, add the passage text to the value of \"negative\" key\n",
    "            elif row['rel'] == 0:\n",
    "                dev_samples[\"negative\"].add(\n",
    "                    passage_df[passage_df['passage_id'] == row['passage_id']][\"passage\"].iloc[0])\n",
    "                \n",
    "        # append the dictionary for each query to the final output list\n",
    "        list_eval.append(dev_samples)\n",
    "\n",
    "    return list_eval"
   ]
  },
  {
   "cell_type": "markdown",
   "metadata": {},
   "source": [
    "# Load in pretrained model"
   ]
  },
  {
   "cell_type": "code",
   "execution_count": 8,
   "metadata": {},
   "outputs": [
    {
     "name": "stdout",
     "output_type": "stream",
     "text": [
      "output/training_ms-marco_cross-encoder-cross-encoder-stsb-TinyBERT-L-4-2024-04-23_18-18-01\n"
     ]
    }
   ],
   "source": [
    "# note that sbert provides some pretrained cross encoder model, but some are learned from msmarco dataset: https://huggingface.co/cross-encoder\n",
    "# here I am using a bert model that is not pertrained using msmarco dataset to avoid the possibility of leaking info to the Test set\n",
    "\n",
    "model_name = \"cross-encoder/stsb-TinyBERT-L-4\"#\"distilroberta-base\"\n",
    "\n",
    "model_save_path = (\n",
    "    \"output/training_ms-marco_cross-encoder-\"\n",
    "    + model_name.replace(\"/\", \"-\")\n",
    "    + \"-\"\n",
    "    + datetime.now().strftime(\"%Y-%m-%d_%H-%M-%S\")\n",
    ")\n",
    "print(model_save_path)"
   ]
  },
  {
   "cell_type": "code",
   "execution_count": 9,
   "metadata": {},
   "outputs": [
    {
     "name": "stderr",
     "output_type": "stream",
     "text": [
      "/home/lingling/project/enter/lib/python3.11/site-packages/torch/_utils.py:776: UserWarning: TypedStorage is deprecated. It will be removed in the future and UntypedStorage will be the only storage class. This should only matter to you if you are using storages directly.  To access UntypedStorage directly, use tensor.untyped_storage() instead of tensor.storage()\n",
      "  return self.fget.__get__(instance, owner)()\n"
     ]
    },
    {
     "data": {
      "text/plain": [
       "<sentence_transformers.cross_encoder.CrossEncoder.CrossEncoder at 0x7f139c57e650>"
      ]
     },
     "execution_count": 9,
     "metadata": {},
     "output_type": "execute_result"
    }
   ],
   "source": [
    "# for parameters, reference https://github.com/UKPLab/sentence-transformers/blob/master/sentence_transformers/cross_encoder/CrossEncoder.py\n",
    "model = CrossEncoder(model_name\n",
    "                     , num_labels=1 #outputs a continuous score, for regression or binary classification\n",
    "                     )\n",
    "model"
   ]
  },
  {
   "cell_type": "markdown",
   "metadata": {},
   "source": [
    "# Prepare input for Test Set's Inference"
   ]
  },
  {
   "cell_type": "code",
   "execution_count": null,
   "metadata": {},
   "outputs": [],
   "source": [
    "# # from pandas df to list of list\n",
    "# list_query_passage_score_rel_test = df_to_list(query_test, passage_test)\n",
    "\n",
    "# test_sample = []\n",
    "# for list in list_query_passage_score_rel_test:\n",
    "#     test_sample.append(InputExample(texts=[list[0], list[1]], label = list[3]))\n",
    "\n",
    "# print(len(test_sample))\n",
    "# test_sample[:3]"
   ]
  },
  {
   "cell_type": "code",
   "execution_count": 12,
   "metadata": {},
   "outputs": [],
   "source": [
    "def create_data_for_inference(query_df, passage_df):\n",
    "    \"\"\"\n",
    "    # this function for loop each query, create list_query_passage (a list of list) for every query: [[query1, passage1], [query1, passage2] ....]\n",
    "    # then pass this query's list_query_passage to model to make prediction, each query will return a score (list): [score1, score2, score3 ....]\n",
    "    # the ouput dict_qid_all_prediction is a dictionary that append all query's list_score: {qid1: [score1, score2, score3 ....]}\n",
    "    # the ouput dict_qid_pid_true is a dictionary that append all query's True ranked qassage {qid1: [pid1, pid2, ..., pid of topn]}\n",
    "    \"\"\"\n",
    "\n",
    "    # create a list of list for all queries [[query1, passage1], [query1, passage2]..., [query2, passage1], [query2, passage2]..., ]\n",
    "    # This would be used to fit into model to make prediction\n",
    "    list_query_passage = []\n",
    "\n",
    "\n",
    "    # create a list of list for all queries [[qid1, pid1], [qid1, pid2]..., [qid2, pid1], [qid2, pid2]..., ]\n",
    "    # This would be used to collect and sort model prediction\n",
    "    list_qid_all_pid = []\n",
    "\n",
    "    # create a dict of dict for all queries {qid1: {pid1: rel, pid2: rel, ...}, qid2: {pid1: rel, pid2: rel, ...}, }\n",
    "    # This would be used to evaluate model prediction\n",
    "    dict_of_dict_qid_pid_rel = {}\n",
    "\n",
    "    # iterate over all qid\n",
    "    list_qid = query_df[\"query_id\"].unique()\n",
    "    for qid in list_qid:\n",
    "\n",
    "        \n",
    "        # get the rows that contains the qid, pid, score, rel for this qid\n",
    "        query_df_subset = query_df[query_df['query_id'] == qid]\n",
    "        \n",
    "        # iterate over all pid\n",
    "        for index, row in query_df_subset.iterrows():\n",
    "            \n",
    "            # create a list of 2 elements [query, passage]\n",
    "            list = []\n",
    "            list.append(row['query'])\n",
    "\n",
    "            # get the only 1 row that contains the passage text in passage_df and whose pid matches the row's pid\n",
    "            list.append(passage_df[passage_df['passage_id'] == row['passage_id']][\"passage\"].iloc[0]) # get passage value\n",
    "\n",
    "            # append all lists of 2 elements of all queries into one list\n",
    "            list_query_passage.append(list)\n",
    "\n",
    "            # append the sublist. Each sublist is the [qid, pid] of the query\n",
    "            list_qid_all_pid.append([row['query_id'], passage_df[passage_df['passage_id'] == row['passage_id']]['passage_id'].iloc[0]])\n",
    "\n",
    "        \n",
    "        \n",
    "        # for this query, create a dictionary of Y true - each key is a pid, each value is the relavence (1 or 0) of the passage {pid1: 1, pid2, 0, ....}\n",
    "        dict_pid_rel = pd.Series(query_df_subset['rel'].values, index = query_df_subset['passage_id']).to_dict()\n",
    "\n",
    "        # append the dict of this query to the dict for all queries \n",
    "        dict_of_dict_qid_pid_rel[qid] = dict_pid_rel\n",
    "\n",
    "    return list_query_passage, list_qid_all_pid, dict_of_dict_qid_pid_rel"
   ]
  },
  {
   "cell_type": "code",
   "execution_count": 13,
   "metadata": {},
   "outputs": [],
   "source": [
    "list_query_passage, list_qid_all_pid, dict_of_dict_qid_pid_rel = create_data_for_inference(query_test, passage_test)"
   ]
  },
  {
   "cell_type": "code",
   "execution_count": 14,
   "metadata": {},
   "outputs": [
    {
     "name": "stdout",
     "output_type": "stream",
     "text": [
      "20000\n",
      "['him functions to the paper health record', 'This information can be either paper-based, a combination of paper and digital (hybrid) or as is more often the case, a fully electronic health record (EHR). HIM professionals are using advanced technology as they perform most HIM-related functions.']\n",
      "['what does the word element cyte mean', 'What does -cyte mean? The combining form -cyte is used like a suffix meaning “cell.”. It is often used in medical and scientific terms, especially to name different types of cells. The form -cyte comes from the Greek kýtos, meaning “container,” “receptacle,” “body.”.']\n",
      "20000\n",
      "2\n",
      "[203324, 'msmarco_passage_49_115778700']\n",
      "1000\n",
      "20\n",
      "{'msmarco_passage_49_115778700': 1, 'msmarco_passage_26_450017756': 1, 'msmarco_passage_19_202396335': 1, 'msmarco_passage_28_623516004': 1, 'msmarco_passage_02_47181174': 1, 'msmarco_passage_02_47511835': 1, 'msmarco_passage_11_636220699': 1, 'msmarco_passage_41_133447691': 1, 'msmarco_passage_58_723159152': 1, 'msmarco_passage_24_583711786': 1, 'msmarco_passage_18_714845189': 0, 'msmarco_passage_59_733040871': 0, 'msmarco_passage_65_238890762': 0, 'msmarco_passage_17_178380607': 0, 'msmarco_passage_61_103079366': 0, 'msmarco_passage_07_257313185': 0, 'msmarco_passage_53_560231782': 0, 'msmarco_passage_16_326265100': 0, 'msmarco_passage_16_326272763': 0, 'msmarco_passage_02_835063630': 0}\n"
     ]
    }
   ],
   "source": [
    "\n",
    "# check\n",
    "print(len(list_query_passage))\n",
    "print(list_query_passage[0])\n",
    "print(list_query_passage[1000])\n",
    "\n",
    "print(len(list_qid_all_pid))\n",
    "print(len(list_qid_all_pid[0]))\n",
    "print(list_qid_all_pid[0])\n",
    "\n",
    "print(len(dict_of_dict_qid_pid_rel))\n",
    "print(len(dict_of_dict_qid_pid_rel[203324]))\n",
    "print(dict_of_dict_qid_pid_rel[203324])"
   ]
  },
  {
   "cell_type": "markdown",
   "metadata": {},
   "source": [
    "# Predict on Test set"
   ]
  },
  {
   "cell_type": "code",
   "execution_count": 15,
   "metadata": {},
   "outputs": [
    {
     "data": {
      "application/vnd.jupyter.widget-view+json": {
       "model_id": "6c37d67a0b2f4450b40ededd15552950",
       "version_major": 2,
       "version_minor": 0
      },
      "text/plain": [
       "Batches:   0%|          | 0/625 [00:00<?, ?it/s]"
      ]
     },
     "metadata": {},
     "output_type": "display_data"
    }
   ],
   "source": [
    "# predict \n",
    "list_score = model.predict(list_query_passage)\n"
   ]
  },
  {
   "cell_type": "code",
   "execution_count": 16,
   "metadata": {},
   "outputs": [
    {
     "name": "stdout",
     "output_type": "stream",
     "text": [
      "(20000, 3)\n"
     ]
    }
   ],
   "source": [
    "test_with_pred = pd.DataFrame(list_qid_all_pid, columns = ['query_id', 'passage_id'])\n",
    "test_with_pred['predicted_score'] = list_score\n",
    "test_with_pred.sort_values(by=['query_id', 'predicted_score'], ascending = False, inplace = True)\n",
    "test_with_pred.to_csv(\"./output/test_prediction_nofinetune_TinyBERT-L-4-2024-04-21.csv\"\n",
    "                                       , index = False)\n",
    "print(test_with_pred.shape)"
   ]
  },
  {
   "cell_type": "code",
   "execution_count": 17,
   "metadata": {},
   "outputs": [
    {
     "data": {
      "text/html": [
       "<div>\n",
       "<style scoped>\n",
       "    .dataframe tbody tr th:only-of-type {\n",
       "        vertical-align: middle;\n",
       "    }\n",
       "\n",
       "    .dataframe tbody tr th {\n",
       "        vertical-align: top;\n",
       "    }\n",
       "\n",
       "    .dataframe thead th {\n",
       "        text-align: right;\n",
       "    }\n",
       "</style>\n",
       "<table border=\"1\" class=\"dataframe\">\n",
       "  <thead>\n",
       "    <tr style=\"text-align: right;\">\n",
       "      <th></th>\n",
       "      <th>query_id</th>\n",
       "      <th>passage_id</th>\n",
       "      <th>predicted_score</th>\n",
       "    </tr>\n",
       "  </thead>\n",
       "  <tbody>\n",
       "    <tr>\n",
       "      <th>10360</th>\n",
       "      <td>1183224</td>\n",
       "      <td>msmarco_passage_64_307501210</td>\n",
       "      <td>0.840334</td>\n",
       "    </tr>\n",
       "    <tr>\n",
       "      <th>10372</th>\n",
       "      <td>1183224</td>\n",
       "      <td>msmarco_passage_03_2856732</td>\n",
       "      <td>0.692220</td>\n",
       "    </tr>\n",
       "    <tr>\n",
       "      <th>10378</th>\n",
       "      <td>1183224</td>\n",
       "      <td>msmarco_passage_37_349325721</td>\n",
       "      <td>0.636625</td>\n",
       "    </tr>\n",
       "    <tr>\n",
       "      <th>10361</th>\n",
       "      <td>1183224</td>\n",
       "      <td>msmarco_passage_01_536296949</td>\n",
       "      <td>0.611211</td>\n",
       "    </tr>\n",
       "    <tr>\n",
       "      <th>10362</th>\n",
       "      <td>1183224</td>\n",
       "      <td>msmarco_passage_06_770443306</td>\n",
       "      <td>0.611211</td>\n",
       "    </tr>\n",
       "    <tr>\n",
       "      <th>10366</th>\n",
       "      <td>1183224</td>\n",
       "      <td>msmarco_passage_48_764103270</td>\n",
       "      <td>0.611211</td>\n",
       "    </tr>\n",
       "    <tr>\n",
       "      <th>10367</th>\n",
       "      <td>1183224</td>\n",
       "      <td>msmarco_passage_48_800555103</td>\n",
       "      <td>0.611211</td>\n",
       "    </tr>\n",
       "    <tr>\n",
       "      <th>10370</th>\n",
       "      <td>1183224</td>\n",
       "      <td>msmarco_passage_39_120773224</td>\n",
       "      <td>0.587858</td>\n",
       "    </tr>\n",
       "    <tr>\n",
       "      <th>10368</th>\n",
       "      <td>1183224</td>\n",
       "      <td>msmarco_passage_27_266644928</td>\n",
       "      <td>0.581337</td>\n",
       "    </tr>\n",
       "    <tr>\n",
       "      <th>10379</th>\n",
       "      <td>1183224</td>\n",
       "      <td>msmarco_passage_15_272642271</td>\n",
       "      <td>0.576935</td>\n",
       "    </tr>\n",
       "    <tr>\n",
       "      <th>10373</th>\n",
       "      <td>1183224</td>\n",
       "      <td>msmarco_passage_09_689048460</td>\n",
       "      <td>0.560631</td>\n",
       "    </tr>\n",
       "    <tr>\n",
       "      <th>10376</th>\n",
       "      <td>1183224</td>\n",
       "      <td>msmarco_passage_61_527867091</td>\n",
       "      <td>0.560631</td>\n",
       "    </tr>\n",
       "    <tr>\n",
       "      <th>10369</th>\n",
       "      <td>1183224</td>\n",
       "      <td>msmarco_passage_48_449276269</td>\n",
       "      <td>0.540547</td>\n",
       "    </tr>\n",
       "    <tr>\n",
       "      <th>10371</th>\n",
       "      <td>1183224</td>\n",
       "      <td>msmarco_passage_01_493126868</td>\n",
       "      <td>0.538200</td>\n",
       "    </tr>\n",
       "    <tr>\n",
       "      <th>10374</th>\n",
       "      <td>1183224</td>\n",
       "      <td>msmarco_passage_48_721956358</td>\n",
       "      <td>0.513808</td>\n",
       "    </tr>\n",
       "    <tr>\n",
       "      <th>10363</th>\n",
       "      <td>1183224</td>\n",
       "      <td>msmarco_passage_25_322137693</td>\n",
       "      <td>0.513743</td>\n",
       "    </tr>\n",
       "    <tr>\n",
       "      <th>10364</th>\n",
       "      <td>1183224</td>\n",
       "      <td>msmarco_passage_25_322151896</td>\n",
       "      <td>0.513743</td>\n",
       "    </tr>\n",
       "    <tr>\n",
       "      <th>10365</th>\n",
       "      <td>1183224</td>\n",
       "      <td>msmarco_passage_25_322155605</td>\n",
       "      <td>0.513743</td>\n",
       "    </tr>\n",
       "    <tr>\n",
       "      <th>10377</th>\n",
       "      <td>1183224</td>\n",
       "      <td>msmarco_passage_36_754635695</td>\n",
       "      <td>0.501671</td>\n",
       "    </tr>\n",
       "    <tr>\n",
       "      <th>10375</th>\n",
       "      <td>1183224</td>\n",
       "      <td>msmarco_passage_48_763784628</td>\n",
       "      <td>0.442403</td>\n",
       "    </tr>\n",
       "  </tbody>\n",
       "</table>\n",
       "</div>"
      ],
      "text/plain": [
       "       query_id                    passage_id  predicted_score\n",
       "10360   1183224  msmarco_passage_64_307501210         0.840334\n",
       "10372   1183224    msmarco_passage_03_2856732         0.692220\n",
       "10378   1183224  msmarco_passage_37_349325721         0.636625\n",
       "10361   1183224  msmarco_passage_01_536296949         0.611211\n",
       "10362   1183224  msmarco_passage_06_770443306         0.611211\n",
       "10366   1183224  msmarco_passage_48_764103270         0.611211\n",
       "10367   1183224  msmarco_passage_48_800555103         0.611211\n",
       "10370   1183224  msmarco_passage_39_120773224         0.587858\n",
       "10368   1183224  msmarco_passage_27_266644928         0.581337\n",
       "10379   1183224  msmarco_passage_15_272642271         0.576935\n",
       "10373   1183224  msmarco_passage_09_689048460         0.560631\n",
       "10376   1183224  msmarco_passage_61_527867091         0.560631\n",
       "10369   1183224  msmarco_passage_48_449276269         0.540547\n",
       "10371   1183224  msmarco_passage_01_493126868         0.538200\n",
       "10374   1183224  msmarco_passage_48_721956358         0.513808\n",
       "10363   1183224  msmarco_passage_25_322137693         0.513743\n",
       "10364   1183224  msmarco_passage_25_322151896         0.513743\n",
       "10365   1183224  msmarco_passage_25_322155605         0.513743\n",
       "10377   1183224  msmarco_passage_36_754635695         0.501671\n",
       "10375   1183224  msmarco_passage_48_763784628         0.442403"
      ]
     },
     "metadata": {},
     "output_type": "display_data"
    }
   ],
   "source": [
    "# check\n",
    "display(test_with_pred[test_with_pred[\"query_id\"] == 1183224])"
   ]
  },
  {
   "cell_type": "markdown",
   "metadata": {},
   "source": [
    "# Plot distribution of predicted score"
   ]
  },
  {
   "cell_type": "code",
   "execution_count": 18,
   "metadata": {},
   "outputs": [
    {
     "data": {
      "text/plain": [
       "(array([  29.,   30.,   38.,   34.,   45.,   71.,   69.,   74.,   91.,\n",
       "          99.,  106.,  114.,  153.,  167.,  158.,  220.,  249.,  318.,\n",
       "         372.,  375.,  530.,  543.,  613.,  726.,  791.,  915., 1070.,\n",
       "        1077., 1272., 1226., 1319., 1341., 1168., 1127., 1008.,  760.,\n",
       "         550.,  388.,  274.,  155.,  105.,   87.,   44.,   30.,   24.,\n",
       "          17.,   14.,    5.,    4.,    5.]),\n",
       " array([0.02533388, 0.04276683, 0.06019978, 0.07763273, 0.09506568,\n",
       "        0.11249863, 0.12993157, 0.14736453, 0.16479747, 0.18223043,\n",
       "        0.19966337, 0.21709633, 0.23452927, 0.25196221, 0.26939517,\n",
       "        0.28682813, 0.30426106, 0.32169402, 0.33912697, 0.35655993,\n",
       "        0.37399286, 0.39142582, 0.40885878, 0.4262917 , 0.44372466,\n",
       "        0.46115762, 0.47859058, 0.49602351, 0.51345646, 0.53088939,\n",
       "        0.54832238, 0.56575531, 0.58318824, 0.60062122, 0.61805415,\n",
       "        0.63548714, 0.65292007, 0.670353  , 0.68778598, 0.70521891,\n",
       "        0.72265184, 0.74008483, 0.75751776, 0.77495068, 0.79238367,\n",
       "        0.8098166 , 0.82724959, 0.84468251, 0.86211544, 0.87954843,\n",
       "        0.89698136]),\n",
       " <BarContainer object of 50 artists>)"
      ]
     },
     "execution_count": 18,
     "metadata": {},
     "output_type": "execute_result"
    },
    {
     "data": {
      "image/png": "[encoded data removed]",
      "text/plain": [
       "<Figure size 640x480 with 1 Axes>"
      ]
     },
     "metadata": {},
     "output_type": "display_data"
    }
   ],
   "source": [
    "plt.hist(test_with_pred[\"predicted_score\"], color='lightgreen', ec='black', bins=50)"
   ]
  },
  {
   "cell_type": "markdown",
   "metadata": {},
   "source": [
    "# Evaluate using MRR@10"
   ]
  },
  {
   "cell_type": "code",
   "execution_count": 19,
   "metadata": {},
   "outputs": [],
   "source": [
    "dict_qid_all_pid_prediction = {}\n",
    "\n",
    "for qid, group in test_with_pred.groupby('query_id'):\n",
    "    dict_qid_all_pid_prediction[qid] = group['passage_id'].values.tolist()"
   ]
  },
  {
   "cell_type": "code",
   "execution_count": 20,
   "metadata": {},
   "outputs": [
    {
     "name": "stdout",
     "output_type": "stream",
     "text": [
      "MRR@10:  0.8933511904761913\n"
     ]
    }
   ],
   "source": [
    "\n",
    "topn = 10\n",
    "mrr = 0.0\n",
    "qids = []\n",
    "rrs = []\n",
    "\n",
    "# iterate over all the qid (keys in the dictionary)\n",
    "for qid in dict_qid_all_pid_prediction:\n",
    "\n",
    "    rr = 0.0\n",
    "    \n",
    "    # iterate over all the element of topn pid [pid1, pid2, ... pid topn]\n",
    "    for i, pid in enumerate(dict_qid_all_pid_prediction[qid][: topn + 1]):\n",
    "\n",
    "        # check if the pid has relenvace > 0\n",
    "        if qid in dict_of_dict_qid_pid_rel and pid in dict_of_dict_qid_pid_rel[qid] and dict_of_dict_qid_pid_rel[qid][pid] > 0:\n",
    "        \n",
    "            rr = 1 / (i+1)\n",
    "        \n",
    "            break\n",
    "    qids.append(qid)\n",
    "    rrs.append(rr)\n",
    "    mrr += rr\n",
    "mrr /= len(dict_qid_all_pid_prediction)\n",
    "print(\"MRR@10: \", mrr)"
   ]
  },
  {
   "cell_type": "markdown",
   "metadata": {},
   "source": [
    "# Evaluate using MAP@10"
   ]
  },
  {
   "cell_type": "code",
   "execution_count": 21,
   "metadata": {},
   "outputs": [
    {
     "name": "stdout",
     "output_type": "stream",
     "text": [
      "(20000, 9)\n",
      "(20000, 3)\n",
      "(20000, 10)\n"
     ]
    },
    {
     "data": {
      "text/html": [
       "<div>\n",
       "<style scoped>\n",
       "    .dataframe tbody tr th:only-of-type {\n",
       "        vertical-align: middle;\n",
       "    }\n",
       "\n",
       "    .dataframe tbody tr th {\n",
       "        vertical-align: top;\n",
       "    }\n",
       "\n",
       "    .dataframe thead th {\n",
       "        text-align: right;\n",
       "    }\n",
       "</style>\n",
       "<table border=\"1\" class=\"dataframe\">\n",
       "  <thead>\n",
       "    <tr style=\"text-align: right;\">\n",
       "      <th></th>\n",
       "      <th>query_id</th>\n",
       "      <th>query</th>\n",
       "      <th>used</th>\n",
       "      <th>passage_id</th>\n",
       "      <th>rank</th>\n",
       "      <th>score</th>\n",
       "      <th>username</th>\n",
       "      <th>rel</th>\n",
       "      <th>query_cleaned</th>\n",
       "      <th>predicted_score</th>\n",
       "    </tr>\n",
       "  </thead>\n",
       "  <tbody>\n",
       "    <tr>\n",
       "      <th>0</th>\n",
       "      <td>203324</td>\n",
       "      <td>him functions to the paper health record</td>\n",
       "      <td>Q0</td>\n",
       "      <td>msmarco_passage_49_115778700</td>\n",
       "      <td>1</td>\n",
       "      <td>13.2671</td>\n",
       "      <td>Anserini</td>\n",
       "      <td>1</td>\n",
       "      <td>him functions to the paper health record</td>\n",
       "      <td>0.583711</td>\n",
       "    </tr>\n",
       "    <tr>\n",
       "      <th>1</th>\n",
       "      <td>203324</td>\n",
       "      <td>him functions to the paper health record</td>\n",
       "      <td>Q0</td>\n",
       "      <td>msmarco_passage_26_450017756</td>\n",
       "      <td>2</td>\n",
       "      <td>11.8537</td>\n",
       "      <td>Anserini</td>\n",
       "      <td>1</td>\n",
       "      <td>him functions to the paper health record</td>\n",
       "      <td>0.557674</td>\n",
       "    </tr>\n",
       "    <tr>\n",
       "      <th>2</th>\n",
       "      <td>203324</td>\n",
       "      <td>him functions to the paper health record</td>\n",
       "      <td>Q0</td>\n",
       "      <td>msmarco_passage_19_202396335</td>\n",
       "      <td>3</td>\n",
       "      <td>11.2738</td>\n",
       "      <td>Anserini</td>\n",
       "      <td>1</td>\n",
       "      <td>him functions to the paper health record</td>\n",
       "      <td>0.572359</td>\n",
       "    </tr>\n",
       "    <tr>\n",
       "      <th>3</th>\n",
       "      <td>203324</td>\n",
       "      <td>him functions to the paper health record</td>\n",
       "      <td>Q0</td>\n",
       "      <td>msmarco_passage_28_623516004</td>\n",
       "      <td>4</td>\n",
       "      <td>11.0361</td>\n",
       "      <td>Anserini</td>\n",
       "      <td>1</td>\n",
       "      <td>him functions to the paper health record</td>\n",
       "      <td>0.616904</td>\n",
       "    </tr>\n",
       "    <tr>\n",
       "      <th>4</th>\n",
       "      <td>203324</td>\n",
       "      <td>him functions to the paper health record</td>\n",
       "      <td>Q0</td>\n",
       "      <td>msmarco_passage_02_47181174</td>\n",
       "      <td>5</td>\n",
       "      <td>10.9476</td>\n",
       "      <td>Anserini</td>\n",
       "      <td>1</td>\n",
       "      <td>him functions to the paper health record</td>\n",
       "      <td>0.559817</td>\n",
       "    </tr>\n",
       "  </tbody>\n",
       "</table>\n",
       "</div>"
      ],
      "text/plain": [
       "   query_id                                     query used  \\\n",
       "0    203324  him functions to the paper health record   Q0   \n",
       "1    203324  him functions to the paper health record   Q0   \n",
       "2    203324  him functions to the paper health record   Q0   \n",
       "3    203324  him functions to the paper health record   Q0   \n",
       "4    203324  him functions to the paper health record   Q0   \n",
       "\n",
       "                     passage_id  rank    score  username  rel  \\\n",
       "0  msmarco_passage_49_115778700     1  13.2671  Anserini    1   \n",
       "1  msmarco_passage_26_450017756     2  11.8537  Anserini    1   \n",
       "2  msmarco_passage_19_202396335     3  11.2738  Anserini    1   \n",
       "3  msmarco_passage_28_623516004     4  11.0361  Anserini    1   \n",
       "4   msmarco_passage_02_47181174     5  10.9476  Anserini    1   \n",
       "\n",
       "                              query_cleaned  predicted_score  \n",
       "0  him functions to the paper health record         0.583711  \n",
       "1  him functions to the paper health record         0.557674  \n",
       "2  him functions to the paper health record         0.572359  \n",
       "3  him functions to the paper health record         0.616904  \n",
       "4  him functions to the paper health record         0.559817  "
      ]
     },
     "metadata": {},
     "output_type": "display_data"
    }
   ],
   "source": [
    "print(query_test.shape)\n",
    "print(test_with_pred.shape)\n",
    "\n",
    "result = query_test.merge(test_with_pred, how = \"inner\", on = [\"query_id\", \"passage_id\"])\n",
    "print(result.shape)\n",
    "display(result.head())"
   ]
  },
  {
   "cell_type": "code",
   "execution_count": 22,
   "metadata": {},
   "outputs": [],
   "source": [
    "# Function for calculating average precision for a query\n",
    "def average_precision(qid, topn = 10):\n",
    "    \n",
    "    # ========= for each query_id, do the following:\n",
    "    #print(f\"Started to work on query_id {qid}\")\n",
    "    # get passage_id (each query_id would have upto 10 passage_id)\n",
    "    qresult = result.loc[result[\"query_id\"] == qid, [\"passage_id\", \"rel\", \"predicted_score\"]]\n",
    "\n",
    "\n",
    "    \n",
    "    # sort rows so that passages with the highest similarity ranks as top \n",
    "    qresult.sort_values(by=\"predicted_score\", ascending = False, inplace=True)\n",
    "\n",
    "    # # Taking Top 10 documents for the evaluation\n",
    "    ranking = qresult.head(topn)['rel'].values\n",
    "    #display(qresult.head(topn))\n",
    "    \n",
    "    # # Calculating precision\n",
    "    precision=[]\n",
    "    for i in range(1,11):\n",
    "      if ranking[i-1]:\n",
    "        precision.append(np.sum(ranking[:i])/i)\n",
    "    \n",
    "    # If no relevant document in list then return 0\n",
    "    if precision==[]:\n",
    "      return 0\n",
    "    #print(len(precision))\n",
    "    #print(precision)\n",
    "    avg_precision = np.mean(precision)\n",
    "    #print(\"Avg precision: {}\".format(avg_precision))\n",
    "    return avg_precision#, len(precision), qresult.shape[0]"
   ]
  },
  {
   "cell_type": "code",
   "execution_count": 23,
   "metadata": {},
   "outputs": [],
   "source": [
    "result[\"avg_precision\"] = result.apply(lambda x: average_precision(x['query_id'])\n",
    "                                    ,axis=1)"
   ]
  },
  {
   "cell_type": "code",
   "execution_count": 24,
   "metadata": {},
   "outputs": [
    {
     "data": {
      "text/html": [
       "<div>\n",
       "<style scoped>\n",
       "    .dataframe tbody tr th:only-of-type {\n",
       "        vertical-align: middle;\n",
       "    }\n",
       "\n",
       "    .dataframe tbody tr th {\n",
       "        vertical-align: top;\n",
       "    }\n",
       "\n",
       "    .dataframe thead th {\n",
       "        text-align: right;\n",
       "    }\n",
       "</style>\n",
       "<table border=\"1\" class=\"dataframe\">\n",
       "  <thead>\n",
       "    <tr style=\"text-align: right;\">\n",
       "      <th></th>\n",
       "      <th>query_id</th>\n",
       "      <th>query</th>\n",
       "      <th>used</th>\n",
       "      <th>passage_id</th>\n",
       "      <th>rank</th>\n",
       "      <th>score</th>\n",
       "      <th>username</th>\n",
       "      <th>rel</th>\n",
       "      <th>query_cleaned</th>\n",
       "      <th>predicted_score</th>\n",
       "      <th>avg_precision</th>\n",
       "    </tr>\n",
       "  </thead>\n",
       "  <tbody>\n",
       "    <tr>\n",
       "      <th>0</th>\n",
       "      <td>203324</td>\n",
       "      <td>him functions to the paper health record</td>\n",
       "      <td>Q0</td>\n",
       "      <td>msmarco_passage_49_115778700</td>\n",
       "      <td>1</td>\n",
       "      <td>13.2671</td>\n",
       "      <td>Anserini</td>\n",
       "      <td>1</td>\n",
       "      <td>him functions to the paper health record</td>\n",
       "      <td>0.583711</td>\n",
       "      <td>0.691667</td>\n",
       "    </tr>\n",
       "    <tr>\n",
       "      <th>1</th>\n",
       "      <td>203324</td>\n",
       "      <td>him functions to the paper health record</td>\n",
       "      <td>Q0</td>\n",
       "      <td>msmarco_passage_26_450017756</td>\n",
       "      <td>2</td>\n",
       "      <td>11.8537</td>\n",
       "      <td>Anserini</td>\n",
       "      <td>1</td>\n",
       "      <td>him functions to the paper health record</td>\n",
       "      <td>0.557674</td>\n",
       "      <td>0.691667</td>\n",
       "    </tr>\n",
       "    <tr>\n",
       "      <th>2</th>\n",
       "      <td>203324</td>\n",
       "      <td>him functions to the paper health record</td>\n",
       "      <td>Q0</td>\n",
       "      <td>msmarco_passage_19_202396335</td>\n",
       "      <td>3</td>\n",
       "      <td>11.2738</td>\n",
       "      <td>Anserini</td>\n",
       "      <td>1</td>\n",
       "      <td>him functions to the paper health record</td>\n",
       "      <td>0.572359</td>\n",
       "      <td>0.691667</td>\n",
       "    </tr>\n",
       "    <tr>\n",
       "      <th>3</th>\n",
       "      <td>203324</td>\n",
       "      <td>him functions to the paper health record</td>\n",
       "      <td>Q0</td>\n",
       "      <td>msmarco_passage_28_623516004</td>\n",
       "      <td>4</td>\n",
       "      <td>11.0361</td>\n",
       "      <td>Anserini</td>\n",
       "      <td>1</td>\n",
       "      <td>him functions to the paper health record</td>\n",
       "      <td>0.616904</td>\n",
       "      <td>0.691667</td>\n",
       "    </tr>\n",
       "    <tr>\n",
       "      <th>4</th>\n",
       "      <td>203324</td>\n",
       "      <td>him functions to the paper health record</td>\n",
       "      <td>Q0</td>\n",
       "      <td>msmarco_passage_02_47181174</td>\n",
       "      <td>5</td>\n",
       "      <td>10.9476</td>\n",
       "      <td>Anserini</td>\n",
       "      <td>1</td>\n",
       "      <td>him functions to the paper health record</td>\n",
       "      <td>0.559817</td>\n",
       "      <td>0.691667</td>\n",
       "    </tr>\n",
       "  </tbody>\n",
       "</table>\n",
       "</div>"
      ],
      "text/plain": [
       "   query_id                                     query used  \\\n",
       "0    203324  him functions to the paper health record   Q0   \n",
       "1    203324  him functions to the paper health record   Q0   \n",
       "2    203324  him functions to the paper health record   Q0   \n",
       "3    203324  him functions to the paper health record   Q0   \n",
       "4    203324  him functions to the paper health record   Q0   \n",
       "\n",
       "                     passage_id  rank    score  username  rel  \\\n",
       "0  msmarco_passage_49_115778700     1  13.2671  Anserini    1   \n",
       "1  msmarco_passage_26_450017756     2  11.8537  Anserini    1   \n",
       "2  msmarco_passage_19_202396335     3  11.2738  Anserini    1   \n",
       "3  msmarco_passage_28_623516004     4  11.0361  Anserini    1   \n",
       "4   msmarco_passage_02_47181174     5  10.9476  Anserini    1   \n",
       "\n",
       "                              query_cleaned  predicted_score  avg_precision  \n",
       "0  him functions to the paper health record         0.583711       0.691667  \n",
       "1  him functions to the paper health record         0.557674       0.691667  \n",
       "2  him functions to the paper health record         0.572359       0.691667  \n",
       "3  him functions to the paper health record         0.616904       0.691667  \n",
       "4  him functions to the paper health record         0.559817       0.691667  "
      ]
     },
     "execution_count": 24,
     "metadata": {},
     "output_type": "execute_result"
    }
   ],
   "source": [
    "result.head()"
   ]
  },
  {
   "cell_type": "code",
   "execution_count": 25,
   "metadata": {},
   "outputs": [
    {
     "name": "stdout",
     "output_type": "stream",
     "text": [
      "Mean Average Precision=> 0.813385232111363\n"
     ]
    }
   ],
   "source": [
    "print('Mean Average Precision=>', result[\"avg_precision\"].mean())"
   ]
  },
  {
   "cell_type": "code",
   "execution_count": 26,
   "metadata": {},
   "outputs": [],
   "source": [
    "result.to_csv(\"./output/test_prediction_nofinetune_avg_precision_TinyBERT-L-4-2024-04-21.csv\"\n",
    "                                       , index = False)\n"
   ]
  },
  {
   "cell_type": "code",
   "execution_count": null,
   "metadata": {},
   "outputs": [],
   "source": []
  }
 ],
 "metadata": {
  "kernelspec": {
   "display_name": "base",
   "language": "python",
   "name": "python3"
  },
  "language_info": {
   "codemirror_mode": {
    "name": "ipython",
    "version": 3
   },
   "file_extension": ".py",
   "mimetype": "text/x-python",
   "name": "python",
   "nbconvert_exporter": "python",
   "pygments_lexer": "ipython3",
   "version": "3.11.4"
  },
  "orig_nbformat": 4
 },
 "nbformat": 4,
 "nbformat_minor": 2
}
