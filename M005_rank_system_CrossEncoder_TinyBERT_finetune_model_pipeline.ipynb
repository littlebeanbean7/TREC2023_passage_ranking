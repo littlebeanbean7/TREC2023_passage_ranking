{
 "cells": [
  {
   "cell_type": "markdown",
   "metadata": {},
   "source": [
    "# About\n",
    "\n",
    "This notebook builds an IR ranking system. It finetues a CrossEncoder model using a pretrianed BERT model and Train and Evaluation sets. The evaluator used for finetuning is CERerankingEvaluator developed by the sentence transformer package. The ranking system is evaluated by the top 10 ranked passages for each query in the Test set.\n",
    "\n",
    "reference: https://www.sbert.net/docs/package_reference/cross_encoder.html#evaluation\n",
    "https://github.com/UKPLab/sentence-transformers/blob/master/examples/training/ms_marco/train_cross-encoder_scratch.py"
   ]
  },
  {
   "cell_type": "code",
   "execution_count": 1,
   "metadata": {},
   "outputs": [],
   "source": [
    "import pandas as pd\n",
    "import numpy as np\n",
    "import matplotlib.pyplot as plt\n",
    "import logging\n",
    "from sentence_transformers import LoggingHandler, util\n",
    "from datetime import datetime\n",
    "from sentence_transformers.cross_encoder import CrossEncoder\n",
    "from torch.utils.data import DataLoader\n",
    "from sentence_transformers.cross_encoder.evaluation import CERerankingEvaluator, CEBinaryClassificationEvaluator\n",
    "# import gzip\n",
    "# import os\n",
    "# import tarfile\n",
    "from sentence_transformers import InputExample, losses\n",
    "from datetime import datetime"
   ]
  },
  {
   "cell_type": "code",
   "execution_count": null,
   "metadata": {},
   "outputs": [],
   "source": [
    "#### Just some code to print debug information to stdout\n",
    "logging.basicConfig(\n",
    "    format=\"%(asctime)s - %(message)s\", datefmt=\"%Y-%m-%d %H:%M:%S\", level=logging.INFO, handlers=[LoggingHandler()]\n",
    ")\n",
    "#### /print debug information to stdout"
   ]
  },
  {
   "cell_type": "markdown",
   "metadata": {},
   "source": [
    "# Configure the Training Parameters"
   ]
  },
  {
   "cell_type": "code",
   "execution_count": 2,
   "metadata": {},
   "outputs": [],
   "source": [
    "\n",
    "train_batch_size = 30\n",
    "num_epochs = 1\n",
    "warmup_steps = 5000"
   ]
  },
  {
   "cell_type": "markdown",
   "metadata": {},
   "source": [
    "# Define functions"
   ]
  },
  {
   "cell_type": "code",
   "execution_count": 5,
   "metadata": {},
   "outputs": [],
   "source": [
    "def df_to_list(query_df, passage_df):\n",
    "    \"\"\"\n",
    "    # this function create train, test data\n",
    "    # it reads in query_df and passage_df, then for loop to create a list of list\n",
    "    # each query, passage pair is a list of 4 elements: [query, passage, score, rel]\n",
    "    # the ouput is [[query, passage, score, rel], [query, passage, score, rel], ...]\n",
    "    \"\"\"\n",
    "    list_query_passage_score_rel = []\n",
    "    for index, row in query_df.iterrows():\n",
    "        list = []\n",
    "        list.append(row['query'])\n",
    "        list.append(passage_df[passage_df['passage_id'] == row['passage_id']][\"passage\"].iloc[0])\n",
    "        list.append(row[\"score\"])\n",
    "        list.append(row[\"rel\"])\n",
    "        list_query_passage_score_rel.append(list)\n",
    "    return list_query_passage_score_rel"
   ]
  },
  {
   "cell_type": "markdown",
   "metadata": {},
   "source": [
    "# Read in Train, Validation, Test sets"
   ]
  },
  {
   "cell_type": "code",
   "execution_count": 3,
   "metadata": {},
   "outputs": [],
   "source": [
    "# query\n",
    "query_train = pd.read_csv(\"./output/query_train_set_with_passage_info.csv\")\n",
    "query_val =pd.read_csv(\"./output/query_val_set_with_passage_info.csv\")\n",
    "query_test =pd.read_csv(\"./output/query_test_set_with_passage_info.csv\")\n",
    "\n",
    "# passage\n",
    "passage_train = pd.read_csv(\"./output/train_passage_id_content_cleaned.csv\")\n",
    "passage_val = pd.read_csv(\"./output/val_passage_id_content_cleaned.csv\")\n",
    "passage_test = pd.read_csv(\"./output/test_passage_id_content_cleaned.csv\")"
   ]
  },
  {
   "cell_type": "code",
   "execution_count": null,
   "metadata": {},
   "outputs": [
    {
     "name": "stdout",
     "output_type": "stream",
     "text": [
      "(20000, 9)\n",
      "(20000, 9)\n",
      "(20000, 9)\n"
     ]
    }
   ],
   "source": [
    "print(query_train.shape)\n",
    "print(query_val.shape)\n",
    "print(query_test.shape)"
   ]
  },
  {
   "cell_type": "code",
   "execution_count": null,
   "metadata": {},
   "outputs": [
    {
     "data": {
      "text/html": [
       "<div>\n",
       "<style scoped>\n",
       "    .dataframe tbody tr th:only-of-type {\n",
       "        vertical-align: middle;\n",
       "    }\n",
       "\n",
       "    .dataframe tbody tr th {\n",
       "        vertical-align: top;\n",
       "    }\n",
       "\n",
       "    .dataframe thead th {\n",
       "        text-align: right;\n",
       "    }\n",
       "</style>\n",
       "<table border=\"1\" class=\"dataframe\">\n",
       "  <thead>\n",
       "    <tr style=\"text-align: right;\">\n",
       "      <th></th>\n",
       "      <th>query_id</th>\n",
       "      <th>query</th>\n",
       "      <th>used</th>\n",
       "      <th>passage_id</th>\n",
       "      <th>rank</th>\n",
       "      <th>score</th>\n",
       "      <th>username</th>\n",
       "      <th>rel</th>\n",
       "      <th>query_cleaned</th>\n",
       "    </tr>\n",
       "  </thead>\n",
       "  <tbody>\n",
       "    <tr>\n",
       "      <th>0</th>\n",
       "      <td>568182</td>\n",
       "      <td>what are the characteristics of wool fibres</td>\n",
       "      <td>Q0</td>\n",
       "      <td>msmarco_passage_62_547459701</td>\n",
       "      <td>1</td>\n",
       "      <td>16.102699</td>\n",
       "      <td>Anserini</td>\n",
       "      <td>1</td>\n",
       "      <td>what are the characteristics of wool fibres</td>\n",
       "    </tr>\n",
       "    <tr>\n",
       "      <th>1</th>\n",
       "      <td>568182</td>\n",
       "      <td>what are the characteristics of wool fibres</td>\n",
       "      <td>Q0</td>\n",
       "      <td>msmarco_passage_21_588232716</td>\n",
       "      <td>2</td>\n",
       "      <td>14.784700</td>\n",
       "      <td>Anserini</td>\n",
       "      <td>1</td>\n",
       "      <td>what are the characteristics of wool fibres</td>\n",
       "    </tr>\n",
       "    <tr>\n",
       "      <th>2</th>\n",
       "      <td>568182</td>\n",
       "      <td>what are the characteristics of wool fibres</td>\n",
       "      <td>Q0</td>\n",
       "      <td>msmarco_passage_11_97323294</td>\n",
       "      <td>3</td>\n",
       "      <td>13.865800</td>\n",
       "      <td>Anserini</td>\n",
       "      <td>1</td>\n",
       "      <td>what are the characteristics of wool fibres</td>\n",
       "    </tr>\n",
       "    <tr>\n",
       "      <th>3</th>\n",
       "      <td>568182</td>\n",
       "      <td>what are the characteristics of wool fibres</td>\n",
       "      <td>Q0</td>\n",
       "      <td>msmarco_passage_68_54887603</td>\n",
       "      <td>4</td>\n",
       "      <td>13.865799</td>\n",
       "      <td>Anserini</td>\n",
       "      <td>1</td>\n",
       "      <td>what are the characteristics of wool fibres</td>\n",
       "    </tr>\n",
       "    <tr>\n",
       "      <th>4</th>\n",
       "      <td>568182</td>\n",
       "      <td>what are the characteristics of wool fibres</td>\n",
       "      <td>Q0</td>\n",
       "      <td>msmarco_passage_62_547466749</td>\n",
       "      <td>5</td>\n",
       "      <td>13.793600</td>\n",
       "      <td>Anserini</td>\n",
       "      <td>1</td>\n",
       "      <td>what are the characteristics of wool fibres</td>\n",
       "    </tr>\n",
       "  </tbody>\n",
       "</table>\n",
       "</div>"
      ],
      "text/plain": [
       "   query_id                                        query used  \\\n",
       "0    568182  what are the characteristics of wool fibres   Q0   \n",
       "1    568182  what are the characteristics of wool fibres   Q0   \n",
       "2    568182  what are the characteristics of wool fibres   Q0   \n",
       "3    568182  what are the characteristics of wool fibres   Q0   \n",
       "4    568182  what are the characteristics of wool fibres   Q0   \n",
       "\n",
       "                     passage_id  rank      score  username  rel  \\\n",
       "0  msmarco_passage_62_547459701     1  16.102699  Anserini    1   \n",
       "1  msmarco_passage_21_588232716     2  14.784700  Anserini    1   \n",
       "2   msmarco_passage_11_97323294     3  13.865800  Anserini    1   \n",
       "3   msmarco_passage_68_54887603     4  13.865799  Anserini    1   \n",
       "4  msmarco_passage_62_547466749     5  13.793600  Anserini    1   \n",
       "\n",
       "                                 query_cleaned  \n",
       "0  what are the characteristics of wool fibres  \n",
       "1  what are the characteristics of wool fibres  \n",
       "2  what are the characteristics of wool fibres  \n",
       "3  what are the characteristics of wool fibres  \n",
       "4  what are the characteristics of wool fibres  "
      ]
     },
     "execution_count": 6,
     "metadata": {},
     "output_type": "execute_result"
    }
   ],
   "source": [
    "query_train.head()"
   ]
  },
  {
   "cell_type": "code",
   "execution_count": null,
   "metadata": {},
   "outputs": [
    {
     "data": {
      "text/html": [
       "<div>\n",
       "<style scoped>\n",
       "    .dataframe tbody tr th:only-of-type {\n",
       "        vertical-align: middle;\n",
       "    }\n",
       "\n",
       "    .dataframe tbody tr th {\n",
       "        vertical-align: top;\n",
       "    }\n",
       "\n",
       "    .dataframe thead th {\n",
       "        text-align: right;\n",
       "    }\n",
       "</style>\n",
       "<table border=\"1\" class=\"dataframe\">\n",
       "  <thead>\n",
       "    <tr style=\"text-align: right;\">\n",
       "      <th></th>\n",
       "      <th>passage_id</th>\n",
       "      <th>passage</th>\n",
       "      <th>passage_cleaned</th>\n",
       "      <th>passage_cleaned_lemmatized</th>\n",
       "    </tr>\n",
       "  </thead>\n",
       "  <tbody>\n",
       "    <tr>\n",
       "      <th>0</th>\n",
       "      <td>msmarco_passage_62_547459701</td>\n",
       "      <td>Table of Contents. Growth. Harvesting. Grading...</td>\n",
       "      <td>table of contents growth harvesting grading of...</td>\n",
       "      <td>table content growth harvesting grade wool fib...</td>\n",
       "    </tr>\n",
       "    <tr>\n",
       "      <th>1</th>\n",
       "      <td>msmarco_passage_21_588232716</td>\n",
       "      <td>A micron ( micrometre) is the measurement used...</td>\n",
       "      <td>a micron micrometre is the measurement used to...</td>\n",
       "      <td>micron micrometre measurement express diameter...</td>\n",
       "    </tr>\n",
       "    <tr>\n",
       "      <th>2</th>\n",
       "      <td>msmarco_passage_11_97323294</td>\n",
       "      <td>Objective measurements include diameter (micro...</td>\n",
       "      <td>objective measurements include diameter micron...</td>\n",
       "      <td>objective measurement include diameter micron ...</td>\n",
       "    </tr>\n",
       "    <tr>\n",
       "      <th>3</th>\n",
       "      <td>msmarco_passage_68_54887603</td>\n",
       "      <td>Objective measurements include diameter (micro...</td>\n",
       "      <td>objective measurements include diameter micron...</td>\n",
       "      <td>objective measurement include diameter micron ...</td>\n",
       "    </tr>\n",
       "    <tr>\n",
       "      <th>4</th>\n",
       "      <td>msmarco_passage_62_547466749</td>\n",
       "      <td>Summary of Characteristics of Wool Fibers. Woo...</td>\n",
       "      <td>summary of characteristics of wool fibers wool...</td>\n",
       "      <td>summary characteristic wool fiber wool protein...</td>\n",
       "    </tr>\n",
       "  </tbody>\n",
       "</table>\n",
       "</div>"
      ],
      "text/plain": [
       "                     passage_id  \\\n",
       "0  msmarco_passage_62_547459701   \n",
       "1  msmarco_passage_21_588232716   \n",
       "2   msmarco_passage_11_97323294   \n",
       "3   msmarco_passage_68_54887603   \n",
       "4  msmarco_passage_62_547466749   \n",
       "\n",
       "                                             passage  \\\n",
       "0  Table of Contents. Growth. Harvesting. Grading...   \n",
       "1  A micron ( micrometre) is the measurement used...   \n",
       "2  Objective measurements include diameter (micro...   \n",
       "3  Objective measurements include diameter (micro...   \n",
       "4  Summary of Characteristics of Wool Fibers. Woo...   \n",
       "\n",
       "                                     passage_cleaned  \\\n",
       "0  table of contents growth harvesting grading of...   \n",
       "1  a micron micrometre is the measurement used to...   \n",
       "2  objective measurements include diameter micron...   \n",
       "3  objective measurements include diameter micron...   \n",
       "4  summary of characteristics of wool fibers wool...   \n",
       "\n",
       "                          passage_cleaned_lemmatized  \n",
       "0  table content growth harvesting grade wool fib...  \n",
       "1  micron micrometre measurement express diameter...  \n",
       "2  objective measurement include diameter micron ...  \n",
       "3  objective measurement include diameter micron ...  \n",
       "4  summary characteristic wool fiber wool protein...  "
      ]
     },
     "execution_count": 7,
     "metadata": {},
     "output_type": "execute_result"
    }
   ],
   "source": [
    "passage_train.head()"
   ]
  },
  {
   "cell_type": "markdown",
   "metadata": {},
   "source": [
    "# Prepare model input for Training"
   ]
  },
  {
   "cell_type": "code",
   "execution_count": null,
   "metadata": {},
   "outputs": [
    {
     "name": "stdout",
     "output_type": "stream",
     "text": [
      "20000\n"
     ]
    },
    {
     "data": {
      "text/plain": [
       "[['what are the characteristics of wool fibres',\n",
       "  'Table of Contents. Growth. Harvesting. Grading of Wool Fibers. Properties of Wool Fibers. Application of Wool Fibers. Characteristics of Wool Fibers and Products. Summary of Characteristics of Wool Fibers. Of the major apparel fibres, wool is the most reusable and recyclable fibre on the planet.',\n",
       "  16.102699,\n",
       "  1],\n",
       " ['what are the characteristics of wool fibres',\n",
       "  'A micron ( micrometre) is the measurement used to express the diameter of wool fibre. Fine wool fibers have a low micron value. Fibre diameter is the most important characteristic of wool in determining its value.',\n",
       "  14.7847,\n",
       "  1],\n",
       " ['what are the characteristics of wool fibres',\n",
       "  'Objective measurements include diameter (micron), length, strength, position of break, vegetable matter and colour. AWEX-ID covers subjective characteristics. Diameter. Mean fibre diameter is a measurement in micrometres (microns) of the average diameter of wool fibres in a sale lot. Fibre diameter is responsible for 70-80 per cent of the greasy wool price over the long term.',\n",
       "  13.8658,\n",
       "  1]]"
      ]
     },
     "execution_count": 9,
     "metadata": {},
     "output_type": "execute_result"
    }
   ],
   "source": [
    "list_query_passage_score_rel_train = df_to_list(query_train, passage_train)\n",
    "print(len(list_query_passage_score_rel_train))\n",
    "list_query_passage_score_rel_train[0:3]"
   ]
  },
  {
   "cell_type": "markdown",
   "metadata": {},
   "source": [
    "# Prepare model input for Validation"
   ]
  },
  {
   "cell_type": "code",
   "execution_count": null,
   "metadata": {},
   "outputs": [],
   "source": [
    "def produce_evaluation_list(list_qid_eval, query_df, passage_df):\n",
    "\n",
    "    \"\"\"\n",
    "    This function create validation data\n",
    "    list_qid_eval: a list of query id that contains validation data\n",
    "    query_df: a pandas df that contains the query text\n",
    "    passage_df: a pandas df that contains the passage text\n",
    "\n",
    "    output: a list of dictionaries. \n",
    "    each dictionary is for a query and has 3 elements: {\"query\": query_text, \"positive\": {positive_passage_text1, positive_passage_text2, ...}\n",
    "    , \"negative\": {negative_passage_text1, negative_passage_text2, ...}\n",
    "\n",
    "    the output look like: [{\"query\": query_text, \"positive\": {positive_passage_text1, positive_passage_text2, ...}\n",
    "    , \"negative\": {negative_passage_text1, negative_passage_text2, ...}\n",
    "    , {\"query\": query_ext, \"positive\": {positive_passage_text1, positive_passage_text2, ...}\n",
    "    , \"negative\": {negative_passage_text1, negative_passage_text2, ...}\n",
    "    ...]\n",
    "    \"\"\"\n",
    "\n",
    "    list_eval = []\n",
    "\n",
    "    for qid in list_qid_eval:\n",
    "\n",
    "        # for each query (qid), create a dictionary\n",
    "        dev_samples = {}\n",
    "\n",
    "        # pandas df whose query_id = qid, rows contain all relavent and irrelavent passages\n",
    "        query_all_passage_subset = query_df[query_df[\"query_id\"] == qid]\n",
    "\n",
    "        # create the 3 elements for the dictionary\n",
    "        dev_samples[\"query\"] = query_all_passage_subset[\"query\"].iloc[0]\n",
    "        dev_samples[\"positive\"] = set()\n",
    "        dev_samples[\"negative\"] = set()\n",
    "\n",
    "        # for each qid, for loop each row which may contain relavent or irrelavent passages\n",
    "        for index, row in query_all_passage_subset.iterrows():\n",
    "            # if this row contains relavent passage, add the passage text to the value of \"positive\" key\n",
    "            if row['rel'] == 1:\n",
    "                dev_samples[\"positive\"].add(\n",
    "                    passage_df[passage_df['passage_id'] == row['passage_id']][\"passage\"].iloc[0])\n",
    "                \n",
    "            # if this row contains irrelavent passage, add the passage text to the value of \"negative\" key\n",
    "            elif row['rel'] == 0:\n",
    "                dev_samples[\"negative\"].add(\n",
    "                    passage_df[passage_df['passage_id'] == row['passage_id']][\"passage\"].iloc[0])\n",
    "                \n",
    "        # append the dictionary for each query to the final output list\n",
    "        list_eval.append(dev_samples)\n",
    "\n",
    "    return list_eval"
   ]
  },
  {
   "cell_type": "code",
   "execution_count": null,
   "metadata": {},
   "outputs": [
    {
     "name": "stdout",
     "output_type": "stream",
     "text": [
      "1000\n"
     ]
    },
    {
     "data": {
      "text/plain": [
       "[{'query': 'what is respiration controlled by',\n",
       "  'positive': {'2) What organelle is responsible for the process of Photosynthesis and respiration. 3) What raw materials is required for the process of photosynthesis and respiration. 4)What are the main usefull products needed for phtosynthesis and respiration. 5) Is energy given off during photosynthesis or respiration. 6) At what time does the process of photosynthesis and respiration occurs?',\n",
       "   'Controlling respiration is essential for properly keeping your produce. As long as the respiration process can continue, the fruits and vegetables can be kept well. Since the produce isn’t connected to roots or other parts of the plant anymore, it will not get any new nutrients, it will have to live of what it’s got.',\n",
       "   'Explain what respirable crystalline silica is and the health hazards associated with it. 3. Know the specific tasks in the workplace that could result in exposure to respirable crystalline silica. 4. Know the types of control measures and respiratory protection for respirable crystalline silica. 5.',\n",
       "   'Key Areas Covered. 1. What is Cellular Respiration. – Definition, Facts, types. 2. What is the Chemical Equation for Cellular Respiration. – Aerobic Respiration, Anaerobic Respiration. Key Terms: Aerobic Respiration, Anaerobic Respiration, ATP, Cellular Respiration, Glucose.',\n",
       "   \"Key Takeaways. Respirators are a last resort and should only be used if other control methods do not adequately mitigate respiratory hazards. Source: Baloncici / iStock. Respirators are a critical piece of personal protection equipment, and using the wrong type can have serious consequences. In this article, we'll go over the different types of respirators and what you need to know about each before deciding which is right for your workplace.\",\n",
       "   'Learning Objectives. Describe the neural mechanism of the respiratory center in respiration control. Involuntary respiration is any form of respiratory control that is not under direct, conscious control. Breathing is required to sustain life, so involuntary respiration allows it to happen when voluntary respiration is not possible, such as during sleep.',\n",
       "   'What Part of the Brain Controls Breathing. Let’s get to know What is Breathing and Respiration, before we get into ‘what part of the brain controls breathing’. We say we are ALIVE.',\n",
       "   'What are the advantages of anaerobic respiration over aerobic respiration? in anaerobic respiration energy lasts longer. What is anaerobic respiration and give two examples of anaerobic respiration? the mode of respiration in the absence of air ,more precisely\\noxygen is called anaerobic respiration.\\neg:-yeasts.',\n",
       "   'What are the two substances needed for cellular respiration? energy and oxygen. What are two reactants needed for cellular respiration? oxygen and glucose. What are the two major types of cellular respiration? the two main types of cellular respiration are aerobic cellular\\nrespiration and anaerobic cellular respiration.',\n",
       "   'soft and elastic. which part of the brain controls the involuntary action of respiration. medulla oblongata. when assessing respirations, what should be noted. abnormalitis in characteristics such as rate, rythm, and depth. what is the normal respiratory rate. 12-20.'},\n",
       "  'negative': {'Identifying ‘well-controlled’ and ‘not well-controlled’ asthma using the Asthma Control Questionnaire. Respir Med 2006; 100: 616- 621. Juniper EF, Gruffydd-Jones K, Ward S, Svensson K. Validation, measurement properties and interpretation of the Asthma Control Questionnaire in children. Eur Respir J 2010: 36: 1410-1416.',\n",
       "   'Overview. Respiration — or breathing — is primarily under the control of the autonomic or “automatic” nervous system — the part of the central nervous system that controls vital functions such as heartbeat and respiration without conscious thought.',\n",
       "   'Respiration vs. Aqua Affinity Minecraft. Respiration: it’s an armor enchantment. Aqua Affinity Minecraft: It’s an armor enchantment. Respiration: It may be applied to additional armor components using controls. Aqua Affinity Minecraft: It’s only for the helmet. Respiration: This helps boost breathing time submerged.',\n",
       "   'Respiratory System – Control of Respiration. 1. Identify where the inspiratory and expiratory centers are located in the medulla. a. Inspiratory ____________________. b. Expiratory ____________________. 2. What modifies these medullary centers?',\n",
       "   'The Dangers of How Fentanyl Affects the Brain. What fentanyl does to your brain not only explains why people feel high from it but also why it’s so dangerous. Your opioid receptors are responsible for controlling your respiration and rate of breathing. When you take a prescribed dose of fentanyl, it can slow down your respiration, but if you take higher doses, it can cause you to stop breathing.',\n",
       "   'What You Should Know in Deciding Whether to Buy Escape Hoods, Gas Masks, or Other Respirators for Preparedness at Home and Work. Some employers and consumers are considering purchasing escape hoods or other respirators to protect themselves against potential terrorist threats, including biological and chemical substances. This guidance will provide information on what respirators are, how they work, and what is needed for a respirator to provide protection.',\n",
       "   'What is a Respirator? Respirators are a set of devices that facilitate the respiration by purifying the air available for the respiration or by providing a source of air. The respirators that remove various contaminants from air and make air suitable for inspiration are called the air purifying respirators (APR).',\n",
       "   'What is cellular respiration and what happens during cellular respiration? Cellular respiration is the process by which cells use oxygen to produce energy from food. During cellular respiration, food (such as glucose) is broken down into CO2 (carbon dioxide) and H2O  (water) and energy is liberated, or freed.',\n",
       "   'oxygen plays a key role in both. What is the role of hydrogen atoms in cellular respiration? it helps the oxygen molecules bond together. What role does oxygen cellular respiration? O2 is the final acceptor in the electron transport chain. What is the role of fermentation in cellular respiration is to recycle what?'}},\n",
       " {'query': 'symptoms of peptic ulcer disease',\n",
       "  'positive': {'More questions related to this topic: Peptic ulcer disease (Stomach Ulcers) cause, symptoms. Peptic ulcer disease: background, anatomy, pathophysiology. Stomach ulcer: causes, symptoms & diagnosis. Peptic ulcer disease symptoms, treatment & diet.',\n",
       "   'Pain Characteristics. Causes of Peptic Ulcer. Peptic Ulcer vs Angina. Treatment Options. A common medical problem that is often mistaken for cardiac disease is peptic ulcer disease. Peptic ulcers often produce symptoms that can be a challenge to distinguish from angina or even the symptoms of a heart attack .',\n",
       "   'Peptic Ulcer Disease – Causes, Symptoms, Diagnosis and Treatment. Home » Gut & Liver » Peptic Ulcer Disease – Causes, Symptoms, Diagnosis and Treatment.',\n",
       "   'Peptic Ulcer Symptoms in Women. A peptic ulcer is a sore or erosion that develops in the gastrointestinal tract, and may or may not cause painful symptoms. These ulcers occur in both men and women, and affect about 4.6 million people every year. Peptic ulcers, or peptic ulcer disease (PUD) is a condition wherein ulcers are formed in the esophagus, stomach, and the duodenum lining.',\n",
       "   'Peptic Ulcers: Coping, Support, and Living Well. Digestive Health. Peptic Ulcer Disease. Peptic Ulcer Disease Guide. Peptic Ulcer Disease Guide. Symptoms. Causes. Diagnosis. Treatment.',\n",
       "   'References. National Institute of Diabetes and Digestive and Kidney Diseases, Symptoms and Causes of Peptic Ulcers (Stomach Ulcers), https://www.niddk.nih.gov/health-information/digestive-diseases/peptic-ulcers-stomach-ulcers/symptoms-causes. National Digestive Diseases Information Clearinghouse.',\n",
       "   \"Symptoms of Peptic Ulcer Disease. Symptoms of peptic ulcer disease can vary with the location of the ulcer and the person's age. For example, children, older people, and people whose ulcers were caused by NSAIDs may not have the usual symptoms or may have no symptoms at all.\",\n",
       "   'What are the symptoms of peptic ulcer disease? The most common symptom of peptic ulcer disease is pain that is burning or searing in nature and can be felt anywhere from the top of the sternum all the way down to the navel. Peptic ulcer or stomach ulcer pain can last from minutes to several hours, and can come and go for a few days to weeks.'},\n",
       "  'negative': {'Each case should be adjudicated on the evidence provided and its own merits. Objective confirmation of Helicobacter pylori is required. For NSAID s to cause or aggravate peptic ulcer disease, signs/symptoms of peptic ulcer disease should develop during the NSAID therapy or within 30 days of cessation of the therapy.',\n",
       "   'If left untreated, h. pylori can cause gastritis, peptic ulcer disease, or even stomach cancer. If your child has symptoms of an ulcer, call the doctor. The doctor may need to take X-rays or other tests. Peptic and duodenum ulcers may be treated with antibiotics.',\n",
       "   'It is not clear why some people with H. pylori get these conditions and others do not. This article discusses the symptoms, testing, and treatment of H. pylori infections. Stomach ulcers, also known as peptic ulcers, are discussed separately. (See \"Patient education: Peptic ulcer disease (Beyond the Basics)\" .)',\n",
       "   'Most patients with acute pancreatitis have acute onset of persistent, severe epigastric pain. — Peptic ulcer disease – Upper abdominal pain or discomfort is the most prominent symptom in patients with peptic ulcers. — Gastroesophageal reflux disease (GERD) – Most patients with GERD complain of heartburn, regurgitation, and dysphagia.',\n",
       "   'Other causes of peptic ulcer disease are overuse of painkillers, smoking, alcohol, and long-term stress. Peptic ulcers symptoms include burning chest pain that is uncomfortable (sometimes felt at the back), belching, vomiting, and nausea.',\n",
       "   'Other peptic ulcer disease symptoms include a sick feeling in your stomach, vomiting, burping, bloating, poor appetite, and weight loss. Even if you experience symptoms that are mild, it is possible that you have peptic ulcers, and you should immediately see a doctor as the condition could worsen if not treated soon.',\n",
       "   'Peptic Ulcer Symptom and Treatment: Shortness of breath in ulcer. Do you have any remedy for this problem? Shortness of breath is a symptom associated with peptic ulcer. If shortness of breath is happening due to ulcer, it is necessary to treat the main cause (peptic ulcer) rather than just the symptom (shortness of breath).',\n",
       "   'Peptic ulcer disease happens when the lining of your stomach or small intestine gets damaged due to a bacterial infection or by taking too much of certain medications, such as nonsteroidal anti-inflammatory drugs (NSAIDs) for pain relief. Common symptoms of peptic ulcer disease can include: nausea. vomiting.'}},\n",
       " {'query': 'diseases that cause hyperpigmentation',\n",
       "  'positive': {'Addison’s disease: Hyperpigmentation is a classic symptom of Addison’s disease, an endocrine disorder in which the adrenal glands fails to produce steroid hormone. The disease causes darkening of the skin in certain areas. 4. Cushing’s syndrome: The abnormal amount of cortisol in the human body causes a condition known as the Cushing’s syndrome. And one of the symptoms of the disorder is hyperpigmentation of the skin. 5.',\n",
       "   'As we have already talked about what is hyperpigmentation, let’s come to the causes of hyperpigmentation. From genetics to diet, lifestyle, different diseases and reaction of different medicinal products, there are loads of very common causes of hyperpigmentation.',\n",
       "   'Expand Section. Causes of hyperpigmentation include: Skin inflammation (post-inflammatory hyperpigmentation) Use of certain drugs (such as minocycline, certain cancer chemotherapies and birth control pills) Hormone system diseases such as Addison disease. Hemochromatosis (iron overload)',\n",
       "   \"Hyperpigmentation and Skin. Hyperpigmentation in skin is caused by an increase in melanin, the substance in the body that is responsible for color (pigment). Certain conditions, such as pregnancy or Addison's disease (decreased function of the adrenal gland), may cause a greater production of melanin and hyperpigmentation.\",\n",
       "   'Hyperpigmentation, disease and medication. Certain illnesses and medications are known to cause hyperpigmentation. Hyperpigmentation is also symptomatic of certain illnesses such as some autoimmune and gastrointestinal diseases, metabolic disorders and vitamin deficiencies.',\n",
       "   'Lastly, there are genetic diseases, especially ones that influence hormone production that can cause hyperpigmentation including celiac, Addison’s, Cushing’s, thyroid disease etc. Genetic causes of hyperpigmentation often require the help of more extreme hyperpigmentation treatments like laser.',\n",
       "   'Post Inflammatory Hyperpigmentation – Pictures, Treatment, Causes. Home » Diseases & Conditions » Post Inflammatory Hyperpigmentation – Pictures, Treatment, Causes.'},\n",
       "  'negative': {'Addison’s Disease: this is a condition caused due to less secretion from the Adrenal Glands. This can lead to Hyperpigmentation of the skin and gums. If the colour of your gums changes over a short period of time then kindly visit your dentist or physician to find out the cause and treat it accordingly.',\n",
       "   \"An increase in MSH will cause darker skin in humans too. MSH increases in humans during pregnancy. This, along with increased estrogens, causes increased pigmentation in pregnant women. Cushing's disease due to excess adrenocorticotropic hormone (ACTH) may also result in hyperpigmentation, such as acanthosis nigricans in the axilla.\",\n",
       "   'Causes of Hyperpigmentation in Dogs. The causes of hyperpigmentation vary greatly and are typically signs of larger medical concerns your dog is experiencing. Hypothyroidism – Up to 33% of dogs diagnosed with hypothyroidism showed signs of hyperpigmentation as one of their symptoms. Systemic Lupus Erythematosus – Some dogs diagnosed with lupus.',\n",
       "   'Dark spots can be caused by a number of things. Certain lifestyle choices such as one’s diet, sleeping patterns, and exposure to smoke and pollution contribute to skin imperfections, including dark spots. However, there are certain diseases and medications that do cause dark spots. Post-inflammatory hyperpigmentation is a common cause of dark circles due to acne and allergies.',\n",
       "   'In this article, I’ll work my way through everything you need to know about hyperpigmentation and dark spot removal, including hyperpigmentation causes, the different kinds of hyperpigmentation, and my favorite skin care products for treating hyperpigmentation.',\n",
       "   'Loss of elasticity, thickness, and moisture of vulval skin, resulting in genitourinary discomfort. Skin changes may also reflect the underlying cause of hypogonadism; for example, hyperpigmentation may be a sign of an autoimmune disease.',\n",
       "   'Malassezia furfur. Malassezia spp. are opportunistic pathogens that can be found on the skin as normal microbiota. Disease can occur as hypopigmentation or hyperpigmentation on the trunk of humans, in addition to causing dandruff and seborrheic dermatitis.',\n",
       "   'Post inflammatory hyperpigmentation is especially common in individuals with skin of color, and is one of the most common reasons they seek out a dermatologist. Post inflammatory hyperpigmentation is separate from melasma, another common sub-type of hyperpigmentation. Causes of Post Inflammatory Hyperpigmentation.',\n",
       "   'Severe hyperpigmentation happens when excess melanin forms deposits on the skin causing it to darken. Some known causes are: After a skin condition has cleared up (acne) Injuries to the skin. After effect of surgeries. Side-effects of certain medicine. Addision’s disease and Vitiligo.'}}]"
      ]
     },
     "execution_count": 14,
     "metadata": {},
     "output_type": "execute_result"
    }
   ],
   "source": [
    "list_eval = produce_evaluation_list(list_qid_eval = query_val[\"query_id\"].unique()\n",
    "                        , query_df = query_val\n",
    "                        , passage_df = passage_val\n",
    "                        )\n",
    "print(len(list_eval))\n",
    "list_eval[0:3]\n"
   ]
  },
  {
   "cell_type": "code",
   "execution_count": null,
   "metadata": {},
   "outputs": [
    {
     "name": "stdout",
     "output_type": "stream",
     "text": [
      "8 9\n",
      "8 9\n",
      "8 10\n",
      "9 7\n"
     ]
    }
   ],
   "source": [
    "# random check, ideally, for each of the qid out of the 1000 qid in val, there are ~10 positive passge and ~10 negative passage\n",
    "for i in [102, 695, 509, 807]:\n",
    "    print(len(list_eval[i]['positive']), len(list_eval[i]['negative']))"
   ]
  },
  {
   "cell_type": "code",
   "execution_count": null,
   "metadata": {},
   "outputs": [
    {
     "data": {
      "text/plain": [
       "<sentence_transformers.cross_encoder.evaluation.CERerankingEvaluator.CERerankingEvaluator at 0x7f05fa08c750>"
      ]
     },
     "execution_count": 30,
     "metadata": {},
     "output_type": "execute_result"
    }
   ],
   "source": [
    "evaluator = CERerankingEvaluator(list_eval, name=\"train-eval\")\n",
    "evaluator\n"
   ]
  },
  {
   "cell_type": "markdown",
   "metadata": {},
   "source": [
    "# Load in pretrained model"
   ]
  },
  {
   "cell_type": "code",
   "execution_count": null,
   "metadata": {},
   "outputs": [
    {
     "name": "stdout",
     "output_type": "stream",
     "text": [
      "output/training_ms-marco_cross-encoder-cross-encoder-stsb-TinyBERT-L-4-2024-04-20_13-42-13\n"
     ]
    }
   ],
   "source": [
    "# note that sbert provides some pretrained cross encoder model, but some are learned from msmarco dataset: https://huggingface.co/cross-encoder\n",
    "# here I am using a bert model that is not pertrained using msmarco dataset to avoid the possibility of leaking info to the Test set\n",
    "\n",
    "model_name = \"cross-encoder/stsb-TinyBERT-L-4\"#\"distilroberta-base\"\n",
    "\n",
    "model_save_path = (\n",
    "    \"output/training_ms-marco_cross-encoder-\"\n",
    "    + model_name.replace(\"/\", \"-\")\n",
    "    + \"-\"\n",
    "    + datetime.now().strftime(\"%Y-%m-%d_%H-%M-%S\")\n",
    ")\n",
    "print(model_save_path)"
   ]
  },
  {
   "cell_type": "code",
   "execution_count": null,
   "metadata": {},
   "outputs": [
    {
     "data": {
      "application/vnd.jupyter.widget-view+json": {
       "model_id": "24f9d4ad90704ef680c204866ae10d49",
       "version_major": 2,
       "version_minor": 0
      },
      "text/plain": [
       "config.json:   0%|          | 0.00/647 [00:00<?, ?B/s]"
      ]
     },
     "metadata": {},
     "output_type": "display_data"
    },
    {
     "data": {
      "application/vnd.jupyter.widget-view+json": {
       "model_id": "3242c7ffa9da445ba575d6486d9447b9",
       "version_major": 2,
       "version_minor": 0
      },
      "text/plain": [
       "pytorch_model.bin:   0%|          | 0.00/57.4M [00:00<?, ?B/s]"
      ]
     },
     "metadata": {},
     "output_type": "display_data"
    },
    {
     "name": "stderr",
     "output_type": "stream",
     "text": [
      "/home/lingling/project/enter/lib/python3.11/site-packages/torch/_utils.py:776: UserWarning: TypedStorage is deprecated. It will be removed in the future and UntypedStorage will be the only storage class. This should only matter to you if you are using storages directly.  To access UntypedStorage directly, use tensor.untyped_storage() instead of tensor.storage()\n",
      "  return self.fget.__get__(instance, owner)()\n"
     ]
    },
    {
     "data": {
      "application/vnd.jupyter.widget-view+json": {
       "model_id": "e459b1c29cf34427be57c0401a5c6a95",
       "version_major": 2,
       "version_minor": 0
      },
      "text/plain": [
       "tokenizer_config.json:   0%|          | 0.00/517 [00:00<?, ?B/s]"
      ]
     },
     "metadata": {},
     "output_type": "display_data"
    },
    {
     "data": {
      "application/vnd.jupyter.widget-view+json": {
       "model_id": "b580bd59006d475195c9c395ed88f7b4",
       "version_major": 2,
       "version_minor": 0
      },
      "text/plain": [
       "vocab.txt:   0%|          | 0.00/232k [00:00<?, ?B/s]"
      ]
     },
     "metadata": {},
     "output_type": "display_data"
    },
    {
     "data": {
      "application/vnd.jupyter.widget-view+json": {
       "model_id": "c21ede174c5b4139aae876fa22be1f60",
       "version_major": 2,
       "version_minor": 0
      },
      "text/plain": [
       "special_tokens_map.json:   0%|          | 0.00/112 [00:00<?, ?B/s]"
      ]
     },
     "metadata": {},
     "output_type": "display_data"
    },
    {
     "name": "stdout",
     "output_type": "stream",
     "text": [
      "2024-04-20 13:42:17 - Use pytorch device: cpu\n"
     ]
    },
    {
     "data": {
      "text/plain": [
       "<sentence_transformers.cross_encoder.CrossEncoder.CrossEncoder at 0x7f05fb097a10>"
      ]
     },
     "execution_count": 23,
     "metadata": {},
     "output_type": "execute_result"
    }
   ],
   "source": [
    "# for parameters, reference https://github.com/UKPLab/sentence-transformers/blob/master/sentence_transformers/cross_encoder/CrossEncoder.py\n",
    "model = CrossEncoder(model_name\n",
    "                     , num_labels=1 #outputs a continuous score, for regression or binary classification\n",
    "                     )\n",
    "model"
   ]
  },
  {
   "cell_type": "markdown",
   "metadata": {},
   "source": [
    "# Fine tune the model using Train and Validation sets"
   ]
  },
  {
   "cell_type": "code",
   "execution_count": null,
   "metadata": {},
   "outputs": [],
   "source": [
    "train_sample = []\n",
    "for list in list_query_passage_score_rel_train:\n",
    "    train_sample.append(InputExample(texts=[list[0], list[1]], label = list[3]))\n",
    "\n",
    "train_dataloader = DataLoader(train_sample, shuffle=True, batch_size=train_batch_size)\n",
    "print(len(train_dataloader))\n",
    "train_dataloader"
   ]
  },
  {
   "cell_type": "code",
   "execution_count": null,
   "metadata": {},
   "outputs": [
    {
     "name": "stdout",
     "output_type": "stream",
     "text": [
      "2024-04-20 13:54:30 - Warmup-steps: 5000\n"
     ]
    },
    {
     "name": "stderr",
     "output_type": "stream",
     "text": [
      "/home/lingling/project/enter/lib/python3.11/site-packages/torch/cuda/amp/grad_scaler.py:120: UserWarning: torch.cuda.amp.GradScaler is enabled, but CUDA is not available.  Disabling.\n",
      "  warnings.warn(\"torch.cuda.amp.GradScaler is enabled, but CUDA is not available.  Disabling.\")\n"
     ]
    },
    {
     "data": {
      "application/vnd.jupyter.widget-view+json": {
       "model_id": "2dc5692ff4b64f228d7ed8d2edb3fdc9",
       "version_major": 2,
       "version_minor": 0
      },
      "text/plain": [
       "Epoch:   0%|          | 0/1 [00:00<?, ?it/s]"
      ]
     },
     "metadata": {},
     "output_type": "display_data"
    },
    {
     "data": {
      "application/vnd.jupyter.widget-view+json": {
       "model_id": "cbaf0c709e044296bbd5f6b4d196aadb",
       "version_major": 2,
       "version_minor": 0
      },
      "text/plain": [
       "Iteration:   0%|          | 0/667 [00:00<?, ?it/s]"
      ]
     },
     "metadata": {},
     "output_type": "display_data"
    },
    {
     "name": "stdout",
     "output_type": "stream",
     "text": [
      "2024-04-20 21:31:02 - CERerankingEvaluator: Evaluating the model on train-eval dataset after epoch 0:\n",
      "2024-04-20 21:32:14 - Queries: 1000 \t Positives: Min 1.0, Mean 8.9, Max 10.0 \t Negatives: Min 1.0, Mean 8.8, Max 10.0\n",
      "2024-04-20 21:32:14 - MRR@10: 94.30\n",
      "2024-04-20 21:32:14 - NDCG@10: 81.86\n",
      "2024-04-20 21:32:14 - Save model to output/training_ms-marco_cross-encoder-cross-encoder-stsb-TinyBERT-L-4-2024-04-20_13-42-13\n"
     ]
    }
   ],
   "source": [
    "\n",
    "logging.info(\"Warmup-steps: {}\".format(warmup_steps))\n",
    "\n",
    "# Train the model\n",
    "model.fit(\n",
    "    train_dataloader=train_dataloader,\n",
    "    evaluator=evaluator,\n",
    "    epochs=num_epochs,\n",
    "    #If > 0, evaluate the model using evaluator after each number of training steps\n",
    "    evaluation_steps=10000,\n",
    "    warmup_steps=warmup_steps,\n",
    "    output_path=model_save_path,\n",
    "    use_amp=True,\n",
    ")\n"
   ]
  },
  {
   "cell_type": "markdown",
   "metadata": {},
   "source": [
    "# Prepare input for Test Set's Inference"
   ]
  },
  {
   "cell_type": "code",
   "execution_count": null,
   "metadata": {},
   "outputs": [],
   "source": [
    "# # from pandas df to list of list\n",
    "# list_query_passage_score_rel_test = df_to_list(query_test, passage_test)\n",
    "\n",
    "# test_sample = []\n",
    "# for list in list_query_passage_score_rel_test:\n",
    "#     test_sample.append(InputExample(texts=[list[0], list[1]], label = list[3]))\n",
    "\n",
    "# print(len(test_sample))\n",
    "# test_sample[:3]"
   ]
  },
  {
   "cell_type": "code",
   "execution_count": 24,
   "metadata": {},
   "outputs": [],
   "source": [
    "def create_data_for_inference(query_df, passage_df):\n",
    "    \"\"\"\n",
    "    # this function for loop each query, create list_query_passage (a list of list) for every query: [[query1, passage1], [query1, passage2] ....]\n",
    "    # then pass this query's list_query_passage to model to make prediction, each query will return a score (list): [score1, score2, score3 ....]\n",
    "    # the ouput dict_qid_all_prediction is a dictionary that append all query's list_score: {qid1: [score1, score2, score3 ....]}\n",
    "    # the ouput dict_qid_pid_true is a dictionary that append all query's True ranked qassage {qid1: [pid1, pid2, ..., pid of topn]}\n",
    "    \"\"\"\n",
    "\n",
    "    # create a list of list for all queries [[query1, passage1], [query1, passage2]..., [query2, passage1], [query2, passage2]..., ]\n",
    "    # This would be used to fit into model to make prediction\n",
    "    list_query_passage = []\n",
    "\n",
    "\n",
    "    # create a list of list for all queries [[qid1, pid1], [qid1, pid2]..., [qid2, pid1], [qid2, pid2]..., ]\n",
    "    # This would be used to collect and sort model prediction\n",
    "    list_qid_all_pid = []\n",
    "\n",
    "    # create a dict of dict for all queries {qid1: {pid1: rel, pid2: rel, ...}, qid2: {pid1: rel, pid2: rel, ...}, }\n",
    "    # This would be used to evaluate model prediction\n",
    "    dict_of_dict_qid_pid_rel = {}\n",
    "\n",
    "    # iterate over all qid\n",
    "    list_qid = query_df[\"query_id\"].unique()\n",
    "    for qid in list_qid:\n",
    "\n",
    "        \n",
    "        # get the rows that contains the qid, pid, score, rel for this qid\n",
    "        query_df_subset = query_df[query_df['query_id'] == qid]\n",
    "        \n",
    "        # iterate over all pid\n",
    "        for index, row in query_df_subset.iterrows():\n",
    "            \n",
    "            # create a list of 2 elements [query, passage]\n",
    "            list = []\n",
    "            list.append(row['query'])\n",
    "\n",
    "            # get the only 1 row that contains the passage text in passage_df and whose pid matches the row's pid\n",
    "            list.append(passage_df[passage_df['passage_id'] == row['passage_id']][\"passage\"].iloc[0]) # get passage value\n",
    "\n",
    "            # append all lists of 2 elements of all queries into one list\n",
    "            list_query_passage.append(list)\n",
    "\n",
    "            # append the sublist. Each sublist is the [qid, pid] of the query\n",
    "            list_qid_all_pid.append([row['query_id'], passage_df[passage_df['passage_id'] == row['passage_id']]['passage_id'].iloc[0]])\n",
    "\n",
    "        \n",
    "        \n",
    "        # for this query, create a dictionary of Y true - each key is a pid, each value is the relavence (1 or 0) of the passage {pid1: 1, pid2, 0, ....}\n",
    "        dict_pid_rel = pd.Series(query_df_subset['rel'].values, index = query_df_subset['passage_id']).to_dict()\n",
    "\n",
    "        # append the dict of this query to the dict for all queries \n",
    "        dict_of_dict_qid_pid_rel[qid] = dict_pid_rel\n",
    "\n",
    "    return list_query_passage, list_qid_all_pid, dict_of_dict_qid_pid_rel"
   ]
  },
  {
   "cell_type": "code",
   "execution_count": 25,
   "metadata": {},
   "outputs": [],
   "source": [
    "list_query_passage, list_qid_all_pid, dict_of_dict_qid_pid_rel = create_data_for_inference(query_test, passage_test)"
   ]
  },
  {
   "cell_type": "code",
   "execution_count": 26,
   "metadata": {},
   "outputs": [
    {
     "name": "stdout",
     "output_type": "stream",
     "text": [
      "20000\n",
      "['him functions to the paper health record', 'This information can be either paper-based, a combination of paper and digital (hybrid) or as is more often the case, a fully electronic health record (EHR). HIM professionals are using advanced technology as they perform most HIM-related functions.']\n",
      "['what does the word element cyte mean', 'What does -cyte mean? The combining form -cyte is used like a suffix meaning “cell.”. It is often used in medical and scientific terms, especially to name different types of cells. The form -cyte comes from the Greek kýtos, meaning “container,” “receptacle,” “body.”.']\n",
      "20000\n",
      "2\n",
      "[203324, 'msmarco_passage_49_115778700']\n",
      "1000\n",
      "20\n",
      "{'msmarco_passage_49_115778700': 1, 'msmarco_passage_26_450017756': 1, 'msmarco_passage_19_202396335': 1, 'msmarco_passage_28_623516004': 1, 'msmarco_passage_02_47181174': 1, 'msmarco_passage_02_47511835': 1, 'msmarco_passage_11_636220699': 1, 'msmarco_passage_41_133447691': 1, 'msmarco_passage_58_723159152': 1, 'msmarco_passage_24_583711786': 1, 'msmarco_passage_18_714845189': 0, 'msmarco_passage_59_733040871': 0, 'msmarco_passage_65_238890762': 0, 'msmarco_passage_17_178380607': 0, 'msmarco_passage_61_103079366': 0, 'msmarco_passage_07_257313185': 0, 'msmarco_passage_53_560231782': 0, 'msmarco_passage_16_326265100': 0, 'msmarco_passage_16_326272763': 0, 'msmarco_passage_02_835063630': 0}\n"
     ]
    }
   ],
   "source": [
    "\n",
    "# check\n",
    "print(len(list_query_passage))\n",
    "print(list_query_passage[0])\n",
    "print(list_query_passage[1000])\n",
    "\n",
    "print(len(list_qid_all_pid))\n",
    "print(len(list_qid_all_pid[0]))\n",
    "print(list_qid_all_pid[0])\n",
    "\n",
    "print(len(dict_of_dict_qid_pid_rel))\n",
    "print(len(dict_of_dict_qid_pid_rel[203324]))\n",
    "print(dict_of_dict_qid_pid_rel[203324])"
   ]
  },
  {
   "cell_type": "markdown",
   "metadata": {},
   "source": [
    "# Predict on Test set"
   ]
  },
  {
   "cell_type": "code",
   "execution_count": null,
   "metadata": {},
   "outputs": [],
   "source": [
    "#Load model \n",
    "model_save_path = \"output/training_ms-marco_cross-encoder-cross-encoder-stsb-TinyBERT-L-4-2024-04-20_13-42-13\"\n",
    "model = CrossEncoder(model_save_path)"
   ]
  },
  {
   "cell_type": "code",
   "execution_count": 29,
   "metadata": {},
   "outputs": [],
   "source": [
    "# predict \n",
    "list_score = model.predict(list_query_passage)\n"
   ]
  },
  {
   "cell_type": "code",
   "execution_count": 66,
   "metadata": {},
   "outputs": [
    {
     "name": "stdout",
     "output_type": "stream",
     "text": [
      "(20000, 3)\n"
     ]
    }
   ],
   "source": [
    "test_with_pred = pd.DataFrame(list_qid_all_pid, columns = ['query_id', 'passage_id'])\n",
    "test_with_pred['predicted_score'] = list_score\n",
    "test_with_pred.sort_values(by=['query_id', 'predicted_score'], ascending = False, inplace = True)\n",
    "test_with_pred.to_csv(\"./output/test_prediction_TinyBERT-L-4-2024-04-20.csv\"\n",
    "                                       , index = False)\n",
    "print(test_with_pred.shape)"
   ]
  },
  {
   "cell_type": "code",
   "execution_count": 49,
   "metadata": {},
   "outputs": [
    {
     "data": {
      "text/html": [
       "<div>\n",
       "<style scoped>\n",
       "    .dataframe tbody tr th:only-of-type {\n",
       "        vertical-align: middle;\n",
       "    }\n",
       "\n",
       "    .dataframe tbody tr th {\n",
       "        vertical-align: top;\n",
       "    }\n",
       "\n",
       "    .dataframe thead th {\n",
       "        text-align: right;\n",
       "    }\n",
       "</style>\n",
       "<table border=\"1\" class=\"dataframe\">\n",
       "  <thead>\n",
       "    <tr style=\"text-align: right;\">\n",
       "      <th></th>\n",
       "      <th>query_id</th>\n",
       "      <th>passage_id</th>\n",
       "      <th>predicted_score</th>\n",
       "    </tr>\n",
       "  </thead>\n",
       "  <tbody>\n",
       "    <tr>\n",
       "      <th>10360</th>\n",
       "      <td>1183224</td>\n",
       "      <td>msmarco_passage_64_307501210</td>\n",
       "      <td>0.902275</td>\n",
       "    </tr>\n",
       "    <tr>\n",
       "      <th>10372</th>\n",
       "      <td>1183224</td>\n",
       "      <td>msmarco_passage_03_2856732</td>\n",
       "      <td>0.737706</td>\n",
       "    </tr>\n",
       "    <tr>\n",
       "      <th>10361</th>\n",
       "      <td>1183224</td>\n",
       "      <td>msmarco_passage_01_536296949</td>\n",
       "      <td>0.688284</td>\n",
       "    </tr>\n",
       "    <tr>\n",
       "      <th>10362</th>\n",
       "      <td>1183224</td>\n",
       "      <td>msmarco_passage_06_770443306</td>\n",
       "      <td>0.688284</td>\n",
       "    </tr>\n",
       "    <tr>\n",
       "      <th>10366</th>\n",
       "      <td>1183224</td>\n",
       "      <td>msmarco_passage_48_764103270</td>\n",
       "      <td>0.688284</td>\n",
       "    </tr>\n",
       "    <tr>\n",
       "      <th>10367</th>\n",
       "      <td>1183224</td>\n",
       "      <td>msmarco_passage_48_800555103</td>\n",
       "      <td>0.688284</td>\n",
       "    </tr>\n",
       "    <tr>\n",
       "      <th>10378</th>\n",
       "      <td>1183224</td>\n",
       "      <td>msmarco_passage_37_349325721</td>\n",
       "      <td>0.670941</td>\n",
       "    </tr>\n",
       "    <tr>\n",
       "      <th>10368</th>\n",
       "      <td>1183224</td>\n",
       "      <td>msmarco_passage_27_266644928</td>\n",
       "      <td>0.640532</td>\n",
       "    </tr>\n",
       "    <tr>\n",
       "      <th>10371</th>\n",
       "      <td>1183224</td>\n",
       "      <td>msmarco_passage_01_493126868</td>\n",
       "      <td>0.614931</td>\n",
       "    </tr>\n",
       "    <tr>\n",
       "      <th>10369</th>\n",
       "      <td>1183224</td>\n",
       "      <td>msmarco_passage_48_449276269</td>\n",
       "      <td>0.610131</td>\n",
       "    </tr>\n",
       "    <tr>\n",
       "      <th>10363</th>\n",
       "      <td>1183224</td>\n",
       "      <td>msmarco_passage_25_322137693</td>\n",
       "      <td>0.608320</td>\n",
       "    </tr>\n",
       "    <tr>\n",
       "      <th>10364</th>\n",
       "      <td>1183224</td>\n",
       "      <td>msmarco_passage_25_322151896</td>\n",
       "      <td>0.608320</td>\n",
       "    </tr>\n",
       "    <tr>\n",
       "      <th>10365</th>\n",
       "      <td>1183224</td>\n",
       "      <td>msmarco_passage_25_322155605</td>\n",
       "      <td>0.608320</td>\n",
       "    </tr>\n",
       "    <tr>\n",
       "      <th>10370</th>\n",
       "      <td>1183224</td>\n",
       "      <td>msmarco_passage_39_120773224</td>\n",
       "      <td>0.592249</td>\n",
       "    </tr>\n",
       "    <tr>\n",
       "      <th>10379</th>\n",
       "      <td>1183224</td>\n",
       "      <td>msmarco_passage_15_272642271</td>\n",
       "      <td>0.586578</td>\n",
       "    </tr>\n",
       "    <tr>\n",
       "      <th>10373</th>\n",
       "      <td>1183224</td>\n",
       "      <td>msmarco_passage_09_689048460</td>\n",
       "      <td>0.543147</td>\n",
       "    </tr>\n",
       "    <tr>\n",
       "      <th>10376</th>\n",
       "      <td>1183224</td>\n",
       "      <td>msmarco_passage_61_527867091</td>\n",
       "      <td>0.543147</td>\n",
       "    </tr>\n",
       "    <tr>\n",
       "      <th>10374</th>\n",
       "      <td>1183224</td>\n",
       "      <td>msmarco_passage_48_721956358</td>\n",
       "      <td>0.461753</td>\n",
       "    </tr>\n",
       "    <tr>\n",
       "      <th>10375</th>\n",
       "      <td>1183224</td>\n",
       "      <td>msmarco_passage_48_763784628</td>\n",
       "      <td>0.416012</td>\n",
       "    </tr>\n",
       "    <tr>\n",
       "      <th>10377</th>\n",
       "      <td>1183224</td>\n",
       "      <td>msmarco_passage_36_754635695</td>\n",
       "      <td>0.387758</td>\n",
       "    </tr>\n",
       "  </tbody>\n",
       "</table>\n",
       "</div>"
      ],
      "text/plain": [
       "       query_id                    passage_id  predicted_score\n",
       "10360   1183224  msmarco_passage_64_307501210         0.902275\n",
       "10372   1183224    msmarco_passage_03_2856732         0.737706\n",
       "10361   1183224  msmarco_passage_01_536296949         0.688284\n",
       "10362   1183224  msmarco_passage_06_770443306         0.688284\n",
       "10366   1183224  msmarco_passage_48_764103270         0.688284\n",
       "10367   1183224  msmarco_passage_48_800555103         0.688284\n",
       "10378   1183224  msmarco_passage_37_349325721         0.670941\n",
       "10368   1183224  msmarco_passage_27_266644928         0.640532\n",
       "10371   1183224  msmarco_passage_01_493126868         0.614931\n",
       "10369   1183224  msmarco_passage_48_449276269         0.610131\n",
       "10363   1183224  msmarco_passage_25_322137693         0.608320\n",
       "10364   1183224  msmarco_passage_25_322151896         0.608320\n",
       "10365   1183224  msmarco_passage_25_322155605         0.608320\n",
       "10370   1183224  msmarco_passage_39_120773224         0.592249\n",
       "10379   1183224  msmarco_passage_15_272642271         0.586578\n",
       "10373   1183224  msmarco_passage_09_689048460         0.543147\n",
       "10376   1183224  msmarco_passage_61_527867091         0.543147\n",
       "10374   1183224  msmarco_passage_48_721956358         0.461753\n",
       "10375   1183224  msmarco_passage_48_763784628         0.416012\n",
       "10377   1183224  msmarco_passage_36_754635695         0.387758"
      ]
     },
     "metadata": {},
     "output_type": "display_data"
    }
   ],
   "source": [
    "# check\n",
    "display(test_with_pred[test_with_pred[\"query_id\"] == 1183224])"
   ]
  },
  {
   "cell_type": "markdown",
   "metadata": {},
   "source": [
    "# Plot distribution of predicted score"
   ]
  },
  {
   "cell_type": "code",
   "execution_count": 64,
   "metadata": {},
   "outputs": [
    {
     "data": {
      "text/plain": [
       "(array([216., 194., 202., 186., 176., 192., 197., 234., 245., 227., 275.,\n",
       "        291., 285., 340., 333., 336., 361., 422., 446., 469., 481., 587.,\n",
       "        602., 606., 628., 700., 659., 668., 801., 711., 791., 786., 836.,\n",
       "        820., 747., 666., 687., 586., 599., 435., 337., 253., 156.,  88.,\n",
       "         45.,  58.,  26.,  11.,   2.,   1.]),\n",
       " array([0.02170377, 0.0405684 , 0.05943304, 0.07829767, 0.09716231,\n",
       "        0.11602694, 0.13489157, 0.15375622, 0.17262085, 0.19148548,\n",
       "        0.21035011, 0.22921474, 0.24807937, 0.26694402, 0.28580865,\n",
       "        0.30467328, 0.32353792, 0.34240255, 0.36126718, 0.38013181,\n",
       "        0.39899644, 0.41786107, 0.43672574, 0.45559037, 0.474455  ,\n",
       "        0.49331963, 0.51218426, 0.53104889, 0.54991353, 0.56877816,\n",
       "        0.58764279, 0.60650742, 0.62537205, 0.64423668, 0.66310132,\n",
       "        0.68196595, 0.70083058, 0.71969521, 0.73855984, 0.75742453,\n",
       "        0.77628917, 0.7951538 , 0.81401843, 0.83288306, 0.85174769,\n",
       "        0.87061232, 0.88947695, 0.90834159, 0.92720622, 0.94607085,\n",
       "        0.96493548]),\n",
       " <BarContainer object of 50 artists>)"
      ]
     },
     "execution_count": 64,
     "metadata": {},
     "output_type": "execute_result"
    },
    {
     "data": {
      "image/png": "[encoded data removed]",
      "text/plain": [
       "<Figure size 640x480 with 1 Axes>"
      ]
     },
     "metadata": {},
     "output_type": "display_data"
    }
   ],
   "source": [
    "plt.hist(test_with_pred[\"predicted_score\"], color='lightgreen', ec='black', bins=50)"
   ]
  },
  {
   "cell_type": "markdown",
   "metadata": {},
   "source": [
    "# Evaluate using MRR@10"
   ]
  },
  {
   "cell_type": "code",
   "execution_count": 50,
   "metadata": {},
   "outputs": [],
   "source": [
    "dict_qid_all_pid_prediction = {}\n",
    "\n",
    "for qid, group in test_with_pred.groupby('query_id'):\n",
    "    dict_qid_all_pid_prediction[qid] = group['passage_id'].values.tolist()"
   ]
  },
  {
   "cell_type": "code",
   "execution_count": 51,
   "metadata": {},
   "outputs": [
    {
     "name": "stdout",
     "output_type": "stream",
     "text": [
      "MRR@10:  0.946619047619048\n"
     ]
    }
   ],
   "source": [
    "\n",
    "topn = 10\n",
    "mrr = 0.0\n",
    "qids = []\n",
    "rrs = []\n",
    "\n",
    "# iterate over all the qid (keys in the dictionary)\n",
    "for qid in dict_qid_all_pid_prediction:\n",
    "\n",
    "    rr = 0.0\n",
    "    \n",
    "    # iterate over all the element of topn pid [pid1, pid2, ... pid topn]\n",
    "    for i, pid in enumerate(dict_qid_all_pid_prediction[qid][: topn + 1]):\n",
    "\n",
    "        # check if the pid has relenvace > 0\n",
    "        if qid in dict_of_dict_qid_pid_rel and pid in dict_of_dict_qid_pid_rel[qid] and dict_of_dict_qid_pid_rel[qid][pid] > 0:\n",
    "        \n",
    "            rr = 1 / (i+1)\n",
    "        \n",
    "            break\n",
    "    qids.append(qid)\n",
    "    rrs.append(rr)\n",
    "    mrr += rr\n",
    "mrr /= len(dict_qid_all_pid_prediction)\n",
    "print(\"MRR@10: \", mrr)"
   ]
  },
  {
   "cell_type": "markdown",
   "metadata": {},
   "source": [
    "# Evaluate using MAP@10"
   ]
  },
  {
   "cell_type": "code",
   "execution_count": 65,
   "metadata": {},
   "outputs": [
    {
     "name": "stdout",
     "output_type": "stream",
     "text": [
      "(20000, 9)\n",
      "(20000, 3)\n",
      "(20000, 10)\n"
     ]
    },
    {
     "data": {
      "text/html": [
       "<div>\n",
       "<style scoped>\n",
       "    .dataframe tbody tr th:only-of-type {\n",
       "        vertical-align: middle;\n",
       "    }\n",
       "\n",
       "    .dataframe tbody tr th {\n",
       "        vertical-align: top;\n",
       "    }\n",
       "\n",
       "    .dataframe thead th {\n",
       "        text-align: right;\n",
       "    }\n",
       "</style>\n",
       "<table border=\"1\" class=\"dataframe\">\n",
       "  <thead>\n",
       "    <tr style=\"text-align: right;\">\n",
       "      <th></th>\n",
       "      <th>query_id</th>\n",
       "      <th>query</th>\n",
       "      <th>used</th>\n",
       "      <th>passage_id</th>\n",
       "      <th>rank</th>\n",
       "      <th>score</th>\n",
       "      <th>username</th>\n",
       "      <th>rel</th>\n",
       "      <th>query_cleaned</th>\n",
       "      <th>predicted_score</th>\n",
       "    </tr>\n",
       "  </thead>\n",
       "  <tbody>\n",
       "    <tr>\n",
       "      <th>0</th>\n",
       "      <td>203324</td>\n",
       "      <td>him functions to the paper health record</td>\n",
       "      <td>Q0</td>\n",
       "      <td>msmarco_passage_49_115778700</td>\n",
       "      <td>1</td>\n",
       "      <td>13.2671</td>\n",
       "      <td>Anserini</td>\n",
       "      <td>1</td>\n",
       "      <td>him functions to the paper health record</td>\n",
       "      <td>0.572222</td>\n",
       "    </tr>\n",
       "    <tr>\n",
       "      <th>1</th>\n",
       "      <td>203324</td>\n",
       "      <td>him functions to the paper health record</td>\n",
       "      <td>Q0</td>\n",
       "      <td>msmarco_passage_26_450017756</td>\n",
       "      <td>2</td>\n",
       "      <td>11.8537</td>\n",
       "      <td>Anserini</td>\n",
       "      <td>1</td>\n",
       "      <td>him functions to the paper health record</td>\n",
       "      <td>0.512837</td>\n",
       "    </tr>\n",
       "    <tr>\n",
       "      <th>2</th>\n",
       "      <td>203324</td>\n",
       "      <td>him functions to the paper health record</td>\n",
       "      <td>Q0</td>\n",
       "      <td>msmarco_passage_19_202396335</td>\n",
       "      <td>3</td>\n",
       "      <td>11.2738</td>\n",
       "      <td>Anserini</td>\n",
       "      <td>1</td>\n",
       "      <td>him functions to the paper health record</td>\n",
       "      <td>0.457086</td>\n",
       "    </tr>\n",
       "    <tr>\n",
       "      <th>3</th>\n",
       "      <td>203324</td>\n",
       "      <td>him functions to the paper health record</td>\n",
       "      <td>Q0</td>\n",
       "      <td>msmarco_passage_28_623516004</td>\n",
       "      <td>4</td>\n",
       "      <td>11.0361</td>\n",
       "      <td>Anserini</td>\n",
       "      <td>1</td>\n",
       "      <td>him functions to the paper health record</td>\n",
       "      <td>0.592055</td>\n",
       "    </tr>\n",
       "    <tr>\n",
       "      <th>4</th>\n",
       "      <td>203324</td>\n",
       "      <td>him functions to the paper health record</td>\n",
       "      <td>Q0</td>\n",
       "      <td>msmarco_passage_02_47181174</td>\n",
       "      <td>5</td>\n",
       "      <td>10.9476</td>\n",
       "      <td>Anserini</td>\n",
       "      <td>1</td>\n",
       "      <td>him functions to the paper health record</td>\n",
       "      <td>0.542745</td>\n",
       "    </tr>\n",
       "  </tbody>\n",
       "</table>\n",
       "</div>"
      ],
      "text/plain": [
       "   query_id                                     query used  \\\n",
       "0    203324  him functions to the paper health record   Q0   \n",
       "1    203324  him functions to the paper health record   Q0   \n",
       "2    203324  him functions to the paper health record   Q0   \n",
       "3    203324  him functions to the paper health record   Q0   \n",
       "4    203324  him functions to the paper health record   Q0   \n",
       "\n",
       "                     passage_id  rank    score  username  rel  \\\n",
       "0  msmarco_passage_49_115778700     1  13.2671  Anserini    1   \n",
       "1  msmarco_passage_26_450017756     2  11.8537  Anserini    1   \n",
       "2  msmarco_passage_19_202396335     3  11.2738  Anserini    1   \n",
       "3  msmarco_passage_28_623516004     4  11.0361  Anserini    1   \n",
       "4   msmarco_passage_02_47181174     5  10.9476  Anserini    1   \n",
       "\n",
       "                              query_cleaned  predicted_score  \n",
       "0  him functions to the paper health record         0.572222  \n",
       "1  him functions to the paper health record         0.512837  \n",
       "2  him functions to the paper health record         0.457086  \n",
       "3  him functions to the paper health record         0.592055  \n",
       "4  him functions to the paper health record         0.542745  "
      ]
     },
     "metadata": {},
     "output_type": "display_data"
    }
   ],
   "source": [
    "print(query_test.shape)\n",
    "print(test_with_pred.shape)\n",
    "\n",
    "result = query_test.merge(test_with_pred, how = \"inner\", on = [\"query_id\", \"passage_id\"])\n",
    "print(result.shape)\n",
    "display(result.head())"
   ]
  },
  {
   "cell_type": "code",
   "execution_count": 59,
   "metadata": {},
   "outputs": [],
   "source": [
    "# Function for calculating average precision for a query\n",
    "def average_precision(qid, topn = 10):\n",
    "    \n",
    "    # ========= for each query_id, do the following:\n",
    "    #print(f\"Started to work on query_id {qid}\")\n",
    "    # get passage_id (each query_id would have upto 10 passage_id)\n",
    "    qresult = result.loc[result[\"query_id\"] == qid, [\"passage_id\", \"rel\", \"predicted_score\"]]\n",
    "\n",
    "\n",
    "    \n",
    "    # sort rows so that passages with the highest similarity ranks as top \n",
    "    qresult.sort_values(by=\"predicted_score\", ascending = False, inplace=True)\n",
    "\n",
    "    # # Taking Top 10 documents for the evaluation\n",
    "    ranking = qresult.head(topn)['rel'].values\n",
    "    #display(qresult.head(topn))\n",
    "    \n",
    "    # # Calculating precision\n",
    "    precision=[]\n",
    "    for i in range(1,11):\n",
    "      if ranking[i-1]:\n",
    "        precision.append(np.sum(ranking[:i])/i)\n",
    "    \n",
    "    # If no relevant document in list then return 0\n",
    "    if precision==[]:\n",
    "      return 0\n",
    "    #print(len(precision))\n",
    "    #print(precision)\n",
    "    avg_precision = np.mean(precision)\n",
    "    #print(\"Avg precision: {}\".format(avg_precision))\n",
    "    return avg_precision#, len(precision), qresult.shape[0]"
   ]
  },
  {
   "cell_type": "code",
   "execution_count": 60,
   "metadata": {},
   "outputs": [],
   "source": [
    "result[\"avg_precision\"] = result.apply(lambda x: average_precision(x['query_id'])\n",
    "                                    ,axis=1)"
   ]
  },
  {
   "cell_type": "code",
   "execution_count": 61,
   "metadata": {},
   "outputs": [
    {
     "data": {
      "text/html": [
       "<div>\n",
       "<style scoped>\n",
       "    .dataframe tbody tr th:only-of-type {\n",
       "        vertical-align: middle;\n",
       "    }\n",
       "\n",
       "    .dataframe tbody tr th {\n",
       "        vertical-align: top;\n",
       "    }\n",
       "\n",
       "    .dataframe thead th {\n",
       "        text-align: right;\n",
       "    }\n",
       "</style>\n",
       "<table border=\"1\" class=\"dataframe\">\n",
       "  <thead>\n",
       "    <tr style=\"text-align: right;\">\n",
       "      <th></th>\n",
       "      <th>query_id</th>\n",
       "      <th>query</th>\n",
       "      <th>used</th>\n",
       "      <th>passage_id</th>\n",
       "      <th>rank</th>\n",
       "      <th>score</th>\n",
       "      <th>username</th>\n",
       "      <th>rel</th>\n",
       "      <th>query_cleaned</th>\n",
       "      <th>predicted_score</th>\n",
       "      <th>avg_precision</th>\n",
       "    </tr>\n",
       "  </thead>\n",
       "  <tbody>\n",
       "    <tr>\n",
       "      <th>0</th>\n",
       "      <td>203324</td>\n",
       "      <td>him functions to the paper health record</td>\n",
       "      <td>Q0</td>\n",
       "      <td>msmarco_passage_49_115778700</td>\n",
       "      <td>1</td>\n",
       "      <td>13.2671</td>\n",
       "      <td>Anserini</td>\n",
       "      <td>1</td>\n",
       "      <td>him functions to the paper health record</td>\n",
       "      <td>0.572222</td>\n",
       "      <td>0.873413</td>\n",
       "    </tr>\n",
       "    <tr>\n",
       "      <th>1</th>\n",
       "      <td>203324</td>\n",
       "      <td>him functions to the paper health record</td>\n",
       "      <td>Q0</td>\n",
       "      <td>msmarco_passage_26_450017756</td>\n",
       "      <td>2</td>\n",
       "      <td>11.8537</td>\n",
       "      <td>Anserini</td>\n",
       "      <td>1</td>\n",
       "      <td>him functions to the paper health record</td>\n",
       "      <td>0.512837</td>\n",
       "      <td>0.873413</td>\n",
       "    </tr>\n",
       "    <tr>\n",
       "      <th>2</th>\n",
       "      <td>203324</td>\n",
       "      <td>him functions to the paper health record</td>\n",
       "      <td>Q0</td>\n",
       "      <td>msmarco_passage_19_202396335</td>\n",
       "      <td>3</td>\n",
       "      <td>11.2738</td>\n",
       "      <td>Anserini</td>\n",
       "      <td>1</td>\n",
       "      <td>him functions to the paper health record</td>\n",
       "      <td>0.457086</td>\n",
       "      <td>0.873413</td>\n",
       "    </tr>\n",
       "    <tr>\n",
       "      <th>3</th>\n",
       "      <td>203324</td>\n",
       "      <td>him functions to the paper health record</td>\n",
       "      <td>Q0</td>\n",
       "      <td>msmarco_passage_28_623516004</td>\n",
       "      <td>4</td>\n",
       "      <td>11.0361</td>\n",
       "      <td>Anserini</td>\n",
       "      <td>1</td>\n",
       "      <td>him functions to the paper health record</td>\n",
       "      <td>0.592055</td>\n",
       "      <td>0.873413</td>\n",
       "    </tr>\n",
       "    <tr>\n",
       "      <th>4</th>\n",
       "      <td>203324</td>\n",
       "      <td>him functions to the paper health record</td>\n",
       "      <td>Q0</td>\n",
       "      <td>msmarco_passage_02_47181174</td>\n",
       "      <td>5</td>\n",
       "      <td>10.9476</td>\n",
       "      <td>Anserini</td>\n",
       "      <td>1</td>\n",
       "      <td>him functions to the paper health record</td>\n",
       "      <td>0.542745</td>\n",
       "      <td>0.873413</td>\n",
       "    </tr>\n",
       "  </tbody>\n",
       "</table>\n",
       "</div>"
      ],
      "text/plain": [
       "   query_id                                     query used  \\\n",
       "0    203324  him functions to the paper health record   Q0   \n",
       "1    203324  him functions to the paper health record   Q0   \n",
       "2    203324  him functions to the paper health record   Q0   \n",
       "3    203324  him functions to the paper health record   Q0   \n",
       "4    203324  him functions to the paper health record   Q0   \n",
       "\n",
       "                     passage_id  rank    score  username  rel  \\\n",
       "0  msmarco_passage_49_115778700     1  13.2671  Anserini    1   \n",
       "1  msmarco_passage_26_450017756     2  11.8537  Anserini    1   \n",
       "2  msmarco_passage_19_202396335     3  11.2738  Anserini    1   \n",
       "3  msmarco_passage_28_623516004     4  11.0361  Anserini    1   \n",
       "4   msmarco_passage_02_47181174     5  10.9476  Anserini    1   \n",
       "\n",
       "                              query_cleaned  predicted_score  avg_precision  \n",
       "0  him functions to the paper health record         0.572222       0.873413  \n",
       "1  him functions to the paper health record         0.512837       0.873413  \n",
       "2  him functions to the paper health record         0.457086       0.873413  \n",
       "3  him functions to the paper health record         0.592055       0.873413  \n",
       "4  him functions to the paper health record         0.542745       0.873413  "
      ]
     },
     "execution_count": 61,
     "metadata": {},
     "output_type": "execute_result"
    }
   ],
   "source": [
    "result.head()"
   ]
  },
  {
   "cell_type": "code",
   "execution_count": 62,
   "metadata": {},
   "outputs": [
    {
     "name": "stdout",
     "output_type": "stream",
     "text": [
      "Mean Average Precision=> 0.8848143230347694\n"
     ]
    }
   ],
   "source": [
    "print('Mean Average Precision=>', result[\"avg_precision\"].mean())"
   ]
  },
  {
   "cell_type": "code",
   "execution_count": 63,
   "metadata": {},
   "outputs": [],
   "source": [
    "result.to_csv(\"./output/test_prediction_avg_precision_TinyBERT-L-4-2024-04-20.csv\"\n",
    "                                       , index = False)\n"
   ]
  },
  {
   "cell_type": "code",
   "execution_count": null,
   "metadata": {},
   "outputs": [],
   "source": []
  }
 ],
 "metadata": {
  "kernelspec": {
   "display_name": "base",
   "language": "python",
   "name": "python3"
  },
  "language_info": {
   "codemirror_mode": {
    "name": "ipython",
    "version": 3
   },
   "file_extension": ".py",
   "mimetype": "text/x-python",
   "name": "python",
   "nbconvert_exporter": "python",
   "pygments_lexer": "ipython3",
   "version": "3.11.4"
  },
  "orig_nbformat": 4
 },
 "nbformat": 4,
 "nbformat_minor": 2
}
