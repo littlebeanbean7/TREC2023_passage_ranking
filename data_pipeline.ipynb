{
 "cells": [
  {
   "cell_type": "markdown",
   "metadata": {},
   "source": [
    "# About\n",
    "1. This notebook load data from https://microsoft.github.io/msmarco/TREC-Deep-Learning.html for solve a passage ranking problem, and produces a small random sample of Train and Test sets and clean the text:\n",
    "\n",
    "- The Train set contains 1000 queries and each query's top 10 passage\n",
    "\n",
    "- The Train set contains 1000 queries and each query's top 10 passage\n",
    "\n",
    "2. It outputs 4 .csv files:\n",
    "\n",
    "- Train set query info (query - and top 10 passages)\n",
    "\n",
    "- Test set query info (query - and top 10 passages)\n",
    "\n",
    "- Train set passage\n",
    "\n",
    "- Test set passage\n",
    "\n",
    "3. This notebook takes around 3 hours to run and only need to run once"
   ]
  },
  {
   "cell_type": "markdown",
   "metadata": {},
   "source": [
    "# Load libraries"
   ]
  },
  {
   "cell_type": "code",
   "execution_count": 106,
   "metadata": {},
   "outputs": [],
   "source": [
    "import pandas as pd\n",
    "#import numpy as np\n",
    "#import tarfile\n",
    "import json\n",
    "import re\n",
    "import spacy\n",
    "from tqdm.notebook import tqdm\n",
    "tqdm.pandas()"
   ]
  },
  {
   "cell_type": "markdown",
   "metadata": {},
   "source": [
    "# Download data (only need to run once)\n",
    "\n",
    "data source: \n",
    "\n",
    "https://microsoft.github.io/msmarco/TREC-Deep-Learning.html\n",
    "\n",
    "reference code: \n",
    "\n",
    "https://www.analyticsvidhya.com/blog/2020/08/information-retrieval-using-word2vec-based-vector-space-model/\n",
    "\n",
    "https://github.com/ljxowen/TREC-Information-Retrieval/blob/main/Passages%20Ranking/TREC%20Project(passage%20Ranking).ipynb\n",
    "\n",
    "\n",
    "\n",
    "https://github.com/snovaisg/Trec-DeepLearning-2020/blob/master/download_and_unzip_data\n"
   ]
  },
  {
   "cell_type": "markdown",
   "metadata": {},
   "source": [
    "## Download queries data"
   ]
  },
  {
   "cell_type": "code",
   "execution_count": 2,
   "metadata": {},
   "outputs": [
    {
     "name": "stdout",
     "output_type": "stream",
     "text": [
      "--2024-03-03 09:33:08--  https://msmarco.z22.web.core.windows.net/msmarcoranking/passv2_train_queries.tsv\n",
      "Resolving msmarco.z22.web.core.windows.net (msmarco.z22.web.core.windows.net)... 20.150.34.1\n",
      "Connecting to msmarco.z22.web.core.windows.net (msmarco.z22.web.core.windows.net)|20.150.34.1|:443... connected.\n",
      "HTTP request sent, awaiting response... 200 OK\n",
      "Length: 11608838 (11M) [application/octet-stream]\n",
      "Saving to: ‘data/passv2_train_queries.tsv’\n",
      "\n",
      "data/passv2_train_q 100%[===================>]  11.07M  1.90MB/s    in 9.5s    \n",
      "\n",
      "2024-03-03 09:33:18 (1.16 MB/s) - ‘data/passv2_train_queries.tsv’ saved [11608838/11608838]\n",
      "\n"
     ]
    }
   ],
   "source": [
    "#!wget -O data/passv2_train_queries.tsv --header \"X-Ms-Version: 2019-12-12\" https://msmarco.z22.web.core.windows.net/msmarcoranking/passv2_train_queries.tsv"
   ]
  },
  {
   "cell_type": "markdown",
   "metadata": {},
   "source": [
    "## Download passage corpus data (used 1 hour 50 minutes)"
   ]
  },
  {
   "cell_type": "code",
   "execution_count": 10,
   "metadata": {},
   "outputs": [
    {
     "name": "stdout",
     "output_type": "stream",
     "text": [
      "--2024-03-03 10:03:40--  https://msmarco.z22.web.core.windows.net/msmarcoranking/msmarco_v2_passage.tar\n",
      "Resolving msmarco.z22.web.core.windows.net (msmarco.z22.web.core.windows.net)... 20.150.34.1\n",
      "Connecting to msmarco.z22.web.core.windows.net (msmarco.z22.web.core.windows.net)|20.150.34.1|:443... connected.\n",
      "HTTP request sent, awaiting response... 200 OK\n",
      "Length: 21768192000 (20G) [application/x-tar]\n",
      "Saving to: ‘data/msmarco_v2_passage.tar’\n",
      "\n",
      "data/msmarco_v2_pas 100%[===================>]  20.27G  15.4MB/s    in 1h 50m  \n",
      "\n",
      "2024-03-03 11:54:09 (3.13 MB/s) - ‘data/msmarco_v2_passage.tar’ saved [21768192000/21768192000]\n",
      "\n"
     ]
    }
   ],
   "source": [
    "#!wget -O data/msmarco_v2_passage.tar --header \"X-Ms-Version: 2019-12-12\" https://msmarco.z22.web.core.windows.net/msmarcoranking/msmarco_v2_passage.tar"
   ]
  },
  {
   "cell_type": "code",
   "execution_count": 24,
   "metadata": {},
   "outputs": [],
   "source": [
    "# # extract the tar file\n",
    "# # open file \n",
    "# file = tarfile.open(\"data/msmarco_v2_passage.tar\") \n",
    "\n",
    "# # extracting file \n",
    "# file.extractall(\"./data/\") "
   ]
  },
  {
   "cell_type": "code",
   "execution_count": 32,
   "metadata": {},
   "outputs": [],
   "source": [
    "# decompress all .gz files in this floder, it takes 21minutes 22 seconds\n",
    "#!gzip -d -r ./data/msmarco_v2_passage/"
   ]
  },
  {
   "cell_type": "markdown",
   "metadata": {},
   "source": [
    "## [do not use] Download qrels data"
   ]
  },
  {
   "cell_type": "code",
   "execution_count": 6,
   "metadata": {},
   "outputs": [
    {
     "name": "stdout",
     "output_type": "stream",
     "text": [
      "--2024-03-03 09:50:21--  https://msmarco.z22.web.core.windows.net/msmarcoranking/passv2_train_qrels.tsv\n",
      "Resolving msmarco.z22.web.core.windows.net (msmarco.z22.web.core.windows.net)... 20.150.34.1\n",
      "Connecting to msmarco.z22.web.core.windows.net (msmarco.z22.web.core.windows.net)|20.150.34.1|:443... connected.\n",
      "HTTP request sent, awaiting response... 200 OK\n",
      "Length: 11620946 (11M) [application/octet-stream]\n",
      "Saving to: ‘data/passv2_train_qrels.tsv’\n",
      "\n",
      "data/passv2_train_q 100%[===================>]  11.08M  2.61MB/s    in 4.3s    \n",
      "\n",
      "2024-03-03 09:50:25 (2.61 MB/s) - ‘data/passv2_train_qrels.tsv’ saved [11620946/11620946]\n",
      "\n"
     ]
    }
   ],
   "source": [
    "#!wget -O data/passv2_train_qrels.tsv --header \"X-Ms-Version: 2019-12-12\" https://msmarco.z22.web.core.windows.net/msmarcoranking/passv2_train_qrels.tsv"
   ]
  },
  {
   "cell_type": "markdown",
   "metadata": {},
   "source": [
    "## Download passage top 100 data"
   ]
  },
  {
   "cell_type": "code",
   "execution_count": 11,
   "metadata": {},
   "outputs": [
    {
     "name": "stdout",
     "output_type": "stream",
     "text": [
      "--2024-03-03 11:56:18--  https://msmarco.z22.web.core.windows.net/msmarcoranking/passv2_train_top100.txt.gz\n",
      "Resolving msmarco.z22.web.core.windows.net (msmarco.z22.web.core.windows.net)... 20.150.34.1\n",
      "Connecting to msmarco.z22.web.core.windows.net (msmarco.z22.web.core.windows.net)|20.150.34.1|:443... connected.\n",
      "HTTP request sent, awaiting response... 200 OK\n",
      "Length: 340634991 (325M) [application/x-gzip]\n",
      "Saving to: ‘data/passv2_train_top100.txt.gz’\n",
      "\n",
      "data/passv2_train_t 100%[===================>] 324.85M  3.09MB/s    in 1m 48s  \n",
      "\n",
      "2024-03-03 11:58:07 (3.00 MB/s) - ‘data/passv2_train_top100.txt.gz’ saved [340634991/340634991]\n",
      "\n"
     ]
    }
   ],
   "source": [
    "#!wget -O data/passv2_train_top100.txt.gz --header \"X-Ms-Version: 2019-12-12\" https://msmarco.z22.web.core.windows.net/msmarcoranking/passv2_train_top100.txt.gz"
   ]
  },
  {
   "cell_type": "code",
   "execution_count": null,
   "metadata": {},
   "outputs": [],
   "source": [
    "## decompress the gz file\n",
    "#!gzip -d ./data/passv2_train_top100.txt.gz"
   ]
  },
  {
   "cell_type": "markdown",
   "metadata": {},
   "source": [
    "# Load data"
   ]
  },
  {
   "cell_type": "markdown",
   "metadata": {},
   "source": [
    "## Load queries data"
   ]
  },
  {
   "cell_type": "code",
   "execution_count": 37,
   "metadata": {},
   "outputs": [],
   "source": [
    "train_queries_df = pd.read_csv('./data/passv2_train_queries.tsv'\n",
    "                               , delimiter = \"\\t\" \n",
    "                               , header=None\n",
    "                               , names = ['query_id','query'])"
   ]
  },
  {
   "cell_type": "code",
   "execution_count": 38,
   "metadata": {},
   "outputs": [
    {
     "name": "stdout",
     "output_type": "stream",
     "text": [
      "(277144, 2)\n"
     ]
    },
    {
     "data": {
      "text/html": [
       "<div>\n",
       "<style scoped>\n",
       "    .dataframe tbody tr th:only-of-type {\n",
       "        vertical-align: middle;\n",
       "    }\n",
       "\n",
       "    .dataframe tbody tr th {\n",
       "        vertical-align: top;\n",
       "    }\n",
       "\n",
       "    .dataframe thead th {\n",
       "        text-align: right;\n",
       "    }\n",
       "</style>\n",
       "<table border=\"1\" class=\"dataframe\">\n",
       "  <thead>\n",
       "    <tr style=\"text-align: right;\">\n",
       "      <th></th>\n",
       "      <th>query_id</th>\n",
       "      <th>query</th>\n",
       "    </tr>\n",
       "  </thead>\n",
       "  <tbody>\n",
       "    <tr>\n",
       "      <th>0</th>\n",
       "      <td>121352</td>\n",
       "      <td>define extreme</td>\n",
       "    </tr>\n",
       "    <tr>\n",
       "      <th>1</th>\n",
       "      <td>510633</td>\n",
       "      <td>tattoo fixers how much does it cost</td>\n",
       "    </tr>\n",
       "    <tr>\n",
       "      <th>2</th>\n",
       "      <td>674172</td>\n",
       "      <td>what is a bank transit number</td>\n",
       "    </tr>\n",
       "    <tr>\n",
       "      <th>3</th>\n",
       "      <td>570009</td>\n",
       "      <td>what are the four major groups of elements</td>\n",
       "    </tr>\n",
       "    <tr>\n",
       "      <th>4</th>\n",
       "      <td>54528</td>\n",
       "      <td>blood clots in urine after menopause</td>\n",
       "    </tr>\n",
       "  </tbody>\n",
       "</table>\n",
       "</div>"
      ],
      "text/plain": [
       "   query_id                                       query\n",
       "0    121352                              define extreme\n",
       "1    510633         tattoo fixers how much does it cost\n",
       "2    674172               what is a bank transit number\n",
       "3    570009  what are the four major groups of elements\n",
       "4     54528        blood clots in urine after menopause"
      ]
     },
     "metadata": {},
     "output_type": "display_data"
    }
   ],
   "source": [
    "print(train_queries_df.shape)\n",
    "display(train_queries_df.head())"
   ]
  },
  {
   "cell_type": "markdown",
   "metadata": {},
   "source": [
    "## [do not use] Load qrels data"
   ]
  },
  {
   "cell_type": "code",
   "execution_count": 7,
   "metadata": {},
   "outputs": [],
   "source": [
    "train_qrels_df = pd.read_csv('./data/passv2_train_qrels.tsv'\n",
    "                             , names = ['0','passage','1']\n",
    "                             , header = None,delimiter = \"\\t\")"
   ]
  },
  {
   "cell_type": "code",
   "execution_count": 8,
   "metadata": {},
   "outputs": [
    {
     "name": "stdout",
     "output_type": "stream",
     "text": [
      "(284212, 3)\n"
     ]
    },
    {
     "data": {
      "text/html": [
       "<div>\n",
       "<style scoped>\n",
       "    .dataframe tbody tr th:only-of-type {\n",
       "        vertical-align: middle;\n",
       "    }\n",
       "\n",
       "    .dataframe tbody tr th {\n",
       "        vertical-align: top;\n",
       "    }\n",
       "\n",
       "    .dataframe thead th {\n",
       "        text-align: right;\n",
       "    }\n",
       "</style>\n",
       "<table border=\"1\" class=\"dataframe\">\n",
       "  <thead>\n",
       "    <tr style=\"text-align: right;\">\n",
       "      <th></th>\n",
       "      <th>0</th>\n",
       "      <th>file</th>\n",
       "      <th>1</th>\n",
       "    </tr>\n",
       "  </thead>\n",
       "  <tbody>\n",
       "    <tr>\n",
       "      <th>1185869</th>\n",
       "      <td>0</td>\n",
       "      <td>msmarco_passage_08_840101254</td>\n",
       "      <td>1</td>\n",
       "    </tr>\n",
       "    <tr>\n",
       "      <th>1183785</th>\n",
       "      <td>0</td>\n",
       "      <td>msmarco_passage_01_444503625</td>\n",
       "      <td>1</td>\n",
       "    </tr>\n",
       "    <tr>\n",
       "      <th>695572</th>\n",
       "      <td>0</td>\n",
       "      <td>msmarco_passage_20_461843390</td>\n",
       "      <td>1</td>\n",
       "    </tr>\n",
       "    <tr>\n",
       "      <th>852919</th>\n",
       "      <td>0</td>\n",
       "      <td>msmarco_passage_00_837399976</td>\n",
       "      <td>1</td>\n",
       "    </tr>\n",
       "    <tr>\n",
       "      <th>637313</th>\n",
       "      <td>0</td>\n",
       "      <td>msmarco_passage_08_12770678</td>\n",
       "      <td>1</td>\n",
       "    </tr>\n",
       "  </tbody>\n",
       "</table>\n",
       "</div>"
      ],
      "text/plain": [
       "         0                          file  1\n",
       "1185869  0  msmarco_passage_08_840101254  1\n",
       "1183785  0  msmarco_passage_01_444503625  1\n",
       "695572   0  msmarco_passage_20_461843390  1\n",
       "852919   0  msmarco_passage_00_837399976  1\n",
       "637313   0   msmarco_passage_08_12770678  1"
      ]
     },
     "metadata": {},
     "output_type": "display_data"
    }
   ],
   "source": [
    "print(train_qrels_df.shape)\n",
    "display(train_qrels_df.head())"
   ]
  },
  {
   "cell_type": "markdown",
   "metadata": {},
   "source": [
    "## Load each query's top 100 passages' info"
   ]
  },
  {
   "cell_type": "code",
   "execution_count": 73,
   "metadata": {},
   "outputs": [],
   "source": [
    "train_top100_df = pd.read_csv('./data/passv2_train_top100.txt'\n",
    "                              , delimiter = \" \"\n",
    "                              , names = ['query_id','used','passage_id','rank','score','username'])\n",
    "                              "
   ]
  },
  {
   "cell_type": "code",
   "execution_count": 74,
   "metadata": {},
   "outputs": [
    {
     "name": "stdout",
     "output_type": "stream",
     "text": [
      "(27713673, 6)\n"
     ]
    },
    {
     "data": {
      "text/html": [
       "<div>\n",
       "<style scoped>\n",
       "    .dataframe tbody tr th:only-of-type {\n",
       "        vertical-align: middle;\n",
       "    }\n",
       "\n",
       "    .dataframe tbody tr th {\n",
       "        vertical-align: top;\n",
       "    }\n",
       "\n",
       "    .dataframe thead th {\n",
       "        text-align: right;\n",
       "    }\n",
       "</style>\n",
       "<table border=\"1\" class=\"dataframe\">\n",
       "  <thead>\n",
       "    <tr style=\"text-align: right;\">\n",
       "      <th></th>\n",
       "      <th>query_id</th>\n",
       "      <th>used</th>\n",
       "      <th>passage_id</th>\n",
       "      <th>rank</th>\n",
       "      <th>score</th>\n",
       "      <th>username</th>\n",
       "    </tr>\n",
       "  </thead>\n",
       "  <tbody>\n",
       "    <tr>\n",
       "      <th>0</th>\n",
       "      <td>5</td>\n",
       "      <td>Q0</td>\n",
       "      <td>msmarco_passage_49_25899182</td>\n",
       "      <td>1</td>\n",
       "      <td>12.127800</td>\n",
       "      <td>Anserini</td>\n",
       "    </tr>\n",
       "    <tr>\n",
       "      <th>1</th>\n",
       "      <td>5</td>\n",
       "      <td>Q0</td>\n",
       "      <td>msmarco_passage_06_781809452</td>\n",
       "      <td>2</td>\n",
       "      <td>11.942800</td>\n",
       "      <td>Anserini</td>\n",
       "    </tr>\n",
       "    <tr>\n",
       "      <th>2</th>\n",
       "      <td>5</td>\n",
       "      <td>Q0</td>\n",
       "      <td>msmarco_passage_09_146319807</td>\n",
       "      <td>3</td>\n",
       "      <td>11.770300</td>\n",
       "      <td>Anserini</td>\n",
       "    </tr>\n",
       "    <tr>\n",
       "      <th>3</th>\n",
       "      <td>5</td>\n",
       "      <td>Q0</td>\n",
       "      <td>msmarco_passage_18_567713921</td>\n",
       "      <td>4</td>\n",
       "      <td>11.588300</td>\n",
       "      <td>Anserini</td>\n",
       "    </tr>\n",
       "    <tr>\n",
       "      <th>4</th>\n",
       "      <td>5</td>\n",
       "      <td>Q0</td>\n",
       "      <td>msmarco_passage_30_434058059</td>\n",
       "      <td>5</td>\n",
       "      <td>11.588299</td>\n",
       "      <td>Anserini</td>\n",
       "    </tr>\n",
       "  </tbody>\n",
       "</table>\n",
       "</div>"
      ],
      "text/plain": [
       "   query_id used                    passage_id  rank      score  username\n",
       "0         5   Q0   msmarco_passage_49_25899182     1  12.127800  Anserini\n",
       "1         5   Q0  msmarco_passage_06_781809452     2  11.942800  Anserini\n",
       "2         5   Q0  msmarco_passage_09_146319807     3  11.770300  Anserini\n",
       "3         5   Q0  msmarco_passage_18_567713921     4  11.588300  Anserini\n",
       "4         5   Q0  msmarco_passage_30_434058059     5  11.588299  Anserini"
      ]
     },
     "metadata": {},
     "output_type": "display_data"
    }
   ],
   "source": [
    "print(train_top100_df.shape)\n",
    "display(train_top100_df.head())"
   ]
  },
  {
   "cell_type": "markdown",
   "metadata": {},
   "source": [
    "# Get Train, Test sets by random sampling"
   ]
  },
  {
   "cell_type": "markdown",
   "metadata": {},
   "source": [
    "## Queries - randomly choose 2000 as Train and Test queries"
   ]
  },
  {
   "cell_type": "code",
   "execution_count": 41,
   "metadata": {},
   "outputs": [
    {
     "name": "stdout",
     "output_type": "stream",
     "text": [
      "(2000, 2)\n"
     ]
    },
    {
     "data": {
      "text/html": [
       "<div>\n",
       "<style scoped>\n",
       "    .dataframe tbody tr th:only-of-type {\n",
       "        vertical-align: middle;\n",
       "    }\n",
       "\n",
       "    .dataframe tbody tr th {\n",
       "        vertical-align: top;\n",
       "    }\n",
       "\n",
       "    .dataframe thead th {\n",
       "        text-align: right;\n",
       "    }\n",
       "</style>\n",
       "<table border=\"1\" class=\"dataframe\">\n",
       "  <thead>\n",
       "    <tr style=\"text-align: right;\">\n",
       "      <th></th>\n",
       "      <th>query_id</th>\n",
       "      <th>query</th>\n",
       "    </tr>\n",
       "  </thead>\n",
       "  <tbody>\n",
       "    <tr>\n",
       "      <th>0</th>\n",
       "      <td>916247</td>\n",
       "      <td>what us state bears the slogan the land enchan...</td>\n",
       "    </tr>\n",
       "    <tr>\n",
       "      <th>1</th>\n",
       "      <td>203324</td>\n",
       "      <td>him functions to the paper health record</td>\n",
       "    </tr>\n",
       "    <tr>\n",
       "      <th>2</th>\n",
       "      <td>123916</td>\n",
       "      <td>define merit-based pay</td>\n",
       "    </tr>\n",
       "    <tr>\n",
       "      <th>3</th>\n",
       "      <td>54169</td>\n",
       "      <td>bitcoin price increasing</td>\n",
       "    </tr>\n",
       "    <tr>\n",
       "      <th>4</th>\n",
       "      <td>766010</td>\n",
       "      <td>what is linguistic chauvinism</td>\n",
       "    </tr>\n",
       "  </tbody>\n",
       "</table>\n",
       "</div>"
      ],
      "text/plain": [
       "   query_id                                              query\n",
       "0    916247  what us state bears the slogan the land enchan...\n",
       "1    203324           him functions to the paper health record\n",
       "2    123916                             define merit-based pay\n",
       "3     54169                           bitcoin price increasing\n",
       "4    766010                      what is linguistic chauvinism"
      ]
     },
     "metadata": {},
     "output_type": "display_data"
    }
   ],
   "source": [
    "train_queries_df_sample2000 = train_queries_df.sample(n=2000,random_state=42).reset_index(drop=True)\n",
    "\n",
    "\n",
    "print(train_queries_df_sample2000.shape)\n",
    "display(train_queries_df_sample2000.head())"
   ]
  },
  {
   "cell_type": "markdown",
   "metadata": {},
   "source": [
    "## Queries - randomly choose 1000 samples as Train set and 1000 samples Test set"
   ]
  },
  {
   "cell_type": "code",
   "execution_count": 42,
   "metadata": {},
   "outputs": [
    {
     "name": "stdout",
     "output_type": "stream",
     "text": [
      "(1000, 2)\n"
     ]
    },
    {
     "data": {
      "text/html": [
       "<div>\n",
       "<style scoped>\n",
       "    .dataframe tbody tr th:only-of-type {\n",
       "        vertical-align: middle;\n",
       "    }\n",
       "\n",
       "    .dataframe tbody tr th {\n",
       "        vertical-align: top;\n",
       "    }\n",
       "\n",
       "    .dataframe thead th {\n",
       "        text-align: right;\n",
       "    }\n",
       "</style>\n",
       "<table border=\"1\" class=\"dataframe\">\n",
       "  <thead>\n",
       "    <tr style=\"text-align: right;\">\n",
       "      <th></th>\n",
       "      <th>query_id</th>\n",
       "      <th>query</th>\n",
       "    </tr>\n",
       "  </thead>\n",
       "  <tbody>\n",
       "    <tr>\n",
       "      <th>0</th>\n",
       "      <td>560129</td>\n",
       "      <td>what are hues</td>\n",
       "    </tr>\n",
       "    <tr>\n",
       "      <th>1</th>\n",
       "      <td>712421</td>\n",
       "      <td>what is an aspirator</td>\n",
       "    </tr>\n",
       "    <tr>\n",
       "      <th>2</th>\n",
       "      <td>417213</td>\n",
       "      <td>is manic depression genetic</td>\n",
       "    </tr>\n",
       "    <tr>\n",
       "      <th>3</th>\n",
       "      <td>225992</td>\n",
       "      <td>how does diesel smell</td>\n",
       "    </tr>\n",
       "    <tr>\n",
       "      <th>4</th>\n",
       "      <td>623400</td>\n",
       "      <td>what do huntsman spiders eat</td>\n",
       "    </tr>\n",
       "  </tbody>\n",
       "</table>\n",
       "</div>"
      ],
      "text/plain": [
       "   query_id                         query\n",
       "0    560129                 what are hues\n",
       "1    712421          what is an aspirator\n",
       "2    417213   is manic depression genetic\n",
       "3    225992         how does diesel smell\n",
       "4    623400  what do huntsman spiders eat"
      ]
     },
     "metadata": {},
     "output_type": "display_data"
    }
   ],
   "source": [
    "query_train_set = train_queries_df_sample2000.sample(n=1000,random_state=42).reset_index(drop=True)\n",
    "\n",
    "\n",
    "print(query_train_set.shape)\n",
    "display(query_train_set.head())"
   ]
  },
  {
   "cell_type": "code",
   "execution_count": 43,
   "metadata": {},
   "outputs": [
    {
     "name": "stdout",
     "output_type": "stream",
     "text": [
      "(1000, 2)\n"
     ]
    },
    {
     "data": {
      "text/html": [
       "<div>\n",
       "<style scoped>\n",
       "    .dataframe tbody tr th:only-of-type {\n",
       "        vertical-align: middle;\n",
       "    }\n",
       "\n",
       "    .dataframe tbody tr th {\n",
       "        vertical-align: top;\n",
       "    }\n",
       "\n",
       "    .dataframe thead th {\n",
       "        text-align: right;\n",
       "    }\n",
       "</style>\n",
       "<table border=\"1\" class=\"dataframe\">\n",
       "  <thead>\n",
       "    <tr style=\"text-align: right;\">\n",
       "      <th></th>\n",
       "      <th>query_id</th>\n",
       "      <th>query</th>\n",
       "    </tr>\n",
       "  </thead>\n",
       "  <tbody>\n",
       "    <tr>\n",
       "      <th>0</th>\n",
       "      <td>916247</td>\n",
       "      <td>what us state bears the slogan the land enchan...</td>\n",
       "    </tr>\n",
       "    <tr>\n",
       "      <th>1</th>\n",
       "      <td>203324</td>\n",
       "      <td>him functions to the paper health record</td>\n",
       "    </tr>\n",
       "    <tr>\n",
       "      <th>3</th>\n",
       "      <td>54169</td>\n",
       "      <td>bitcoin price increasing</td>\n",
       "    </tr>\n",
       "    <tr>\n",
       "      <th>4</th>\n",
       "      <td>766010</td>\n",
       "      <td>what is linguistic chauvinism</td>\n",
       "    </tr>\n",
       "    <tr>\n",
       "      <th>5</th>\n",
       "      <td>497475</td>\n",
       "      <td>side effects for fluticasone furoate</td>\n",
       "    </tr>\n",
       "  </tbody>\n",
       "</table>\n",
       "</div>"
      ],
      "text/plain": [
       "   query_id                                              query\n",
       "0    916247  what us state bears the slogan the land enchan...\n",
       "1    203324           him functions to the paper health record\n",
       "3     54169                           bitcoin price increasing\n",
       "4    766010                      what is linguistic chauvinism\n",
       "5    497475               side effects for fluticasone furoate"
      ]
     },
     "metadata": {},
     "output_type": "display_data"
    }
   ],
   "source": [
    "query_test_set = train_queries_df_sample2000[~train_queries_df_sample2000[\"query_id\"].isin(query_train_set[\"query_id\"])]\n",
    "\n",
    "print(query_test_set.shape)\n",
    "display(query_test_set.head())"
   ]
  },
  {
   "cell_type": "code",
   "execution_count": 44,
   "metadata": {},
   "outputs": [
    {
     "data": {
      "text/plain": [
       "[]"
      ]
     },
     "execution_count": 44,
     "metadata": {},
     "output_type": "execute_result"
    }
   ],
   "source": [
    "# check make sure no test data is in train data\n",
    "[id for id in query_test_set[\"query_id\"].to_list() if id in query_train_set[\"query_id\"].to_list()]"
   ]
  },
  {
   "cell_type": "markdown",
   "metadata": {},
   "source": [
    "## Passages info - For Train and Test sets, get each query's top 100 passages' info"
   ]
  },
  {
   "cell_type": "code",
   "execution_count": 75,
   "metadata": {},
   "outputs": [
    {
     "data": {
      "text/html": [
       "<div>\n",
       "<style scoped>\n",
       "    .dataframe tbody tr th:only-of-type {\n",
       "        vertical-align: middle;\n",
       "    }\n",
       "\n",
       "    .dataframe tbody tr th {\n",
       "        vertical-align: top;\n",
       "    }\n",
       "\n",
       "    .dataframe thead th {\n",
       "        text-align: right;\n",
       "    }\n",
       "</style>\n",
       "<table border=\"1\" class=\"dataframe\">\n",
       "  <thead>\n",
       "    <tr style=\"text-align: right;\">\n",
       "      <th></th>\n",
       "      <th>query_id</th>\n",
       "      <th>used</th>\n",
       "      <th>passage_id</th>\n",
       "      <th>rank</th>\n",
       "      <th>score</th>\n",
       "      <th>username</th>\n",
       "    </tr>\n",
       "  </thead>\n",
       "  <tbody>\n",
       "    <tr>\n",
       "      <th>0</th>\n",
       "      <td>5</td>\n",
       "      <td>Q0</td>\n",
       "      <td>msmarco_passage_49_25899182</td>\n",
       "      <td>1</td>\n",
       "      <td>12.127800</td>\n",
       "      <td>Anserini</td>\n",
       "    </tr>\n",
       "    <tr>\n",
       "      <th>1</th>\n",
       "      <td>5</td>\n",
       "      <td>Q0</td>\n",
       "      <td>msmarco_passage_06_781809452</td>\n",
       "      <td>2</td>\n",
       "      <td>11.942800</td>\n",
       "      <td>Anserini</td>\n",
       "    </tr>\n",
       "    <tr>\n",
       "      <th>2</th>\n",
       "      <td>5</td>\n",
       "      <td>Q0</td>\n",
       "      <td>msmarco_passage_09_146319807</td>\n",
       "      <td>3</td>\n",
       "      <td>11.770300</td>\n",
       "      <td>Anserini</td>\n",
       "    </tr>\n",
       "    <tr>\n",
       "      <th>3</th>\n",
       "      <td>5</td>\n",
       "      <td>Q0</td>\n",
       "      <td>msmarco_passage_18_567713921</td>\n",
       "      <td>4</td>\n",
       "      <td>11.588300</td>\n",
       "      <td>Anserini</td>\n",
       "    </tr>\n",
       "    <tr>\n",
       "      <th>4</th>\n",
       "      <td>5</td>\n",
       "      <td>Q0</td>\n",
       "      <td>msmarco_passage_30_434058059</td>\n",
       "      <td>5</td>\n",
       "      <td>11.588299</td>\n",
       "      <td>Anserini</td>\n",
       "    </tr>\n",
       "  </tbody>\n",
       "</table>\n",
       "</div>"
      ],
      "text/plain": [
       "   query_id used                    passage_id  rank      score  username\n",
       "0         5   Q0   msmarco_passage_49_25899182     1  12.127800  Anserini\n",
       "1         5   Q0  msmarco_passage_06_781809452     2  11.942800  Anserini\n",
       "2         5   Q0  msmarco_passage_09_146319807     3  11.770300  Anserini\n",
       "3         5   Q0  msmarco_passage_18_567713921     4  11.588300  Anserini\n",
       "4         5   Q0  msmarco_passage_30_434058059     5  11.588299  Anserini"
      ]
     },
     "execution_count": 75,
     "metadata": {},
     "output_type": "execute_result"
    }
   ],
   "source": [
    "train_top100_df.head()"
   ]
  },
  {
   "cell_type": "code",
   "execution_count": 76,
   "metadata": {},
   "outputs": [
    {
     "data": {
      "text/html": [
       "<div>\n",
       "<style scoped>\n",
       "    .dataframe tbody tr th:only-of-type {\n",
       "        vertical-align: middle;\n",
       "    }\n",
       "\n",
       "    .dataframe tbody tr th {\n",
       "        vertical-align: top;\n",
       "    }\n",
       "\n",
       "    .dataframe thead th {\n",
       "        text-align: right;\n",
       "    }\n",
       "</style>\n",
       "<table border=\"1\" class=\"dataframe\">\n",
       "  <thead>\n",
       "    <tr style=\"text-align: right;\">\n",
       "      <th></th>\n",
       "      <th>query_id</th>\n",
       "      <th>query</th>\n",
       "    </tr>\n",
       "  </thead>\n",
       "  <tbody>\n",
       "    <tr>\n",
       "      <th>0</th>\n",
       "      <td>560129</td>\n",
       "      <td>what are hues</td>\n",
       "    </tr>\n",
       "    <tr>\n",
       "      <th>1</th>\n",
       "      <td>712421</td>\n",
       "      <td>what is an aspirator</td>\n",
       "    </tr>\n",
       "    <tr>\n",
       "      <th>2</th>\n",
       "      <td>417213</td>\n",
       "      <td>is manic depression genetic</td>\n",
       "    </tr>\n",
       "    <tr>\n",
       "      <th>3</th>\n",
       "      <td>225992</td>\n",
       "      <td>how does diesel smell</td>\n",
       "    </tr>\n",
       "    <tr>\n",
       "      <th>4</th>\n",
       "      <td>623400</td>\n",
       "      <td>what do huntsman spiders eat</td>\n",
       "    </tr>\n",
       "  </tbody>\n",
       "</table>\n",
       "</div>"
      ],
      "text/plain": [
       "   query_id                         query\n",
       "0    560129                 what are hues\n",
       "1    712421          what is an aspirator\n",
       "2    417213   is manic depression genetic\n",
       "3    225992         how does diesel smell\n",
       "4    623400  what do huntsman spiders eat"
      ]
     },
     "execution_count": 76,
     "metadata": {},
     "output_type": "execute_result"
    }
   ],
   "source": [
    "query_train_set.head()"
   ]
  },
  {
   "cell_type": "code",
   "execution_count": 77,
   "metadata": {},
   "outputs": [
    {
     "name": "stdout",
     "output_type": "stream",
     "text": [
      "(100000, 7)\n"
     ]
    },
    {
     "data": {
      "text/html": [
       "<div>\n",
       "<style scoped>\n",
       "    .dataframe tbody tr th:only-of-type {\n",
       "        vertical-align: middle;\n",
       "    }\n",
       "\n",
       "    .dataframe tbody tr th {\n",
       "        vertical-align: top;\n",
       "    }\n",
       "\n",
       "    .dataframe thead th {\n",
       "        text-align: right;\n",
       "    }\n",
       "</style>\n",
       "<table border=\"1\" class=\"dataframe\">\n",
       "  <thead>\n",
       "    <tr style=\"text-align: right;\">\n",
       "      <th></th>\n",
       "      <th>query_id</th>\n",
       "      <th>query</th>\n",
       "      <th>used</th>\n",
       "      <th>passage_id</th>\n",
       "      <th>rank</th>\n",
       "      <th>score</th>\n",
       "      <th>username</th>\n",
       "    </tr>\n",
       "  </thead>\n",
       "  <tbody>\n",
       "    <tr>\n",
       "      <th>0</th>\n",
       "      <td>560129</td>\n",
       "      <td>what are hues</td>\n",
       "      <td>Q0</td>\n",
       "      <td>msmarco_passage_03_496902198</td>\n",
       "      <td>1</td>\n",
       "      <td>8.460100</td>\n",
       "      <td>Anserini</td>\n",
       "    </tr>\n",
       "    <tr>\n",
       "      <th>1</th>\n",
       "      <td>560129</td>\n",
       "      <td>what are hues</td>\n",
       "      <td>Q0</td>\n",
       "      <td>msmarco_passage_35_561149885</td>\n",
       "      <td>2</td>\n",
       "      <td>8.460099</td>\n",
       "      <td>Anserini</td>\n",
       "    </tr>\n",
       "    <tr>\n",
       "      <th>2</th>\n",
       "      <td>560129</td>\n",
       "      <td>what are hues</td>\n",
       "      <td>Q0</td>\n",
       "      <td>msmarco_passage_05_224676265</td>\n",
       "      <td>3</td>\n",
       "      <td>8.176700</td>\n",
       "      <td>Anserini</td>\n",
       "    </tr>\n",
       "    <tr>\n",
       "      <th>3</th>\n",
       "      <td>560129</td>\n",
       "      <td>what are hues</td>\n",
       "      <td>Q0</td>\n",
       "      <td>msmarco_passage_04_168335684</td>\n",
       "      <td>4</td>\n",
       "      <td>8.112500</td>\n",
       "      <td>Anserini</td>\n",
       "    </tr>\n",
       "    <tr>\n",
       "      <th>4</th>\n",
       "      <td>560129</td>\n",
       "      <td>what are hues</td>\n",
       "      <td>Q0</td>\n",
       "      <td>msmarco_passage_02_769341954</td>\n",
       "      <td>5</td>\n",
       "      <td>8.085500</td>\n",
       "      <td>Anserini</td>\n",
       "    </tr>\n",
       "  </tbody>\n",
       "</table>\n",
       "</div>"
      ],
      "text/plain": [
       "   query_id          query used                    passage_id  rank     score  \\\n",
       "0    560129  what are hues   Q0  msmarco_passage_03_496902198     1  8.460100   \n",
       "1    560129  what are hues   Q0  msmarco_passage_35_561149885     2  8.460099   \n",
       "2    560129  what are hues   Q0  msmarco_passage_05_224676265     3  8.176700   \n",
       "3    560129  what are hues   Q0  msmarco_passage_04_168335684     4  8.112500   \n",
       "4    560129  what are hues   Q0  msmarco_passage_02_769341954     5  8.085500   \n",
       "\n",
       "   username  \n",
       "0  Anserini  \n",
       "1  Anserini  \n",
       "2  Anserini  \n",
       "3  Anserini  \n",
       "4  Anserini  "
      ]
     },
     "metadata": {},
     "output_type": "display_data"
    }
   ],
   "source": [
    "# train\n",
    "query_train_set_with_top100_passage_info = query_train_set.merge(train_top100_df\n",
    "                                                          , how = \"left\"\n",
    "                                                          , on = \"query_id\")\n",
    "\n",
    "print(query_train_set_with_top100_passage_info.shape)\n",
    "display(query_train_set_with_top100_passage_info.head())"
   ]
  },
  {
   "cell_type": "code",
   "execution_count": 78,
   "metadata": {},
   "outputs": [
    {
     "name": "stdout",
     "output_type": "stream",
     "text": [
      "(100000, 7)\n"
     ]
    },
    {
     "data": {
      "text/html": [
       "<div>\n",
       "<style scoped>\n",
       "    .dataframe tbody tr th:only-of-type {\n",
       "        vertical-align: middle;\n",
       "    }\n",
       "\n",
       "    .dataframe tbody tr th {\n",
       "        vertical-align: top;\n",
       "    }\n",
       "\n",
       "    .dataframe thead th {\n",
       "        text-align: right;\n",
       "    }\n",
       "</style>\n",
       "<table border=\"1\" class=\"dataframe\">\n",
       "  <thead>\n",
       "    <tr style=\"text-align: right;\">\n",
       "      <th></th>\n",
       "      <th>query_id</th>\n",
       "      <th>query</th>\n",
       "      <th>used</th>\n",
       "      <th>passage_id</th>\n",
       "      <th>rank</th>\n",
       "      <th>score</th>\n",
       "      <th>username</th>\n",
       "    </tr>\n",
       "  </thead>\n",
       "  <tbody>\n",
       "    <tr>\n",
       "      <th>0</th>\n",
       "      <td>916247</td>\n",
       "      <td>what us state bears the slogan the land enchan...</td>\n",
       "      <td>Q0</td>\n",
       "      <td>msmarco_passage_05_840839268</td>\n",
       "      <td>1</td>\n",
       "      <td>16.004101</td>\n",
       "      <td>Anserini</td>\n",
       "    </tr>\n",
       "    <tr>\n",
       "      <th>1</th>\n",
       "      <td>916247</td>\n",
       "      <td>what us state bears the slogan the land enchan...</td>\n",
       "      <td>Q0</td>\n",
       "      <td>msmarco_passage_06_203354916</td>\n",
       "      <td>2</td>\n",
       "      <td>15.715500</td>\n",
       "      <td>Anserini</td>\n",
       "    </tr>\n",
       "    <tr>\n",
       "      <th>2</th>\n",
       "      <td>916247</td>\n",
       "      <td>what us state bears the slogan the land enchan...</td>\n",
       "      <td>Q0</td>\n",
       "      <td>msmarco_passage_45_489369159</td>\n",
       "      <td>3</td>\n",
       "      <td>15.715499</td>\n",
       "      <td>Anserini</td>\n",
       "    </tr>\n",
       "    <tr>\n",
       "      <th>3</th>\n",
       "      <td>916247</td>\n",
       "      <td>what us state bears the slogan the land enchan...</td>\n",
       "      <td>Q0</td>\n",
       "      <td>msmarco_passage_50_676325639</td>\n",
       "      <td>4</td>\n",
       "      <td>14.983700</td>\n",
       "      <td>Anserini</td>\n",
       "    </tr>\n",
       "    <tr>\n",
       "      <th>4</th>\n",
       "      <td>916247</td>\n",
       "      <td>what us state bears the slogan the land enchan...</td>\n",
       "      <td>Q0</td>\n",
       "      <td>msmarco_passage_21_464076261</td>\n",
       "      <td>5</td>\n",
       "      <td>14.347200</td>\n",
       "      <td>Anserini</td>\n",
       "    </tr>\n",
       "  </tbody>\n",
       "</table>\n",
       "</div>"
      ],
      "text/plain": [
       "   query_id                                              query used  \\\n",
       "0    916247  what us state bears the slogan the land enchan...   Q0   \n",
       "1    916247  what us state bears the slogan the land enchan...   Q0   \n",
       "2    916247  what us state bears the slogan the land enchan...   Q0   \n",
       "3    916247  what us state bears the slogan the land enchan...   Q0   \n",
       "4    916247  what us state bears the slogan the land enchan...   Q0   \n",
       "\n",
       "                     passage_id  rank      score  username  \n",
       "0  msmarco_passage_05_840839268     1  16.004101  Anserini  \n",
       "1  msmarco_passage_06_203354916     2  15.715500  Anserini  \n",
       "2  msmarco_passage_45_489369159     3  15.715499  Anserini  \n",
       "3  msmarco_passage_50_676325639     4  14.983700  Anserini  \n",
       "4  msmarco_passage_21_464076261     5  14.347200  Anserini  "
      ]
     },
     "metadata": {},
     "output_type": "display_data"
    }
   ],
   "source": [
    "# test\n",
    "query_test_set_with_top100_passage_info = query_test_set.merge(train_top100_df\n",
    "                                                          , how = \"left\"\n",
    "                                                          , on = \"query_id\")\n",
    "\n",
    "print(query_test_set_with_top100_passage_info.shape)\n",
    "display(query_test_set_with_top100_passage_info.head())"
   ]
  },
  {
   "cell_type": "markdown",
   "metadata": {},
   "source": [
    "## Filter to keep top 10 passage for Train and Test sets"
   ]
  },
  {
   "cell_type": "code",
   "execution_count": 79,
   "metadata": {},
   "outputs": [],
   "source": [
    "query_train_set_with_passage_info = query_train_set_with_top100_passage_info[\n",
    "                                            query_train_set_with_top100_passage_info[\"rank\"] <= 10]\n",
    "query_test_set_with_passage_info = query_test_set_with_top100_passage_info[\n",
    "                                            query_test_set_with_top100_passage_info[\"rank\"] <= 10]"
   ]
  },
  {
   "cell_type": "code",
   "execution_count": 80,
   "metadata": {},
   "outputs": [
    {
     "name": "stdout",
     "output_type": "stream",
     "text": [
      "(10000, 7)\n"
     ]
    },
    {
     "data": {
      "text/html": [
       "<div>\n",
       "<style scoped>\n",
       "    .dataframe tbody tr th:only-of-type {\n",
       "        vertical-align: middle;\n",
       "    }\n",
       "\n",
       "    .dataframe tbody tr th {\n",
       "        vertical-align: top;\n",
       "    }\n",
       "\n",
       "    .dataframe thead th {\n",
       "        text-align: right;\n",
       "    }\n",
       "</style>\n",
       "<table border=\"1\" class=\"dataframe\">\n",
       "  <thead>\n",
       "    <tr style=\"text-align: right;\">\n",
       "      <th></th>\n",
       "      <th>query_id</th>\n",
       "      <th>query</th>\n",
       "      <th>used</th>\n",
       "      <th>passage_id</th>\n",
       "      <th>rank</th>\n",
       "      <th>score</th>\n",
       "      <th>username</th>\n",
       "    </tr>\n",
       "  </thead>\n",
       "  <tbody>\n",
       "    <tr>\n",
       "      <th>0</th>\n",
       "      <td>560129</td>\n",
       "      <td>what are hues</td>\n",
       "      <td>Q0</td>\n",
       "      <td>msmarco_passage_03_496902198</td>\n",
       "      <td>1</td>\n",
       "      <td>8.460100</td>\n",
       "      <td>Anserini</td>\n",
       "    </tr>\n",
       "    <tr>\n",
       "      <th>1</th>\n",
       "      <td>560129</td>\n",
       "      <td>what are hues</td>\n",
       "      <td>Q0</td>\n",
       "      <td>msmarco_passage_35_561149885</td>\n",
       "      <td>2</td>\n",
       "      <td>8.460099</td>\n",
       "      <td>Anserini</td>\n",
       "    </tr>\n",
       "    <tr>\n",
       "      <th>2</th>\n",
       "      <td>560129</td>\n",
       "      <td>what are hues</td>\n",
       "      <td>Q0</td>\n",
       "      <td>msmarco_passage_05_224676265</td>\n",
       "      <td>3</td>\n",
       "      <td>8.176700</td>\n",
       "      <td>Anserini</td>\n",
       "    </tr>\n",
       "    <tr>\n",
       "      <th>3</th>\n",
       "      <td>560129</td>\n",
       "      <td>what are hues</td>\n",
       "      <td>Q0</td>\n",
       "      <td>msmarco_passage_04_168335684</td>\n",
       "      <td>4</td>\n",
       "      <td>8.112500</td>\n",
       "      <td>Anserini</td>\n",
       "    </tr>\n",
       "    <tr>\n",
       "      <th>4</th>\n",
       "      <td>560129</td>\n",
       "      <td>what are hues</td>\n",
       "      <td>Q0</td>\n",
       "      <td>msmarco_passage_02_769341954</td>\n",
       "      <td>5</td>\n",
       "      <td>8.085500</td>\n",
       "      <td>Anserini</td>\n",
       "    </tr>\n",
       "  </tbody>\n",
       "</table>\n",
       "</div>"
      ],
      "text/plain": [
       "   query_id          query used                    passage_id  rank     score  \\\n",
       "0    560129  what are hues   Q0  msmarco_passage_03_496902198     1  8.460100   \n",
       "1    560129  what are hues   Q0  msmarco_passage_35_561149885     2  8.460099   \n",
       "2    560129  what are hues   Q0  msmarco_passage_05_224676265     3  8.176700   \n",
       "3    560129  what are hues   Q0  msmarco_passage_04_168335684     4  8.112500   \n",
       "4    560129  what are hues   Q0  msmarco_passage_02_769341954     5  8.085500   \n",
       "\n",
       "   username  \n",
       "0  Anserini  \n",
       "1  Anserini  \n",
       "2  Anserini  \n",
       "3  Anserini  \n",
       "4  Anserini  "
      ]
     },
     "metadata": {},
     "output_type": "display_data"
    }
   ],
   "source": [
    "print(query_train_set_with_passage_info.shape)\n",
    "display(query_train_set_with_passage_info.head())"
   ]
  },
  {
   "cell_type": "code",
   "execution_count": 81,
   "metadata": {},
   "outputs": [
    {
     "name": "stdout",
     "output_type": "stream",
     "text": [
      "(10000, 7)\n"
     ]
    },
    {
     "data": {
      "text/html": [
       "<div>\n",
       "<style scoped>\n",
       "    .dataframe tbody tr th:only-of-type {\n",
       "        vertical-align: middle;\n",
       "    }\n",
       "\n",
       "    .dataframe tbody tr th {\n",
       "        vertical-align: top;\n",
       "    }\n",
       "\n",
       "    .dataframe thead th {\n",
       "        text-align: right;\n",
       "    }\n",
       "</style>\n",
       "<table border=\"1\" class=\"dataframe\">\n",
       "  <thead>\n",
       "    <tr style=\"text-align: right;\">\n",
       "      <th></th>\n",
       "      <th>query_id</th>\n",
       "      <th>query</th>\n",
       "      <th>used</th>\n",
       "      <th>passage_id</th>\n",
       "      <th>rank</th>\n",
       "      <th>score</th>\n",
       "      <th>username</th>\n",
       "    </tr>\n",
       "  </thead>\n",
       "  <tbody>\n",
       "    <tr>\n",
       "      <th>0</th>\n",
       "      <td>916247</td>\n",
       "      <td>what us state bears the slogan the land enchan...</td>\n",
       "      <td>Q0</td>\n",
       "      <td>msmarco_passage_05_840839268</td>\n",
       "      <td>1</td>\n",
       "      <td>16.004101</td>\n",
       "      <td>Anserini</td>\n",
       "    </tr>\n",
       "    <tr>\n",
       "      <th>1</th>\n",
       "      <td>916247</td>\n",
       "      <td>what us state bears the slogan the land enchan...</td>\n",
       "      <td>Q0</td>\n",
       "      <td>msmarco_passage_06_203354916</td>\n",
       "      <td>2</td>\n",
       "      <td>15.715500</td>\n",
       "      <td>Anserini</td>\n",
       "    </tr>\n",
       "    <tr>\n",
       "      <th>2</th>\n",
       "      <td>916247</td>\n",
       "      <td>what us state bears the slogan the land enchan...</td>\n",
       "      <td>Q0</td>\n",
       "      <td>msmarco_passage_45_489369159</td>\n",
       "      <td>3</td>\n",
       "      <td>15.715499</td>\n",
       "      <td>Anserini</td>\n",
       "    </tr>\n",
       "    <tr>\n",
       "      <th>3</th>\n",
       "      <td>916247</td>\n",
       "      <td>what us state bears the slogan the land enchan...</td>\n",
       "      <td>Q0</td>\n",
       "      <td>msmarco_passage_50_676325639</td>\n",
       "      <td>4</td>\n",
       "      <td>14.983700</td>\n",
       "      <td>Anserini</td>\n",
       "    </tr>\n",
       "    <tr>\n",
       "      <th>4</th>\n",
       "      <td>916247</td>\n",
       "      <td>what us state bears the slogan the land enchan...</td>\n",
       "      <td>Q0</td>\n",
       "      <td>msmarco_passage_21_464076261</td>\n",
       "      <td>5</td>\n",
       "      <td>14.347200</td>\n",
       "      <td>Anserini</td>\n",
       "    </tr>\n",
       "  </tbody>\n",
       "</table>\n",
       "</div>"
      ],
      "text/plain": [
       "   query_id                                              query used  \\\n",
       "0    916247  what us state bears the slogan the land enchan...   Q0   \n",
       "1    916247  what us state bears the slogan the land enchan...   Q0   \n",
       "2    916247  what us state bears the slogan the land enchan...   Q0   \n",
       "3    916247  what us state bears the slogan the land enchan...   Q0   \n",
       "4    916247  what us state bears the slogan the land enchan...   Q0   \n",
       "\n",
       "                     passage_id  rank      score  username  \n",
       "0  msmarco_passage_05_840839268     1  16.004101  Anserini  \n",
       "1  msmarco_passage_06_203354916     2  15.715500  Anserini  \n",
       "2  msmarco_passage_45_489369159     3  15.715499  Anserini  \n",
       "3  msmarco_passage_50_676325639     4  14.983700  Anserini  \n",
       "4  msmarco_passage_21_464076261     5  14.347200  Anserini  "
      ]
     },
     "metadata": {},
     "output_type": "display_data"
    }
   ],
   "source": [
    "print(query_test_set_with_passage_info.shape)\n",
    "display(query_test_set_with_passage_info.head())"
   ]
  },
  {
   "cell_type": "markdown",
   "metadata": {},
   "source": [
    "## Passage content - for Train and Test"
   ]
  },
  {
   "cell_type": "code",
   "execution_count": 82,
   "metadata": {},
   "outputs": [],
   "source": [
    "# define a function that can get passage content from corpus\n",
    "def get_passage(passage_id):\n",
    "    (string1, string2, bundlenum, position) = passage_id.split('_')\n",
    "    assert string1 == 'msmarco' and string2 == 'passage'\n",
    "\n",
    "    with open(f'./data/msmarco_v2_passage/msmarco_passage_{bundlenum}', 'rt', encoding='utf8') as in_fh:\n",
    "        in_fh.seek(int(position))\n",
    "        json_string = in_fh.readline()\n",
    "        passage = json.loads(json_string)\n",
    "        assert passage['pid'] == passage_id\n",
    "        return passage"
   ]
  },
  {
   "cell_type": "code",
   "execution_count": 83,
   "metadata": {},
   "outputs": [
    {
     "data": {
      "text/plain": [
       "{'pid': 'msmarco_passage_05_840839268',\n",
       " 'passage': 'New Mexico State Symbols. State Nickname: The Land of Enchantment. State Slogan: Land of Enchantment; also on its license plate. State Motto: Crescit eundo (It grows as it goes) State flower: Yucca flower. State bird: Roadrunner aka Greater Roadrunner.',\n",
       " 'spans': '(610,634),(635,674),(675,735),(736,784),(785,811),(812,857)',\n",
       " 'docid': 'msmarco_doc_05_1547437048'}"
      ]
     },
     "execution_count": 83,
     "metadata": {},
     "output_type": "execute_result"
    }
   ],
   "source": [
    "# test to extract passage corpus data - try one example with passage_id (pid) \n",
    "get_passage(\"msmarco_passage_05_840839268\")"
   ]
  },
  {
   "cell_type": "code",
   "execution_count": 88,
   "metadata": {},
   "outputs": [],
   "source": [
    "# put train, test's passage_id into lists\n",
    "train_passage_id = query_train_set_with_passage_info[\"passage_id\"].to_list()\n",
    "test_passage_id = query_test_set_with_passage_info[\"passage_id\"].to_list()\n"
   ]
  },
  {
   "cell_type": "code",
   "execution_count": 143,
   "metadata": {},
   "outputs": [
    {
     "name": "stdout",
     "output_type": "stream",
     "text": [
      "10000\n",
      "10000\n"
     ]
    },
    {
     "data": {
      "text/plain": [
       "['msmarco_passage_03_496902198',\n",
       " 'msmarco_passage_35_561149885',\n",
       " 'msmarco_passage_05_224676265',\n",
       " 'msmarco_passage_04_168335684',\n",
       " 'msmarco_passage_02_769341954']"
      ]
     },
     "execution_count": 143,
     "metadata": {},
     "output_type": "execute_result"
    }
   ],
   "source": [
    "print(len(train_passage_id))\n",
    "print(len(test_passage_id))\n",
    "train_passage_id[:5]"
   ]
  },
  {
   "cell_type": "code",
   "execution_count": 91,
   "metadata": {},
   "outputs": [],
   "source": [
    "# define a function that for each passage_id in the list_passage_id, get its passage content, save into a dict\n",
    "def extract_passage_content_using_pid(list_passage_id):\n",
    "    dict_passage_id_content = dict()\n",
    "\n",
    "    for passage_id in list_passage_id:\n",
    "        passage_dict = get_passage(passage_id)\n",
    "        #print(passage_dict)\n",
    "        #print(passage_dict[\"passage\"])\n",
    "        dict_passage_id_content[passage_id] = passage_dict[\"passage\"]\n",
    "    print(f'Found {len(dict_passage_id_content)} passage number.')\n",
    "    dict(list(dict_passage_id_content.items())[0:5]) \n",
    "    return dict_passage_id_content"
   ]
  },
  {
   "cell_type": "code",
   "execution_count": 92,
   "metadata": {},
   "outputs": [
    {
     "name": "stdout",
     "output_type": "stream",
     "text": [
      "Found 9981 passage number.\n",
      "Found 9969 passage number.\n"
     ]
    }
   ],
   "source": [
    "dict_train_passage_id_content = extract_passage_content_using_pid(train_passage_id)\n",
    "dict_test_passage_id_content = extract_passage_content_using_pid(test_passage_id)"
   ]
  },
  {
   "cell_type": "code",
   "execution_count": 160,
   "metadata": {},
   "outputs": [
    {
     "name": "stdout",
     "output_type": "stream",
     "text": [
      "msmarco_passage_03_496902198\n",
      "Let’s dig a little deeper into each. Hues are colors and what hue we see is dependent on the wavelength of light being reflected or produced. I doubt I need to tell you what a color is and since color and hue are synonymous you should know what a hue is as well.\n",
      "\n",
      "\n",
      "msmarco_passage_35_561149885\n",
      "Let’s dig a little deeper into each. Hues are colors and what hue we see is dependent on the wavelength of light being reflected or produced. I doubt I need to tell you what a color is and since color and hue are synonymous you should know what a hue is as well.\n",
      "\n",
      "\n",
      "msmarco_passage_05_224676265\n",
      "Hue: This is what we usually mean when we ask \"what color is   that?\". The property of color that we are actually asking about is \"hue\". For example, when we talk about colors that are red, yellow, green, and blue, we are   talking about hue. Different hues are caused by different wavelengths of light.\n",
      "\n",
      "\n",
      "msmarco_passage_04_168335684\n",
      "hue = color or a shade of color\n",
      "example sentence:\n",
      "The baby's skin has a rosy hue. What is hue in gemcraft? Imagine a color wheel going from 0 to 359 (like the degrees in a\n",
      "circle). The hue of the game will do less damage to a monster of\n",
      "the same hue (approaching zero if the monster's hue is the same as\n",
      "your gem) to double damage if the hue of gem is the opposite side\n",
      "of the color wheel from the hue of the monster.\n",
      "\n",
      "\n",
      "msmarco_passage_02_769341954\n",
      "Hue: Hue is what we normally think of as color (technically, hue is determined by the wavelength of the light). One of the biggest reasons that hue has such a large impact on photography is that our visual system has different degrees of sensitivity to different hues.\n",
      "\n",
      "\n"
     ]
    }
   ],
   "source": [
    "# print 5 examples\n",
    "for key in list(dict_train_passage_id_content.keys())[:5]:\n",
    "    print(key)\n",
    "    print(dict_train_passage_id_content[key])\n",
    "    print(\"\\n\")"
   ]
  },
  {
   "cell_type": "code",
   "execution_count": 125,
   "metadata": {},
   "outputs": [],
   "source": [
    "# change dict to df\n",
    "train_passage_id_content = pd.DataFrame(dict_train_passage_id_content.items()\n",
    "                                         ,columns = [\"passage_id\", \"passage\"])\n",
    "test_passage_id_content = pd.DataFrame(dict_test_passage_id_content.items()\n",
    "                                         ,columns = [\"passage_id\", \"passage\"])"
   ]
  },
  {
   "cell_type": "code",
   "execution_count": 129,
   "metadata": {},
   "outputs": [
    {
     "name": "stdout",
     "output_type": "stream",
     "text": [
      "(9981, 2)\n",
      "(9969, 2)\n"
     ]
    },
    {
     "data": {
      "text/html": [
       "<div>\n",
       "<style scoped>\n",
       "    .dataframe tbody tr th:only-of-type {\n",
       "        vertical-align: middle;\n",
       "    }\n",
       "\n",
       "    .dataframe tbody tr th {\n",
       "        vertical-align: top;\n",
       "    }\n",
       "\n",
       "    .dataframe thead th {\n",
       "        text-align: right;\n",
       "    }\n",
       "</style>\n",
       "<table border=\"1\" class=\"dataframe\">\n",
       "  <thead>\n",
       "    <tr style=\"text-align: right;\">\n",
       "      <th></th>\n",
       "      <th>passage_id</th>\n",
       "      <th>passage</th>\n",
       "    </tr>\n",
       "  </thead>\n",
       "  <tbody>\n",
       "    <tr>\n",
       "      <th>0</th>\n",
       "      <td>msmarco_passage_03_496902198</td>\n",
       "      <td>Let’s dig a little deeper into each. Hues are ...</td>\n",
       "    </tr>\n",
       "    <tr>\n",
       "      <th>1</th>\n",
       "      <td>msmarco_passage_35_561149885</td>\n",
       "      <td>Let’s dig a little deeper into each. Hues are ...</td>\n",
       "    </tr>\n",
       "    <tr>\n",
       "      <th>2</th>\n",
       "      <td>msmarco_passage_05_224676265</td>\n",
       "      <td>Hue: This is what we usually mean when we ask ...</td>\n",
       "    </tr>\n",
       "    <tr>\n",
       "      <th>3</th>\n",
       "      <td>msmarco_passage_04_168335684</td>\n",
       "      <td>hue = color or a shade of color\\nexample sente...</td>\n",
       "    </tr>\n",
       "    <tr>\n",
       "      <th>4</th>\n",
       "      <td>msmarco_passage_02_769341954</td>\n",
       "      <td>Hue: Hue is what we normally think of as color...</td>\n",
       "    </tr>\n",
       "  </tbody>\n",
       "</table>\n",
       "</div>"
      ],
      "text/plain": [
       "                     passage_id  \\\n",
       "0  msmarco_passage_03_496902198   \n",
       "1  msmarco_passage_35_561149885   \n",
       "2  msmarco_passage_05_224676265   \n",
       "3  msmarco_passage_04_168335684   \n",
       "4  msmarco_passage_02_769341954   \n",
       "\n",
       "                                             passage  \n",
       "0  Let’s dig a little deeper into each. Hues are ...  \n",
       "1  Let’s dig a little deeper into each. Hues are ...  \n",
       "2  Hue: This is what we usually mean when we ask ...  \n",
       "3  hue = color or a shade of color\\nexample sente...  \n",
       "4  Hue: Hue is what we normally think of as color...  "
      ]
     },
     "metadata": {},
     "output_type": "display_data"
    },
    {
     "data": {
      "text/html": [
       "<div>\n",
       "<style scoped>\n",
       "    .dataframe tbody tr th:only-of-type {\n",
       "        vertical-align: middle;\n",
       "    }\n",
       "\n",
       "    .dataframe tbody tr th {\n",
       "        vertical-align: top;\n",
       "    }\n",
       "\n",
       "    .dataframe thead th {\n",
       "        text-align: right;\n",
       "    }\n",
       "</style>\n",
       "<table border=\"1\" class=\"dataframe\">\n",
       "  <thead>\n",
       "    <tr style=\"text-align: right;\">\n",
       "      <th></th>\n",
       "      <th>passage_id</th>\n",
       "      <th>passage</th>\n",
       "    </tr>\n",
       "  </thead>\n",
       "  <tbody>\n",
       "    <tr>\n",
       "      <th>0</th>\n",
       "      <td>msmarco_passage_05_840839268</td>\n",
       "      <td>New Mexico State Symbols. State Nickname: The ...</td>\n",
       "    </tr>\n",
       "    <tr>\n",
       "      <th>1</th>\n",
       "      <td>msmarco_passage_06_203354916</td>\n",
       "      <td>Land of Enchantment. Before Land of Enchantmen...</td>\n",
       "    </tr>\n",
       "    <tr>\n",
       "      <th>2</th>\n",
       "      <td>msmarco_passage_45_489369159</td>\n",
       "      <td>Land of Enchantment. Before Land of Enchantmen...</td>\n",
       "    </tr>\n",
       "    <tr>\n",
       "      <th>3</th>\n",
       "      <td>msmarco_passage_50_676325639</td>\n",
       "      <td>New Mexico State Slogans. Whereas the New Mexi...</td>\n",
       "    </tr>\n",
       "    <tr>\n",
       "      <th>4</th>\n",
       "      <td>msmarco_passage_21_464076261</td>\n",
       "      <td>1 to approximately 99-000. First use of the \"L...</td>\n",
       "    </tr>\n",
       "  </tbody>\n",
       "</table>\n",
       "</div>"
      ],
      "text/plain": [
       "                     passage_id  \\\n",
       "0  msmarco_passage_05_840839268   \n",
       "1  msmarco_passage_06_203354916   \n",
       "2  msmarco_passage_45_489369159   \n",
       "3  msmarco_passage_50_676325639   \n",
       "4  msmarco_passage_21_464076261   \n",
       "\n",
       "                                             passage  \n",
       "0  New Mexico State Symbols. State Nickname: The ...  \n",
       "1  Land of Enchantment. Before Land of Enchantmen...  \n",
       "2  Land of Enchantment. Before Land of Enchantmen...  \n",
       "3  New Mexico State Slogans. Whereas the New Mexi...  \n",
       "4  1 to approximately 99-000. First use of the \"L...  "
      ]
     },
     "metadata": {},
     "output_type": "display_data"
    }
   ],
   "source": [
    "print(train_passage_id_content.shape)\n",
    "print(test_passage_id_content.shape)\n",
    "display(train_passage_id_content.head())\n",
    "display(test_passage_id_content.head())"
   ]
  },
  {
   "cell_type": "markdown",
   "metadata": {},
   "source": [
    "# Text cleaning"
   ]
  },
  {
   "cell_type": "markdown",
   "metadata": {},
   "source": [
    "## Clean queries for Train and Test"
   ]
  },
  {
   "cell_type": "code",
   "execution_count": 98,
   "metadata": {},
   "outputs": [],
   "source": [
    "# reference: https://www.analyticsvidhya.com/blog/2020/08/information-retrieval-using-word2vec-based-vector-space-model/\n",
    "\n",
    "# Dictionary of english Contractions\n",
    "contractions_dict = { \"ain't\": \"are not\",\"'s\":\" is\",\"aren't\": \"are not\",\"can't\": \"can not\",\"can't've\": \"cannot have\",\n",
    "\"'cause\": \"because\",\"could've\": \"could have\",\"couldn't\": \"could not\",\"couldn't've\": \"could not have\",\n",
    "\"didn't\": \"did not\",\"doesn't\": \"does not\",\"don't\": \"do not\",\"hadn't\": \"had not\",\"hadn't've\": \"had not have\",\n",
    "\"hasn't\": \"has not\",\"haven't\": \"have not\",\"he'd\": \"he would\",\"he'd've\": \"he would have\",\"he'll\": \"he will\",\n",
    "\"he'll've\": \"he will have\",\"how'd\": \"how did\",\"how'd'y\": \"how do you\",\"how'll\": \"how will\",\"i'd\": \"i would\",\n",
    "\"i'd've\": \"i would have\",\"i'll\": \"i will\",\"i'll've\": \"i will have\",\"i'm\": \"i am\",\"i've\": \"i have\",\n",
    "\"isn't\": \"is not\",\"it'd\": \"it would\",\"it'd've\": \"it would have\",\"it'll\": \"it will\",\"it'll've\": \"it will have\",\n",
    "\"let's\": \"let us\",\"ma'am\": \"madam\",\"mayn't\": \"may not\",\"might've\": \"might have\",\"mightn't\": \"might not\",\n",
    "\"mightn't've\": \"might not have\",\"must've\": \"must have\",\"mustn't\": \"must not\",\"mustn't've\": \"must not have\",\n",
    "\"needn't\": \"need not\",\"needn't've\": \"need not have\",\"o'clock\": \"of the clock\",\"oughtn't\": \"ought not\",\n",
    "\"oughtn't've\": \"ought not have\",\"shan't\": \"shall not\",\"sha'n't\": \"shall not\",\n",
    "\"shan't've\": \"shall not have\",\"she'd\": \"she would\",\"she'd've\": \"she would have\",\"she'll\": \"she will\",\n",
    "\"she'll've\": \"she will have\",\"should've\": \"should have\",\"shouldn't\": \"should not\",\n",
    "\"shouldn't've\": \"should not have\",\"so've\": \"so have\",\"that'd\": \"that would\",\"that'd've\": \"that would have\",\n",
    "\"there'd\": \"there would\",\"there'd've\": \"there would have\",\n",
    "\"they'd\": \"they would\",\"they'd've\": \"they would have\",\"they'll\": \"they will\",\"they'll've\": \"they will have\",\n",
    "\"they're\": \"they are\",\"they've\": \"they have\",\"to've\": \"to have\",\"wasn't\": \"was not\",\"we'd\": \"we would\",\n",
    "\"we'd've\": \"we would have\",\"we'll\": \"we will\",\"we'll've\": \"we will have\",\"we're\": \"we are\",\"we've\": \"we have\",\n",
    "\"weren't\": \"were not\",\"what'll\": \"what will\",\"what'll've\": \"what will have\",\"what're\": \"what are\",\n",
    "\"what've\": \"what have\",\"when've\": \"when have\",\"where'd\": \"where did\",\n",
    "\"where've\": \"where have\",\"who'll\": \"who will\",\"who'll've\": \"who will have\",\"who've\": \"who have\",\n",
    "\"why've\": \"why have\",\"will've\": \"will have\",\"won't\": \"will not\",\"won't've\": \"will not have\",\n",
    "\"would've\": \"would have\",\"wouldn't\": \"would not\",\"wouldn't've\": \"would not have\",\"y'all\": \"you all\",\n",
    "\"y'all'd\": \"you all would\",\"y'all'd've\": \"you all would have\",\"y'all're\": \"you all are\",\"y'all've\": \"you all have\",\n",
    "\"you'd\": \"you would\",\"you'd've\": \"you would have\",\"you'll\": \"you will\",\"you'll've\": \"you will have\",\n",
    "\"you're\": \"you are\",\"you've\": \"you have\"}\n",
    "\n",
    "# Regular expression for finding contractions\n",
    "contractions_re=re.compile('(%s)' % '|'.join(contractions_dict.keys()))\n",
    "\n",
    "# Function for expanding contractions\n",
    "def expand_contractions(text,contractions_dict=contractions_dict):\n",
    "    def replace(match):\n",
    "        return contractions_dict[match.group(0)]\n",
    "    return contractions_re.sub(replace, text)"
   ]
  },
  {
   "cell_type": "code",
   "execution_count": 94,
   "metadata": {},
   "outputs": [],
   "source": [
    "# Function for Cleaning Text\n",
    "# remove the words with digits, replace newline characters with space, remove URLs,\n",
    "# and replace everything that isn’t English alphabets with space.\n",
    "\n",
    "def clean_text(text):\n",
    "    text=re.sub('\\w*\\d\\w*','', text)\n",
    "    text=re.sub('\\n',' ',text)\n",
    "    text=re.sub(r\"http\\S+\", \"\", text)\n",
    "    text=re.sub('[^a-z]',' ',text)\n",
    "    return text"
   ]
  },
  {
   "cell_type": "code",
   "execution_count": 99,
   "metadata": {},
   "outputs": [],
   "source": [
    "def clean_query_df(query_df, new_col, orig_col):\n",
    "    # Lowercasing the text\n",
    "    query_df[new_col] = query_df[orig_col].apply(lambda x:x.lower())\n",
    "\n",
    "    # Expanding contractions\n",
    "    query_df[new_col]=query_df[new_col].apply(lambda x:expand_contractions(x))\n",
    "\n",
    "\n",
    "    # Cleaning queries using RegEx\n",
    "    query_df[new_col]= query_df[new_col].apply(lambda x: clean_text(x))\n",
    "\n",
    "\n",
    "    # Removing extra spaces\n",
    "    query_df[new_col] = query_df[new_col].apply(lambda x: re.sub(' +',' ',x))\n",
    "\n",
    "    return query_df\n"
   ]
  },
  {
   "cell_type": "code",
   "execution_count": 100,
   "metadata": {},
   "outputs": [
    {
     "data": {
      "text/html": [
       "<div>\n",
       "<style scoped>\n",
       "    .dataframe tbody tr th:only-of-type {\n",
       "        vertical-align: middle;\n",
       "    }\n",
       "\n",
       "    .dataframe tbody tr th {\n",
       "        vertical-align: top;\n",
       "    }\n",
       "\n",
       "    .dataframe thead th {\n",
       "        text-align: right;\n",
       "    }\n",
       "</style>\n",
       "<table border=\"1\" class=\"dataframe\">\n",
       "  <thead>\n",
       "    <tr style=\"text-align: right;\">\n",
       "      <th></th>\n",
       "      <th>query_id</th>\n",
       "      <th>query</th>\n",
       "      <th>used</th>\n",
       "      <th>passage_id</th>\n",
       "      <th>rank</th>\n",
       "      <th>score</th>\n",
       "      <th>username</th>\n",
       "    </tr>\n",
       "  </thead>\n",
       "  <tbody>\n",
       "    <tr>\n",
       "      <th>0</th>\n",
       "      <td>560129</td>\n",
       "      <td>what are hues</td>\n",
       "      <td>Q0</td>\n",
       "      <td>msmarco_passage_03_496902198</td>\n",
       "      <td>1</td>\n",
       "      <td>8.460100</td>\n",
       "      <td>Anserini</td>\n",
       "    </tr>\n",
       "    <tr>\n",
       "      <th>1</th>\n",
       "      <td>560129</td>\n",
       "      <td>what are hues</td>\n",
       "      <td>Q0</td>\n",
       "      <td>msmarco_passage_35_561149885</td>\n",
       "      <td>2</td>\n",
       "      <td>8.460099</td>\n",
       "      <td>Anserini</td>\n",
       "    </tr>\n",
       "    <tr>\n",
       "      <th>2</th>\n",
       "      <td>560129</td>\n",
       "      <td>what are hues</td>\n",
       "      <td>Q0</td>\n",
       "      <td>msmarco_passage_05_224676265</td>\n",
       "      <td>3</td>\n",
       "      <td>8.176700</td>\n",
       "      <td>Anserini</td>\n",
       "    </tr>\n",
       "    <tr>\n",
       "      <th>3</th>\n",
       "      <td>560129</td>\n",
       "      <td>what are hues</td>\n",
       "      <td>Q0</td>\n",
       "      <td>msmarco_passage_04_168335684</td>\n",
       "      <td>4</td>\n",
       "      <td>8.112500</td>\n",
       "      <td>Anserini</td>\n",
       "    </tr>\n",
       "    <tr>\n",
       "      <th>4</th>\n",
       "      <td>560129</td>\n",
       "      <td>what are hues</td>\n",
       "      <td>Q0</td>\n",
       "      <td>msmarco_passage_02_769341954</td>\n",
       "      <td>5</td>\n",
       "      <td>8.085500</td>\n",
       "      <td>Anserini</td>\n",
       "    </tr>\n",
       "  </tbody>\n",
       "</table>\n",
       "</div>"
      ],
      "text/plain": [
       "   query_id          query used                    passage_id  rank     score  \\\n",
       "0    560129  what are hues   Q0  msmarco_passage_03_496902198     1  8.460100   \n",
       "1    560129  what are hues   Q0  msmarco_passage_35_561149885     2  8.460099   \n",
       "2    560129  what are hues   Q0  msmarco_passage_05_224676265     3  8.176700   \n",
       "3    560129  what are hues   Q0  msmarco_passage_04_168335684     4  8.112500   \n",
       "4    560129  what are hues   Q0  msmarco_passage_02_769341954     5  8.085500   \n",
       "\n",
       "   username  \n",
       "0  Anserini  \n",
       "1  Anserini  \n",
       "2  Anserini  \n",
       "3  Anserini  \n",
       "4  Anserini  "
      ]
     },
     "execution_count": 100,
     "metadata": {},
     "output_type": "execute_result"
    }
   ],
   "source": [
    "query_train_set_with_passage_info.head()"
   ]
  },
  {
   "cell_type": "code",
   "execution_count": 104,
   "metadata": {},
   "outputs": [
    {
     "data": {
      "text/html": [
       "<div>\n",
       "<style scoped>\n",
       "    .dataframe tbody tr th:only-of-type {\n",
       "        vertical-align: middle;\n",
       "    }\n",
       "\n",
       "    .dataframe tbody tr th {\n",
       "        vertical-align: top;\n",
       "    }\n",
       "\n",
       "    .dataframe thead th {\n",
       "        text-align: right;\n",
       "    }\n",
       "</style>\n",
       "<table border=\"1\" class=\"dataframe\">\n",
       "  <thead>\n",
       "    <tr style=\"text-align: right;\">\n",
       "      <th></th>\n",
       "      <th>query_id</th>\n",
       "      <th>query</th>\n",
       "      <th>used</th>\n",
       "      <th>passage_id</th>\n",
       "      <th>rank</th>\n",
       "      <th>score</th>\n",
       "      <th>username</th>\n",
       "      <th>query_cleaned</th>\n",
       "    </tr>\n",
       "  </thead>\n",
       "  <tbody>\n",
       "    <tr>\n",
       "      <th>0</th>\n",
       "      <td>916247</td>\n",
       "      <td>what us state bears the slogan the land enchan...</td>\n",
       "      <td>Q0</td>\n",
       "      <td>msmarco_passage_05_840839268</td>\n",
       "      <td>1</td>\n",
       "      <td>16.004101</td>\n",
       "      <td>Anserini</td>\n",
       "      <td>what us state bears the slogan the land enchan...</td>\n",
       "    </tr>\n",
       "    <tr>\n",
       "      <th>1</th>\n",
       "      <td>916247</td>\n",
       "      <td>what us state bears the slogan the land enchan...</td>\n",
       "      <td>Q0</td>\n",
       "      <td>msmarco_passage_06_203354916</td>\n",
       "      <td>2</td>\n",
       "      <td>15.715500</td>\n",
       "      <td>Anserini</td>\n",
       "      <td>what us state bears the slogan the land enchan...</td>\n",
       "    </tr>\n",
       "    <tr>\n",
       "      <th>2</th>\n",
       "      <td>916247</td>\n",
       "      <td>what us state bears the slogan the land enchan...</td>\n",
       "      <td>Q0</td>\n",
       "      <td>msmarco_passage_45_489369159</td>\n",
       "      <td>3</td>\n",
       "      <td>15.715499</td>\n",
       "      <td>Anserini</td>\n",
       "      <td>what us state bears the slogan the land enchan...</td>\n",
       "    </tr>\n",
       "    <tr>\n",
       "      <th>3</th>\n",
       "      <td>916247</td>\n",
       "      <td>what us state bears the slogan the land enchan...</td>\n",
       "      <td>Q0</td>\n",
       "      <td>msmarco_passage_50_676325639</td>\n",
       "      <td>4</td>\n",
       "      <td>14.983700</td>\n",
       "      <td>Anserini</td>\n",
       "      <td>what us state bears the slogan the land enchan...</td>\n",
       "    </tr>\n",
       "    <tr>\n",
       "      <th>4</th>\n",
       "      <td>916247</td>\n",
       "      <td>what us state bears the slogan the land enchan...</td>\n",
       "      <td>Q0</td>\n",
       "      <td>msmarco_passage_21_464076261</td>\n",
       "      <td>5</td>\n",
       "      <td>14.347200</td>\n",
       "      <td>Anserini</td>\n",
       "      <td>what us state bears the slogan the land enchan...</td>\n",
       "    </tr>\n",
       "  </tbody>\n",
       "</table>\n",
       "</div>"
      ],
      "text/plain": [
       "   query_id                                              query used  \\\n",
       "0    916247  what us state bears the slogan the land enchan...   Q0   \n",
       "1    916247  what us state bears the slogan the land enchan...   Q0   \n",
       "2    916247  what us state bears the slogan the land enchan...   Q0   \n",
       "3    916247  what us state bears the slogan the land enchan...   Q0   \n",
       "4    916247  what us state bears the slogan the land enchan...   Q0   \n",
       "\n",
       "                     passage_id  rank      score  username  \\\n",
       "0  msmarco_passage_05_840839268     1  16.004101  Anserini   \n",
       "1  msmarco_passage_06_203354916     2  15.715500  Anserini   \n",
       "2  msmarco_passage_45_489369159     3  15.715499  Anserini   \n",
       "3  msmarco_passage_50_676325639     4  14.983700  Anserini   \n",
       "4  msmarco_passage_21_464076261     5  14.347200  Anserini   \n",
       "\n",
       "                                       query_cleaned  \n",
       "0  what us state bears the slogan the land enchan...  \n",
       "1  what us state bears the slogan the land enchan...  \n",
       "2  what us state bears the slogan the land enchan...  \n",
       "3  what us state bears the slogan the land enchan...  \n",
       "4  what us state bears the slogan the land enchan...  "
      ]
     },
     "execution_count": 104,
     "metadata": {},
     "output_type": "execute_result"
    }
   ],
   "source": [
    "query_test_set_with_passage_info.head()"
   ]
  },
  {
   "cell_type": "code",
   "execution_count": 101,
   "metadata": {},
   "outputs": [
    {
     "name": "stderr",
     "output_type": "stream",
     "text": [
      "/tmp/ipykernel_2737392/140900726.py:3: SettingWithCopyWarning: \n",
      "A value is trying to be set on a copy of a slice from a DataFrame.\n",
      "Try using .loc[row_indexer,col_indexer] = value instead\n",
      "\n",
      "See the caveats in the documentation: https://pandas.pydata.org/pandas-docs/stable/user_guide/indexing.html#returning-a-view-versus-a-copy\n",
      "  query_df[new_col] = query_df[orig_col].apply(lambda x:x.lower())\n",
      "/tmp/ipykernel_2737392/140900726.py:6: SettingWithCopyWarning: \n",
      "A value is trying to be set on a copy of a slice from a DataFrame.\n",
      "Try using .loc[row_indexer,col_indexer] = value instead\n",
      "\n",
      "See the caveats in the documentation: https://pandas.pydata.org/pandas-docs/stable/user_guide/indexing.html#returning-a-view-versus-a-copy\n",
      "  query_df[new_col]=query_df[new_col].apply(lambda x:expand_contractions(x))\n",
      "/tmp/ipykernel_2737392/140900726.py:10: SettingWithCopyWarning: \n",
      "A value is trying to be set on a copy of a slice from a DataFrame.\n",
      "Try using .loc[row_indexer,col_indexer] = value instead\n",
      "\n",
      "See the caveats in the documentation: https://pandas.pydata.org/pandas-docs/stable/user_guide/indexing.html#returning-a-view-versus-a-copy\n",
      "  query_df[new_col]= query_df[new_col].apply(lambda x: clean_text(x))\n",
      "/tmp/ipykernel_2737392/140900726.py:14: SettingWithCopyWarning: \n",
      "A value is trying to be set on a copy of a slice from a DataFrame.\n",
      "Try using .loc[row_indexer,col_indexer] = value instead\n",
      "\n",
      "See the caveats in the documentation: https://pandas.pydata.org/pandas-docs/stable/user_guide/indexing.html#returning-a-view-versus-a-copy\n",
      "  query_df[new_col] = query_df[new_col].apply(lambda x: re.sub(' +',' ',x))\n",
      "/tmp/ipykernel_2737392/140900726.py:3: SettingWithCopyWarning: \n",
      "A value is trying to be set on a copy of a slice from a DataFrame.\n",
      "Try using .loc[row_indexer,col_indexer] = value instead\n",
      "\n",
      "See the caveats in the documentation: https://pandas.pydata.org/pandas-docs/stable/user_guide/indexing.html#returning-a-view-versus-a-copy\n",
      "  query_df[new_col] = query_df[orig_col].apply(lambda x:x.lower())\n",
      "/tmp/ipykernel_2737392/140900726.py:6: SettingWithCopyWarning: \n",
      "A value is trying to be set on a copy of a slice from a DataFrame.\n",
      "Try using .loc[row_indexer,col_indexer] = value instead\n",
      "\n",
      "See the caveats in the documentation: https://pandas.pydata.org/pandas-docs/stable/user_guide/indexing.html#returning-a-view-versus-a-copy\n",
      "  query_df[new_col]=query_df[new_col].apply(lambda x:expand_contractions(x))\n",
      "/tmp/ipykernel_2737392/140900726.py:10: SettingWithCopyWarning: \n",
      "A value is trying to be set on a copy of a slice from a DataFrame.\n",
      "Try using .loc[row_indexer,col_indexer] = value instead\n",
      "\n",
      "See the caveats in the documentation: https://pandas.pydata.org/pandas-docs/stable/user_guide/indexing.html#returning-a-view-versus-a-copy\n",
      "  query_df[new_col]= query_df[new_col].apply(lambda x: clean_text(x))\n",
      "/tmp/ipykernel_2737392/140900726.py:14: SettingWithCopyWarning: \n",
      "A value is trying to be set on a copy of a slice from a DataFrame.\n",
      "Try using .loc[row_indexer,col_indexer] = value instead\n",
      "\n",
      "See the caveats in the documentation: https://pandas.pydata.org/pandas-docs/stable/user_guide/indexing.html#returning-a-view-versus-a-copy\n",
      "  query_df[new_col] = query_df[new_col].apply(lambda x: re.sub(' +',' ',x))\n"
     ]
    }
   ],
   "source": [
    "query_train_set_with_passage_info_cleaned = clean_query_df(query_train_set_with_passage_info\n",
    "                                                    , \"query_cleaned\"\n",
    "                                                    , \"query\")\n",
    "\n",
    "query_test_set_with_passage_info_cleaned = clean_query_df(query_test_set_with_passage_info\n",
    "                                                    , \"query_cleaned\"\n",
    "                                                    , \"query\")"
   ]
  },
  {
   "cell_type": "code",
   "execution_count": 102,
   "metadata": {},
   "outputs": [
    {
     "data": {
      "text/html": [
       "<div>\n",
       "<style scoped>\n",
       "    .dataframe tbody tr th:only-of-type {\n",
       "        vertical-align: middle;\n",
       "    }\n",
       "\n",
       "    .dataframe tbody tr th {\n",
       "        vertical-align: top;\n",
       "    }\n",
       "\n",
       "    .dataframe thead th {\n",
       "        text-align: right;\n",
       "    }\n",
       "</style>\n",
       "<table border=\"1\" class=\"dataframe\">\n",
       "  <thead>\n",
       "    <tr style=\"text-align: right;\">\n",
       "      <th></th>\n",
       "      <th>query_id</th>\n",
       "      <th>query</th>\n",
       "      <th>used</th>\n",
       "      <th>passage_id</th>\n",
       "      <th>rank</th>\n",
       "      <th>score</th>\n",
       "      <th>username</th>\n",
       "      <th>query_cleaned</th>\n",
       "    </tr>\n",
       "  </thead>\n",
       "  <tbody>\n",
       "    <tr>\n",
       "      <th>0</th>\n",
       "      <td>560129</td>\n",
       "      <td>what are hues</td>\n",
       "      <td>Q0</td>\n",
       "      <td>msmarco_passage_03_496902198</td>\n",
       "      <td>1</td>\n",
       "      <td>8.460100</td>\n",
       "      <td>Anserini</td>\n",
       "      <td>what are hues</td>\n",
       "    </tr>\n",
       "    <tr>\n",
       "      <th>1</th>\n",
       "      <td>560129</td>\n",
       "      <td>what are hues</td>\n",
       "      <td>Q0</td>\n",
       "      <td>msmarco_passage_35_561149885</td>\n",
       "      <td>2</td>\n",
       "      <td>8.460099</td>\n",
       "      <td>Anserini</td>\n",
       "      <td>what are hues</td>\n",
       "    </tr>\n",
       "    <tr>\n",
       "      <th>2</th>\n",
       "      <td>560129</td>\n",
       "      <td>what are hues</td>\n",
       "      <td>Q0</td>\n",
       "      <td>msmarco_passage_05_224676265</td>\n",
       "      <td>3</td>\n",
       "      <td>8.176700</td>\n",
       "      <td>Anserini</td>\n",
       "      <td>what are hues</td>\n",
       "    </tr>\n",
       "    <tr>\n",
       "      <th>3</th>\n",
       "      <td>560129</td>\n",
       "      <td>what are hues</td>\n",
       "      <td>Q0</td>\n",
       "      <td>msmarco_passage_04_168335684</td>\n",
       "      <td>4</td>\n",
       "      <td>8.112500</td>\n",
       "      <td>Anserini</td>\n",
       "      <td>what are hues</td>\n",
       "    </tr>\n",
       "    <tr>\n",
       "      <th>4</th>\n",
       "      <td>560129</td>\n",
       "      <td>what are hues</td>\n",
       "      <td>Q0</td>\n",
       "      <td>msmarco_passage_02_769341954</td>\n",
       "      <td>5</td>\n",
       "      <td>8.085500</td>\n",
       "      <td>Anserini</td>\n",
       "      <td>what are hues</td>\n",
       "    </tr>\n",
       "  </tbody>\n",
       "</table>\n",
       "</div>"
      ],
      "text/plain": [
       "   query_id          query used                    passage_id  rank     score  \\\n",
       "0    560129  what are hues   Q0  msmarco_passage_03_496902198     1  8.460100   \n",
       "1    560129  what are hues   Q0  msmarco_passage_35_561149885     2  8.460099   \n",
       "2    560129  what are hues   Q0  msmarco_passage_05_224676265     3  8.176700   \n",
       "3    560129  what are hues   Q0  msmarco_passage_04_168335684     4  8.112500   \n",
       "4    560129  what are hues   Q0  msmarco_passage_02_769341954     5  8.085500   \n",
       "\n",
       "   username  query_cleaned  \n",
       "0  Anserini  what are hues  \n",
       "1  Anserini  what are hues  \n",
       "2  Anserini  what are hues  \n",
       "3  Anserini  what are hues  \n",
       "4  Anserini  what are hues  "
      ]
     },
     "execution_count": 102,
     "metadata": {},
     "output_type": "execute_result"
    }
   ],
   "source": [
    "query_train_set_with_passage_info_cleaned.head()"
   ]
  },
  {
   "cell_type": "code",
   "execution_count": 103,
   "metadata": {},
   "outputs": [
    {
     "data": {
      "text/html": [
       "<div>\n",
       "<style scoped>\n",
       "    .dataframe tbody tr th:only-of-type {\n",
       "        vertical-align: middle;\n",
       "    }\n",
       "\n",
       "    .dataframe tbody tr th {\n",
       "        vertical-align: top;\n",
       "    }\n",
       "\n",
       "    .dataframe thead th {\n",
       "        text-align: right;\n",
       "    }\n",
       "</style>\n",
       "<table border=\"1\" class=\"dataframe\">\n",
       "  <thead>\n",
       "    <tr style=\"text-align: right;\">\n",
       "      <th></th>\n",
       "      <th>query_id</th>\n",
       "      <th>query</th>\n",
       "      <th>used</th>\n",
       "      <th>passage_id</th>\n",
       "      <th>rank</th>\n",
       "      <th>score</th>\n",
       "      <th>username</th>\n",
       "      <th>query_cleaned</th>\n",
       "    </tr>\n",
       "  </thead>\n",
       "  <tbody>\n",
       "    <tr>\n",
       "      <th>0</th>\n",
       "      <td>916247</td>\n",
       "      <td>what us state bears the slogan the land enchan...</td>\n",
       "      <td>Q0</td>\n",
       "      <td>msmarco_passage_05_840839268</td>\n",
       "      <td>1</td>\n",
       "      <td>16.004101</td>\n",
       "      <td>Anserini</td>\n",
       "      <td>what us state bears the slogan the land enchan...</td>\n",
       "    </tr>\n",
       "    <tr>\n",
       "      <th>1</th>\n",
       "      <td>916247</td>\n",
       "      <td>what us state bears the slogan the land enchan...</td>\n",
       "      <td>Q0</td>\n",
       "      <td>msmarco_passage_06_203354916</td>\n",
       "      <td>2</td>\n",
       "      <td>15.715500</td>\n",
       "      <td>Anserini</td>\n",
       "      <td>what us state bears the slogan the land enchan...</td>\n",
       "    </tr>\n",
       "    <tr>\n",
       "      <th>2</th>\n",
       "      <td>916247</td>\n",
       "      <td>what us state bears the slogan the land enchan...</td>\n",
       "      <td>Q0</td>\n",
       "      <td>msmarco_passage_45_489369159</td>\n",
       "      <td>3</td>\n",
       "      <td>15.715499</td>\n",
       "      <td>Anserini</td>\n",
       "      <td>what us state bears the slogan the land enchan...</td>\n",
       "    </tr>\n",
       "    <tr>\n",
       "      <th>3</th>\n",
       "      <td>916247</td>\n",
       "      <td>what us state bears the slogan the land enchan...</td>\n",
       "      <td>Q0</td>\n",
       "      <td>msmarco_passage_50_676325639</td>\n",
       "      <td>4</td>\n",
       "      <td>14.983700</td>\n",
       "      <td>Anserini</td>\n",
       "      <td>what us state bears the slogan the land enchan...</td>\n",
       "    </tr>\n",
       "    <tr>\n",
       "      <th>4</th>\n",
       "      <td>916247</td>\n",
       "      <td>what us state bears the slogan the land enchan...</td>\n",
       "      <td>Q0</td>\n",
       "      <td>msmarco_passage_21_464076261</td>\n",
       "      <td>5</td>\n",
       "      <td>14.347200</td>\n",
       "      <td>Anserini</td>\n",
       "      <td>what us state bears the slogan the land enchan...</td>\n",
       "    </tr>\n",
       "  </tbody>\n",
       "</table>\n",
       "</div>"
      ],
      "text/plain": [
       "   query_id                                              query used  \\\n",
       "0    916247  what us state bears the slogan the land enchan...   Q0   \n",
       "1    916247  what us state bears the slogan the land enchan...   Q0   \n",
       "2    916247  what us state bears the slogan the land enchan...   Q0   \n",
       "3    916247  what us state bears the slogan the land enchan...   Q0   \n",
       "4    916247  what us state bears the slogan the land enchan...   Q0   \n",
       "\n",
       "                     passage_id  rank      score  username  \\\n",
       "0  msmarco_passage_05_840839268     1  16.004101  Anserini   \n",
       "1  msmarco_passage_06_203354916     2  15.715500  Anserini   \n",
       "2  msmarco_passage_45_489369159     3  15.715499  Anserini   \n",
       "3  msmarco_passage_50_676325639     4  14.983700  Anserini   \n",
       "4  msmarco_passage_21_464076261     5  14.347200  Anserini   \n",
       "\n",
       "                                       query_cleaned  \n",
       "0  what us state bears the slogan the land enchan...  \n",
       "1  what us state bears the slogan the land enchan...  \n",
       "2  what us state bears the slogan the land enchan...  \n",
       "3  what us state bears the slogan the land enchan...  \n",
       "4  what us state bears the slogan the land enchan...  "
      ]
     },
     "execution_count": 103,
     "metadata": {},
     "output_type": "execute_result"
    }
   ],
   "source": [
    "query_test_set_with_passage_info_cleaned.head()"
   ]
  },
  {
   "cell_type": "markdown",
   "metadata": {},
   "source": [
    "## Clean passages for Train and Test"
   ]
  },
  {
   "cell_type": "code",
   "execution_count": 107,
   "metadata": {},
   "outputs": [],
   "source": [
    "def clean_corpus(corpus_df, new_col, orig_col):\n",
    "\n",
    "    # Lowercasing the text\n",
    "    corpus_df[new_col] = corpus_df[orig_col].apply(lambda x:x.lower())\n",
    "\n",
    "\n",
    "    # Expanding Contractions\n",
    "    corpus_df[new_col] = corpus_df[new_col].apply(lambda x:expand_contractions(x))\n",
    "\n",
    "\n",
    "    # Cleaning corpus using RegEx\n",
    "    corpus_df[new_col] = corpus_df[new_col].apply(lambda x: clean_text(x))\n",
    "\n",
    "\n",
    "    # Removing extra spaces\n",
    "    corpus_df[new_col] = corpus_df[new_col].apply(lambda x: re.sub(' +',' ',x))\n",
    "\n",
    "\n",
    "    # Stopwords removal & Lemmatizing tokens using SpaCy\n",
    "\n",
    "    nlp = spacy.load('en_core_web_sm',disable=['ner','parser'])\n",
    "    nlp.max_length=5000000\n",
    "\n",
    "    # Removing Stopwords and Lemmatizing words\n",
    "    corpus_df[new_col + '_lemmatized'] = corpus_df[new_col].progress_apply(lambda x: ' '.join([token.lemma_ for token in list(nlp(x)) if (token.is_stop==False)]))\n",
    "    return corpus_df"
   ]
  },
  {
   "cell_type": "code",
   "execution_count": 130,
   "metadata": {},
   "outputs": [
    {
     "data": {
      "text/html": [
       "<div>\n",
       "<style scoped>\n",
       "    .dataframe tbody tr th:only-of-type {\n",
       "        vertical-align: middle;\n",
       "    }\n",
       "\n",
       "    .dataframe tbody tr th {\n",
       "        vertical-align: top;\n",
       "    }\n",
       "\n",
       "    .dataframe thead th {\n",
       "        text-align: right;\n",
       "    }\n",
       "</style>\n",
       "<table border=\"1\" class=\"dataframe\">\n",
       "  <thead>\n",
       "    <tr style=\"text-align: right;\">\n",
       "      <th></th>\n",
       "      <th>passage_id</th>\n",
       "      <th>passage</th>\n",
       "    </tr>\n",
       "  </thead>\n",
       "  <tbody>\n",
       "    <tr>\n",
       "      <th>0</th>\n",
       "      <td>msmarco_passage_03_496902198</td>\n",
       "      <td>Let’s dig a little deeper into each. Hues are ...</td>\n",
       "    </tr>\n",
       "    <tr>\n",
       "      <th>1</th>\n",
       "      <td>msmarco_passage_35_561149885</td>\n",
       "      <td>Let’s dig a little deeper into each. Hues are ...</td>\n",
       "    </tr>\n",
       "    <tr>\n",
       "      <th>2</th>\n",
       "      <td>msmarco_passage_05_224676265</td>\n",
       "      <td>Hue: This is what we usually mean when we ask ...</td>\n",
       "    </tr>\n",
       "    <tr>\n",
       "      <th>3</th>\n",
       "      <td>msmarco_passage_04_168335684</td>\n",
       "      <td>hue = color or a shade of color\\nexample sente...</td>\n",
       "    </tr>\n",
       "    <tr>\n",
       "      <th>4</th>\n",
       "      <td>msmarco_passage_02_769341954</td>\n",
       "      <td>Hue: Hue is what we normally think of as color...</td>\n",
       "    </tr>\n",
       "  </tbody>\n",
       "</table>\n",
       "</div>"
      ],
      "text/plain": [
       "                     passage_id  \\\n",
       "0  msmarco_passage_03_496902198   \n",
       "1  msmarco_passage_35_561149885   \n",
       "2  msmarco_passage_05_224676265   \n",
       "3  msmarco_passage_04_168335684   \n",
       "4  msmarco_passage_02_769341954   \n",
       "\n",
       "                                             passage  \n",
       "0  Let’s dig a little deeper into each. Hues are ...  \n",
       "1  Let’s dig a little deeper into each. Hues are ...  \n",
       "2  Hue: This is what we usually mean when we ask ...  \n",
       "3  hue = color or a shade of color\\nexample sente...  \n",
       "4  Hue: Hue is what we normally think of as color...  "
      ]
     },
     "metadata": {},
     "output_type": "display_data"
    }
   ],
   "source": [
    "display(train_passage_id_content.head())"
   ]
  },
  {
   "cell_type": "code",
   "execution_count": 135,
   "metadata": {},
   "outputs": [
    {
     "data": {
      "application/vnd.jupyter.widget-view+json": {
       "model_id": "bbc43f230e2341a6adaa4214add07ab7",
       "version_major": 2,
       "version_minor": 0
      },
      "text/plain": [
       "  0%|          | 0/9981 [00:00<?, ?it/s]"
      ]
     },
     "metadata": {},
     "output_type": "display_data"
    }
   ],
   "source": [
    "train_passage_id_content_cleaned = clean_corpus(train_passage_id_content\n",
    "             , \"passage_cleaned\", \"passage\")"
   ]
  },
  {
   "cell_type": "code",
   "execution_count": 136,
   "metadata": {},
   "outputs": [
    {
     "data": {
      "application/vnd.jupyter.widget-view+json": {
       "model_id": "b55d6a98d8974e44b970d2822ae6e6d5",
       "version_major": 2,
       "version_minor": 0
      },
      "text/plain": [
       "  0%|          | 0/9969 [00:00<?, ?it/s]"
      ]
     },
     "metadata": {},
     "output_type": "display_data"
    }
   ],
   "source": [
    "\n",
    "test_passage_id_content_cleaned = clean_corpus(test_passage_id_content\n",
    "             , \"passage_cleaned\", \"passage\")\n"
   ]
  },
  {
   "cell_type": "code",
   "execution_count": 137,
   "metadata": {},
   "outputs": [
    {
     "data": {
      "text/html": [
       "<div>\n",
       "<style scoped>\n",
       "    .dataframe tbody tr th:only-of-type {\n",
       "        vertical-align: middle;\n",
       "    }\n",
       "\n",
       "    .dataframe tbody tr th {\n",
       "        vertical-align: top;\n",
       "    }\n",
       "\n",
       "    .dataframe thead th {\n",
       "        text-align: right;\n",
       "    }\n",
       "</style>\n",
       "<table border=\"1\" class=\"dataframe\">\n",
       "  <thead>\n",
       "    <tr style=\"text-align: right;\">\n",
       "      <th></th>\n",
       "      <th>passage_id</th>\n",
       "      <th>passage</th>\n",
       "      <th>passage_cleaned</th>\n",
       "      <th>passage_cleaned_lemmatized</th>\n",
       "    </tr>\n",
       "  </thead>\n",
       "  <tbody>\n",
       "    <tr>\n",
       "      <th>0</th>\n",
       "      <td>msmarco_passage_03_496902198</td>\n",
       "      <td>Let’s dig a little deeper into each. Hues are ...</td>\n",
       "      <td>let s dig a little deeper into each hues are c...</td>\n",
       "      <td>let s dig little deeply hue color hue dependen...</td>\n",
       "    </tr>\n",
       "    <tr>\n",
       "      <th>1</th>\n",
       "      <td>msmarco_passage_35_561149885</td>\n",
       "      <td>Let’s dig a little deeper into each. Hues are ...</td>\n",
       "      <td>let s dig a little deeper into each hues are c...</td>\n",
       "      <td>let s dig little deeply hue color hue dependen...</td>\n",
       "    </tr>\n",
       "    <tr>\n",
       "      <th>2</th>\n",
       "      <td>msmarco_passage_05_224676265</td>\n",
       "      <td>Hue: This is what we usually mean when we ask ...</td>\n",
       "      <td>hue this is what we usually mean when we ask w...</td>\n",
       "      <td>hue usually mean ask color property color actu...</td>\n",
       "    </tr>\n",
       "    <tr>\n",
       "      <th>3</th>\n",
       "      <td>msmarco_passage_04_168335684</td>\n",
       "      <td>hue = color or a shade of color\\nexample sente...</td>\n",
       "      <td>hue color or a shade of color example sentence...</td>\n",
       "      <td>hue color shade color example sentence baby sk...</td>\n",
       "    </tr>\n",
       "    <tr>\n",
       "      <th>4</th>\n",
       "      <td>msmarco_passage_02_769341954</td>\n",
       "      <td>Hue: Hue is what we normally think of as color...</td>\n",
       "      <td>hue hue is what we normally think of as color ...</td>\n",
       "      <td>hue hue normally think color technically hue d...</td>\n",
       "    </tr>\n",
       "  </tbody>\n",
       "</table>\n",
       "</div>"
      ],
      "text/plain": [
       "                     passage_id  \\\n",
       "0  msmarco_passage_03_496902198   \n",
       "1  msmarco_passage_35_561149885   \n",
       "2  msmarco_passage_05_224676265   \n",
       "3  msmarco_passage_04_168335684   \n",
       "4  msmarco_passage_02_769341954   \n",
       "\n",
       "                                             passage  \\\n",
       "0  Let’s dig a little deeper into each. Hues are ...   \n",
       "1  Let’s dig a little deeper into each. Hues are ...   \n",
       "2  Hue: This is what we usually mean when we ask ...   \n",
       "3  hue = color or a shade of color\\nexample sente...   \n",
       "4  Hue: Hue is what we normally think of as color...   \n",
       "\n",
       "                                     passage_cleaned  \\\n",
       "0  let s dig a little deeper into each hues are c...   \n",
       "1  let s dig a little deeper into each hues are c...   \n",
       "2  hue this is what we usually mean when we ask w...   \n",
       "3  hue color or a shade of color example sentence...   \n",
       "4  hue hue is what we normally think of as color ...   \n",
       "\n",
       "                          passage_cleaned_lemmatized  \n",
       "0  let s dig little deeply hue color hue dependen...  \n",
       "1  let s dig little deeply hue color hue dependen...  \n",
       "2  hue usually mean ask color property color actu...  \n",
       "3  hue color shade color example sentence baby sk...  \n",
       "4  hue hue normally think color technically hue d...  "
      ]
     },
     "execution_count": 137,
     "metadata": {},
     "output_type": "execute_result"
    }
   ],
   "source": [
    "train_passage_id_content_cleaned.head()"
   ]
  },
  {
   "cell_type": "code",
   "execution_count": 138,
   "metadata": {},
   "outputs": [
    {
     "data": {
      "text/html": [
       "<div>\n",
       "<style scoped>\n",
       "    .dataframe tbody tr th:only-of-type {\n",
       "        vertical-align: middle;\n",
       "    }\n",
       "\n",
       "    .dataframe tbody tr th {\n",
       "        vertical-align: top;\n",
       "    }\n",
       "\n",
       "    .dataframe thead th {\n",
       "        text-align: right;\n",
       "    }\n",
       "</style>\n",
       "<table border=\"1\" class=\"dataframe\">\n",
       "  <thead>\n",
       "    <tr style=\"text-align: right;\">\n",
       "      <th></th>\n",
       "      <th>passage_id</th>\n",
       "      <th>passage</th>\n",
       "      <th>passage_cleaned</th>\n",
       "      <th>passage_cleaned_lemmatized</th>\n",
       "    </tr>\n",
       "  </thead>\n",
       "  <tbody>\n",
       "    <tr>\n",
       "      <th>0</th>\n",
       "      <td>msmarco_passage_05_840839268</td>\n",
       "      <td>New Mexico State Symbols. State Nickname: The ...</td>\n",
       "      <td>new mexico state symbols state nickname the la...</td>\n",
       "      <td>new mexico state symbols state nickname land e...</td>\n",
       "    </tr>\n",
       "    <tr>\n",
       "      <th>1</th>\n",
       "      <td>msmarco_passage_06_203354916</td>\n",
       "      <td>Land of Enchantment. Before Land of Enchantmen...</td>\n",
       "      <td>land of enchantment before land of enchantment...</td>\n",
       "      <td>land enchantment land enchantment state slogan...</td>\n",
       "    </tr>\n",
       "    <tr>\n",
       "      <th>2</th>\n",
       "      <td>msmarco_passage_45_489369159</td>\n",
       "      <td>Land of Enchantment. Before Land of Enchantmen...</td>\n",
       "      <td>land of enchantment before land of enchantment...</td>\n",
       "      <td>land enchantment land enchantment state slogan...</td>\n",
       "    </tr>\n",
       "    <tr>\n",
       "      <th>3</th>\n",
       "      <td>msmarco_passage_50_676325639</td>\n",
       "      <td>New Mexico State Slogans. Whereas the New Mexi...</td>\n",
       "      <td>new mexico state slogans whereas the new mexic...</td>\n",
       "      <td>new mexico state slogan new mexico state motto...</td>\n",
       "    </tr>\n",
       "    <tr>\n",
       "      <th>4</th>\n",
       "      <td>msmarco_passage_21_464076261</td>\n",
       "      <td>1 to approximately 99-000. First use of the \"L...</td>\n",
       "      <td>to approximately first use of the land of enc...</td>\n",
       "      <td>approximately use land enchantment slogan em...</td>\n",
       "    </tr>\n",
       "  </tbody>\n",
       "</table>\n",
       "</div>"
      ],
      "text/plain": [
       "                     passage_id  \\\n",
       "0  msmarco_passage_05_840839268   \n",
       "1  msmarco_passage_06_203354916   \n",
       "2  msmarco_passage_45_489369159   \n",
       "3  msmarco_passage_50_676325639   \n",
       "4  msmarco_passage_21_464076261   \n",
       "\n",
       "                                             passage  \\\n",
       "0  New Mexico State Symbols. State Nickname: The ...   \n",
       "1  Land of Enchantment. Before Land of Enchantmen...   \n",
       "2  Land of Enchantment. Before Land of Enchantmen...   \n",
       "3  New Mexico State Slogans. Whereas the New Mexi...   \n",
       "4  1 to approximately 99-000. First use of the \"L...   \n",
       "\n",
       "                                     passage_cleaned  \\\n",
       "0  new mexico state symbols state nickname the la...   \n",
       "1  land of enchantment before land of enchantment...   \n",
       "2  land of enchantment before land of enchantment...   \n",
       "3  new mexico state slogans whereas the new mexic...   \n",
       "4   to approximately first use of the land of enc...   \n",
       "\n",
       "                          passage_cleaned_lemmatized  \n",
       "0  new mexico state symbols state nickname land e...  \n",
       "1  land enchantment land enchantment state slogan...  \n",
       "2  land enchantment land enchantment state slogan...  \n",
       "3  new mexico state slogan new mexico state motto...  \n",
       "4    approximately use land enchantment slogan em...  "
      ]
     },
     "execution_count": 138,
     "metadata": {},
     "output_type": "execute_result"
    }
   ],
   "source": [
    "test_passage_id_content_cleaned.head()"
   ]
  },
  {
   "cell_type": "markdown",
   "metadata": {},
   "source": [
    "# Save processed data"
   ]
  },
  {
   "cell_type": "code",
   "execution_count": 141,
   "metadata": {},
   "outputs": [],
   "source": [
    "# query\n",
    "query_train_set_with_passage_info.to_csv(\"./output/query_train_set_with_passage_info.csv\"\n",
    "                                       , index = False)\n",
    "query_test_set_with_passage_info.to_csv(\"./output/query_test_set_with_passage_info.csv\"\n",
    "                                       , index = False)\n",
    "\n",
    "# passage\n",
    "train_passage_id_content_cleaned.to_csv(\"./output/train_passage_id_content_cleaned.csv\"\n",
    "                                       , index = False)\n",
    "test_passage_id_content_cleaned.to_csv(\"./output/test_passage_id_content_cleaned.csv\"\n",
    "                                       , index = False)"
   ]
  },
  {
   "cell_type": "code",
   "execution_count": null,
   "metadata": {},
   "outputs": [],
   "source": []
  }
 ],
 "metadata": {
  "kernelspec": {
   "display_name": "base",
   "language": "python",
   "name": "python3"
  },
  "language_info": {
   "codemirror_mode": {
    "name": "ipython",
    "version": 3
   },
   "file_extension": ".py",
   "mimetype": "text/x-python",
   "name": "python",
   "nbconvert_exporter": "python",
   "pygments_lexer": "ipython3",
   "version": "3.11.4"
  },
  "orig_nbformat": 4
 },
 "nbformat": 4,
 "nbformat_minor": 2
}
