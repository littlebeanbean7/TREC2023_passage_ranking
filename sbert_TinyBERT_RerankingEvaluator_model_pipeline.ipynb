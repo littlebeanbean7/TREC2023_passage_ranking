{
 "cells": [
  {
   "cell_type": "code",
   "execution_count": 79,
   "metadata": {},
   "outputs": [],
   "source": [
    "import pandas as pd\n",
    "import numpy as np\n",
    "import matplotlib.pyplot as plt\n",
    "import logging\n",
    "from sentence_transformers import LoggingHandler, util\n",
    "from datetime import datetime\n",
    "from sentence_transformers.cross_encoder import CrossEncoder\n",
    "from torch.utils.data import DataLoader\n",
    "from sentence_transformers.cross_encoder.evaluation import CERerankingEvaluator, CEBinaryClassificationEvaluator\n",
    "import gzip\n",
    "import os\n",
    "import tarfile\n",
    "from sentence_transformers import InputExample, losses\n",
    "from datetime import datetime"
   ]
  },
  {
   "cell_type": "code",
   "execution_count": 2,
   "metadata": {},
   "outputs": [],
   "source": [
    "#### Just some code to print debug information to stdout\n",
    "logging.basicConfig(\n",
    "    format=\"%(asctime)s - %(message)s\", datefmt=\"%Y-%m-%d %H:%M:%S\", level=logging.INFO, handlers=[LoggingHandler()]\n",
    ")\n",
    "#### /print debug information to stdout"
   ]
  },
  {
   "cell_type": "code",
   "execution_count": 3,
   "metadata": {},
   "outputs": [],
   "source": [
    "# query\n",
    "query_train = pd.read_csv(\"./output/query_train_set_with_passage_info.csv\")\n",
    "query_test =pd.read_csv(\"./output/query_test_set_with_passage_info.csv\")\n",
    "\n",
    "# passage\n",
    "passage_train = pd.read_csv(\"./output/train_passage_id_content_cleaned.csv\")\n",
    "passage_test = pd.read_csv(\"./output/test_passage_id_content_cleaned.csv\")"
   ]
  },
  {
   "cell_type": "code",
   "execution_count": 4,
   "metadata": {},
   "outputs": [
    {
     "name": "stdout",
     "output_type": "stream",
     "text": [
      "(19898, 4)\n",
      "(19893, 4)\n"
     ]
    }
   ],
   "source": [
    "print(passage_train.shape)\n",
    "print(passage_test.shape)"
   ]
  },
  {
   "cell_type": "code",
   "execution_count": 5,
   "metadata": {},
   "outputs": [],
   "source": [
    "from sklearn.model_selection import train_test_split\n",
    "\n",
    "query_train, query_val = train_test_split(query_train, test_size=0.3)"
   ]
  },
  {
   "cell_type": "code",
   "execution_count": 85,
   "metadata": {},
   "outputs": [],
   "source": [
    "# query_train.to_csv(\"./output/query_train_set_with_passage_info_14000.csv\"\n",
    "#                                        , index = False)\n",
    "# query_val.to_csv(\"./output/query_val_set_with_passage_info_6000.csv\"\n",
    "#                                        , index = False)"
   ]
  },
  {
   "cell_type": "code",
   "execution_count": 6,
   "metadata": {},
   "outputs": [
    {
     "data": {
      "text/html": [
       "<div>\n",
       "<style scoped>\n",
       "    .dataframe tbody tr th:only-of-type {\n",
       "        vertical-align: middle;\n",
       "    }\n",
       "\n",
       "    .dataframe tbody tr th {\n",
       "        vertical-align: top;\n",
       "    }\n",
       "\n",
       "    .dataframe thead th {\n",
       "        text-align: right;\n",
       "    }\n",
       "</style>\n",
       "<table border=\"1\" class=\"dataframe\">\n",
       "  <thead>\n",
       "    <tr style=\"text-align: right;\">\n",
       "      <th></th>\n",
       "      <th>query_id</th>\n",
       "      <th>query</th>\n",
       "      <th>used</th>\n",
       "      <th>passage_id</th>\n",
       "      <th>rank</th>\n",
       "      <th>score</th>\n",
       "      <th>username</th>\n",
       "      <th>rel</th>\n",
       "      <th>query_cleaned</th>\n",
       "    </tr>\n",
       "  </thead>\n",
       "  <tbody>\n",
       "    <tr>\n",
       "      <th>440</th>\n",
       "      <td>413331</td>\n",
       "      <td>is israel a desert?</td>\n",
       "      <td>Q0</td>\n",
       "      <td>msmarco_passage_17_508217299</td>\n",
       "      <td>1</td>\n",
       "      <td>10.480900</td>\n",
       "      <td>Anserini</td>\n",
       "      <td>1</td>\n",
       "      <td>is israel a desert</td>\n",
       "    </tr>\n",
       "    <tr>\n",
       "      <th>3811</th>\n",
       "      <td>830377</td>\n",
       "      <td>what is the maximum limit for cash while trave...</td>\n",
       "      <td>Q0</td>\n",
       "      <td>msmarco_passage_41_344156877</td>\n",
       "      <td>92</td>\n",
       "      <td>10.648500</td>\n",
       "      <td>Anserini</td>\n",
       "      <td>0</td>\n",
       "      <td>what is the maximum limit for cash while trave...</td>\n",
       "    </tr>\n",
       "    <tr>\n",
       "      <th>13806</th>\n",
       "      <td>1019048</td>\n",
       "      <td>which sentence is written in the active voice?</td>\n",
       "      <td>Q0</td>\n",
       "      <td>msmarco_passage_35_731219214</td>\n",
       "      <td>7</td>\n",
       "      <td>14.647100</td>\n",
       "      <td>Anserini</td>\n",
       "      <td>1</td>\n",
       "      <td>which sentence is written in the active voice</td>\n",
       "    </tr>\n",
       "    <tr>\n",
       "      <th>15736</th>\n",
       "      <td>1164109</td>\n",
       "      <td>what county is belton missouri in</td>\n",
       "      <td>Q0</td>\n",
       "      <td>msmarco_passage_53_115898775</td>\n",
       "      <td>97</td>\n",
       "      <td>10.780499</td>\n",
       "      <td>Anserini</td>\n",
       "      <td>0</td>\n",
       "      <td>what county is belton missouri in</td>\n",
       "    </tr>\n",
       "    <tr>\n",
       "      <th>13220</th>\n",
       "      <td>629100</td>\n",
       "      <td>what does a green dot by a name on facebook mean</td>\n",
       "      <td>Q0</td>\n",
       "      <td>msmarco_passage_22_273231895</td>\n",
       "      <td>1</td>\n",
       "      <td>19.807899</td>\n",
       "      <td>Anserini</td>\n",
       "      <td>1</td>\n",
       "      <td>what does a green dot by a name on facebook mean</td>\n",
       "    </tr>\n",
       "  </tbody>\n",
       "</table>\n",
       "</div>"
      ],
      "text/plain": [
       "       query_id                                              query used  \\\n",
       "440      413331                                is israel a desert?   Q0   \n",
       "3811     830377  what is the maximum limit for cash while trave...   Q0   \n",
       "13806   1019048     which sentence is written in the active voice?   Q0   \n",
       "15736   1164109                  what county is belton missouri in   Q0   \n",
       "13220    629100   what does a green dot by a name on facebook mean   Q0   \n",
       "\n",
       "                         passage_id  rank      score  username  rel  \\\n",
       "440    msmarco_passage_17_508217299     1  10.480900  Anserini    1   \n",
       "3811   msmarco_passage_41_344156877    92  10.648500  Anserini    0   \n",
       "13806  msmarco_passage_35_731219214     7  14.647100  Anserini    1   \n",
       "15736  msmarco_passage_53_115898775    97  10.780499  Anserini    0   \n",
       "13220  msmarco_passage_22_273231895     1  19.807899  Anserini    1   \n",
       "\n",
       "                                           query_cleaned  \n",
       "440                                  is israel a desert   \n",
       "3811   what is the maximum limit for cash while trave...  \n",
       "13806     which sentence is written in the active voice   \n",
       "15736                  what county is belton missouri in  \n",
       "13220   what does a green dot by a name on facebook mean  "
      ]
     },
     "execution_count": 6,
     "metadata": {},
     "output_type": "execute_result"
    }
   ],
   "source": [
    "query_train.head()"
   ]
  },
  {
   "cell_type": "code",
   "execution_count": 7,
   "metadata": {},
   "outputs": [
    {
     "data": {
      "text/html": [
       "<div>\n",
       "<style scoped>\n",
       "    .dataframe tbody tr th:only-of-type {\n",
       "        vertical-align: middle;\n",
       "    }\n",
       "\n",
       "    .dataframe tbody tr th {\n",
       "        vertical-align: top;\n",
       "    }\n",
       "\n",
       "    .dataframe thead th {\n",
       "        text-align: right;\n",
       "    }\n",
       "</style>\n",
       "<table border=\"1\" class=\"dataframe\">\n",
       "  <thead>\n",
       "    <tr style=\"text-align: right;\">\n",
       "      <th></th>\n",
       "      <th>query_id</th>\n",
       "      <th>query</th>\n",
       "      <th>used</th>\n",
       "      <th>passage_id</th>\n",
       "      <th>rank</th>\n",
       "      <th>score</th>\n",
       "      <th>username</th>\n",
       "      <th>rel</th>\n",
       "      <th>query_cleaned</th>\n",
       "    </tr>\n",
       "  </thead>\n",
       "  <tbody>\n",
       "    <tr>\n",
       "      <th>942</th>\n",
       "      <td>62551</td>\n",
       "      <td>can a landlord change the locks</td>\n",
       "      <td>Q0</td>\n",
       "      <td>msmarco_passage_25_703318235</td>\n",
       "      <td>3</td>\n",
       "      <td>13.5804</td>\n",
       "      <td>Anserini</td>\n",
       "      <td>1</td>\n",
       "      <td>can a landlord change the locks</td>\n",
       "    </tr>\n",
       "    <tr>\n",
       "      <th>704</th>\n",
       "      <td>717994</td>\n",
       "      <td>what is anhydrous borax</td>\n",
       "      <td>Q0</td>\n",
       "      <td>msmarco_passage_09_477910738</td>\n",
       "      <td>5</td>\n",
       "      <td>13.8030</td>\n",
       "      <td>Anserini</td>\n",
       "      <td>1</td>\n",
       "      <td>what is anhydrous borax</td>\n",
       "    </tr>\n",
       "    <tr>\n",
       "      <th>13600</th>\n",
       "      <td>637523</td>\n",
       "      <td>what does fertilizer do</td>\n",
       "      <td>Q0</td>\n",
       "      <td>msmarco_passage_47_243186971</td>\n",
       "      <td>1</td>\n",
       "      <td>11.6778</td>\n",
       "      <td>Anserini</td>\n",
       "      <td>1</td>\n",
       "      <td>what does fertilizer do</td>\n",
       "    </tr>\n",
       "    <tr>\n",
       "      <th>2373</th>\n",
       "      <td>151111</td>\n",
       "      <td>different types poison</td>\n",
       "      <td>Q0</td>\n",
       "      <td>msmarco_passage_09_559446520</td>\n",
       "      <td>94</td>\n",
       "      <td>8.5223</td>\n",
       "      <td>Anserini</td>\n",
       "      <td>0</td>\n",
       "      <td>different types poison</td>\n",
       "    </tr>\n",
       "    <tr>\n",
       "      <th>19201</th>\n",
       "      <td>101517</td>\n",
       "      <td>cost for vudu</td>\n",
       "      <td>Q0</td>\n",
       "      <td>msmarco_passage_62_419649434</td>\n",
       "      <td>2</td>\n",
       "      <td>9.9570</td>\n",
       "      <td>Anserini</td>\n",
       "      <td>1</td>\n",
       "      <td>cost for vudu</td>\n",
       "    </tr>\n",
       "  </tbody>\n",
       "</table>\n",
       "</div>"
      ],
      "text/plain": [
       "       query_id                            query used  \\\n",
       "942       62551  can a landlord change the locks   Q0   \n",
       "704      717994          what is anhydrous borax   Q0   \n",
       "13600    637523          what does fertilizer do   Q0   \n",
       "2373     151111           different types poison   Q0   \n",
       "19201    101517                    cost for vudu   Q0   \n",
       "\n",
       "                         passage_id  rank    score  username  rel  \\\n",
       "942    msmarco_passage_25_703318235     3  13.5804  Anserini    1   \n",
       "704    msmarco_passage_09_477910738     5  13.8030  Anserini    1   \n",
       "13600  msmarco_passage_47_243186971     1  11.6778  Anserini    1   \n",
       "2373   msmarco_passage_09_559446520    94   8.5223  Anserini    0   \n",
       "19201  msmarco_passage_62_419649434     2   9.9570  Anserini    1   \n",
       "\n",
       "                         query_cleaned  \n",
       "942    can a landlord change the locks  \n",
       "704            what is anhydrous borax  \n",
       "13600          what does fertilizer do  \n",
       "2373            different types poison  \n",
       "19201                    cost for vudu  "
      ]
     },
     "execution_count": 7,
     "metadata": {},
     "output_type": "execute_result"
    }
   ],
   "source": [
    "query_val.head()"
   ]
  },
  {
   "cell_type": "code",
   "execution_count": 8,
   "metadata": {},
   "outputs": [
    {
     "data": {
      "text/html": [
       "<div>\n",
       "<style scoped>\n",
       "    .dataframe tbody tr th:only-of-type {\n",
       "        vertical-align: middle;\n",
       "    }\n",
       "\n",
       "    .dataframe tbody tr th {\n",
       "        vertical-align: top;\n",
       "    }\n",
       "\n",
       "    .dataframe thead th {\n",
       "        text-align: right;\n",
       "    }\n",
       "</style>\n",
       "<table border=\"1\" class=\"dataframe\">\n",
       "  <thead>\n",
       "    <tr style=\"text-align: right;\">\n",
       "      <th></th>\n",
       "      <th>query_id</th>\n",
       "      <th>query</th>\n",
       "      <th>used</th>\n",
       "      <th>passage_id</th>\n",
       "      <th>rank</th>\n",
       "      <th>score</th>\n",
       "      <th>username</th>\n",
       "      <th>rel</th>\n",
       "      <th>query_cleaned</th>\n",
       "    </tr>\n",
       "  </thead>\n",
       "  <tbody>\n",
       "    <tr>\n",
       "      <th>0</th>\n",
       "      <td>916247</td>\n",
       "      <td>what us state bears the slogan the land enchan...</td>\n",
       "      <td>Q0</td>\n",
       "      <td>msmarco_passage_05_840839268</td>\n",
       "      <td>1</td>\n",
       "      <td>16.004101</td>\n",
       "      <td>Anserini</td>\n",
       "      <td>1</td>\n",
       "      <td>what us state bears the slogan the land enchan...</td>\n",
       "    </tr>\n",
       "    <tr>\n",
       "      <th>1</th>\n",
       "      <td>916247</td>\n",
       "      <td>what us state bears the slogan the land enchan...</td>\n",
       "      <td>Q0</td>\n",
       "      <td>msmarco_passage_06_203354916</td>\n",
       "      <td>2</td>\n",
       "      <td>15.715500</td>\n",
       "      <td>Anserini</td>\n",
       "      <td>1</td>\n",
       "      <td>what us state bears the slogan the land enchan...</td>\n",
       "    </tr>\n",
       "    <tr>\n",
       "      <th>2</th>\n",
       "      <td>916247</td>\n",
       "      <td>what us state bears the slogan the land enchan...</td>\n",
       "      <td>Q0</td>\n",
       "      <td>msmarco_passage_45_489369159</td>\n",
       "      <td>3</td>\n",
       "      <td>15.715499</td>\n",
       "      <td>Anserini</td>\n",
       "      <td>1</td>\n",
       "      <td>what us state bears the slogan the land enchan...</td>\n",
       "    </tr>\n",
       "    <tr>\n",
       "      <th>3</th>\n",
       "      <td>916247</td>\n",
       "      <td>what us state bears the slogan the land enchan...</td>\n",
       "      <td>Q0</td>\n",
       "      <td>msmarco_passage_50_676325639</td>\n",
       "      <td>4</td>\n",
       "      <td>14.983700</td>\n",
       "      <td>Anserini</td>\n",
       "      <td>1</td>\n",
       "      <td>what us state bears the slogan the land enchan...</td>\n",
       "    </tr>\n",
       "    <tr>\n",
       "      <th>4</th>\n",
       "      <td>916247</td>\n",
       "      <td>what us state bears the slogan the land enchan...</td>\n",
       "      <td>Q0</td>\n",
       "      <td>msmarco_passage_21_464076261</td>\n",
       "      <td>5</td>\n",
       "      <td>14.347200</td>\n",
       "      <td>Anserini</td>\n",
       "      <td>1</td>\n",
       "      <td>what us state bears the slogan the land enchan...</td>\n",
       "    </tr>\n",
       "  </tbody>\n",
       "</table>\n",
       "</div>"
      ],
      "text/plain": [
       "   query_id                                              query used  \\\n",
       "0    916247  what us state bears the slogan the land enchan...   Q0   \n",
       "1    916247  what us state bears the slogan the land enchan...   Q0   \n",
       "2    916247  what us state bears the slogan the land enchan...   Q0   \n",
       "3    916247  what us state bears the slogan the land enchan...   Q0   \n",
       "4    916247  what us state bears the slogan the land enchan...   Q0   \n",
       "\n",
       "                     passage_id  rank      score  username  rel  \\\n",
       "0  msmarco_passage_05_840839268     1  16.004101  Anserini    1   \n",
       "1  msmarco_passage_06_203354916     2  15.715500  Anserini    1   \n",
       "2  msmarco_passage_45_489369159     3  15.715499  Anserini    1   \n",
       "3  msmarco_passage_50_676325639     4  14.983700  Anserini    1   \n",
       "4  msmarco_passage_21_464076261     5  14.347200  Anserini    1   \n",
       "\n",
       "                                       query_cleaned  \n",
       "0  what us state bears the slogan the land enchan...  \n",
       "1  what us state bears the slogan the land enchan...  \n",
       "2  what us state bears the slogan the land enchan...  \n",
       "3  what us state bears the slogan the land enchan...  \n",
       "4  what us state bears the slogan the land enchan...  "
      ]
     },
     "execution_count": 8,
     "metadata": {},
     "output_type": "execute_result"
    }
   ],
   "source": [
    "query_test.head()"
   ]
  },
  {
   "cell_type": "code",
   "execution_count": 9,
   "metadata": {},
   "outputs": [
    {
     "name": "stdout",
     "output_type": "stream",
     "text": [
      "(14000, 9)\n",
      "(6000, 9)\n",
      "(20000, 9)\n"
     ]
    }
   ],
   "source": [
    "print(query_train.shape)\n",
    "print(query_val.shape)\n",
    "print(query_test.shape)"
   ]
  },
  {
   "cell_type": "code",
   "execution_count": 10,
   "metadata": {},
   "outputs": [
    {
     "data": {
      "text/html": [
       "<div>\n",
       "<style scoped>\n",
       "    .dataframe tbody tr th:only-of-type {\n",
       "        vertical-align: middle;\n",
       "    }\n",
       "\n",
       "    .dataframe tbody tr th {\n",
       "        vertical-align: top;\n",
       "    }\n",
       "\n",
       "    .dataframe thead th {\n",
       "        text-align: right;\n",
       "    }\n",
       "</style>\n",
       "<table border=\"1\" class=\"dataframe\">\n",
       "  <thead>\n",
       "    <tr style=\"text-align: right;\">\n",
       "      <th></th>\n",
       "      <th>passage_id</th>\n",
       "      <th>passage</th>\n",
       "      <th>passage_cleaned</th>\n",
       "      <th>passage_cleaned_lemmatized</th>\n",
       "    </tr>\n",
       "  </thead>\n",
       "  <tbody>\n",
       "    <tr>\n",
       "      <th>0</th>\n",
       "      <td>msmarco_passage_03_496902198</td>\n",
       "      <td>Let’s dig a little deeper into each. Hues are ...</td>\n",
       "      <td>let s dig a little deeper into each hues are c...</td>\n",
       "      <td>let s dig little deeply hue color hue dependen...</td>\n",
       "    </tr>\n",
       "    <tr>\n",
       "      <th>1</th>\n",
       "      <td>msmarco_passage_35_561149885</td>\n",
       "      <td>Let’s dig a little deeper into each. Hues are ...</td>\n",
       "      <td>let s dig a little deeper into each hues are c...</td>\n",
       "      <td>let s dig little deeply hue color hue dependen...</td>\n",
       "    </tr>\n",
       "    <tr>\n",
       "      <th>2</th>\n",
       "      <td>msmarco_passage_05_224676265</td>\n",
       "      <td>Hue: This is what we usually mean when we ask ...</td>\n",
       "      <td>hue this is what we usually mean when we ask w...</td>\n",
       "      <td>hue usually mean ask color property color actu...</td>\n",
       "    </tr>\n",
       "    <tr>\n",
       "      <th>3</th>\n",
       "      <td>msmarco_passage_04_168335684</td>\n",
       "      <td>hue = color or a shade of color\\nexample sente...</td>\n",
       "      <td>hue color or a shade of color example sentence...</td>\n",
       "      <td>hue color shade color example sentence baby sk...</td>\n",
       "    </tr>\n",
       "    <tr>\n",
       "      <th>4</th>\n",
       "      <td>msmarco_passage_02_769341954</td>\n",
       "      <td>Hue: Hue is what we normally think of as color...</td>\n",
       "      <td>hue hue is what we normally think of as color ...</td>\n",
       "      <td>hue hue normally think color technically hue d...</td>\n",
       "    </tr>\n",
       "  </tbody>\n",
       "</table>\n",
       "</div>"
      ],
      "text/plain": [
       "                     passage_id  \\\n",
       "0  msmarco_passage_03_496902198   \n",
       "1  msmarco_passage_35_561149885   \n",
       "2  msmarco_passage_05_224676265   \n",
       "3  msmarco_passage_04_168335684   \n",
       "4  msmarco_passage_02_769341954   \n",
       "\n",
       "                                             passage  \\\n",
       "0  Let’s dig a little deeper into each. Hues are ...   \n",
       "1  Let’s dig a little deeper into each. Hues are ...   \n",
       "2  Hue: This is what we usually mean when we ask ...   \n",
       "3  hue = color or a shade of color\\nexample sente...   \n",
       "4  Hue: Hue is what we normally think of as color...   \n",
       "\n",
       "                                     passage_cleaned  \\\n",
       "0  let s dig a little deeper into each hues are c...   \n",
       "1  let s dig a little deeper into each hues are c...   \n",
       "2  hue this is what we usually mean when we ask w...   \n",
       "3  hue color or a shade of color example sentence...   \n",
       "4  hue hue is what we normally think of as color ...   \n",
       "\n",
       "                          passage_cleaned_lemmatized  \n",
       "0  let s dig little deeply hue color hue dependen...  \n",
       "1  let s dig little deeply hue color hue dependen...  \n",
       "2  hue usually mean ask color property color actu...  \n",
       "3  hue color shade color example sentence baby sk...  \n",
       "4  hue hue normally think color technically hue d...  "
      ]
     },
     "execution_count": 10,
     "metadata": {},
     "output_type": "execute_result"
    }
   ],
   "source": [
    "passage_train.head()"
   ]
  },
  {
   "cell_type": "code",
   "execution_count": 11,
   "metadata": {},
   "outputs": [
    {
     "data": {
      "text/html": [
       "<div>\n",
       "<style scoped>\n",
       "    .dataframe tbody tr th:only-of-type {\n",
       "        vertical-align: middle;\n",
       "    }\n",
       "\n",
       "    .dataframe tbody tr th {\n",
       "        vertical-align: top;\n",
       "    }\n",
       "\n",
       "    .dataframe thead th {\n",
       "        text-align: right;\n",
       "    }\n",
       "</style>\n",
       "<table border=\"1\" class=\"dataframe\">\n",
       "  <thead>\n",
       "    <tr style=\"text-align: right;\">\n",
       "      <th></th>\n",
       "      <th>query_id</th>\n",
       "      <th>query</th>\n",
       "      <th>used</th>\n",
       "      <th>passage_id</th>\n",
       "      <th>rank</th>\n",
       "      <th>score</th>\n",
       "      <th>username</th>\n",
       "      <th>rel</th>\n",
       "      <th>query_cleaned</th>\n",
       "    </tr>\n",
       "  </thead>\n",
       "  <tbody>\n",
       "    <tr>\n",
       "      <th>440</th>\n",
       "      <td>413331</td>\n",
       "      <td>is israel a desert?</td>\n",
       "      <td>Q0</td>\n",
       "      <td>msmarco_passage_17_508217299</td>\n",
       "      <td>1</td>\n",
       "      <td>10.480900</td>\n",
       "      <td>Anserini</td>\n",
       "      <td>1</td>\n",
       "      <td>is israel a desert</td>\n",
       "    </tr>\n",
       "    <tr>\n",
       "      <th>3811</th>\n",
       "      <td>830377</td>\n",
       "      <td>what is the maximum limit for cash while trave...</td>\n",
       "      <td>Q0</td>\n",
       "      <td>msmarco_passage_41_344156877</td>\n",
       "      <td>92</td>\n",
       "      <td>10.648500</td>\n",
       "      <td>Anserini</td>\n",
       "      <td>0</td>\n",
       "      <td>what is the maximum limit for cash while trave...</td>\n",
       "    </tr>\n",
       "    <tr>\n",
       "      <th>13806</th>\n",
       "      <td>1019048</td>\n",
       "      <td>which sentence is written in the active voice?</td>\n",
       "      <td>Q0</td>\n",
       "      <td>msmarco_passage_35_731219214</td>\n",
       "      <td>7</td>\n",
       "      <td>14.647100</td>\n",
       "      <td>Anserini</td>\n",
       "      <td>1</td>\n",
       "      <td>which sentence is written in the active voice</td>\n",
       "    </tr>\n",
       "    <tr>\n",
       "      <th>15736</th>\n",
       "      <td>1164109</td>\n",
       "      <td>what county is belton missouri in</td>\n",
       "      <td>Q0</td>\n",
       "      <td>msmarco_passage_53_115898775</td>\n",
       "      <td>97</td>\n",
       "      <td>10.780499</td>\n",
       "      <td>Anserini</td>\n",
       "      <td>0</td>\n",
       "      <td>what county is belton missouri in</td>\n",
       "    </tr>\n",
       "    <tr>\n",
       "      <th>13220</th>\n",
       "      <td>629100</td>\n",
       "      <td>what does a green dot by a name on facebook mean</td>\n",
       "      <td>Q0</td>\n",
       "      <td>msmarco_passage_22_273231895</td>\n",
       "      <td>1</td>\n",
       "      <td>19.807899</td>\n",
       "      <td>Anserini</td>\n",
       "      <td>1</td>\n",
       "      <td>what does a green dot by a name on facebook mean</td>\n",
       "    </tr>\n",
       "  </tbody>\n",
       "</table>\n",
       "</div>"
      ],
      "text/plain": [
       "       query_id                                              query used  \\\n",
       "440      413331                                is israel a desert?   Q0   \n",
       "3811     830377  what is the maximum limit for cash while trave...   Q0   \n",
       "13806   1019048     which sentence is written in the active voice?   Q0   \n",
       "15736   1164109                  what county is belton missouri in   Q0   \n",
       "13220    629100   what does a green dot by a name on facebook mean   Q0   \n",
       "\n",
       "                         passage_id  rank      score  username  rel  \\\n",
       "440    msmarco_passage_17_508217299     1  10.480900  Anserini    1   \n",
       "3811   msmarco_passage_41_344156877    92  10.648500  Anserini    0   \n",
       "13806  msmarco_passage_35_731219214     7  14.647100  Anserini    1   \n",
       "15736  msmarco_passage_53_115898775    97  10.780499  Anserini    0   \n",
       "13220  msmarco_passage_22_273231895     1  19.807899  Anserini    1   \n",
       "\n",
       "                                           query_cleaned  \n",
       "440                                  is israel a desert   \n",
       "3811   what is the maximum limit for cash while trave...  \n",
       "13806     which sentence is written in the active voice   \n",
       "15736                  what county is belton missouri in  \n",
       "13220   what does a green dot by a name on facebook mean  "
      ]
     },
     "execution_count": 11,
     "metadata": {},
     "output_type": "execute_result"
    }
   ],
   "source": [
    "query_train.head()"
   ]
  },
  {
   "cell_type": "code",
   "execution_count": 12,
   "metadata": {},
   "outputs": [],
   "source": [
    "def df_to_list(query_df, passage_df):\n",
    "    # returns a list of list\n",
    "    # each sample have a list of [query, passage, score, rel]\n",
    "    list_query_passage_score_rel = []\n",
    "    for index, row in query_df.iterrows():\n",
    "        list = []\n",
    "        list.append(row['query'])\n",
    "        list.append(passage_df[passage_df['passage_id'] == row['passage_id']][\"passage\"].iloc[0])\n",
    "        list.append(row[\"score\"])\n",
    "        list.append(row[\"rel\"])\n",
    "        list_query_passage_score_rel.append(list)\n",
    "    return list_query_passage_score_rel"
   ]
  },
  {
   "cell_type": "code",
   "execution_count": 13,
   "metadata": {},
   "outputs": [],
   "source": [
    "list_query_passage_score_rel_train = df_to_list(query_train, passage_train)"
   ]
  },
  {
   "cell_type": "code",
   "execution_count": 15,
   "metadata": {},
   "outputs": [
    {
     "name": "stdout",
     "output_type": "stream",
     "text": [
      "14000\n"
     ]
    },
    {
     "data": {
      "text/plain": [
       "[['is israel a desert?',\n",
       "  'Nefud Desert - a desert in northern part of the Arabian Peninsula. Ramlat al-Sab`atayn - a desert in north-central Yemen. Wahiba Sands - a desert covering great parts of Oman. Aerial view of Negev. Judaean Desert – a desert in eastern Israel and the West Bank. Negev – a desert located in southern Israel.',\n",
       "  10.4809,\n",
       "  1],\n",
       " ['what is the maximum limit for cash while traveling in usa',\n",
       "  'A. Carry-on baggage limit for Frontier Airlines includes maximum weight limit of 35lbs and maximum dimensions of 10+16+24 inches (L+W+H). Q. What is Frontier Miles? A. Frontier Miles is the loyalty program especially designed for those who travel frequently with the airline.',\n",
       "  10.6485,\n",
       "  0],\n",
       " ['which sentence is written in the active voice?',\n",
       "  'Summary. In a sentence written in the active voice, the subject of sentence performs the action. In a sentence written in the passive voice the subject receives the action. Active is used for most non-scientific writing.',\n",
       "  14.6471,\n",
       "  1]]"
      ]
     },
     "execution_count": 15,
     "metadata": {},
     "output_type": "execute_result"
    }
   ],
   "source": [
    "print(len(list_query_passage_score_rel_train))\n",
    "list_query_passage_score_rel_train[0:3]"
   ]
  },
  {
   "cell_type": "code",
   "execution_count": 32,
   "metadata": {},
   "outputs": [],
   "source": [
    "def produce_evaluation_list(list_qid_eval, query_df, passage_df):\n",
    "    list_eval = []\n",
    "    for qid in list_qid_eval:\n",
    "        dev_samples = {}\n",
    "        #print(qid)\n",
    "        query_all_passage_subset = query_df[query_df[\"query_id\"] == qid]\n",
    "\n",
    "        \n",
    "        #display(query_all_passage_subset)\n",
    "        \n",
    "        dev_samples[\"query\"] = query_all_passage_subset[\"query\"].iloc[0]\n",
    "        dev_samples[\"positive\"] = set()\n",
    "        dev_samples[\"negative\"] = set()\n",
    "        #print(dev_samples)\n",
    "        for index, row in query_all_passage_subset.iterrows():\n",
    "            #display(passage_df[passage_df['passage_id'] == row['passage_id']])\n",
    "\n",
    "            if row['rel'] == 1:\n",
    "                dev_samples[\"positive\"].add(\n",
    "                    passage_df[passage_df['passage_id'] == row['passage_id']][\"passage\"].iloc[0])\n",
    "            elif row['rel'] == 0:\n",
    "                dev_samples[\"negative\"].add(\n",
    "                    passage_df[passage_df['passage_id'] == row['passage_id']][\"passage\"].iloc[0])\n",
    "        #print(dev_samples)\n",
    "        list_eval.append(dev_samples)\n",
    "    return list_eval"
   ]
  },
  {
   "cell_type": "code",
   "execution_count": 34,
   "metadata": {},
   "outputs": [],
   "source": [
    "list_eval = produce_evaluation_list(list_qid_eval = query_val[\"query_id\"].unique()\n",
    ", query_df = query_val\n",
    ", passage_df = passage_train)\n"
   ]
  },
  {
   "cell_type": "code",
   "execution_count": 35,
   "metadata": {},
   "outputs": [
    {
     "name": "stdout",
     "output_type": "stream",
     "text": [
      "999\n"
     ]
    },
    {
     "data": {
      "text/plain": [
       "[{'query': 'can a landlord change the locks',\n",
       "  'positive': {'Changing Locks in Mississippi. Unlike most states, Mississippi landlords can unilaterally change locks for whatever reason. This means that landlords can lock tenants out by changing locks without permission or notice. Tenants may be legally allowed to change locks without permission, but this is discouraged.',\n",
       "   'Changing the Locks in Indiana. Landlords in Indiana are prohibited from changing the locks on a tenant as a form of eviction. Tenants can make a request to change the locks and landlords may be obligated to honor that request depending on the tenant’s status as a domestic abuse victim.',\n",
       "   'Changing the Locks in New Hampshire. Landlords are prohibited from changing locks without the tenants permission and tenants can request a lock change if they are the victim of domestic abuse and the landlord must cover the cost of changing the locks.',\n",
       "   'The landlord may charge a reasonable fee for the expense of the lock change. If a landlord does not change the locks within 48 hours after receiving proper notice, the tenant may change the locks without permission or sue the landlord to have the locks changed.'},\n",
       "  'negative': {'Additionally, tenants may request to have the locks changed if they have been a victim of violence or assault. If they do not reimburse their landlord for the cost within 45 days of the lock change, the landlord may deduct the amount from the security deposit.',\n",
       "   'In underlined or bold print, that you have the right to receive a key to the new lock at any hour, regardless of whether you pay the rent you owe. The notice must also state: The earliest date the landlord proposes to change the locks; The amount of rent you must pay to stop the landlord from changing the locks; and.',\n",
       "   'Landlord Evicted the Tenant Using \"Self-Help\" Procedures. A landlord cannot evict a tenant using \"self-help\" procedures, such as changing the locks on the door to the rental unit or shutting off utilities. If a landlord tries to evict a tenant using unlawful means, the tenant can recover damages from the landlord.',\n",
       "   'No, your landlord usually cannot lock you out. As long as you haven’t abandoned your home, your landlord cannot change the locks, install a deadbolt, take off doors, or do anything to stop you from entering your home. However, your landlord CAN do these things if he has a court order that says he can. The only exception to this rule: If you have not paid or offered to pay your rent AND your home has been abandoned.'}},\n",
       " {'query': 'what is anhydrous borax',\n",
       "  'positive': {'Borax Anhydrous puriss. p.a., anhydrous, >= 98.0 % T | 1330-43-4 | Sigma-Aldrich. Sial-71996; Borax Anhydrous puriss. p.a., anhydrous, >=98.0% (T); CAS No.: 1330-43-4; Synonyms: Sodium tetraborate; Linear Formula: Na2B4O7; Empirical Formula: B4Na2O7; find related products, papers, technical documents, MSDS & more at Sigma-Aldrich. ADVANCED SEARCH.',\n",
       "   'Etibor 48 (Borax 5 Mol) Anhydrous borax. Anhydrous boric acid. Etidot 67 (di-sodium octaborate tetrahydrate) Boric acid. It is further advised to check with American Borate Company’s (ABC) representative to determine if there is an opportunity to sub-register under ABC’s data.',\n",
       "   'OVERVIEW. Sodium tetraborate (SO-dee-um tet-ruh-BOR-ate) is a term used for either the anhydrous or hydrated form of the compound with the formula Na 2 B 4 O 7. The decahydrate (Na 2 B 4 O 7 ·10H 2 O) is also referred to as borax. Borax also occurs without water of hydration and in that form is known as anhydrous borax.',\n",
       "   \"Try googling Dehybor and see what pops, you can also try Anhydrous Borax. Don't know if any of this helps, last thing is check your local welding supply for brazing and welding powder flux as some is made up of borax and little else. Back to top.\",\n",
       "   'What is the Difference Between Borax and Baking Soda? Borax is a common name for either anhydrous or hydrated forms of sodium borate. The general chemical formula of borax is Na 2 B 4 O 7 ·10H 2 O. It has the molar mass 381.38 g/mol.'},\n",
       "  'negative': {'6) Repeat steps 2-4 except, put 3 teaspoons of borax to the water mixture and notice what happens. 7) Use container labeled \"B\" to put the polymer into it and write down 3 teaspoons of borax on the label. 8) Do steps 2-4 but instead, add 5 1/2 teaspoons of borax to the water mixture. Observe what is happening.',\n",
       "   'Steam cleaning carpets with Borax. What you’ll need: Vacuum. Borax. Steam cleaner. Hot water. 1. Remove furniture from the room and vacuum. The ideal ratio is ½ cup of Borax to 1 gallon of hot water.',\n",
       "   'Types of slime activator. Slime Activator List | What Are The Types of Slime Activator |. 1. Borax powder slime activator –. Borax Powder, Slime Activator List | What Are The Types of Slime Activator |/amazon.com. It restricted in few countries. This slime activator made by one teaspoon of borax into a cup of warm water and few other ingredients you will get your activator.',\n",
       "   'What Are Anhydrous Salts? You\\'re likely familiar with several varieties of salt — sea salt, bath salts, table salt — but unless you\\'re a chemist, anhydrous salt is probably a foreign substance. The term \"anhydrous\" itself gives you your first clue. \"An-\" is a prefix for \"without\" and \"hydrous\" indicates water.',\n",
       "   'What are the Uses of Borax? Borax is known to serve as a precursor to several commercially important compounds of boron, the most notable of which being boric acid (which is widely used as an insecticide). It is not uncommon for borax to be used in photographic developers as an alkali.'}},\n",
       " {'query': 'what does fertilizer do',\n",
       "  'positive': {'Contents. What happens if a fertilized egg doesn’t implant? Can a fertilized egg not implant? Why would an embryo fail to implant? What are the signs of successful implantation? What week is the highest risk of miscarriage? Can you feel egg implantation? How do you tell if an egg is fertilized? What side does the egg implant on?',\n",
       "   'Deep Root Fertilization does work. But there are many caveats that should be considered before you decide to use it. The important things to remember when choosing to do (or not do) deep root fertilization is what does the soil report say your soil needs and what type of soil do you have (sandy, clay, silts).',\n",
       "   'Endocrinology and Fertility: The Endocrine System is Vital for Reproductive Health - Natural Fertility Info.com Natural Fertility Info.com. Endocrinology is the study of the endocrine system. The endocrine system is vital for fertility. We use the endocrine system as a reference point for maintaining healthy fertility a lot, but do most of us know what the endocrine system is, or what it does for our body in relation to our fertility?',\n",
       "   'Weeds. Houseplants. You are here: Home / Gardening How-To / Soil & Fertilizers / What is NPK and What Does It Mean? What is NPK and What Does It Mean? By Maxime. You’ve probably seen fertilizer numbers such as 10-10-10 or the acronym NPK in your local garden store and asked yourself: what is NPK? What do the fertilizer numbers mean? or even how does fertilizer work?',\n",
       "   'What Do the Numbers 10, 12 & 8 Mean on a Bag of Fertilizer? What Does Each Main Ingredient in Fertilizer Do for Plants? Phosphorus & Potassium in a Garden. How to Use Phosphorus for Tomatoes.'},\n",
       "  'negative': {'Key Areas Covered. 1. What is Fertilization. – Definition, Types. 2. How Does Fertilization Affect the Chromosome Number of a Zygote. – Role of Fusion of Gametes During Fertilization. Key Terms: Animals, Chromosomes, Fertilization, Gametes, Plants, Zygote.',\n",
       "   \"Robitussin and Cervical Mucus. Monica Scott, BS, RN. Ms. Scott joined ConceiveEasy after working in prenatal obstetrical care for two years in a private practice before being promoted to Director of Nursing. She has a strong interest in women's health with an emphasis on promoting fertility awareness. Now, you are probably asking yourself, “What the heck does cough syrup have to do with fertility?”.\",\n",
       "   'What Does 30-10-10 Fertilizer Mean? The 30-10-10 fertilizer denotes a fertilizer that contains equal parts of phosphorus, nitrogen, and potassium elements.',\n",
       "   'What Does 5-10-10 Fertilizer Mean? The 5-10-10 fertilizer denotes a fertilizer that contains equal parts of phosphorus, nitrogen, and potassium elements.',\n",
       "   'What Does 5-10-5 Fertilizer Mean? The 5-10-5 fertilizer denotes a fertilizer that contains equal parts of phosphorus, nitrogen, and potassium elements.'}}]"
      ]
     },
     "execution_count": 35,
     "metadata": {},
     "output_type": "execute_result"
    }
   ],
   "source": [
    "print(len(list_eval))\n",
    "list_eval[0:3]"
   ]
  },
  {
   "cell_type": "code",
   "execution_count": 36,
   "metadata": {},
   "outputs": [
    {
     "name": "stdout",
     "output_type": "stream",
     "text": [
      "output/training_ms-marco_cross-encoder-cross-encoder-ms-marco-TinyBERT-L-2-v2-2024-03-24_20-53-17\n"
     ]
    }
   ],
   "source": [
    "model_name = \"cross-encoder/ms-marco-TinyBERT-L-2-v2\"#\"distilroberta-base\"\n",
    "train_batch_size = 32\n",
    "num_epochs = 1\n",
    "model_save_path = (\n",
    "    \"output/training_ms-marco_cross-encoder-\"\n",
    "    + model_name.replace(\"/\", \"-\")\n",
    "    + \"-\"\n",
    "    + datetime.now().strftime(\"%Y-%m-%d_%H-%M-%S\")\n",
    ")\n",
    "print(model_save_path)"
   ]
  },
  {
   "cell_type": "code",
   "execution_count": 37,
   "metadata": {},
   "outputs": [
    {
     "name": "stderr",
     "output_type": "stream",
     "text": [
      "/home/lingling/project/enter/lib/python3.11/site-packages/torch/_utils.py:776: UserWarning: TypedStorage is deprecated. It will be removed in the future and UntypedStorage will be the only storage class. This should only matter to you if you are using storages directly.  To access UntypedStorage directly, use tensor.untyped_storage() instead of tensor.storage()\n",
      "  return self.fget.__get__(instance, owner)()\n"
     ]
    },
    {
     "name": "stdout",
     "output_type": "stream",
     "text": [
      "2024-03-24 20:53:19 - Use pytorch device: cpu\n"
     ]
    },
    {
     "data": {
      "text/plain": [
       "<sentence_transformers.cross_encoder.CrossEncoder.CrossEncoder at 0x7f7028b3bdd0>"
      ]
     },
     "execution_count": 37,
     "metadata": {},
     "output_type": "execute_result"
    }
   ],
   "source": [
    "model = CrossEncoder(model_name, num_labels=1, max_length=512)\n",
    "model"
   ]
  },
  {
   "cell_type": "code",
   "execution_count": 58,
   "metadata": {},
   "outputs": [],
   "source": [
    "train_sample = []\n",
    "for list in list_query_passage_score_rel_train:\n",
    "    train_sample.append(InputExample(texts=[list[0], list[1]], label = list[3]))"
   ]
  },
  {
   "cell_type": "code",
   "execution_count": 59,
   "metadata": {},
   "outputs": [
    {
     "data": {
      "text/plain": [
       "<torch.utils.data.dataloader.DataLoader at 0x7f70102a7210>"
      ]
     },
     "execution_count": 59,
     "metadata": {},
     "output_type": "execute_result"
    }
   ],
   "source": [
    "train_dataloader = DataLoader(train_sample, shuffle=True, batch_size=16)\n",
    "train_dataloader"
   ]
  },
  {
   "cell_type": "code",
   "execution_count": 60,
   "metadata": {},
   "outputs": [
    {
     "data": {
      "text/plain": [
       "<sentence_transformers.cross_encoder.evaluation.CERerankingEvaluator.CERerankingEvaluator at 0x7f6fec570090>"
      ]
     },
     "execution_count": 60,
     "metadata": {},
     "output_type": "execute_result"
    }
   ],
   "source": [
    "evaluator = CERerankingEvaluator(list_eval, name=\"train-eval\")\n",
    "evaluator"
   ]
  },
  {
   "cell_type": "code",
   "execution_count": 62,
   "metadata": {},
   "outputs": [
    {
     "name": "stdout",
     "output_type": "stream",
     "text": [
      "2024-03-24 21:00:05 - Warmup-steps: 5000\n"
     ]
    },
    {
     "name": "stderr",
     "output_type": "stream",
     "text": [
      "/home/lingling/project/enter/lib/python3.11/site-packages/torch/cuda/amp/grad_scaler.py:120: UserWarning: torch.cuda.amp.GradScaler is enabled, but CUDA is not available.  Disabling.\n",
      "  warnings.warn(\"torch.cuda.amp.GradScaler is enabled, but CUDA is not available.  Disabling.\")\n"
     ]
    },
    {
     "data": {
      "application/vnd.jupyter.widget-view+json": {
       "model_id": "c1132e06921a4f05b892f3e2c2f28c46",
       "version_major": 2,
       "version_minor": 0
      },
      "text/plain": [
       "Epoch:   0%|          | 0/1 [00:00<?, ?it/s]"
      ]
     },
     "metadata": {},
     "output_type": "display_data"
    },
    {
     "data": {
      "application/vnd.jupyter.widget-view+json": {
       "model_id": "63f9cdf0d66d4d34ab3864639bb620e8",
       "version_major": 2,
       "version_minor": 0
      },
      "text/plain": [
       "Iteration:   0%|          | 0/875 [00:00<?, ?it/s]"
      ]
     },
     "metadata": {},
     "output_type": "display_data"
    },
    {
     "name": "stdout",
     "output_type": "stream",
     "text": [
      "2024-03-24 21:25:42 - CERerankingEvaluator: Evaluating the model on train-eval dataset after epoch 0:\n",
      "2024-03-24 21:25:50 - Queries: 945 \t Positives: Min 1.0, Mean 2.9, Max 7.0 \t Negatives: Min 1.0, Mean 3.0, Max 8.0\n",
      "2024-03-24 21:25:50 - MRR@10: 90.82\n",
      "2024-03-24 21:25:50 - NDCG@10: 91.21\n",
      "2024-03-24 21:25:50 - Save model to output/training_ms-marco_cross-encoder-cross-encoder-ms-marco-TinyBERT-L-2-v2-2024-03-24_20-53-17\n"
     ]
    }
   ],
   "source": [
    "# Configure the training\n",
    "warmup_steps = 5000\n",
    "logging.info(\"Warmup-steps: {}\".format(warmup_steps))\n",
    "train_loss = losses.CosineSimilarityLoss(model)\n",
    "\n",
    "# Train the model\n",
    "model.fit(\n",
    "    train_dataloader=train_dataloader,\n",
    "    evaluator=evaluator,\n",
    "    epochs=num_epochs,\n",
    "    evaluation_steps=10000,\n",
    "    warmup_steps=warmup_steps,\n",
    "    output_path=model_save_path,\n",
    "    use_amp=True,\n",
    ")\n"
   ]
  },
  {
   "cell_type": "code",
   "execution_count": 63,
   "metadata": {},
   "outputs": [
    {
     "name": "stdout",
     "output_type": "stream",
     "text": [
      "20000\n"
     ]
    }
   ],
   "source": [
    "list_query_passage_score_rel_test = df_to_list(query_test, passage_test)\n",
    "print(len(list_query_passage_score_rel_test))"
   ]
  },
  {
   "cell_type": "code",
   "execution_count": 64,
   "metadata": {},
   "outputs": [
    {
     "data": {
      "text/html": [
       "<div>\n",
       "<style scoped>\n",
       "    .dataframe tbody tr th:only-of-type {\n",
       "        vertical-align: middle;\n",
       "    }\n",
       "\n",
       "    .dataframe tbody tr th {\n",
       "        vertical-align: top;\n",
       "    }\n",
       "\n",
       "    .dataframe thead th {\n",
       "        text-align: right;\n",
       "    }\n",
       "</style>\n",
       "<table border=\"1\" class=\"dataframe\">\n",
       "  <thead>\n",
       "    <tr style=\"text-align: right;\">\n",
       "      <th></th>\n",
       "      <th>0</th>\n",
       "      <th>1</th>\n",
       "      <th>2</th>\n",
       "      <th>3</th>\n",
       "    </tr>\n",
       "  </thead>\n",
       "  <tbody>\n",
       "    <tr>\n",
       "      <th>0</th>\n",
       "      <td>what us state bears the slogan the land enchan...</td>\n",
       "      <td>New Mexico State Symbols. State Nickname: The ...</td>\n",
       "      <td>16.004101</td>\n",
       "      <td>1</td>\n",
       "    </tr>\n",
       "    <tr>\n",
       "      <th>1</th>\n",
       "      <td>what us state bears the slogan the land enchan...</td>\n",
       "      <td>Land of Enchantment. Before Land of Enchantmen...</td>\n",
       "      <td>15.715500</td>\n",
       "      <td>1</td>\n",
       "    </tr>\n",
       "    <tr>\n",
       "      <th>2</th>\n",
       "      <td>what us state bears the slogan the land enchan...</td>\n",
       "      <td>Land of Enchantment. Before Land of Enchantmen...</td>\n",
       "      <td>15.715499</td>\n",
       "      <td>1</td>\n",
       "    </tr>\n",
       "    <tr>\n",
       "      <th>3</th>\n",
       "      <td>what us state bears the slogan the land enchan...</td>\n",
       "      <td>New Mexico State Slogans. Whereas the New Mexi...</td>\n",
       "      <td>14.983700</td>\n",
       "      <td>1</td>\n",
       "    </tr>\n",
       "    <tr>\n",
       "      <th>4</th>\n",
       "      <td>what us state bears the slogan the land enchan...</td>\n",
       "      <td>1 to approximately 99-000. First use of the \"L...</td>\n",
       "      <td>14.347200</td>\n",
       "      <td>1</td>\n",
       "    </tr>\n",
       "  </tbody>\n",
       "</table>\n",
       "</div>"
      ],
      "text/plain": [
       "                                                   0  \\\n",
       "0  what us state bears the slogan the land enchan...   \n",
       "1  what us state bears the slogan the land enchan...   \n",
       "2  what us state bears the slogan the land enchan...   \n",
       "3  what us state bears the slogan the land enchan...   \n",
       "4  what us state bears the slogan the land enchan...   \n",
       "\n",
       "                                                   1          2  3  \n",
       "0  New Mexico State Symbols. State Nickname: The ...  16.004101  1  \n",
       "1  Land of Enchantment. Before Land of Enchantmen...  15.715500  1  \n",
       "2  Land of Enchantment. Before Land of Enchantmen...  15.715499  1  \n",
       "3  New Mexico State Slogans. Whereas the New Mexi...  14.983700  1  \n",
       "4  1 to approximately 99-000. First use of the \"L...  14.347200  1  "
      ]
     },
     "execution_count": 64,
     "metadata": {},
     "output_type": "execute_result"
    }
   ],
   "source": [
    "pd.DataFrame(list_query_passage_score_rel_test).head()"
   ]
  },
  {
   "cell_type": "code",
   "execution_count": 65,
   "metadata": {},
   "outputs": [],
   "source": [
    "list_query_passage_test  = [l[:2] for l in list_query_passage_score_rel_test]"
   ]
  },
  {
   "cell_type": "code",
   "execution_count": 66,
   "metadata": {},
   "outputs": [
    {
     "data": {
      "text/plain": [
       "[['what us state bears the slogan the land enchantment',\n",
       "  'New Mexico State Symbols. State Nickname: The Land of Enchantment. State Slogan: Land of Enchantment; also on its license plate. State Motto: Crescit eundo (It grows as it goes) State flower: Yucca flower. State bird: Roadrunner aka Greater Roadrunner.'],\n",
       " ['what us state bears the slogan the land enchantment',\n",
       "  'Land of Enchantment. Before Land of Enchantment became the state slogan, New Mexico went by the nickname The Sunshine State, based on the fact that every part of New Mexico receives at least 70 percent sunshine year-round. New Mexico received its nickname because of its natural beauty and rich history. The Spanish and Mexicans used to occupy the state and there is still a lot of their culture leftover.'],\n",
       " ['what us state bears the slogan the land enchantment',\n",
       "  'Land of Enchantment. Before Land of Enchantment became the state slogan, New Mexico went by the nickname The Sunshine State, based on the fact that every part of New Mexico receives at least 70 percent sunshine year-round. New Mexico received its nickname because of its natural beauty and rich history. The Spanish and Mexicans used to occupy the state and there is still a lot of their culture leftover.']]"
      ]
     },
     "execution_count": 66,
     "metadata": {},
     "output_type": "execute_result"
    }
   ],
   "source": [
    "list_query_passage_test[0:3]"
   ]
  },
  {
   "cell_type": "code",
   "execution_count": 67,
   "metadata": {},
   "outputs": [
    {
     "data": {
      "application/vnd.jupyter.widget-view+json": {
       "model_id": "18c6393e06074852833de9b379a7f7ad",
       "version_major": 2,
       "version_minor": 0
      },
      "text/plain": [
       "Batches:   0%|          | 0/625 [00:00<?, ?it/s]"
      ]
     },
     "metadata": {},
     "output_type": "display_data"
    }
   ],
   "source": [
    "prediction = model.predict(list_query_passage_test)"
   ]
  },
  {
   "cell_type": "code",
   "execution_count": 68,
   "metadata": {},
   "outputs": [
    {
     "name": "stdout",
     "output_type": "stream",
     "text": [
      "20000\n",
      "20000\n"
     ]
    }
   ],
   "source": [
    "print(len(list_query_passage_score_rel_test))\n",
    "print(len(prediction))"
   ]
  },
  {
   "cell_type": "code",
   "execution_count": 71,
   "metadata": {},
   "outputs": [],
   "source": [
    "result = pd.concat([pd.DataFrame(list_query_passage_score_rel_test\n",
    "                                 , columns = [\"query\", \"passage\", \"score\", \"rel\"])\n",
    "          , pd.DataFrame(prediction, columns = [\"predicted_score\"])]\n",
    "          , axis=1)"
   ]
  },
  {
   "cell_type": "code",
   "execution_count": 82,
   "metadata": {},
   "outputs": [
    {
     "data": {
      "text/html": [
       "<div>\n",
       "<style scoped>\n",
       "    .dataframe tbody tr th:only-of-type {\n",
       "        vertical-align: middle;\n",
       "    }\n",
       "\n",
       "    .dataframe tbody tr th {\n",
       "        vertical-align: top;\n",
       "    }\n",
       "\n",
       "    .dataframe thead th {\n",
       "        text-align: right;\n",
       "    }\n",
       "</style>\n",
       "<table border=\"1\" class=\"dataframe\">\n",
       "  <thead>\n",
       "    <tr style=\"text-align: right;\">\n",
       "      <th></th>\n",
       "      <th>score</th>\n",
       "      <th>rel</th>\n",
       "      <th>predicted_score</th>\n",
       "    </tr>\n",
       "  </thead>\n",
       "  <tbody>\n",
       "    <tr>\n",
       "      <th>count</th>\n",
       "      <td>20000.000000</td>\n",
       "      <td>20000.000000</td>\n",
       "      <td>20000.000000</td>\n",
       "    </tr>\n",
       "    <tr>\n",
       "      <th>mean</th>\n",
       "      <td>12.280309</td>\n",
       "      <td>0.500000</td>\n",
       "      <td>2.672552</td>\n",
       "    </tr>\n",
       "    <tr>\n",
       "      <th>std</th>\n",
       "      <td>3.491745</td>\n",
       "      <td>0.500013</td>\n",
       "      <td>3.667336</td>\n",
       "    </tr>\n",
       "    <tr>\n",
       "      <th>min</th>\n",
       "      <td>2.736893</td>\n",
       "      <td>0.000000</td>\n",
       "      <td>-10.814777</td>\n",
       "    </tr>\n",
       "    <tr>\n",
       "      <th>25%</th>\n",
       "      <td>9.751900</td>\n",
       "      <td>0.000000</td>\n",
       "      <td>0.280888</td>\n",
       "    </tr>\n",
       "    <tr>\n",
       "      <th>50%</th>\n",
       "      <td>11.799699</td>\n",
       "      <td>0.500000</td>\n",
       "      <td>3.342847</td>\n",
       "    </tr>\n",
       "    <tr>\n",
       "      <th>75%</th>\n",
       "      <td>14.383775</td>\n",
       "      <td>1.000000</td>\n",
       "      <td>5.606667</td>\n",
       "    </tr>\n",
       "    <tr>\n",
       "      <th>max</th>\n",
       "      <td>38.877602</td>\n",
       "      <td>1.000000</td>\n",
       "      <td>9.878198</td>\n",
       "    </tr>\n",
       "  </tbody>\n",
       "</table>\n",
       "</div>"
      ],
      "text/plain": [
       "              score           rel  predicted_score\n",
       "count  20000.000000  20000.000000     20000.000000\n",
       "mean      12.280309      0.500000         2.672552\n",
       "std        3.491745      0.500013         3.667336\n",
       "min        2.736893      0.000000       -10.814777\n",
       "25%        9.751900      0.000000         0.280888\n",
       "50%       11.799699      0.500000         3.342847\n",
       "75%       14.383775      1.000000         5.606667\n",
       "max       38.877602      1.000000         9.878198"
      ]
     },
     "execution_count": 82,
     "metadata": {},
     "output_type": "execute_result"
    }
   ],
   "source": [
    "result.describe()"
   ]
  },
  {
   "cell_type": "code",
   "execution_count": 81,
   "metadata": {},
   "outputs": [
    {
     "data": {
      "text/plain": [
       "(array([  12.,   13.,   24.,   30.,   36.,   36.,   47.,   46.,   64.,\n",
       "          51.,   74.,   75.,  109.,  100.,   99.,  143.,  181.,  174.,\n",
       "         239.,  307.,  344.,  352.,  475.,  449.,  541.,  507.,  600.,\n",
       "         602.,  636.,  602.,  706.,  717.,  734.,  722.,  787.,  840.,\n",
       "         811.,  988., 1010., 1051., 1089., 1079.,  872.,  611.,  492.,\n",
       "         294.,  145.,   65.,   15.,    4.]),\n",
       " array([-10.81477737, -10.40091801,  -9.98705864,  -9.57319927,\n",
       "         -9.15933895,  -8.74547958,  -8.33162022,  -7.91776085,\n",
       "         -7.50390148,  -7.09004164,  -6.67618227,  -6.2623229 ,\n",
       "         -5.84846354,  -5.43460369,  -5.02074432,  -4.60688496,\n",
       "         -4.19302559,  -3.77916574,  -3.36530638,  -2.95144677,\n",
       "         -2.5375874 ,  -2.1237278 ,  -1.70986831,  -1.29600883,\n",
       "         -0.88214934,  -0.46828985,  -0.05443035,   0.35942915,\n",
       "          0.77328867,   1.18714809,   1.6010077 ,   2.01486707,\n",
       "          2.42872667,   2.84258604,   3.25644565,   3.67030525,\n",
       "          4.08416462,   4.49802399,   4.91188383,   5.3257432 ,\n",
       "          5.73960257,   6.15346193,   6.56732178,   6.98118114,\n",
       "          7.39504051,   7.80890036,   8.22275925,   8.63661957,\n",
       "          9.05047894,   9.4643383 ,   9.87819767]),\n",
       " <BarContainer object of 50 artists>)"
      ]
     },
     "execution_count": 81,
     "metadata": {},
     "output_type": "execute_result"
    },
    {
     "data": {
      "image/png": "[encoded data removed]",
      "text/plain": [
       "<Figure size 640x480 with 1 Axes>"
      ]
     },
     "metadata": {},
     "output_type": "display_data"
    }
   ],
   "source": [
    "\n",
    "plt.hist(result[\"predicted_score\"], color='lightgreen', ec='black', bins=50)"
   ]
  },
  {
   "cell_type": "code",
   "execution_count": 72,
   "metadata": {},
   "outputs": [
    {
     "name": "stdout",
     "output_type": "stream",
     "text": [
      "(20000, 5)\n"
     ]
    },
    {
     "data": {
      "text/html": [
       "<div>\n",
       "<style scoped>\n",
       "    .dataframe tbody tr th:only-of-type {\n",
       "        vertical-align: middle;\n",
       "    }\n",
       "\n",
       "    .dataframe tbody tr th {\n",
       "        vertical-align: top;\n",
       "    }\n",
       "\n",
       "    .dataframe thead th {\n",
       "        text-align: right;\n",
       "    }\n",
       "</style>\n",
       "<table border=\"1\" class=\"dataframe\">\n",
       "  <thead>\n",
       "    <tr style=\"text-align: right;\">\n",
       "      <th></th>\n",
       "      <th>query</th>\n",
       "      <th>passage</th>\n",
       "      <th>score</th>\n",
       "      <th>rel</th>\n",
       "      <th>predicted_score</th>\n",
       "    </tr>\n",
       "  </thead>\n",
       "  <tbody>\n",
       "    <tr>\n",
       "      <th>0</th>\n",
       "      <td>what us state bears the slogan the land enchan...</td>\n",
       "      <td>New Mexico State Symbols. State Nickname: The ...</td>\n",
       "      <td>16.004101</td>\n",
       "      <td>1</td>\n",
       "      <td>6.321696</td>\n",
       "    </tr>\n",
       "    <tr>\n",
       "      <th>1</th>\n",
       "      <td>what us state bears the slogan the land enchan...</td>\n",
       "      <td>Land of Enchantment. Before Land of Enchantmen...</td>\n",
       "      <td>15.715500</td>\n",
       "      <td>1</td>\n",
       "      <td>6.051002</td>\n",
       "    </tr>\n",
       "    <tr>\n",
       "      <th>2</th>\n",
       "      <td>what us state bears the slogan the land enchan...</td>\n",
       "      <td>Land of Enchantment. Before Land of Enchantmen...</td>\n",
       "      <td>15.715499</td>\n",
       "      <td>1</td>\n",
       "      <td>6.051002</td>\n",
       "    </tr>\n",
       "    <tr>\n",
       "      <th>3</th>\n",
       "      <td>what us state bears the slogan the land enchan...</td>\n",
       "      <td>New Mexico State Slogans. Whereas the New Mexi...</td>\n",
       "      <td>14.983700</td>\n",
       "      <td>1</td>\n",
       "      <td>5.166244</td>\n",
       "    </tr>\n",
       "    <tr>\n",
       "      <th>4</th>\n",
       "      <td>what us state bears the slogan the land enchan...</td>\n",
       "      <td>1 to approximately 99-000. First use of the \"L...</td>\n",
       "      <td>14.347200</td>\n",
       "      <td>1</td>\n",
       "      <td>5.627703</td>\n",
       "    </tr>\n",
       "  </tbody>\n",
       "</table>\n",
       "</div>"
      ],
      "text/plain": [
       "                                               query  \\\n",
       "0  what us state bears the slogan the land enchan...   \n",
       "1  what us state bears the slogan the land enchan...   \n",
       "2  what us state bears the slogan the land enchan...   \n",
       "3  what us state bears the slogan the land enchan...   \n",
       "4  what us state bears the slogan the land enchan...   \n",
       "\n",
       "                                             passage      score  rel  \\\n",
       "0  New Mexico State Symbols. State Nickname: The ...  16.004101    1   \n",
       "1  Land of Enchantment. Before Land of Enchantmen...  15.715500    1   \n",
       "2  Land of Enchantment. Before Land of Enchantmen...  15.715499    1   \n",
       "3  New Mexico State Slogans. Whereas the New Mexi...  14.983700    1   \n",
       "4  1 to approximately 99-000. First use of the \"L...  14.347200    1   \n",
       "\n",
       "   predicted_score  \n",
       "0         6.321696  \n",
       "1         6.051002  \n",
       "2         6.051002  \n",
       "3         5.166244  \n",
       "4         5.627703  "
      ]
     },
     "execution_count": 72,
     "metadata": {},
     "output_type": "execute_result"
    }
   ],
   "source": [
    "print(result.shape)\n",
    "result.head()"
   ]
  },
  {
   "cell_type": "code",
   "execution_count": 89,
   "metadata": {},
   "outputs": [],
   "source": [
    "result = pd.concat([query_test\n",
    "          , pd.DataFrame(prediction, columns = [\"predicted_score\"])]\n",
    "          , axis=1)"
   ]
  },
  {
   "cell_type": "code",
   "execution_count": 90,
   "metadata": {},
   "outputs": [
    {
     "name": "stdout",
     "output_type": "stream",
     "text": [
      "(20000, 10)\n"
     ]
    },
    {
     "data": {
      "text/html": [
       "<div>\n",
       "<style scoped>\n",
       "    .dataframe tbody tr th:only-of-type {\n",
       "        vertical-align: middle;\n",
       "    }\n",
       "\n",
       "    .dataframe tbody tr th {\n",
       "        vertical-align: top;\n",
       "    }\n",
       "\n",
       "    .dataframe thead th {\n",
       "        text-align: right;\n",
       "    }\n",
       "</style>\n",
       "<table border=\"1\" class=\"dataframe\">\n",
       "  <thead>\n",
       "    <tr style=\"text-align: right;\">\n",
       "      <th></th>\n",
       "      <th>query_id</th>\n",
       "      <th>query</th>\n",
       "      <th>used</th>\n",
       "      <th>passage_id</th>\n",
       "      <th>rank</th>\n",
       "      <th>score</th>\n",
       "      <th>username</th>\n",
       "      <th>rel</th>\n",
       "      <th>query_cleaned</th>\n",
       "      <th>predicted_score</th>\n",
       "    </tr>\n",
       "  </thead>\n",
       "  <tbody>\n",
       "    <tr>\n",
       "      <th>0</th>\n",
       "      <td>916247</td>\n",
       "      <td>what us state bears the slogan the land enchan...</td>\n",
       "      <td>Q0</td>\n",
       "      <td>msmarco_passage_05_840839268</td>\n",
       "      <td>1</td>\n",
       "      <td>16.004101</td>\n",
       "      <td>Anserini</td>\n",
       "      <td>1</td>\n",
       "      <td>what us state bears the slogan the land enchan...</td>\n",
       "      <td>6.321696</td>\n",
       "    </tr>\n",
       "    <tr>\n",
       "      <th>1</th>\n",
       "      <td>916247</td>\n",
       "      <td>what us state bears the slogan the land enchan...</td>\n",
       "      <td>Q0</td>\n",
       "      <td>msmarco_passage_06_203354916</td>\n",
       "      <td>2</td>\n",
       "      <td>15.715500</td>\n",
       "      <td>Anserini</td>\n",
       "      <td>1</td>\n",
       "      <td>what us state bears the slogan the land enchan...</td>\n",
       "      <td>6.051002</td>\n",
       "    </tr>\n",
       "    <tr>\n",
       "      <th>2</th>\n",
       "      <td>916247</td>\n",
       "      <td>what us state bears the slogan the land enchan...</td>\n",
       "      <td>Q0</td>\n",
       "      <td>msmarco_passage_45_489369159</td>\n",
       "      <td>3</td>\n",
       "      <td>15.715499</td>\n",
       "      <td>Anserini</td>\n",
       "      <td>1</td>\n",
       "      <td>what us state bears the slogan the land enchan...</td>\n",
       "      <td>6.051002</td>\n",
       "    </tr>\n",
       "    <tr>\n",
       "      <th>3</th>\n",
       "      <td>916247</td>\n",
       "      <td>what us state bears the slogan the land enchan...</td>\n",
       "      <td>Q0</td>\n",
       "      <td>msmarco_passage_50_676325639</td>\n",
       "      <td>4</td>\n",
       "      <td>14.983700</td>\n",
       "      <td>Anserini</td>\n",
       "      <td>1</td>\n",
       "      <td>what us state bears the slogan the land enchan...</td>\n",
       "      <td>5.166244</td>\n",
       "    </tr>\n",
       "    <tr>\n",
       "      <th>4</th>\n",
       "      <td>916247</td>\n",
       "      <td>what us state bears the slogan the land enchan...</td>\n",
       "      <td>Q0</td>\n",
       "      <td>msmarco_passage_21_464076261</td>\n",
       "      <td>5</td>\n",
       "      <td>14.347200</td>\n",
       "      <td>Anserini</td>\n",
       "      <td>1</td>\n",
       "      <td>what us state bears the slogan the land enchan...</td>\n",
       "      <td>5.627703</td>\n",
       "    </tr>\n",
       "  </tbody>\n",
       "</table>\n",
       "</div>"
      ],
      "text/plain": [
       "   query_id                                              query used  \\\n",
       "0    916247  what us state bears the slogan the land enchan...   Q0   \n",
       "1    916247  what us state bears the slogan the land enchan...   Q0   \n",
       "2    916247  what us state bears the slogan the land enchan...   Q0   \n",
       "3    916247  what us state bears the slogan the land enchan...   Q0   \n",
       "4    916247  what us state bears the slogan the land enchan...   Q0   \n",
       "\n",
       "                     passage_id  rank      score  username  rel  \\\n",
       "0  msmarco_passage_05_840839268     1  16.004101  Anserini    1   \n",
       "1  msmarco_passage_06_203354916     2  15.715500  Anserini    1   \n",
       "2  msmarco_passage_45_489369159     3  15.715499  Anserini    1   \n",
       "3  msmarco_passage_50_676325639     4  14.983700  Anserini    1   \n",
       "4  msmarco_passage_21_464076261     5  14.347200  Anserini    1   \n",
       "\n",
       "                                       query_cleaned  predicted_score  \n",
       "0  what us state bears the slogan the land enchan...         6.321696  \n",
       "1  what us state bears the slogan the land enchan...         6.051002  \n",
       "2  what us state bears the slogan the land enchan...         6.051002  \n",
       "3  what us state bears the slogan the land enchan...         5.166244  \n",
       "4  what us state bears the slogan the land enchan...         5.627703  "
      ]
     },
     "execution_count": 90,
     "metadata": {},
     "output_type": "execute_result"
    }
   ],
   "source": [
    "print(result.shape)\n",
    "result.head()"
   ]
  },
  {
   "cell_type": "code",
   "execution_count": 91,
   "metadata": {},
   "outputs": [
    {
     "data": {
      "text/html": [
       "<div>\n",
       "<style scoped>\n",
       "    .dataframe tbody tr th:only-of-type {\n",
       "        vertical-align: middle;\n",
       "    }\n",
       "\n",
       "    .dataframe tbody tr th {\n",
       "        vertical-align: top;\n",
       "    }\n",
       "\n",
       "    .dataframe thead th {\n",
       "        text-align: right;\n",
       "    }\n",
       "</style>\n",
       "<table border=\"1\" class=\"dataframe\">\n",
       "  <thead>\n",
       "    <tr style=\"text-align: right;\">\n",
       "      <th></th>\n",
       "      <th>query_id</th>\n",
       "      <th>query</th>\n",
       "      <th>used</th>\n",
       "      <th>passage_id</th>\n",
       "      <th>rank</th>\n",
       "      <th>score</th>\n",
       "      <th>username</th>\n",
       "      <th>rel</th>\n",
       "      <th>query_cleaned</th>\n",
       "      <th>predicted_score</th>\n",
       "    </tr>\n",
       "  </thead>\n",
       "  <tbody>\n",
       "    <tr>\n",
       "      <th>19995</th>\n",
       "      <td>587035</td>\n",
       "      <td>what causes death in cyanide poisoning</td>\n",
       "      <td>Q0</td>\n",
       "      <td>msmarco_passage_33_523563062</td>\n",
       "      <td>96</td>\n",
       "      <td>13.807588</td>\n",
       "      <td>Anserini</td>\n",
       "      <td>0</td>\n",
       "      <td>what causes death in cyanide poisoning</td>\n",
       "      <td>3.686248</td>\n",
       "    </tr>\n",
       "    <tr>\n",
       "      <th>19996</th>\n",
       "      <td>587035</td>\n",
       "      <td>what causes death in cyanide poisoning</td>\n",
       "      <td>Q0</td>\n",
       "      <td>msmarco_passage_33_524893716</td>\n",
       "      <td>97</td>\n",
       "      <td>13.807587</td>\n",
       "      <td>Anserini</td>\n",
       "      <td>0</td>\n",
       "      <td>what causes death in cyanide poisoning</td>\n",
       "      <td>2.923872</td>\n",
       "    </tr>\n",
       "    <tr>\n",
       "      <th>19997</th>\n",
       "      <td>587035</td>\n",
       "      <td>what causes death in cyanide poisoning</td>\n",
       "      <td>Q0</td>\n",
       "      <td>msmarco_passage_33_524900538</td>\n",
       "      <td>98</td>\n",
       "      <td>13.807586</td>\n",
       "      <td>Anserini</td>\n",
       "      <td>0</td>\n",
       "      <td>what causes death in cyanide poisoning</td>\n",
       "      <td>2.923872</td>\n",
       "    </tr>\n",
       "    <tr>\n",
       "      <th>19998</th>\n",
       "      <td>587035</td>\n",
       "      <td>what causes death in cyanide poisoning</td>\n",
       "      <td>Q0</td>\n",
       "      <td>msmarco_passage_33_524949413</td>\n",
       "      <td>99</td>\n",
       "      <td>13.807585</td>\n",
       "      <td>Anserini</td>\n",
       "      <td>0</td>\n",
       "      <td>what causes death in cyanide poisoning</td>\n",
       "      <td>3.686248</td>\n",
       "    </tr>\n",
       "    <tr>\n",
       "      <th>19999</th>\n",
       "      <td>587035</td>\n",
       "      <td>what causes death in cyanide poisoning</td>\n",
       "      <td>Q0</td>\n",
       "      <td>msmarco_passage_02_233363595</td>\n",
       "      <td>100</td>\n",
       "      <td>13.798700</td>\n",
       "      <td>Anserini</td>\n",
       "      <td>0</td>\n",
       "      <td>what causes death in cyanide poisoning</td>\n",
       "      <td>3.449168</td>\n",
       "    </tr>\n",
       "  </tbody>\n",
       "</table>\n",
       "</div>"
      ],
      "text/plain": [
       "       query_id                                   query used  \\\n",
       "19995    587035  what causes death in cyanide poisoning   Q0   \n",
       "19996    587035  what causes death in cyanide poisoning   Q0   \n",
       "19997    587035  what causes death in cyanide poisoning   Q0   \n",
       "19998    587035  what causes death in cyanide poisoning   Q0   \n",
       "19999    587035  what causes death in cyanide poisoning   Q0   \n",
       "\n",
       "                         passage_id  rank      score  username  rel  \\\n",
       "19995  msmarco_passage_33_523563062    96  13.807588  Anserini    0   \n",
       "19996  msmarco_passage_33_524893716    97  13.807587  Anserini    0   \n",
       "19997  msmarco_passage_33_524900538    98  13.807586  Anserini    0   \n",
       "19998  msmarco_passage_33_524949413    99  13.807585  Anserini    0   \n",
       "19999  msmarco_passage_02_233363595   100  13.798700  Anserini    0   \n",
       "\n",
       "                                query_cleaned  predicted_score  \n",
       "19995  what causes death in cyanide poisoning         3.686248  \n",
       "19996  what causes death in cyanide poisoning         2.923872  \n",
       "19997  what causes death in cyanide poisoning         2.923872  \n",
       "19998  what causes death in cyanide poisoning         3.686248  \n",
       "19999  what causes death in cyanide poisoning         3.449168  "
      ]
     },
     "execution_count": 91,
     "metadata": {},
     "output_type": "execute_result"
    }
   ],
   "source": [
    "result.tail()"
   ]
  },
  {
   "cell_type": "code",
   "execution_count": 8,
   "metadata": {},
   "outputs": [],
   "source": [
    "# Function for calculating average precision for a query\n",
    "def average_precision(qid, topn = 10):\n",
    "    \n",
    "    # ========= for each query_id, do the following:\n",
    "    #print(f\"Started to work on query_id {qid}\")\n",
    "    # get passage_id (each query_id would have upto 10 passage_id)\n",
    "    qresult = result.loc[result[\"query_id\"] == qid, [\"passage_id\", \"rel\", \"predicted_score\"]]\n",
    "\n",
    "\n",
    "    \n",
    "    # sort rows so that passages with the highest similarity ranks as top \n",
    "    qresult.sort_values(by=\"predicted_score\", ascending = False, inplace=True)\n",
    "\n",
    "    # # Taking Top 10 documents for the evaluation\n",
    "    ranking = qresult.head(topn)['rel'].values\n",
    "    #display(qresult.head(topn))\n",
    "    \n",
    "    # # Calculating precision\n",
    "    precision=[]\n",
    "    for i in range(1,11):\n",
    "      if ranking[i-1]:\n",
    "        precision.append(np.sum(ranking[:i])/i)\n",
    "    \n",
    "    # If no relevant document in list then return 0\n",
    "    if precision==[]:\n",
    "      return 0\n",
    "    #print(len(precision))\n",
    "    #print(precision)\n",
    "    avg_precision = np.mean(precision)\n",
    "    #print(\"Avg precision: {}\".format(avg_precision))\n",
    "    return avg_precision#, len(precision), qresult.shape[0]"
   ]
  },
  {
   "cell_type": "code",
   "execution_count": 9,
   "metadata": {},
   "outputs": [],
   "source": [
    "result[\"avg_precision\"] = result.apply(lambda x: average_precision(x['query_id'])\n",
    "                                    ,axis=1)"
   ]
  },
  {
   "cell_type": "code",
   "execution_count": 11,
   "metadata": {},
   "outputs": [
    {
     "data": {
      "text/html": [
       "<div>\n",
       "<style scoped>\n",
       "    .dataframe tbody tr th:only-of-type {\n",
       "        vertical-align: middle;\n",
       "    }\n",
       "\n",
       "    .dataframe tbody tr th {\n",
       "        vertical-align: top;\n",
       "    }\n",
       "\n",
       "    .dataframe thead th {\n",
       "        text-align: right;\n",
       "    }\n",
       "</style>\n",
       "<table border=\"1\" class=\"dataframe\">\n",
       "  <thead>\n",
       "    <tr style=\"text-align: right;\">\n",
       "      <th></th>\n",
       "      <th>query_id</th>\n",
       "      <th>query</th>\n",
       "      <th>used</th>\n",
       "      <th>passage_id</th>\n",
       "      <th>rank</th>\n",
       "      <th>score</th>\n",
       "      <th>username</th>\n",
       "      <th>rel</th>\n",
       "      <th>query_cleaned</th>\n",
       "      <th>predicted_score</th>\n",
       "      <th>avg_precision</th>\n",
       "    </tr>\n",
       "  </thead>\n",
       "  <tbody>\n",
       "    <tr>\n",
       "      <th>0</th>\n",
       "      <td>916247</td>\n",
       "      <td>what us state bears the slogan the land enchan...</td>\n",
       "      <td>Q0</td>\n",
       "      <td>msmarco_passage_05_840839268</td>\n",
       "      <td>1</td>\n",
       "      <td>16.004101</td>\n",
       "      <td>Anserini</td>\n",
       "      <td>1</td>\n",
       "      <td>what us state bears the slogan the land enchan...</td>\n",
       "      <td>6.321696</td>\n",
       "      <td>1.0</td>\n",
       "    </tr>\n",
       "    <tr>\n",
       "      <th>1</th>\n",
       "      <td>916247</td>\n",
       "      <td>what us state bears the slogan the land enchan...</td>\n",
       "      <td>Q0</td>\n",
       "      <td>msmarco_passage_06_203354916</td>\n",
       "      <td>2</td>\n",
       "      <td>15.715500</td>\n",
       "      <td>Anserini</td>\n",
       "      <td>1</td>\n",
       "      <td>what us state bears the slogan the land enchan...</td>\n",
       "      <td>6.051002</td>\n",
       "      <td>1.0</td>\n",
       "    </tr>\n",
       "    <tr>\n",
       "      <th>2</th>\n",
       "      <td>916247</td>\n",
       "      <td>what us state bears the slogan the land enchan...</td>\n",
       "      <td>Q0</td>\n",
       "      <td>msmarco_passage_45_489369159</td>\n",
       "      <td>3</td>\n",
       "      <td>15.715499</td>\n",
       "      <td>Anserini</td>\n",
       "      <td>1</td>\n",
       "      <td>what us state bears the slogan the land enchan...</td>\n",
       "      <td>6.051002</td>\n",
       "      <td>1.0</td>\n",
       "    </tr>\n",
       "    <tr>\n",
       "      <th>3</th>\n",
       "      <td>916247</td>\n",
       "      <td>what us state bears the slogan the land enchan...</td>\n",
       "      <td>Q0</td>\n",
       "      <td>msmarco_passage_50_676325639</td>\n",
       "      <td>4</td>\n",
       "      <td>14.983700</td>\n",
       "      <td>Anserini</td>\n",
       "      <td>1</td>\n",
       "      <td>what us state bears the slogan the land enchan...</td>\n",
       "      <td>5.166244</td>\n",
       "      <td>1.0</td>\n",
       "    </tr>\n",
       "    <tr>\n",
       "      <th>4</th>\n",
       "      <td>916247</td>\n",
       "      <td>what us state bears the slogan the land enchan...</td>\n",
       "      <td>Q0</td>\n",
       "      <td>msmarco_passage_21_464076261</td>\n",
       "      <td>5</td>\n",
       "      <td>14.347200</td>\n",
       "      <td>Anserini</td>\n",
       "      <td>1</td>\n",
       "      <td>what us state bears the slogan the land enchan...</td>\n",
       "      <td>5.627703</td>\n",
       "      <td>1.0</td>\n",
       "    </tr>\n",
       "  </tbody>\n",
       "</table>\n",
       "</div>"
      ],
      "text/plain": [
       "   query_id                                              query used  \\\n",
       "0    916247  what us state bears the slogan the land enchan...   Q0   \n",
       "1    916247  what us state bears the slogan the land enchan...   Q0   \n",
       "2    916247  what us state bears the slogan the land enchan...   Q0   \n",
       "3    916247  what us state bears the slogan the land enchan...   Q0   \n",
       "4    916247  what us state bears the slogan the land enchan...   Q0   \n",
       "\n",
       "                     passage_id  rank      score  username  rel  \\\n",
       "0  msmarco_passage_05_840839268     1  16.004101  Anserini    1   \n",
       "1  msmarco_passage_06_203354916     2  15.715500  Anserini    1   \n",
       "2  msmarco_passage_45_489369159     3  15.715499  Anserini    1   \n",
       "3  msmarco_passage_50_676325639     4  14.983700  Anserini    1   \n",
       "4  msmarco_passage_21_464076261     5  14.347200  Anserini    1   \n",
       "\n",
       "                                       query_cleaned  predicted_score  \\\n",
       "0  what us state bears the slogan the land enchan...         6.321696   \n",
       "1  what us state bears the slogan the land enchan...         6.051002   \n",
       "2  what us state bears the slogan the land enchan...         6.051002   \n",
       "3  what us state bears the slogan the land enchan...         5.166244   \n",
       "4  what us state bears the slogan the land enchan...         5.627703   \n",
       "\n",
       "   avg_precision  \n",
       "0            1.0  \n",
       "1            1.0  \n",
       "2            1.0  \n",
       "3            1.0  \n",
       "4            1.0  "
      ]
     },
     "execution_count": 11,
     "metadata": {},
     "output_type": "execute_result"
    }
   ],
   "source": [
    "result.head()"
   ]
  },
  {
   "cell_type": "code",
   "execution_count": 10,
   "metadata": {},
   "outputs": [
    {
     "name": "stdout",
     "output_type": "stream",
     "text": [
      "Mean Average Precision=> 0.8682326505416983\n"
     ]
    }
   ],
   "source": [
    "print('Mean Average Precision=>', result[\"avg_precision\"].mean())"
   ]
  },
  {
   "cell_type": "code",
   "execution_count": 12,
   "metadata": {},
   "outputs": [],
   "source": [
    "result.to_csv(\"./output/query_test_result_TinyBERT-L-2-v2_CERerankingEvaluator.csv\"\n",
    "                                       , index = False)"
   ]
  },
  {
   "cell_type": "code",
   "execution_count": null,
   "metadata": {},
   "outputs": [],
   "source": []
  }
 ],
 "metadata": {
  "kernelspec": {
   "display_name": "base",
   "language": "python",
   "name": "python3"
  },
  "language_info": {
   "codemirror_mode": {
    "name": "ipython",
    "version": 3
   },
   "file_extension": ".py",
   "mimetype": "text/x-python",
   "name": "python",
   "nbconvert_exporter": "python",
   "pygments_lexer": "ipython3",
   "version": "3.11.4"
  },
  "orig_nbformat": 4
 },
 "nbformat": 4,
 "nbformat_minor": 2
}
