{
 "cells": [
  {
   "cell_type": "markdown",
   "metadata": {},
   "source": [
    "# About\n",
    "\n",
    "This notebook builds an IR retrieve system. It finetues a Biencoder model using a pretrianed BERT model and Train and Evaluation sets. The evaluator used for finetuning is EmbeddingSimilarityEvaluator developed by the sentence transformer package. The retrieve system is evaluated by the top 10 ranked passages for each query in the Test set.\n",
    "\n",
    "reference: https://www.sbert.net/examples/applications/retrieve_rerank/README.html\n",
    "https://www.sbert.net/docs/usage/semantic_textual_similarity.html"
   ]
  },
  {
   "cell_type": "code",
   "execution_count": 1,
   "metadata": {},
   "outputs": [],
   "source": [
    "import pandas as pd\n",
    "import numpy as np\n",
    "import matplotlib.pyplot as plt\n",
    "import logging\n",
    "from sentence_transformers import LoggingHandler, util, SentenceTransformer\n",
    "from datetime import datetime\n",
    "#from sentence_transformers.cross_encoder import CrossEncoder\n",
    "from torch.utils.data import DataLoader\n",
    "#from sentence_transformers.cross_encoder.evaluation import CERerankingEvaluator, CEBinaryClassificationEvaluator\n",
    "from sentence_transformers.evaluation import EmbeddingSimilarityEvaluator\n",
    "# import gzip\n",
    "# import os\n",
    "# import tarfile\n",
    "from sentence_transformers import InputExample, losses\n",
    "from datetime import datetime\n",
    "# import csv\n",
    "# import pickle\n",
    "# import time"
   ]
  },
  {
   "cell_type": "code",
   "execution_count": 2,
   "metadata": {},
   "outputs": [],
   "source": [
    "#### Just some code to print debug information to stdout\n",
    "logging.basicConfig(\n",
    "    format=\"%(asctime)s - %(message)s\", datefmt=\"%Y-%m-%d %H:%M:%S\", level=logging.INFO, handlers=[LoggingHandler()]\n",
    ")\n",
    "#### /print debug information to stdout"
   ]
  },
  {
   "cell_type": "markdown",
   "metadata": {},
   "source": [
    "# Configure the Training Parameters"
   ]
  },
  {
   "cell_type": "code",
   "execution_count": 3,
   "metadata": {},
   "outputs": [],
   "source": [
    "\n",
    "train_batch_size = 30\n",
    "num_epochs = 1\n",
    "warmup_steps = 5000"
   ]
  },
  {
   "cell_type": "markdown",
   "metadata": {},
   "source": [
    "# Define functions"
   ]
  },
  {
   "cell_type": "code",
   "execution_count": 2,
   "metadata": {},
   "outputs": [],
   "source": [
    "def df_to_list(query_df, passage_df):\n",
    "    \"\"\"\n",
    "    # this function create train, test data\n",
    "    # it reads in query_df and passage_df, then for loop to create a list of list\n",
    "    # each query, passage pair is a list of 4 elements: [query, passage, score, rel]\n",
    "    # the ouput is [[query, passage, score, rel], [query, passage, score, rel], ...]\n",
    "    \"\"\"\n",
    "    list_query_passage_score_rel = []\n",
    "    for index, row in query_df.iterrows():\n",
    "        list = []\n",
    "        list.append(row['query'])\n",
    "        list.append(passage_df[passage_df['passage_id'] == row['passage_id']][\"passage\"].iloc[0])\n",
    "        list.append(row[\"score\"])\n",
    "        list.append(row[\"rel\"])\n",
    "        list_query_passage_score_rel.append(list)\n",
    "    return list_query_passage_score_rel"
   ]
  },
  {
   "cell_type": "markdown",
   "metadata": {},
   "source": [
    "# Read in Train, Validation, Test sets"
   ]
  },
  {
   "cell_type": "code",
   "execution_count": 3,
   "metadata": {},
   "outputs": [],
   "source": [
    "# query\n",
    "query_train = pd.read_csv(\"./output/query_train_set_with_passage_info.csv\")\n",
    "query_val =pd.read_csv(\"./output/query_val_set_with_passage_info.csv\")\n",
    "query_test =pd.read_csv(\"./output/query_test_set_with_passage_info.csv\")\n",
    "\n",
    "# passage\n",
    "passage_train = pd.read_csv(\"./output/train_passage_id_content_cleaned.csv\")\n",
    "passage_val = pd.read_csv(\"./output/val_passage_id_content_cleaned.csv\")\n",
    "passage_test = pd.read_csv(\"./output/test_passage_id_content_cleaned.csv\")\n",
    "\n"
   ]
  },
  {
   "cell_type": "code",
   "execution_count": 6,
   "metadata": {},
   "outputs": [
    {
     "name": "stdout",
     "output_type": "stream",
     "text": [
      "(20000, 9)\n",
      "(20000, 9)\n",
      "(20000, 9)\n"
     ]
    }
   ],
   "source": [
    "print(query_train.shape)\n",
    "print(query_val.shape)\n",
    "print(query_test.shape)"
   ]
  },
  {
   "cell_type": "code",
   "execution_count": 7,
   "metadata": {},
   "outputs": [
    {
     "data": {
      "text/html": [
       "<div>\n",
       "<style scoped>\n",
       "    .dataframe tbody tr th:only-of-type {\n",
       "        vertical-align: middle;\n",
       "    }\n",
       "\n",
       "    .dataframe tbody tr th {\n",
       "        vertical-align: top;\n",
       "    }\n",
       "\n",
       "    .dataframe thead th {\n",
       "        text-align: right;\n",
       "    }\n",
       "</style>\n",
       "<table border=\"1\" class=\"dataframe\">\n",
       "  <thead>\n",
       "    <tr style=\"text-align: right;\">\n",
       "      <th></th>\n",
       "      <th>query_id</th>\n",
       "      <th>query</th>\n",
       "      <th>used</th>\n",
       "      <th>passage_id</th>\n",
       "      <th>rank</th>\n",
       "      <th>score</th>\n",
       "      <th>username</th>\n",
       "      <th>rel</th>\n",
       "      <th>query_cleaned</th>\n",
       "    </tr>\n",
       "  </thead>\n",
       "  <tbody>\n",
       "    <tr>\n",
       "      <th>0</th>\n",
       "      <td>568182</td>\n",
       "      <td>what are the characteristics of wool fibres</td>\n",
       "      <td>Q0</td>\n",
       "      <td>msmarco_passage_62_547459701</td>\n",
       "      <td>1</td>\n",
       "      <td>16.102699</td>\n",
       "      <td>Anserini</td>\n",
       "      <td>1</td>\n",
       "      <td>what are the characteristics of wool fibres</td>\n",
       "    </tr>\n",
       "    <tr>\n",
       "      <th>1</th>\n",
       "      <td>568182</td>\n",
       "      <td>what are the characteristics of wool fibres</td>\n",
       "      <td>Q0</td>\n",
       "      <td>msmarco_passage_21_588232716</td>\n",
       "      <td>2</td>\n",
       "      <td>14.784700</td>\n",
       "      <td>Anserini</td>\n",
       "      <td>1</td>\n",
       "      <td>what are the characteristics of wool fibres</td>\n",
       "    </tr>\n",
       "    <tr>\n",
       "      <th>2</th>\n",
       "      <td>568182</td>\n",
       "      <td>what are the characteristics of wool fibres</td>\n",
       "      <td>Q0</td>\n",
       "      <td>msmarco_passage_11_97323294</td>\n",
       "      <td>3</td>\n",
       "      <td>13.865800</td>\n",
       "      <td>Anserini</td>\n",
       "      <td>1</td>\n",
       "      <td>what are the characteristics of wool fibres</td>\n",
       "    </tr>\n",
       "    <tr>\n",
       "      <th>3</th>\n",
       "      <td>568182</td>\n",
       "      <td>what are the characteristics of wool fibres</td>\n",
       "      <td>Q0</td>\n",
       "      <td>msmarco_passage_68_54887603</td>\n",
       "      <td>4</td>\n",
       "      <td>13.865799</td>\n",
       "      <td>Anserini</td>\n",
       "      <td>1</td>\n",
       "      <td>what are the characteristics of wool fibres</td>\n",
       "    </tr>\n",
       "    <tr>\n",
       "      <th>4</th>\n",
       "      <td>568182</td>\n",
       "      <td>what are the characteristics of wool fibres</td>\n",
       "      <td>Q0</td>\n",
       "      <td>msmarco_passage_62_547466749</td>\n",
       "      <td>5</td>\n",
       "      <td>13.793600</td>\n",
       "      <td>Anserini</td>\n",
       "      <td>1</td>\n",
       "      <td>what are the characteristics of wool fibres</td>\n",
       "    </tr>\n",
       "  </tbody>\n",
       "</table>\n",
       "</div>"
      ],
      "text/plain": [
       "   query_id                                        query used  \\\n",
       "0    568182  what are the characteristics of wool fibres   Q0   \n",
       "1    568182  what are the characteristics of wool fibres   Q0   \n",
       "2    568182  what are the characteristics of wool fibres   Q0   \n",
       "3    568182  what are the characteristics of wool fibres   Q0   \n",
       "4    568182  what are the characteristics of wool fibres   Q0   \n",
       "\n",
       "                     passage_id  rank      score  username  rel  \\\n",
       "0  msmarco_passage_62_547459701     1  16.102699  Anserini    1   \n",
       "1  msmarco_passage_21_588232716     2  14.784700  Anserini    1   \n",
       "2   msmarco_passage_11_97323294     3  13.865800  Anserini    1   \n",
       "3   msmarco_passage_68_54887603     4  13.865799  Anserini    1   \n",
       "4  msmarco_passage_62_547466749     5  13.793600  Anserini    1   \n",
       "\n",
       "                                 query_cleaned  \n",
       "0  what are the characteristics of wool fibres  \n",
       "1  what are the characteristics of wool fibres  \n",
       "2  what are the characteristics of wool fibres  \n",
       "3  what are the characteristics of wool fibres  \n",
       "4  what are the characteristics of wool fibres  "
      ]
     },
     "execution_count": 7,
     "metadata": {},
     "output_type": "execute_result"
    }
   ],
   "source": [
    "query_train.head()"
   ]
  },
  {
   "cell_type": "code",
   "execution_count": 8,
   "metadata": {},
   "outputs": [
    {
     "data": {
      "text/html": [
       "<div>\n",
       "<style scoped>\n",
       "    .dataframe tbody tr th:only-of-type {\n",
       "        vertical-align: middle;\n",
       "    }\n",
       "\n",
       "    .dataframe tbody tr th {\n",
       "        vertical-align: top;\n",
       "    }\n",
       "\n",
       "    .dataframe thead th {\n",
       "        text-align: right;\n",
       "    }\n",
       "</style>\n",
       "<table border=\"1\" class=\"dataframe\">\n",
       "  <thead>\n",
       "    <tr style=\"text-align: right;\">\n",
       "      <th></th>\n",
       "      <th>query_id</th>\n",
       "      <th>query</th>\n",
       "      <th>used</th>\n",
       "      <th>passage_id</th>\n",
       "      <th>rank</th>\n",
       "      <th>score</th>\n",
       "      <th>username</th>\n",
       "      <th>rel</th>\n",
       "      <th>query_cleaned</th>\n",
       "    </tr>\n",
       "  </thead>\n",
       "  <tbody>\n",
       "    <tr>\n",
       "      <th>0</th>\n",
       "      <td>791126</td>\n",
       "      <td>what is respiration controlled by</td>\n",
       "      <td>Q0</td>\n",
       "      <td>msmarco_passage_48_489095876</td>\n",
       "      <td>1</td>\n",
       "      <td>9.5709</td>\n",
       "      <td>Anserini</td>\n",
       "      <td>1</td>\n",
       "      <td>what is respiration controlled by</td>\n",
       "    </tr>\n",
       "    <tr>\n",
       "      <th>1</th>\n",
       "      <td>791126</td>\n",
       "      <td>what is respiration controlled by</td>\n",
       "      <td>Q0</td>\n",
       "      <td>msmarco_passage_30_653845189</td>\n",
       "      <td>2</td>\n",
       "      <td>9.5522</td>\n",
       "      <td>Anserini</td>\n",
       "      <td>1</td>\n",
       "      <td>what is respiration controlled by</td>\n",
       "    </tr>\n",
       "    <tr>\n",
       "      <th>2</th>\n",
       "      <td>791126</td>\n",
       "      <td>what is respiration controlled by</td>\n",
       "      <td>Q0</td>\n",
       "      <td>msmarco_passage_04_540229875</td>\n",
       "      <td>3</td>\n",
       "      <td>9.4101</td>\n",
       "      <td>Anserini</td>\n",
       "      <td>1</td>\n",
       "      <td>what is respiration controlled by</td>\n",
       "    </tr>\n",
       "    <tr>\n",
       "      <th>3</th>\n",
       "      <td>791126</td>\n",
       "      <td>what is respiration controlled by</td>\n",
       "      <td>Q0</td>\n",
       "      <td>msmarco_passage_27_425453773</td>\n",
       "      <td>4</td>\n",
       "      <td>9.1409</td>\n",
       "      <td>Anserini</td>\n",
       "      <td>1</td>\n",
       "      <td>what is respiration controlled by</td>\n",
       "    </tr>\n",
       "    <tr>\n",
       "      <th>4</th>\n",
       "      <td>791126</td>\n",
       "      <td>what is respiration controlled by</td>\n",
       "      <td>Q0</td>\n",
       "      <td>msmarco_passage_59_586798337</td>\n",
       "      <td>5</td>\n",
       "      <td>8.8821</td>\n",
       "      <td>Anserini</td>\n",
       "      <td>1</td>\n",
       "      <td>what is respiration controlled by</td>\n",
       "    </tr>\n",
       "  </tbody>\n",
       "</table>\n",
       "</div>"
      ],
      "text/plain": [
       "   query_id                              query used  \\\n",
       "0    791126  what is respiration controlled by   Q0   \n",
       "1    791126  what is respiration controlled by   Q0   \n",
       "2    791126  what is respiration controlled by   Q0   \n",
       "3    791126  what is respiration controlled by   Q0   \n",
       "4    791126  what is respiration controlled by   Q0   \n",
       "\n",
       "                     passage_id  rank   score  username  rel  \\\n",
       "0  msmarco_passage_48_489095876     1  9.5709  Anserini    1   \n",
       "1  msmarco_passage_30_653845189     2  9.5522  Anserini    1   \n",
       "2  msmarco_passage_04_540229875     3  9.4101  Anserini    1   \n",
       "3  msmarco_passage_27_425453773     4  9.1409  Anserini    1   \n",
       "4  msmarco_passage_59_586798337     5  8.8821  Anserini    1   \n",
       "\n",
       "                       query_cleaned  \n",
       "0  what is respiration controlled by  \n",
       "1  what is respiration controlled by  \n",
       "2  what is respiration controlled by  \n",
       "3  what is respiration controlled by  \n",
       "4  what is respiration controlled by  "
      ]
     },
     "execution_count": 8,
     "metadata": {},
     "output_type": "execute_result"
    }
   ],
   "source": [
    "query_val.head()"
   ]
  },
  {
   "cell_type": "code",
   "execution_count": 9,
   "metadata": {},
   "outputs": [
    {
     "data": {
      "text/html": [
       "<div>\n",
       "<style scoped>\n",
       "    .dataframe tbody tr th:only-of-type {\n",
       "        vertical-align: middle;\n",
       "    }\n",
       "\n",
       "    .dataframe tbody tr th {\n",
       "        vertical-align: top;\n",
       "    }\n",
       "\n",
       "    .dataframe thead th {\n",
       "        text-align: right;\n",
       "    }\n",
       "</style>\n",
       "<table border=\"1\" class=\"dataframe\">\n",
       "  <thead>\n",
       "    <tr style=\"text-align: right;\">\n",
       "      <th></th>\n",
       "      <th>query_id</th>\n",
       "      <th>query</th>\n",
       "      <th>used</th>\n",
       "      <th>passage_id</th>\n",
       "      <th>rank</th>\n",
       "      <th>score</th>\n",
       "      <th>username</th>\n",
       "      <th>rel</th>\n",
       "      <th>query_cleaned</th>\n",
       "    </tr>\n",
       "  </thead>\n",
       "  <tbody>\n",
       "    <tr>\n",
       "      <th>0</th>\n",
       "      <td>203324</td>\n",
       "      <td>him functions to the paper health record</td>\n",
       "      <td>Q0</td>\n",
       "      <td>msmarco_passage_49_115778700</td>\n",
       "      <td>1</td>\n",
       "      <td>13.2671</td>\n",
       "      <td>Anserini</td>\n",
       "      <td>1</td>\n",
       "      <td>him functions to the paper health record</td>\n",
       "    </tr>\n",
       "    <tr>\n",
       "      <th>1</th>\n",
       "      <td>203324</td>\n",
       "      <td>him functions to the paper health record</td>\n",
       "      <td>Q0</td>\n",
       "      <td>msmarco_passage_26_450017756</td>\n",
       "      <td>2</td>\n",
       "      <td>11.8537</td>\n",
       "      <td>Anserini</td>\n",
       "      <td>1</td>\n",
       "      <td>him functions to the paper health record</td>\n",
       "    </tr>\n",
       "    <tr>\n",
       "      <th>2</th>\n",
       "      <td>203324</td>\n",
       "      <td>him functions to the paper health record</td>\n",
       "      <td>Q0</td>\n",
       "      <td>msmarco_passage_19_202396335</td>\n",
       "      <td>3</td>\n",
       "      <td>11.2738</td>\n",
       "      <td>Anserini</td>\n",
       "      <td>1</td>\n",
       "      <td>him functions to the paper health record</td>\n",
       "    </tr>\n",
       "    <tr>\n",
       "      <th>3</th>\n",
       "      <td>203324</td>\n",
       "      <td>him functions to the paper health record</td>\n",
       "      <td>Q0</td>\n",
       "      <td>msmarco_passage_28_623516004</td>\n",
       "      <td>4</td>\n",
       "      <td>11.0361</td>\n",
       "      <td>Anserini</td>\n",
       "      <td>1</td>\n",
       "      <td>him functions to the paper health record</td>\n",
       "    </tr>\n",
       "    <tr>\n",
       "      <th>4</th>\n",
       "      <td>203324</td>\n",
       "      <td>him functions to the paper health record</td>\n",
       "      <td>Q0</td>\n",
       "      <td>msmarco_passage_02_47181174</td>\n",
       "      <td>5</td>\n",
       "      <td>10.9476</td>\n",
       "      <td>Anserini</td>\n",
       "      <td>1</td>\n",
       "      <td>him functions to the paper health record</td>\n",
       "    </tr>\n",
       "  </tbody>\n",
       "</table>\n",
       "</div>"
      ],
      "text/plain": [
       "   query_id                                     query used  \\\n",
       "0    203324  him functions to the paper health record   Q0   \n",
       "1    203324  him functions to the paper health record   Q0   \n",
       "2    203324  him functions to the paper health record   Q0   \n",
       "3    203324  him functions to the paper health record   Q0   \n",
       "4    203324  him functions to the paper health record   Q0   \n",
       "\n",
       "                     passage_id  rank    score  username  rel  \\\n",
       "0  msmarco_passage_49_115778700     1  13.2671  Anserini    1   \n",
       "1  msmarco_passage_26_450017756     2  11.8537  Anserini    1   \n",
       "2  msmarco_passage_19_202396335     3  11.2738  Anserini    1   \n",
       "3  msmarco_passage_28_623516004     4  11.0361  Anserini    1   \n",
       "4   msmarco_passage_02_47181174     5  10.9476  Anserini    1   \n",
       "\n",
       "                              query_cleaned  \n",
       "0  him functions to the paper health record  \n",
       "1  him functions to the paper health record  \n",
       "2  him functions to the paper health record  \n",
       "3  him functions to the paper health record  \n",
       "4  him functions to the paper health record  "
      ]
     },
     "execution_count": 9,
     "metadata": {},
     "output_type": "execute_result"
    }
   ],
   "source": [
    "query_test.head()"
   ]
  },
  {
   "cell_type": "code",
   "execution_count": 10,
   "metadata": {},
   "outputs": [
    {
     "data": {
      "text/html": [
       "<div>\n",
       "<style scoped>\n",
       "    .dataframe tbody tr th:only-of-type {\n",
       "        vertical-align: middle;\n",
       "    }\n",
       "\n",
       "    .dataframe tbody tr th {\n",
       "        vertical-align: top;\n",
       "    }\n",
       "\n",
       "    .dataframe thead th {\n",
       "        text-align: right;\n",
       "    }\n",
       "</style>\n",
       "<table border=\"1\" class=\"dataframe\">\n",
       "  <thead>\n",
       "    <tr style=\"text-align: right;\">\n",
       "      <th></th>\n",
       "      <th>passage_id</th>\n",
       "      <th>passage</th>\n",
       "      <th>passage_cleaned</th>\n",
       "      <th>passage_cleaned_lemmatized</th>\n",
       "    </tr>\n",
       "  </thead>\n",
       "  <tbody>\n",
       "    <tr>\n",
       "      <th>0</th>\n",
       "      <td>msmarco_passage_62_547459701</td>\n",
       "      <td>Table of Contents. Growth. Harvesting. Grading...</td>\n",
       "      <td>table of contents growth harvesting grading of...</td>\n",
       "      <td>table content growth harvesting grade wool fib...</td>\n",
       "    </tr>\n",
       "    <tr>\n",
       "      <th>1</th>\n",
       "      <td>msmarco_passage_21_588232716</td>\n",
       "      <td>A micron ( micrometre) is the measurement used...</td>\n",
       "      <td>a micron micrometre is the measurement used to...</td>\n",
       "      <td>micron micrometre measurement express diameter...</td>\n",
       "    </tr>\n",
       "    <tr>\n",
       "      <th>2</th>\n",
       "      <td>msmarco_passage_11_97323294</td>\n",
       "      <td>Objective measurements include diameter (micro...</td>\n",
       "      <td>objective measurements include diameter micron...</td>\n",
       "      <td>objective measurement include diameter micron ...</td>\n",
       "    </tr>\n",
       "    <tr>\n",
       "      <th>3</th>\n",
       "      <td>msmarco_passage_68_54887603</td>\n",
       "      <td>Objective measurements include diameter (micro...</td>\n",
       "      <td>objective measurements include diameter micron...</td>\n",
       "      <td>objective measurement include diameter micron ...</td>\n",
       "    </tr>\n",
       "    <tr>\n",
       "      <th>4</th>\n",
       "      <td>msmarco_passage_62_547466749</td>\n",
       "      <td>Summary of Characteristics of Wool Fibers. Woo...</td>\n",
       "      <td>summary of characteristics of wool fibers wool...</td>\n",
       "      <td>summary characteristic wool fiber wool protein...</td>\n",
       "    </tr>\n",
       "  </tbody>\n",
       "</table>\n",
       "</div>"
      ],
      "text/plain": [
       "                     passage_id  \\\n",
       "0  msmarco_passage_62_547459701   \n",
       "1  msmarco_passage_21_588232716   \n",
       "2   msmarco_passage_11_97323294   \n",
       "3   msmarco_passage_68_54887603   \n",
       "4  msmarco_passage_62_547466749   \n",
       "\n",
       "                                             passage  \\\n",
       "0  Table of Contents. Growth. Harvesting. Grading...   \n",
       "1  A micron ( micrometre) is the measurement used...   \n",
       "2  Objective measurements include diameter (micro...   \n",
       "3  Objective measurements include diameter (micro...   \n",
       "4  Summary of Characteristics of Wool Fibers. Woo...   \n",
       "\n",
       "                                     passage_cleaned  \\\n",
       "0  table of contents growth harvesting grading of...   \n",
       "1  a micron micrometre is the measurement used to...   \n",
       "2  objective measurements include diameter micron...   \n",
       "3  objective measurements include diameter micron...   \n",
       "4  summary of characteristics of wool fibers wool...   \n",
       "\n",
       "                          passage_cleaned_lemmatized  \n",
       "0  table content growth harvesting grade wool fib...  \n",
       "1  micron micrometre measurement express diameter...  \n",
       "2  objective measurement include diameter micron ...  \n",
       "3  objective measurement include diameter micron ...  \n",
       "4  summary characteristic wool fiber wool protein...  "
      ]
     },
     "execution_count": 10,
     "metadata": {},
     "output_type": "execute_result"
    }
   ],
   "source": [
    "passage_train.head()"
   ]
  },
  {
   "cell_type": "markdown",
   "metadata": {},
   "source": [
    "# Prepare model input for Training"
   ]
  },
  {
   "cell_type": "code",
   "execution_count": 11,
   "metadata": {},
   "outputs": [
    {
     "name": "stdout",
     "output_type": "stream",
     "text": [
      "20000\n"
     ]
    },
    {
     "data": {
      "text/plain": [
       "[['what are the characteristics of wool fibres',\n",
       "  'Table of Contents. Growth. Harvesting. Grading of Wool Fibers. Properties of Wool Fibers. Application of Wool Fibers. Characteristics of Wool Fibers and Products. Summary of Characteristics of Wool Fibers. Of the major apparel fibres, wool is the most reusable and recyclable fibre on the planet.',\n",
       "  16.102699,\n",
       "  1],\n",
       " ['what are the characteristics of wool fibres',\n",
       "  'A micron ( micrometre) is the measurement used to express the diameter of wool fibre. Fine wool fibers have a low micron value. Fibre diameter is the most important characteristic of wool in determining its value.',\n",
       "  14.7847,\n",
       "  1],\n",
       " ['what are the characteristics of wool fibres',\n",
       "  'Objective measurements include diameter (micron), length, strength, position of break, vegetable matter and colour. AWEX-ID covers subjective characteristics. Diameter. Mean fibre diameter is a measurement in micrometres (microns) of the average diameter of wool fibres in a sale lot. Fibre diameter is responsible for 70-80 per cent of the greasy wool price over the long term.',\n",
       "  13.8658,\n",
       "  1]]"
      ]
     },
     "execution_count": 11,
     "metadata": {},
     "output_type": "execute_result"
    }
   ],
   "source": [
    "list_query_passage_score_rel_train = df_to_list(query_train, passage_train)\n",
    "print(len(list_query_passage_score_rel_train))\n",
    "list_query_passage_score_rel_train[0:3]"
   ]
  },
  {
   "cell_type": "markdown",
   "metadata": {},
   "source": [
    "# Prepare model input for Validation"
   ]
  },
  {
   "cell_type": "code",
   "execution_count": 12,
   "metadata": {},
   "outputs": [
    {
     "name": "stdout",
     "output_type": "stream",
     "text": [
      "20000\n"
     ]
    },
    {
     "data": {
      "text/plain": [
       "[['what is respiration controlled by',\n",
       "  'Explain what respirable crystalline silica is and the health hazards associated with it. 3. Know the specific tasks in the workplace that could result in exposure to respirable crystalline silica. 4. Know the types of control measures and respiratory protection for respirable crystalline silica. 5.',\n",
       "  9.5709,\n",
       "  1],\n",
       " ['what is respiration controlled by',\n",
       "  'soft and elastic. which part of the brain controls the involuntary action of respiration. medulla oblongata. when assessing respirations, what should be noted. abnormalitis in characteristics such as rate, rythm, and depth. what is the normal respiratory rate. 12-20.',\n",
       "  9.5522,\n",
       "  1],\n",
       " ['what is respiration controlled by',\n",
       "  'What Part of the Brain Controls Breathing. Let’s get to know What is Breathing and Respiration, before we get into ‘what part of the brain controls breathing’. We say we are ALIVE.',\n",
       "  9.4101,\n",
       "  1]]"
      ]
     },
     "execution_count": 12,
     "metadata": {},
     "output_type": "execute_result"
    }
   ],
   "source": [
    "list_eval = df_to_list(query_val, passage_val)\n",
    "print(len(list_eval))\n",
    "list_eval[0:3]"
   ]
  },
  {
   "cell_type": "markdown",
   "metadata": {},
   "source": [
    "# Load in pretrained model"
   ]
  },
  {
   "cell_type": "code",
   "execution_count": 4,
   "metadata": {},
   "outputs": [
    {
     "name": "stdout",
     "output_type": "stream",
     "text": [
      "output/bi-encoder-finetuneall-MiniLM-L6-v2-2024-04-22_16-23-41\n"
     ]
    }
   ],
   "source": [
    "\n",
    "model_name = \"all-MiniLM-L6-v2\"\n",
    "model = SentenceTransformer(model_name)\n",
    "num_candidates = 20\n",
    "\n",
    "model_save_path = (\n",
    "    \"output/bi-encoder-finetune\"\n",
    "    + model_name.replace(\"/\", \"-\")\n",
    "    + \"-\"\n",
    "    + datetime.now().strftime(\"%Y-%m-%d_%H-%M-%S\")\n",
    ")\n",
    "print(model_save_path)\n",
    "\n"
   ]
  },
  {
   "cell_type": "markdown",
   "metadata": {},
   "source": [
    "# Fine tune the model using Train and Validation sets"
   ]
  },
  {
   "cell_type": "code",
   "execution_count": 26,
   "metadata": {},
   "outputs": [
    {
     "name": "stdout",
     "output_type": "stream",
     "text": [
      "667\n"
     ]
    }
   ],
   "source": [
    "train_sample = []\n",
    "for list in list_query_passage_score_rel_train:\n",
    "    # use the score as Target, as I am to use cosine similarity for evaluator\n",
    "    train_sample.append(InputExample(texts=[list[0], list[1]], label = list[2]))\n",
    "train_dataloader = DataLoader(train_sample, shuffle=True, batch_size=train_batch_size)\n",
    "print(len(train_dataloader))"
   ]
  },
  {
   "cell_type": "code",
   "execution_count": 27,
   "metadata": {},
   "outputs": [],
   "source": [
    "val_sample = []\n",
    "for list in list_eval:\n",
    "    # use the score as Target, as I am to use cosine similarity for evaluator\n",
    "    val_sample.append(InputExample(texts=[list[0], list[1]], label = list[2])) "
   ]
  },
  {
   "cell_type": "code",
   "execution_count": 28,
   "metadata": {},
   "outputs": [
    {
     "data": {
      "text/plain": [
       "<sentence_transformers.evaluation.EmbeddingSimilarityEvaluator.EmbeddingSimilarityEvaluator at 0x7fc398c46810>"
      ]
     },
     "execution_count": 28,
     "metadata": {},
     "output_type": "execute_result"
    }
   ],
   "source": [
    "evaluator = EmbeddingSimilarityEvaluator.from_input_examples(val_sample, name=\"train-eval-binary\")\n",
    "evaluator"
   ]
  },
  {
   "cell_type": "code",
   "execution_count": 29,
   "metadata": {},
   "outputs": [
    {
     "name": "stdout",
     "output_type": "stream",
     "text": [
      "2024-04-21 20:45:01 - Warmup-steps: 5000\n"
     ]
    },
    {
     "data": {
      "application/vnd.jupyter.widget-view+json": {
       "model_id": "b02c2912ecd54f01aa0e427d449fab5f",
       "version_major": 2,
       "version_minor": 0
      },
      "text/plain": [
       "Epoch:   0%|          | 0/1 [00:00<?, ?it/s]"
      ]
     },
     "metadata": {},
     "output_type": "display_data"
    },
    {
     "data": {
      "application/vnd.jupyter.widget-view+json": {
       "model_id": "4d7a66113b9f426b884b39907618eafc",
       "version_major": 2,
       "version_minor": 0
      },
      "text/plain": [
       "Iteration:   0%|          | 0/667 [00:00<?, ?it/s]"
      ]
     },
     "metadata": {},
     "output_type": "display_data"
    },
    {
     "name": "stdout",
     "output_type": "stream",
     "text": [
      "2024-04-22 12:14:17 - EmbeddingSimilarityEvaluator: Evaluating the model on train-eval-binary dataset after epoch 0:\n",
      "2024-04-22 12:16:04 - Cosine-Similarity :\tPearson: 0.3018\tSpearman: 0.3901\n",
      "2024-04-22 12:16:04 - Manhattan-Distance:\tPearson: 0.3390\tSpearman: 0.3881\n",
      "2024-04-22 12:16:04 - Euclidean-Distance:\tPearson: 0.3406\tSpearman: 0.3901\n",
      "2024-04-22 12:16:04 - Dot-Product-Similarity:\tPearson: 0.3018\tSpearman: 0.3901\n",
      "2024-04-22 12:16:04 - Save model to output/bi-encoder-finetuneall-MiniLM-L6-v2-2024-04-21_20-27-45\n"
     ]
    }
   ],
   "source": [
    "# reference: https://sbert.net/docs/training/overview.html#training-data\n",
    "\n",
    "\n",
    "# Configure the training\n",
    "\n",
    "logging.info(\"Warmup-steps: {}\".format(warmup_steps))\n",
    "train_loss = losses.CosineSimilarityLoss(model)\n",
    "\n",
    "# Train the model\n",
    "model.fit(\n",
    "    train_objectives=[(train_dataloader, train_loss)],\n",
    "    evaluator=evaluator,\n",
    "    epochs=num_epochs,\n",
    "    evaluation_steps=10000,\n",
    "    warmup_steps=warmup_steps,\n",
    "    output_path=model_save_path,\n",
    "    use_amp=True,\n",
    ")\n"
   ]
  },
  {
   "cell_type": "markdown",
   "metadata": {},
   "source": [
    "# [skip] Print evaluation result using Sbert function"
   ]
  },
  {
   "cell_type": "code",
   "execution_count": 5,
   "metadata": {},
   "outputs": [],
   "source": [
    "# Load model and eval on test set\n",
    "model_save_path = \"output/bi-encoder-finetuneall-MiniLM-L6-v2-2024-04-21_20-27-45\"\n",
    "\n",
    "model = SentenceTransformer(model_save_path)"
   ]
  },
  {
   "cell_type": "code",
   "execution_count": 8,
   "metadata": {},
   "outputs": [
    {
     "name": "stdout",
     "output_type": "stream",
     "text": [
      "20000\n",
      "20000\n"
     ]
    },
    {
     "data": {
      "text/plain": [
       "[<sentence_transformers.readers.InputExample.InputExample at 0x7f43c878f210>,\n",
       " <sentence_transformers.readers.InputExample.InputExample at 0x7f43c87c2c10>,\n",
       " <sentence_transformers.readers.InputExample.InputExample at 0x7f43ca0bd650>]"
      ]
     },
     "execution_count": 8,
     "metadata": {},
     "output_type": "execute_result"
    }
   ],
   "source": [
    "list_query_passage_score_rel_test = df_to_list(query_test, passage_test)\n",
    "print(len(list_query_passage_score_rel_test))\n",
    "\n",
    "test_sample = []\n",
    "for list in list_query_passage_score_rel_test:\n",
    "    test_sample.append(InputExample(texts=[list[0], list[1]], label = list[3]))\n",
    "\n",
    "print(len(test_sample))\n",
    "test_sample[:3]"
   ]
  },
  {
   "cell_type": "code",
   "execution_count": 9,
   "metadata": {},
   "outputs": [
    {
     "data": {
      "text/plain": [
       "0.2858092725749748"
      ]
     },
     "execution_count": 9,
     "metadata": {},
     "output_type": "execute_result"
    }
   ],
   "source": [
    "\n",
    "\n",
    "evaluator = EmbeddingSimilarityEvaluator.from_input_examples(test_sample, name=\"sts-test-binary\")\n",
    "evaluator(model)"
   ]
  },
  {
   "cell_type": "markdown",
   "metadata": {},
   "source": [
    "# Prepare input for Test Set's Inference"
   ]
  },
  {
   "cell_type": "code",
   "execution_count": 6,
   "metadata": {},
   "outputs": [],
   "source": [
    "def create_data_for_inference(query_df, passage_df):\n",
    "    \"\"\"\n",
    "    # this function for loop each query, create list_query_passage (a list of list) for every query: [[query1, passage1], [query1, passage2] ....]\n",
    "    # then pass this query's list_query_passage to model to make prediction, each query will return a score (list): [score1, score2, score3 ....]\n",
    "    # the ouput dict_qid_all_prediction is a dictionary that append all query's list_score: {qid1: [score1, score2, score3 ....]}\n",
    "    # the ouput dict_qid_pid_true is a dictionary that append all query's True ranked qassage {qid1: [pid1, pid2, ..., pid of topn]}\n",
    "    \"\"\"\n",
    "\n",
    "    # create a list of list for all queries [[query1, passage1], [query1, passage2]..., [query2, passage1], [query2, passage2]..., ]\n",
    "    # This would be used to fit into model to make prediction\n",
    "    list_query_passage = []\n",
    "\n",
    "\n",
    "    # create a list of list for all queries [[qid1, pid1], [qid1, pid2]..., [qid2, pid1], [qid2, pid2]..., ]\n",
    "    # This would be used to collect and sort model prediction\n",
    "    list_qid_all_pid = []\n",
    "\n",
    "    # create a dict of dict for all queries {qid1: {pid1: rel, pid2: rel, ...}, qid2: {pid1: rel, pid2: rel, ...}, }\n",
    "    # This would be used to evaluate model prediction\n",
    "    dict_of_dict_qid_pid_rel = {}\n",
    "\n",
    "    # iterate over all qid\n",
    "    list_qid = query_df[\"query_id\"].unique()\n",
    "    for qid in list_qid:\n",
    "\n",
    "        \n",
    "        # get the rows that contains the qid, pid, score, rel for this qid\n",
    "        query_df_subset = query_df[query_df['query_id'] == qid]\n",
    "        \n",
    "        # iterate over all pid\n",
    "        for index, row in query_df_subset.iterrows():\n",
    "            \n",
    "            # create a list of 2 elements [query, passage]\n",
    "            list = []\n",
    "            list.append(row['query'])\n",
    "\n",
    "            # get the only 1 row that contains the passage text in passage_df and whose pid matches the row's pid\n",
    "            list.append(passage_df[passage_df['passage_id'] == row['passage_id']][\"passage\"].iloc[0]) # get passage value\n",
    "\n",
    "            # append all lists of 2 elements of all queries into one list\n",
    "            list_query_passage.append(list)\n",
    "\n",
    "            # append the sublist. Each sublist is the [qid, pid] of the query\n",
    "            list_qid_all_pid.append([row['query_id'], passage_df[passage_df['passage_id'] == row['passage_id']]['passage_id'].iloc[0]])\n",
    "\n",
    "        \n",
    "        \n",
    "        # for this query, create a dictionary of Y true - each key is a pid, each value is the relavence (1 or 0) of the passage {pid1: 1, pid2, 0, ....}\n",
    "        dict_pid_rel = pd.Series(query_df_subset['rel'].values, index = query_df_subset['passage_id']).to_dict()\n",
    "\n",
    "        # append the dict of this query to the dict for all queries \n",
    "        dict_of_dict_qid_pid_rel[qid] = dict_pid_rel\n",
    "\n",
    "    return list_query_passage, list_qid_all_pid, dict_of_dict_qid_pid_rel"
   ]
  },
  {
   "cell_type": "code",
   "execution_count": 7,
   "metadata": {},
   "outputs": [],
   "source": [
    "list_query_passage, list_qid_all_pid, dict_of_dict_qid_pid_rel = create_data_for_inference(query_test, passage_test)"
   ]
  },
  {
   "cell_type": "code",
   "execution_count": 8,
   "metadata": {},
   "outputs": [
    {
     "name": "stdout",
     "output_type": "stream",
     "text": [
      "20000\n",
      "['him functions to the paper health record', 'This information can be either paper-based, a combination of paper and digital (hybrid) or as is more often the case, a fully electronic health record (EHR). HIM professionals are using advanced technology as they perform most HIM-related functions.']\n",
      "['what does the word element cyte mean', 'What does -cyte mean? The combining form -cyte is used like a suffix meaning “cell.”. It is often used in medical and scientific terms, especially to name different types of cells. The form -cyte comes from the Greek kýtos, meaning “container,” “receptacle,” “body.”.']\n",
      "20000\n",
      "2\n",
      "[203324, 'msmarco_passage_49_115778700']\n",
      "1000\n",
      "20\n",
      "{'msmarco_passage_49_115778700': 1, 'msmarco_passage_26_450017756': 1, 'msmarco_passage_19_202396335': 1, 'msmarco_passage_28_623516004': 1, 'msmarco_passage_02_47181174': 1, 'msmarco_passage_02_47511835': 1, 'msmarco_passage_11_636220699': 1, 'msmarco_passage_41_133447691': 1, 'msmarco_passage_58_723159152': 1, 'msmarco_passage_24_583711786': 1, 'msmarco_passage_18_714845189': 0, 'msmarco_passage_59_733040871': 0, 'msmarco_passage_65_238890762': 0, 'msmarco_passage_17_178380607': 0, 'msmarco_passage_61_103079366': 0, 'msmarco_passage_07_257313185': 0, 'msmarco_passage_53_560231782': 0, 'msmarco_passage_16_326265100': 0, 'msmarco_passage_16_326272763': 0, 'msmarco_passage_02_835063630': 0}\n"
     ]
    }
   ],
   "source": [
    "# check\n",
    "print(len(list_query_passage))\n",
    "print(list_query_passage[0])\n",
    "print(list_query_passage[1000])\n",
    "\n",
    "print(len(list_qid_all_pid))\n",
    "print(len(list_qid_all_pid[0]))\n",
    "print(list_qid_all_pid[0])\n",
    "\n",
    "print(len(dict_of_dict_qid_pid_rel))\n",
    "print(len(dict_of_dict_qid_pid_rel[203324]))\n",
    "print(dict_of_dict_qid_pid_rel[203324])"
   ]
  },
  {
   "cell_type": "markdown",
   "metadata": {},
   "source": [
    "# Predict on Test Set"
   ]
  },
  {
   "cell_type": "code",
   "execution_count": 9,
   "metadata": {},
   "outputs": [],
   "source": [
    "list_score = []\n",
    "for query, passage in list_query_passage:\n",
    "    query_embedding = model.encode(query, convert_to_tensor=True, show_progress_bar=False)\n",
    "    passage_embedding = model.encode(passage, convert_to_tensor=True, show_progress_bar=False)\n",
    "    cosine_score = util.cos_sim(query_embedding, passage_embedding)\n",
    "    list_score.append(cosine_score)"
   ]
  },
  {
   "cell_type": "code",
   "execution_count": 12,
   "metadata": {},
   "outputs": [
    {
     "name": "stdout",
     "output_type": "stream",
     "text": [
      "20000\n",
      "0.9623302817344666\n"
     ]
    }
   ],
   "source": [
    "# take value out of tensor\n",
    "list_score_ = []\n",
    "for i in range(len(list_score)):\n",
    "    list_score_.append(list_score[i][0][0].item())\n",
    "\n",
    "print(len(list_score_))\n",
    "print(list_score_[0])"
   ]
  },
  {
   "cell_type": "code",
   "execution_count": 13,
   "metadata": {},
   "outputs": [
    {
     "name": "stdout",
     "output_type": "stream",
     "text": [
      "(20000, 3)\n"
     ]
    }
   ],
   "source": [
    "test_with_pred = pd.DataFrame(list_qid_all_pid, columns = ['query_id', 'passage_id'])\n",
    "test_with_pred['predicted_score'] = list_score_\n",
    "test_with_pred.sort_values(by=['query_id', 'predicted_score'], ascending = False, inplace = True)\n",
    "test_with_pred.to_csv(\"./output/test_prediction_biencoder_refit_all-MiniLM-L6-v2_2024-04-22.csv\"\n",
    "                                       , index = False)\n",
    "print(test_with_pred.shape)"
   ]
  },
  {
   "cell_type": "code",
   "execution_count": 14,
   "metadata": {},
   "outputs": [
    {
     "data": {
      "text/html": [
       "<div>\n",
       "<style scoped>\n",
       "    .dataframe tbody tr th:only-of-type {\n",
       "        vertical-align: middle;\n",
       "    }\n",
       "\n",
       "    .dataframe tbody tr th {\n",
       "        vertical-align: top;\n",
       "    }\n",
       "\n",
       "    .dataframe thead th {\n",
       "        text-align: right;\n",
       "    }\n",
       "</style>\n",
       "<table border=\"1\" class=\"dataframe\">\n",
       "  <thead>\n",
       "    <tr style=\"text-align: right;\">\n",
       "      <th></th>\n",
       "      <th>query_id</th>\n",
       "      <th>passage_id</th>\n",
       "      <th>predicted_score</th>\n",
       "    </tr>\n",
       "  </thead>\n",
       "  <tbody>\n",
       "    <tr>\n",
       "      <th>10378</th>\n",
       "      <td>1183224</td>\n",
       "      <td>msmarco_passage_37_349325721</td>\n",
       "      <td>0.969984</td>\n",
       "    </tr>\n",
       "    <tr>\n",
       "      <th>10363</th>\n",
       "      <td>1183224</td>\n",
       "      <td>msmarco_passage_25_322137693</td>\n",
       "      <td>0.961158</td>\n",
       "    </tr>\n",
       "    <tr>\n",
       "      <th>10364</th>\n",
       "      <td>1183224</td>\n",
       "      <td>msmarco_passage_25_322151896</td>\n",
       "      <td>0.961158</td>\n",
       "    </tr>\n",
       "    <tr>\n",
       "      <th>10365</th>\n",
       "      <td>1183224</td>\n",
       "      <td>msmarco_passage_25_322155605</td>\n",
       "      <td>0.961158</td>\n",
       "    </tr>\n",
       "    <tr>\n",
       "      <th>10368</th>\n",
       "      <td>1183224</td>\n",
       "      <td>msmarco_passage_27_266644928</td>\n",
       "      <td>0.960574</td>\n",
       "    </tr>\n",
       "    <tr>\n",
       "      <th>10377</th>\n",
       "      <td>1183224</td>\n",
       "      <td>msmarco_passage_36_754635695</td>\n",
       "      <td>0.960268</td>\n",
       "    </tr>\n",
       "    <tr>\n",
       "      <th>10375</th>\n",
       "      <td>1183224</td>\n",
       "      <td>msmarco_passage_48_763784628</td>\n",
       "      <td>0.958300</td>\n",
       "    </tr>\n",
       "    <tr>\n",
       "      <th>10379</th>\n",
       "      <td>1183224</td>\n",
       "      <td>msmarco_passage_15_272642271</td>\n",
       "      <td>0.957656</td>\n",
       "    </tr>\n",
       "    <tr>\n",
       "      <th>10374</th>\n",
       "      <td>1183224</td>\n",
       "      <td>msmarco_passage_48_721956358</td>\n",
       "      <td>0.957487</td>\n",
       "    </tr>\n",
       "    <tr>\n",
       "      <th>10370</th>\n",
       "      <td>1183224</td>\n",
       "      <td>msmarco_passage_39_120773224</td>\n",
       "      <td>0.954245</td>\n",
       "    </tr>\n",
       "    <tr>\n",
       "      <th>10361</th>\n",
       "      <td>1183224</td>\n",
       "      <td>msmarco_passage_01_536296949</td>\n",
       "      <td>0.953881</td>\n",
       "    </tr>\n",
       "    <tr>\n",
       "      <th>10362</th>\n",
       "      <td>1183224</td>\n",
       "      <td>msmarco_passage_06_770443306</td>\n",
       "      <td>0.953881</td>\n",
       "    </tr>\n",
       "    <tr>\n",
       "      <th>10366</th>\n",
       "      <td>1183224</td>\n",
       "      <td>msmarco_passage_48_764103270</td>\n",
       "      <td>0.953881</td>\n",
       "    </tr>\n",
       "    <tr>\n",
       "      <th>10367</th>\n",
       "      <td>1183224</td>\n",
       "      <td>msmarco_passage_48_800555103</td>\n",
       "      <td>0.953881</td>\n",
       "    </tr>\n",
       "    <tr>\n",
       "      <th>10372</th>\n",
       "      <td>1183224</td>\n",
       "      <td>msmarco_passage_03_2856732</td>\n",
       "      <td>0.952447</td>\n",
       "    </tr>\n",
       "    <tr>\n",
       "      <th>10369</th>\n",
       "      <td>1183224</td>\n",
       "      <td>msmarco_passage_48_449276269</td>\n",
       "      <td>0.951552</td>\n",
       "    </tr>\n",
       "    <tr>\n",
       "      <th>10360</th>\n",
       "      <td>1183224</td>\n",
       "      <td>msmarco_passage_64_307501210</td>\n",
       "      <td>0.950863</td>\n",
       "    </tr>\n",
       "    <tr>\n",
       "      <th>10371</th>\n",
       "      <td>1183224</td>\n",
       "      <td>msmarco_passage_01_493126868</td>\n",
       "      <td>0.949798</td>\n",
       "    </tr>\n",
       "    <tr>\n",
       "      <th>10373</th>\n",
       "      <td>1183224</td>\n",
       "      <td>msmarco_passage_09_689048460</td>\n",
       "      <td>0.949683</td>\n",
       "    </tr>\n",
       "    <tr>\n",
       "      <th>10376</th>\n",
       "      <td>1183224</td>\n",
       "      <td>msmarco_passage_61_527867091</td>\n",
       "      <td>0.949683</td>\n",
       "    </tr>\n",
       "  </tbody>\n",
       "</table>\n",
       "</div>"
      ],
      "text/plain": [
       "       query_id                    passage_id  predicted_score\n",
       "10378   1183224  msmarco_passage_37_349325721         0.969984\n",
       "10363   1183224  msmarco_passage_25_322137693         0.961158\n",
       "10364   1183224  msmarco_passage_25_322151896         0.961158\n",
       "10365   1183224  msmarco_passage_25_322155605         0.961158\n",
       "10368   1183224  msmarco_passage_27_266644928         0.960574\n",
       "10377   1183224  msmarco_passage_36_754635695         0.960268\n",
       "10375   1183224  msmarco_passage_48_763784628         0.958300\n",
       "10379   1183224  msmarco_passage_15_272642271         0.957656\n",
       "10374   1183224  msmarco_passage_48_721956358         0.957487\n",
       "10370   1183224  msmarco_passage_39_120773224         0.954245\n",
       "10361   1183224  msmarco_passage_01_536296949         0.953881\n",
       "10362   1183224  msmarco_passage_06_770443306         0.953881\n",
       "10366   1183224  msmarco_passage_48_764103270         0.953881\n",
       "10367   1183224  msmarco_passage_48_800555103         0.953881\n",
       "10372   1183224    msmarco_passage_03_2856732         0.952447\n",
       "10369   1183224  msmarco_passage_48_449276269         0.951552\n",
       "10360   1183224  msmarco_passage_64_307501210         0.950863\n",
       "10371   1183224  msmarco_passage_01_493126868         0.949798\n",
       "10373   1183224  msmarco_passage_09_689048460         0.949683\n",
       "10376   1183224  msmarco_passage_61_527867091         0.949683"
      ]
     },
     "metadata": {},
     "output_type": "display_data"
    }
   ],
   "source": [
    "# check\n",
    "display(test_with_pred[test_with_pred[\"query_id\"] == 1183224])"
   ]
  },
  {
   "cell_type": "markdown",
   "metadata": {},
   "source": [
    "# Plot distribution of predicted score"
   ]
  },
  {
   "cell_type": "code",
   "execution_count": 15,
   "metadata": {},
   "outputs": [
    {
     "data": {
      "text/plain": [
       "(array([1.000e+00, 0.000e+00, 0.000e+00, 0.000e+00, 1.000e+00, 2.000e+00,\n",
       "        1.000e+00, 2.000e+00, 1.000e+00, 1.000e+00, 3.000e+00, 2.000e+00,\n",
       "        5.000e+00, 5.000e+00, 4.000e+00, 3.000e+00, 2.000e+00, 2.000e+00,\n",
       "        7.000e+00, 4.000e+00, 1.100e+01, 4.000e+00, 6.000e+00, 1.400e+01,\n",
       "        1.400e+01, 1.200e+01, 2.100e+01, 1.800e+01, 3.200e+01, 3.600e+01,\n",
       "        5.600e+01, 6.900e+01, 9.000e+01, 1.060e+02, 1.430e+02, 1.900e+02,\n",
       "        2.200e+02, 3.030e+02, 3.050e+02, 4.640e+02, 6.120e+02, 8.660e+02,\n",
       "        1.102e+03, 1.482e+03, 1.883e+03, 2.470e+03, 3.025e+03, 3.275e+03,\n",
       "        2.537e+03, 5.880e+02]),\n",
       " array([0.61433995, 0.62196314, 0.62958633, 0.63720952, 0.64483272,\n",
       "        0.65245591, 0.6600791 , 0.66770229, 0.67532548, 0.68294868,\n",
       "        0.69057187, 0.69819506, 0.70581825, 0.71344144, 0.72106464,\n",
       "        0.72868783, 0.73631102, 0.74393421, 0.7515574 , 0.7591806 ,\n",
       "        0.76680379, 0.77442698, 0.78205017, 0.78967337, 0.79729656,\n",
       "        0.80491975, 0.81254294, 0.82016613, 0.82778933, 0.83541252,\n",
       "        0.84303571, 0.8506589 , 0.85828209, 0.86590529, 0.87352848,\n",
       "        0.88115167, 0.88877486, 0.89639805, 0.90402125, 0.91164444,\n",
       "        0.91926763, 0.92689082, 0.93451401, 0.94213721, 0.9497604 ,\n",
       "        0.95738359, 0.96500678, 0.97262998, 0.98025317, 0.98787636,\n",
       "        0.99549955]),\n",
       " <BarContainer object of 50 artists>)"
      ]
     },
     "execution_count": 15,
     "metadata": {},
     "output_type": "execute_result"
    },
    {
     "data": {
      "image/png": "[encoded data removed]",
      "text/plain": [
       "<Figure size 640x480 with 1 Axes>"
      ]
     },
     "metadata": {},
     "output_type": "display_data"
    }
   ],
   "source": [
    "plt.hist(test_with_pred[\"predicted_score\"], color='lightgreen', ec='black', bins=50)"
   ]
  },
  {
   "cell_type": "markdown",
   "metadata": {},
   "source": [
    "# Evaluate using MRR@10"
   ]
  },
  {
   "cell_type": "code",
   "execution_count": 16,
   "metadata": {},
   "outputs": [
    {
     "name": "stdout",
     "output_type": "stream",
     "text": [
      "MRR@10:  0.9151666666666675\n"
     ]
    }
   ],
   "source": [
    "dict_qid_all_pid_prediction = {}\n",
    "\n",
    "for qid, group in test_with_pred.groupby('query_id'):\n",
    "    dict_qid_all_pid_prediction[qid] = group['passage_id'].values.tolist()\n",
    "\n",
    "\n",
    "topn = 10\n",
    "mrr = 0.0\n",
    "qids = []\n",
    "rrs = []\n",
    "\n",
    "# iterate over all the qid (keys in the dictionary)\n",
    "for qid in dict_qid_all_pid_prediction:\n",
    "\n",
    "    rr = 0.0\n",
    "    \n",
    "    # iterate over all the element of topn pid [pid1, pid2, ... pid topn]\n",
    "    for i, pid in enumerate(dict_qid_all_pid_prediction[qid][: topn + 1]):\n",
    "\n",
    "        # check if the pid has relenvace > 0\n",
    "        if qid in dict_of_dict_qid_pid_rel and pid in dict_of_dict_qid_pid_rel[qid] and dict_of_dict_qid_pid_rel[qid][pid] > 0:\n",
    "        \n",
    "            rr = 1 / (i+1)\n",
    "        \n",
    "            break\n",
    "    qids.append(qid)\n",
    "    rrs.append(rr)\n",
    "    mrr += rr\n",
    "mrr /= len(dict_qid_all_pid_prediction)\n",
    "print(\"MRR@10: \", mrr)"
   ]
  },
  {
   "cell_type": "markdown",
   "metadata": {},
   "source": [
    "# Evaluate using MAP@10"
   ]
  },
  {
   "cell_type": "code",
   "execution_count": 17,
   "metadata": {},
   "outputs": [
    {
     "name": "stdout",
     "output_type": "stream",
     "text": [
      "(20000, 9)\n",
      "(20000, 3)\n",
      "(20000, 10)\n"
     ]
    },
    {
     "data": {
      "text/html": [
       "<div>\n",
       "<style scoped>\n",
       "    .dataframe tbody tr th:only-of-type {\n",
       "        vertical-align: middle;\n",
       "    }\n",
       "\n",
       "    .dataframe tbody tr th {\n",
       "        vertical-align: top;\n",
       "    }\n",
       "\n",
       "    .dataframe thead th {\n",
       "        text-align: right;\n",
       "    }\n",
       "</style>\n",
       "<table border=\"1\" class=\"dataframe\">\n",
       "  <thead>\n",
       "    <tr style=\"text-align: right;\">\n",
       "      <th></th>\n",
       "      <th>query_id</th>\n",
       "      <th>query</th>\n",
       "      <th>used</th>\n",
       "      <th>passage_id</th>\n",
       "      <th>rank</th>\n",
       "      <th>score</th>\n",
       "      <th>username</th>\n",
       "      <th>rel</th>\n",
       "      <th>query_cleaned</th>\n",
       "      <th>predicted_score</th>\n",
       "    </tr>\n",
       "  </thead>\n",
       "  <tbody>\n",
       "    <tr>\n",
       "      <th>0</th>\n",
       "      <td>203324</td>\n",
       "      <td>him functions to the paper health record</td>\n",
       "      <td>Q0</td>\n",
       "      <td>msmarco_passage_49_115778700</td>\n",
       "      <td>1</td>\n",
       "      <td>13.2671</td>\n",
       "      <td>Anserini</td>\n",
       "      <td>1</td>\n",
       "      <td>him functions to the paper health record</td>\n",
       "      <td>0.962330</td>\n",
       "    </tr>\n",
       "    <tr>\n",
       "      <th>1</th>\n",
       "      <td>203324</td>\n",
       "      <td>him functions to the paper health record</td>\n",
       "      <td>Q0</td>\n",
       "      <td>msmarco_passage_26_450017756</td>\n",
       "      <td>2</td>\n",
       "      <td>11.8537</td>\n",
       "      <td>Anserini</td>\n",
       "      <td>1</td>\n",
       "      <td>him functions to the paper health record</td>\n",
       "      <td>0.948867</td>\n",
       "    </tr>\n",
       "    <tr>\n",
       "      <th>2</th>\n",
       "      <td>203324</td>\n",
       "      <td>him functions to the paper health record</td>\n",
       "      <td>Q0</td>\n",
       "      <td>msmarco_passage_19_202396335</td>\n",
       "      <td>3</td>\n",
       "      <td>11.2738</td>\n",
       "      <td>Anserini</td>\n",
       "      <td>1</td>\n",
       "      <td>him functions to the paper health record</td>\n",
       "      <td>0.954807</td>\n",
       "    </tr>\n",
       "    <tr>\n",
       "      <th>3</th>\n",
       "      <td>203324</td>\n",
       "      <td>him functions to the paper health record</td>\n",
       "      <td>Q0</td>\n",
       "      <td>msmarco_passage_28_623516004</td>\n",
       "      <td>4</td>\n",
       "      <td>11.0361</td>\n",
       "      <td>Anserini</td>\n",
       "      <td>1</td>\n",
       "      <td>him functions to the paper health record</td>\n",
       "      <td>0.954931</td>\n",
       "    </tr>\n",
       "    <tr>\n",
       "      <th>4</th>\n",
       "      <td>203324</td>\n",
       "      <td>him functions to the paper health record</td>\n",
       "      <td>Q0</td>\n",
       "      <td>msmarco_passage_02_47181174</td>\n",
       "      <td>5</td>\n",
       "      <td>10.9476</td>\n",
       "      <td>Anserini</td>\n",
       "      <td>1</td>\n",
       "      <td>him functions to the paper health record</td>\n",
       "      <td>0.959981</td>\n",
       "    </tr>\n",
       "  </tbody>\n",
       "</table>\n",
       "</div>"
      ],
      "text/plain": [
       "   query_id                                     query used  \\\n",
       "0    203324  him functions to the paper health record   Q0   \n",
       "1    203324  him functions to the paper health record   Q0   \n",
       "2    203324  him functions to the paper health record   Q0   \n",
       "3    203324  him functions to the paper health record   Q0   \n",
       "4    203324  him functions to the paper health record   Q0   \n",
       "\n",
       "                     passage_id  rank    score  username  rel  \\\n",
       "0  msmarco_passage_49_115778700     1  13.2671  Anserini    1   \n",
       "1  msmarco_passage_26_450017756     2  11.8537  Anserini    1   \n",
       "2  msmarco_passage_19_202396335     3  11.2738  Anserini    1   \n",
       "3  msmarco_passage_28_623516004     4  11.0361  Anserini    1   \n",
       "4   msmarco_passage_02_47181174     5  10.9476  Anserini    1   \n",
       "\n",
       "                              query_cleaned  predicted_score  \n",
       "0  him functions to the paper health record         0.962330  \n",
       "1  him functions to the paper health record         0.948867  \n",
       "2  him functions to the paper health record         0.954807  \n",
       "3  him functions to the paper health record         0.954931  \n",
       "4  him functions to the paper health record         0.959981  "
      ]
     },
     "metadata": {},
     "output_type": "display_data"
    }
   ],
   "source": [
    "print(query_test.shape)\n",
    "print(test_with_pred.shape)\n",
    "\n",
    "result = query_test.merge(test_with_pred, how = \"inner\", on = [\"query_id\", \"passage_id\"])\n",
    "print(result.shape)\n",
    "display(result.head())"
   ]
  },
  {
   "cell_type": "code",
   "execution_count": 18,
   "metadata": {},
   "outputs": [],
   "source": [
    "# Function for calculating average precision for a query\n",
    "def average_precision(qid, topn = 10):\n",
    "    \n",
    "    # ========= for each query_id, do the following:\n",
    "    #print(f\"Started to work on query_id {qid}\")\n",
    "    # get passage_id (each query_id would have upto 10 passage_id)\n",
    "    qresult = result.loc[result[\"query_id\"] == qid, [\"passage_id\", \"rel\", \"predicted_score\"]]\n",
    "\n",
    "\n",
    "    \n",
    "    # sort rows so that passages with the highest similarity ranks as top \n",
    "    qresult.sort_values(by=\"predicted_score\", ascending = False, inplace=True)\n",
    "\n",
    "    # # Taking Top 10 documents for the evaluation\n",
    "    ranking = qresult.head(topn)['rel'].values\n",
    "    #display(qresult.head(topn))\n",
    "    \n",
    "    # # Calculating precision\n",
    "    precision=[]\n",
    "    for i in range(1,11):\n",
    "      if ranking[i-1]:\n",
    "        precision.append(np.sum(ranking[:i])/i)\n",
    "    \n",
    "    # If no relevant document in list then return 0\n",
    "    if precision==[]:\n",
    "      return 0\n",
    "    #print(len(precision))\n",
    "    #print(precision)\n",
    "    avg_precision = np.mean(precision)\n",
    "    #print(\"Avg precision: {}\".format(avg_precision))\n",
    "    return avg_precision#, len(precision), qresult.shape[0]"
   ]
  },
  {
   "cell_type": "code",
   "execution_count": 19,
   "metadata": {},
   "outputs": [],
   "source": [
    "result[\"avg_precision\"] = result.apply(lambda x: average_precision(x['query_id'])\n",
    "                                    ,axis=1)"
   ]
  },
  {
   "cell_type": "code",
   "execution_count": 20,
   "metadata": {},
   "outputs": [
    {
     "data": {
      "text/html": [
       "<div>\n",
       "<style scoped>\n",
       "    .dataframe tbody tr th:only-of-type {\n",
       "        vertical-align: middle;\n",
       "    }\n",
       "\n",
       "    .dataframe tbody tr th {\n",
       "        vertical-align: top;\n",
       "    }\n",
       "\n",
       "    .dataframe thead th {\n",
       "        text-align: right;\n",
       "    }\n",
       "</style>\n",
       "<table border=\"1\" class=\"dataframe\">\n",
       "  <thead>\n",
       "    <tr style=\"text-align: right;\">\n",
       "      <th></th>\n",
       "      <th>query_id</th>\n",
       "      <th>query</th>\n",
       "      <th>used</th>\n",
       "      <th>passage_id</th>\n",
       "      <th>rank</th>\n",
       "      <th>score</th>\n",
       "      <th>username</th>\n",
       "      <th>rel</th>\n",
       "      <th>query_cleaned</th>\n",
       "      <th>predicted_score</th>\n",
       "      <th>avg_precision</th>\n",
       "    </tr>\n",
       "  </thead>\n",
       "  <tbody>\n",
       "    <tr>\n",
       "      <th>0</th>\n",
       "      <td>203324</td>\n",
       "      <td>him functions to the paper health record</td>\n",
       "      <td>Q0</td>\n",
       "      <td>msmarco_passage_49_115778700</td>\n",
       "      <td>1</td>\n",
       "      <td>13.2671</td>\n",
       "      <td>Anserini</td>\n",
       "      <td>1</td>\n",
       "      <td>him functions to the paper health record</td>\n",
       "      <td>0.962330</td>\n",
       "      <td>0.77381</td>\n",
       "    </tr>\n",
       "    <tr>\n",
       "      <th>1</th>\n",
       "      <td>203324</td>\n",
       "      <td>him functions to the paper health record</td>\n",
       "      <td>Q0</td>\n",
       "      <td>msmarco_passage_26_450017756</td>\n",
       "      <td>2</td>\n",
       "      <td>11.8537</td>\n",
       "      <td>Anserini</td>\n",
       "      <td>1</td>\n",
       "      <td>him functions to the paper health record</td>\n",
       "      <td>0.948867</td>\n",
       "      <td>0.77381</td>\n",
       "    </tr>\n",
       "    <tr>\n",
       "      <th>2</th>\n",
       "      <td>203324</td>\n",
       "      <td>him functions to the paper health record</td>\n",
       "      <td>Q0</td>\n",
       "      <td>msmarco_passage_19_202396335</td>\n",
       "      <td>3</td>\n",
       "      <td>11.2738</td>\n",
       "      <td>Anserini</td>\n",
       "      <td>1</td>\n",
       "      <td>him functions to the paper health record</td>\n",
       "      <td>0.954807</td>\n",
       "      <td>0.77381</td>\n",
       "    </tr>\n",
       "    <tr>\n",
       "      <th>3</th>\n",
       "      <td>203324</td>\n",
       "      <td>him functions to the paper health record</td>\n",
       "      <td>Q0</td>\n",
       "      <td>msmarco_passage_28_623516004</td>\n",
       "      <td>4</td>\n",
       "      <td>11.0361</td>\n",
       "      <td>Anserini</td>\n",
       "      <td>1</td>\n",
       "      <td>him functions to the paper health record</td>\n",
       "      <td>0.954931</td>\n",
       "      <td>0.77381</td>\n",
       "    </tr>\n",
       "    <tr>\n",
       "      <th>4</th>\n",
       "      <td>203324</td>\n",
       "      <td>him functions to the paper health record</td>\n",
       "      <td>Q0</td>\n",
       "      <td>msmarco_passage_02_47181174</td>\n",
       "      <td>5</td>\n",
       "      <td>10.9476</td>\n",
       "      <td>Anserini</td>\n",
       "      <td>1</td>\n",
       "      <td>him functions to the paper health record</td>\n",
       "      <td>0.959981</td>\n",
       "      <td>0.77381</td>\n",
       "    </tr>\n",
       "  </tbody>\n",
       "</table>\n",
       "</div>"
      ],
      "text/plain": [
       "   query_id                                     query used  \\\n",
       "0    203324  him functions to the paper health record   Q0   \n",
       "1    203324  him functions to the paper health record   Q0   \n",
       "2    203324  him functions to the paper health record   Q0   \n",
       "3    203324  him functions to the paper health record   Q0   \n",
       "4    203324  him functions to the paper health record   Q0   \n",
       "\n",
       "                     passage_id  rank    score  username  rel  \\\n",
       "0  msmarco_passage_49_115778700     1  13.2671  Anserini    1   \n",
       "1  msmarco_passage_26_450017756     2  11.8537  Anserini    1   \n",
       "2  msmarco_passage_19_202396335     3  11.2738  Anserini    1   \n",
       "3  msmarco_passage_28_623516004     4  11.0361  Anserini    1   \n",
       "4   msmarco_passage_02_47181174     5  10.9476  Anserini    1   \n",
       "\n",
       "                              query_cleaned  predicted_score  avg_precision  \n",
       "0  him functions to the paper health record         0.962330        0.77381  \n",
       "1  him functions to the paper health record         0.948867        0.77381  \n",
       "2  him functions to the paper health record         0.954807        0.77381  \n",
       "3  him functions to the paper health record         0.954931        0.77381  \n",
       "4  him functions to the paper health record         0.959981        0.77381  "
      ]
     },
     "execution_count": 20,
     "metadata": {},
     "output_type": "execute_result"
    }
   ],
   "source": [
    "result.head()"
   ]
  },
  {
   "cell_type": "code",
   "execution_count": 21,
   "metadata": {},
   "outputs": [
    {
     "name": "stdout",
     "output_type": "stream",
     "text": [
      "Mean Average Precision=> 0.836973914399093\n"
     ]
    }
   ],
   "source": [
    "print('Mean Average Precision=>', result[\"avg_precision\"].mean())"
   ]
  },
  {
   "cell_type": "code",
   "execution_count": null,
   "metadata": {},
   "outputs": [],
   "source": [
    "result.to_csv(\"./output/test_prediction_biencoder_refit_avg_precision_MiniLM-L6-v2_2024-04-22.csv\"\n",
    "                                       , index = False)\n"
   ]
  },
  {
   "cell_type": "code",
   "execution_count": null,
   "metadata": {},
   "outputs": [],
   "source": []
  }
 ],
 "metadata": {
  "kernelspec": {
   "display_name": "base",
   "language": "python",
   "name": "python3"
  },
  "language_info": {
   "codemirror_mode": {
    "name": "ipython",
    "version": 3
   },
   "file_extension": ".py",
   "mimetype": "text/x-python",
   "name": "python",
   "nbconvert_exporter": "python",
   "pygments_lexer": "ipython3",
   "version": "3.11.4"
  },
  "orig_nbformat": 4
 },
 "nbformat": 4,
 "nbformat_minor": 2
}
