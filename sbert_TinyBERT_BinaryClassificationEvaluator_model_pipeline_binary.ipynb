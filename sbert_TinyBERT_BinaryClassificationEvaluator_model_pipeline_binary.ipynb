{
 "cells": [
  {
   "cell_type": "code",
   "execution_count": 1,
   "metadata": {},
   "outputs": [],
   "source": [
    "import pandas as pd\n",
    "import numpy as np\n",
    "import matplotlib.pyplot as plt\n",
    "import logging\n",
    "from sentence_transformers import LoggingHandler, util\n",
    "from datetime import datetime\n",
    "from sentence_transformers.cross_encoder import CrossEncoder\n",
    "from torch.utils.data import DataLoader\n",
    "from sentence_transformers.cross_encoder.evaluation import CERerankingEvaluator, CEBinaryClassificationEvaluator\n",
    "import gzip\n",
    "import os\n",
    "import tarfile\n",
    "from sentence_transformers import InputExample, losses\n",
    "from datetime import datetime"
   ]
  },
  {
   "cell_type": "code",
   "execution_count": 2,
   "metadata": {},
   "outputs": [],
   "source": [
    "#### Just some code to print debug information to stdout\n",
    "logging.basicConfig(\n",
    "    format=\"%(asctime)s - %(message)s\", datefmt=\"%Y-%m-%d %H:%M:%S\", level=logging.INFO, handlers=[LoggingHandler()]\n",
    ")\n",
    "#### /print debug information to stdout"
   ]
  },
  {
   "cell_type": "code",
   "execution_count": 3,
   "metadata": {},
   "outputs": [],
   "source": [
    "# query\n",
    "query_train = pd.read_csv(\"./output/query_train_set_with_passage_info_14000.csv\")\n",
    "query_val =pd.read_csv(\"./output/query_val_set_with_passage_info_6000.csv\")\n",
    "query_test =pd.read_csv(\"./output/query_test_set_with_passage_info.csv\")\n",
    "\n",
    "\n",
    "\n",
    "# passage\n",
    "passage_train = pd.read_csv(\"./output/train_passage_id_content_cleaned.csv\")\n",
    "passage_test = pd.read_csv(\"./output/test_passage_id_content_cleaned.csv\")\n",
    "\n"
   ]
  },
  {
   "cell_type": "code",
   "execution_count": 4,
   "metadata": {},
   "outputs": [
    {
     "name": "stdout",
     "output_type": "stream",
     "text": [
      "(19898, 4)\n",
      "(19893, 4)\n"
     ]
    }
   ],
   "source": [
    "print(passage_train.shape)\n",
    "print(passage_test.shape)"
   ]
  },
  {
   "cell_type": "code",
   "execution_count": 5,
   "metadata": {},
   "outputs": [],
   "source": [
    "# from sklearn.model_selection import train_test_split\n",
    "\n",
    "# query_train, query_val = train_test_split(query_train, test_size=0.3)"
   ]
  },
  {
   "cell_type": "code",
   "execution_count": 6,
   "metadata": {},
   "outputs": [
    {
     "data": {
      "text/html": [
       "<div>\n",
       "<style scoped>\n",
       "    .dataframe tbody tr th:only-of-type {\n",
       "        vertical-align: middle;\n",
       "    }\n",
       "\n",
       "    .dataframe tbody tr th {\n",
       "        vertical-align: top;\n",
       "    }\n",
       "\n",
       "    .dataframe thead th {\n",
       "        text-align: right;\n",
       "    }\n",
       "</style>\n",
       "<table border=\"1\" class=\"dataframe\">\n",
       "  <thead>\n",
       "    <tr style=\"text-align: right;\">\n",
       "      <th></th>\n",
       "      <th>query_id</th>\n",
       "      <th>query</th>\n",
       "      <th>used</th>\n",
       "      <th>passage_id</th>\n",
       "      <th>rank</th>\n",
       "      <th>score</th>\n",
       "      <th>username</th>\n",
       "      <th>rel</th>\n",
       "      <th>query_cleaned</th>\n",
       "    </tr>\n",
       "  </thead>\n",
       "  <tbody>\n",
       "    <tr>\n",
       "      <th>0</th>\n",
       "      <td>413331</td>\n",
       "      <td>is israel a desert?</td>\n",
       "      <td>Q0</td>\n",
       "      <td>msmarco_passage_17_508217299</td>\n",
       "      <td>1</td>\n",
       "      <td>10.480900</td>\n",
       "      <td>Anserini</td>\n",
       "      <td>1</td>\n",
       "      <td>is israel a desert</td>\n",
       "    </tr>\n",
       "    <tr>\n",
       "      <th>1</th>\n",
       "      <td>830377</td>\n",
       "      <td>what is the maximum limit for cash while trave...</td>\n",
       "      <td>Q0</td>\n",
       "      <td>msmarco_passage_41_344156877</td>\n",
       "      <td>92</td>\n",
       "      <td>10.648500</td>\n",
       "      <td>Anserini</td>\n",
       "      <td>0</td>\n",
       "      <td>what is the maximum limit for cash while trave...</td>\n",
       "    </tr>\n",
       "    <tr>\n",
       "      <th>2</th>\n",
       "      <td>1019048</td>\n",
       "      <td>which sentence is written in the active voice?</td>\n",
       "      <td>Q0</td>\n",
       "      <td>msmarco_passage_35_731219214</td>\n",
       "      <td>7</td>\n",
       "      <td>14.647100</td>\n",
       "      <td>Anserini</td>\n",
       "      <td>1</td>\n",
       "      <td>which sentence is written in the active voice</td>\n",
       "    </tr>\n",
       "    <tr>\n",
       "      <th>3</th>\n",
       "      <td>1164109</td>\n",
       "      <td>what county is belton missouri in</td>\n",
       "      <td>Q0</td>\n",
       "      <td>msmarco_passage_53_115898775</td>\n",
       "      <td>97</td>\n",
       "      <td>10.780499</td>\n",
       "      <td>Anserini</td>\n",
       "      <td>0</td>\n",
       "      <td>what county is belton missouri in</td>\n",
       "    </tr>\n",
       "    <tr>\n",
       "      <th>4</th>\n",
       "      <td>629100</td>\n",
       "      <td>what does a green dot by a name on facebook mean</td>\n",
       "      <td>Q0</td>\n",
       "      <td>msmarco_passage_22_273231895</td>\n",
       "      <td>1</td>\n",
       "      <td>19.807899</td>\n",
       "      <td>Anserini</td>\n",
       "      <td>1</td>\n",
       "      <td>what does a green dot by a name on facebook mean</td>\n",
       "    </tr>\n",
       "  </tbody>\n",
       "</table>\n",
       "</div>"
      ],
      "text/plain": [
       "   query_id                                              query used  \\\n",
       "0    413331                                is israel a desert?   Q0   \n",
       "1    830377  what is the maximum limit for cash while trave...   Q0   \n",
       "2   1019048     which sentence is written in the active voice?   Q0   \n",
       "3   1164109                  what county is belton missouri in   Q0   \n",
       "4    629100   what does a green dot by a name on facebook mean   Q0   \n",
       "\n",
       "                     passage_id  rank      score  username  rel  \\\n",
       "0  msmarco_passage_17_508217299     1  10.480900  Anserini    1   \n",
       "1  msmarco_passage_41_344156877    92  10.648500  Anserini    0   \n",
       "2  msmarco_passage_35_731219214     7  14.647100  Anserini    1   \n",
       "3  msmarco_passage_53_115898775    97  10.780499  Anserini    0   \n",
       "4  msmarco_passage_22_273231895     1  19.807899  Anserini    1   \n",
       "\n",
       "                                       query_cleaned  \n",
       "0                                is israel a desert   \n",
       "1  what is the maximum limit for cash while trave...  \n",
       "2     which sentence is written in the active voice   \n",
       "3                  what county is belton missouri in  \n",
       "4   what does a green dot by a name on facebook mean  "
      ]
     },
     "execution_count": 6,
     "metadata": {},
     "output_type": "execute_result"
    }
   ],
   "source": [
    "query_train.head()"
   ]
  },
  {
   "cell_type": "code",
   "execution_count": 7,
   "metadata": {},
   "outputs": [
    {
     "data": {
      "text/html": [
       "<div>\n",
       "<style scoped>\n",
       "    .dataframe tbody tr th:only-of-type {\n",
       "        vertical-align: middle;\n",
       "    }\n",
       "\n",
       "    .dataframe tbody tr th {\n",
       "        vertical-align: top;\n",
       "    }\n",
       "\n",
       "    .dataframe thead th {\n",
       "        text-align: right;\n",
       "    }\n",
       "</style>\n",
       "<table border=\"1\" class=\"dataframe\">\n",
       "  <thead>\n",
       "    <tr style=\"text-align: right;\">\n",
       "      <th></th>\n",
       "      <th>query_id</th>\n",
       "      <th>query</th>\n",
       "      <th>used</th>\n",
       "      <th>passage_id</th>\n",
       "      <th>rank</th>\n",
       "      <th>score</th>\n",
       "      <th>username</th>\n",
       "      <th>rel</th>\n",
       "      <th>query_cleaned</th>\n",
       "    </tr>\n",
       "  </thead>\n",
       "  <tbody>\n",
       "    <tr>\n",
       "      <th>0</th>\n",
       "      <td>62551</td>\n",
       "      <td>can a landlord change the locks</td>\n",
       "      <td>Q0</td>\n",
       "      <td>msmarco_passage_25_703318235</td>\n",
       "      <td>3</td>\n",
       "      <td>13.5804</td>\n",
       "      <td>Anserini</td>\n",
       "      <td>1</td>\n",
       "      <td>can a landlord change the locks</td>\n",
       "    </tr>\n",
       "    <tr>\n",
       "      <th>1</th>\n",
       "      <td>717994</td>\n",
       "      <td>what is anhydrous borax</td>\n",
       "      <td>Q0</td>\n",
       "      <td>msmarco_passage_09_477910738</td>\n",
       "      <td>5</td>\n",
       "      <td>13.8030</td>\n",
       "      <td>Anserini</td>\n",
       "      <td>1</td>\n",
       "      <td>what is anhydrous borax</td>\n",
       "    </tr>\n",
       "    <tr>\n",
       "      <th>2</th>\n",
       "      <td>637523</td>\n",
       "      <td>what does fertilizer do</td>\n",
       "      <td>Q0</td>\n",
       "      <td>msmarco_passage_47_243186971</td>\n",
       "      <td>1</td>\n",
       "      <td>11.6778</td>\n",
       "      <td>Anserini</td>\n",
       "      <td>1</td>\n",
       "      <td>what does fertilizer do</td>\n",
       "    </tr>\n",
       "    <tr>\n",
       "      <th>3</th>\n",
       "      <td>151111</td>\n",
       "      <td>different types poison</td>\n",
       "      <td>Q0</td>\n",
       "      <td>msmarco_passage_09_559446520</td>\n",
       "      <td>94</td>\n",
       "      <td>8.5223</td>\n",
       "      <td>Anserini</td>\n",
       "      <td>0</td>\n",
       "      <td>different types poison</td>\n",
       "    </tr>\n",
       "    <tr>\n",
       "      <th>4</th>\n",
       "      <td>101517</td>\n",
       "      <td>cost for vudu</td>\n",
       "      <td>Q0</td>\n",
       "      <td>msmarco_passage_62_419649434</td>\n",
       "      <td>2</td>\n",
       "      <td>9.9570</td>\n",
       "      <td>Anserini</td>\n",
       "      <td>1</td>\n",
       "      <td>cost for vudu</td>\n",
       "    </tr>\n",
       "  </tbody>\n",
       "</table>\n",
       "</div>"
      ],
      "text/plain": [
       "   query_id                            query used  \\\n",
       "0     62551  can a landlord change the locks   Q0   \n",
       "1    717994          what is anhydrous borax   Q0   \n",
       "2    637523          what does fertilizer do   Q0   \n",
       "3    151111           different types poison   Q0   \n",
       "4    101517                    cost for vudu   Q0   \n",
       "\n",
       "                     passage_id  rank    score  username  rel  \\\n",
       "0  msmarco_passage_25_703318235     3  13.5804  Anserini    1   \n",
       "1  msmarco_passage_09_477910738     5  13.8030  Anserini    1   \n",
       "2  msmarco_passage_47_243186971     1  11.6778  Anserini    1   \n",
       "3  msmarco_passage_09_559446520    94   8.5223  Anserini    0   \n",
       "4  msmarco_passage_62_419649434     2   9.9570  Anserini    1   \n",
       "\n",
       "                     query_cleaned  \n",
       "0  can a landlord change the locks  \n",
       "1          what is anhydrous borax  \n",
       "2          what does fertilizer do  \n",
       "3           different types poison  \n",
       "4                    cost for vudu  "
      ]
     },
     "execution_count": 7,
     "metadata": {},
     "output_type": "execute_result"
    }
   ],
   "source": [
    "query_val.head()"
   ]
  },
  {
   "cell_type": "code",
   "execution_count": 8,
   "metadata": {},
   "outputs": [
    {
     "data": {
      "text/html": [
       "<div>\n",
       "<style scoped>\n",
       "    .dataframe tbody tr th:only-of-type {\n",
       "        vertical-align: middle;\n",
       "    }\n",
       "\n",
       "    .dataframe tbody tr th {\n",
       "        vertical-align: top;\n",
       "    }\n",
       "\n",
       "    .dataframe thead th {\n",
       "        text-align: right;\n",
       "    }\n",
       "</style>\n",
       "<table border=\"1\" class=\"dataframe\">\n",
       "  <thead>\n",
       "    <tr style=\"text-align: right;\">\n",
       "      <th></th>\n",
       "      <th>query_id</th>\n",
       "      <th>query</th>\n",
       "      <th>used</th>\n",
       "      <th>passage_id</th>\n",
       "      <th>rank</th>\n",
       "      <th>score</th>\n",
       "      <th>username</th>\n",
       "      <th>rel</th>\n",
       "      <th>query_cleaned</th>\n",
       "    </tr>\n",
       "  </thead>\n",
       "  <tbody>\n",
       "    <tr>\n",
       "      <th>0</th>\n",
       "      <td>916247</td>\n",
       "      <td>what us state bears the slogan the land enchan...</td>\n",
       "      <td>Q0</td>\n",
       "      <td>msmarco_passage_05_840839268</td>\n",
       "      <td>1</td>\n",
       "      <td>16.004101</td>\n",
       "      <td>Anserini</td>\n",
       "      <td>1</td>\n",
       "      <td>what us state bears the slogan the land enchan...</td>\n",
       "    </tr>\n",
       "    <tr>\n",
       "      <th>1</th>\n",
       "      <td>916247</td>\n",
       "      <td>what us state bears the slogan the land enchan...</td>\n",
       "      <td>Q0</td>\n",
       "      <td>msmarco_passage_06_203354916</td>\n",
       "      <td>2</td>\n",
       "      <td>15.715500</td>\n",
       "      <td>Anserini</td>\n",
       "      <td>1</td>\n",
       "      <td>what us state bears the slogan the land enchan...</td>\n",
       "    </tr>\n",
       "    <tr>\n",
       "      <th>2</th>\n",
       "      <td>916247</td>\n",
       "      <td>what us state bears the slogan the land enchan...</td>\n",
       "      <td>Q0</td>\n",
       "      <td>msmarco_passage_45_489369159</td>\n",
       "      <td>3</td>\n",
       "      <td>15.715499</td>\n",
       "      <td>Anserini</td>\n",
       "      <td>1</td>\n",
       "      <td>what us state bears the slogan the land enchan...</td>\n",
       "    </tr>\n",
       "    <tr>\n",
       "      <th>3</th>\n",
       "      <td>916247</td>\n",
       "      <td>what us state bears the slogan the land enchan...</td>\n",
       "      <td>Q0</td>\n",
       "      <td>msmarco_passage_50_676325639</td>\n",
       "      <td>4</td>\n",
       "      <td>14.983700</td>\n",
       "      <td>Anserini</td>\n",
       "      <td>1</td>\n",
       "      <td>what us state bears the slogan the land enchan...</td>\n",
       "    </tr>\n",
       "    <tr>\n",
       "      <th>4</th>\n",
       "      <td>916247</td>\n",
       "      <td>what us state bears the slogan the land enchan...</td>\n",
       "      <td>Q0</td>\n",
       "      <td>msmarco_passage_21_464076261</td>\n",
       "      <td>5</td>\n",
       "      <td>14.347200</td>\n",
       "      <td>Anserini</td>\n",
       "      <td>1</td>\n",
       "      <td>what us state bears the slogan the land enchan...</td>\n",
       "    </tr>\n",
       "  </tbody>\n",
       "</table>\n",
       "</div>"
      ],
      "text/plain": [
       "   query_id                                              query used  \\\n",
       "0    916247  what us state bears the slogan the land enchan...   Q0   \n",
       "1    916247  what us state bears the slogan the land enchan...   Q0   \n",
       "2    916247  what us state bears the slogan the land enchan...   Q0   \n",
       "3    916247  what us state bears the slogan the land enchan...   Q0   \n",
       "4    916247  what us state bears the slogan the land enchan...   Q0   \n",
       "\n",
       "                     passage_id  rank      score  username  rel  \\\n",
       "0  msmarco_passage_05_840839268     1  16.004101  Anserini    1   \n",
       "1  msmarco_passage_06_203354916     2  15.715500  Anserini    1   \n",
       "2  msmarco_passage_45_489369159     3  15.715499  Anserini    1   \n",
       "3  msmarco_passage_50_676325639     4  14.983700  Anserini    1   \n",
       "4  msmarco_passage_21_464076261     5  14.347200  Anserini    1   \n",
       "\n",
       "                                       query_cleaned  \n",
       "0  what us state bears the slogan the land enchan...  \n",
       "1  what us state bears the slogan the land enchan...  \n",
       "2  what us state bears the slogan the land enchan...  \n",
       "3  what us state bears the slogan the land enchan...  \n",
       "4  what us state bears the slogan the land enchan...  "
      ]
     },
     "execution_count": 8,
     "metadata": {},
     "output_type": "execute_result"
    }
   ],
   "source": [
    "query_test.head()"
   ]
  },
  {
   "cell_type": "code",
   "execution_count": 9,
   "metadata": {},
   "outputs": [
    {
     "name": "stdout",
     "output_type": "stream",
     "text": [
      "(14000, 9)\n",
      "(6000, 9)\n",
      "(20000, 9)\n"
     ]
    }
   ],
   "source": [
    "print(query_train.shape)\n",
    "print(query_val.shape)\n",
    "print(query_test.shape)"
   ]
  },
  {
   "cell_type": "code",
   "execution_count": 10,
   "metadata": {},
   "outputs": [
    {
     "data": {
      "text/html": [
       "<div>\n",
       "<style scoped>\n",
       "    .dataframe tbody tr th:only-of-type {\n",
       "        vertical-align: middle;\n",
       "    }\n",
       "\n",
       "    .dataframe tbody tr th {\n",
       "        vertical-align: top;\n",
       "    }\n",
       "\n",
       "    .dataframe thead th {\n",
       "        text-align: right;\n",
       "    }\n",
       "</style>\n",
       "<table border=\"1\" class=\"dataframe\">\n",
       "  <thead>\n",
       "    <tr style=\"text-align: right;\">\n",
       "      <th></th>\n",
       "      <th>passage_id</th>\n",
       "      <th>passage</th>\n",
       "      <th>passage_cleaned</th>\n",
       "      <th>passage_cleaned_lemmatized</th>\n",
       "    </tr>\n",
       "  </thead>\n",
       "  <tbody>\n",
       "    <tr>\n",
       "      <th>0</th>\n",
       "      <td>msmarco_passage_03_496902198</td>\n",
       "      <td>Let’s dig a little deeper into each. Hues are ...</td>\n",
       "      <td>let s dig a little deeper into each hues are c...</td>\n",
       "      <td>let s dig little deeply hue color hue dependen...</td>\n",
       "    </tr>\n",
       "    <tr>\n",
       "      <th>1</th>\n",
       "      <td>msmarco_passage_35_561149885</td>\n",
       "      <td>Let’s dig a little deeper into each. Hues are ...</td>\n",
       "      <td>let s dig a little deeper into each hues are c...</td>\n",
       "      <td>let s dig little deeply hue color hue dependen...</td>\n",
       "    </tr>\n",
       "    <tr>\n",
       "      <th>2</th>\n",
       "      <td>msmarco_passage_05_224676265</td>\n",
       "      <td>Hue: This is what we usually mean when we ask ...</td>\n",
       "      <td>hue this is what we usually mean when we ask w...</td>\n",
       "      <td>hue usually mean ask color property color actu...</td>\n",
       "    </tr>\n",
       "    <tr>\n",
       "      <th>3</th>\n",
       "      <td>msmarco_passage_04_168335684</td>\n",
       "      <td>hue = color or a shade of color\\nexample sente...</td>\n",
       "      <td>hue color or a shade of color example sentence...</td>\n",
       "      <td>hue color shade color example sentence baby sk...</td>\n",
       "    </tr>\n",
       "    <tr>\n",
       "      <th>4</th>\n",
       "      <td>msmarco_passage_02_769341954</td>\n",
       "      <td>Hue: Hue is what we normally think of as color...</td>\n",
       "      <td>hue hue is what we normally think of as color ...</td>\n",
       "      <td>hue hue normally think color technically hue d...</td>\n",
       "    </tr>\n",
       "  </tbody>\n",
       "</table>\n",
       "</div>"
      ],
      "text/plain": [
       "                     passage_id  \\\n",
       "0  msmarco_passage_03_496902198   \n",
       "1  msmarco_passage_35_561149885   \n",
       "2  msmarco_passage_05_224676265   \n",
       "3  msmarco_passage_04_168335684   \n",
       "4  msmarco_passage_02_769341954   \n",
       "\n",
       "                                             passage  \\\n",
       "0  Let’s dig a little deeper into each. Hues are ...   \n",
       "1  Let’s dig a little deeper into each. Hues are ...   \n",
       "2  Hue: This is what we usually mean when we ask ...   \n",
       "3  hue = color or a shade of color\\nexample sente...   \n",
       "4  Hue: Hue is what we normally think of as color...   \n",
       "\n",
       "                                     passage_cleaned  \\\n",
       "0  let s dig a little deeper into each hues are c...   \n",
       "1  let s dig a little deeper into each hues are c...   \n",
       "2  hue this is what we usually mean when we ask w...   \n",
       "3  hue color or a shade of color example sentence...   \n",
       "4  hue hue is what we normally think of as color ...   \n",
       "\n",
       "                          passage_cleaned_lemmatized  \n",
       "0  let s dig little deeply hue color hue dependen...  \n",
       "1  let s dig little deeply hue color hue dependen...  \n",
       "2  hue usually mean ask color property color actu...  \n",
       "3  hue color shade color example sentence baby sk...  \n",
       "4  hue hue normally think color technically hue d...  "
      ]
     },
     "execution_count": 10,
     "metadata": {},
     "output_type": "execute_result"
    }
   ],
   "source": [
    "passage_train.head()"
   ]
  },
  {
   "cell_type": "code",
   "execution_count": 11,
   "metadata": {},
   "outputs": [
    {
     "data": {
      "text/html": [
       "<div>\n",
       "<style scoped>\n",
       "    .dataframe tbody tr th:only-of-type {\n",
       "        vertical-align: middle;\n",
       "    }\n",
       "\n",
       "    .dataframe tbody tr th {\n",
       "        vertical-align: top;\n",
       "    }\n",
       "\n",
       "    .dataframe thead th {\n",
       "        text-align: right;\n",
       "    }\n",
       "</style>\n",
       "<table border=\"1\" class=\"dataframe\">\n",
       "  <thead>\n",
       "    <tr style=\"text-align: right;\">\n",
       "      <th></th>\n",
       "      <th>query_id</th>\n",
       "      <th>query</th>\n",
       "      <th>used</th>\n",
       "      <th>passage_id</th>\n",
       "      <th>rank</th>\n",
       "      <th>score</th>\n",
       "      <th>username</th>\n",
       "      <th>rel</th>\n",
       "      <th>query_cleaned</th>\n",
       "    </tr>\n",
       "  </thead>\n",
       "  <tbody>\n",
       "    <tr>\n",
       "      <th>0</th>\n",
       "      <td>413331</td>\n",
       "      <td>is israel a desert?</td>\n",
       "      <td>Q0</td>\n",
       "      <td>msmarco_passage_17_508217299</td>\n",
       "      <td>1</td>\n",
       "      <td>10.480900</td>\n",
       "      <td>Anserini</td>\n",
       "      <td>1</td>\n",
       "      <td>is israel a desert</td>\n",
       "    </tr>\n",
       "    <tr>\n",
       "      <th>1</th>\n",
       "      <td>830377</td>\n",
       "      <td>what is the maximum limit for cash while trave...</td>\n",
       "      <td>Q0</td>\n",
       "      <td>msmarco_passage_41_344156877</td>\n",
       "      <td>92</td>\n",
       "      <td>10.648500</td>\n",
       "      <td>Anserini</td>\n",
       "      <td>0</td>\n",
       "      <td>what is the maximum limit for cash while trave...</td>\n",
       "    </tr>\n",
       "    <tr>\n",
       "      <th>2</th>\n",
       "      <td>1019048</td>\n",
       "      <td>which sentence is written in the active voice?</td>\n",
       "      <td>Q0</td>\n",
       "      <td>msmarco_passage_35_731219214</td>\n",
       "      <td>7</td>\n",
       "      <td>14.647100</td>\n",
       "      <td>Anserini</td>\n",
       "      <td>1</td>\n",
       "      <td>which sentence is written in the active voice</td>\n",
       "    </tr>\n",
       "    <tr>\n",
       "      <th>3</th>\n",
       "      <td>1164109</td>\n",
       "      <td>what county is belton missouri in</td>\n",
       "      <td>Q0</td>\n",
       "      <td>msmarco_passage_53_115898775</td>\n",
       "      <td>97</td>\n",
       "      <td>10.780499</td>\n",
       "      <td>Anserini</td>\n",
       "      <td>0</td>\n",
       "      <td>what county is belton missouri in</td>\n",
       "    </tr>\n",
       "    <tr>\n",
       "      <th>4</th>\n",
       "      <td>629100</td>\n",
       "      <td>what does a green dot by a name on facebook mean</td>\n",
       "      <td>Q0</td>\n",
       "      <td>msmarco_passage_22_273231895</td>\n",
       "      <td>1</td>\n",
       "      <td>19.807899</td>\n",
       "      <td>Anserini</td>\n",
       "      <td>1</td>\n",
       "      <td>what does a green dot by a name on facebook mean</td>\n",
       "    </tr>\n",
       "  </tbody>\n",
       "</table>\n",
       "</div>"
      ],
      "text/plain": [
       "   query_id                                              query used  \\\n",
       "0    413331                                is israel a desert?   Q0   \n",
       "1    830377  what is the maximum limit for cash while trave...   Q0   \n",
       "2   1019048     which sentence is written in the active voice?   Q0   \n",
       "3   1164109                  what county is belton missouri in   Q0   \n",
       "4    629100   what does a green dot by a name on facebook mean   Q0   \n",
       "\n",
       "                     passage_id  rank      score  username  rel  \\\n",
       "0  msmarco_passage_17_508217299     1  10.480900  Anserini    1   \n",
       "1  msmarco_passage_41_344156877    92  10.648500  Anserini    0   \n",
       "2  msmarco_passage_35_731219214     7  14.647100  Anserini    1   \n",
       "3  msmarco_passage_53_115898775    97  10.780499  Anserini    0   \n",
       "4  msmarco_passage_22_273231895     1  19.807899  Anserini    1   \n",
       "\n",
       "                                       query_cleaned  \n",
       "0                                is israel a desert   \n",
       "1  what is the maximum limit for cash while trave...  \n",
       "2     which sentence is written in the active voice   \n",
       "3                  what county is belton missouri in  \n",
       "4   what does a green dot by a name on facebook mean  "
      ]
     },
     "execution_count": 11,
     "metadata": {},
     "output_type": "execute_result"
    }
   ],
   "source": [
    "query_train.head()"
   ]
  },
  {
   "cell_type": "code",
   "execution_count": 12,
   "metadata": {},
   "outputs": [],
   "source": [
    "def df_to_list(query_df, passage_df):\n",
    "    # returns a list of list\n",
    "    # each sample have a list of [query, passage, score, rel]\n",
    "    list_query_passage_score_rel = []\n",
    "    for index, row in query_df.iterrows():\n",
    "        list = []\n",
    "        list.append(row['query'])\n",
    "        list.append(passage_df[passage_df['passage_id'] == row['passage_id']][\"passage\"].iloc[0])\n",
    "        list.append(row[\"score\"])\n",
    "        list.append(row[\"rel\"])\n",
    "        list_query_passage_score_rel.append(list)\n",
    "    return list_query_passage_score_rel"
   ]
  },
  {
   "cell_type": "code",
   "execution_count": 13,
   "metadata": {},
   "outputs": [],
   "source": [
    "list_query_passage_score_rel_train = df_to_list(query_train, passage_train)"
   ]
  },
  {
   "cell_type": "code",
   "execution_count": 14,
   "metadata": {},
   "outputs": [
    {
     "name": "stdout",
     "output_type": "stream",
     "text": [
      "14000\n"
     ]
    },
    {
     "data": {
      "text/plain": [
       "[['is israel a desert?',\n",
       "  'Nefud Desert - a desert in northern part of the Arabian Peninsula. Ramlat al-Sab`atayn - a desert in north-central Yemen. Wahiba Sands - a desert covering great parts of Oman. Aerial view of Negev. Judaean Desert – a desert in eastern Israel and the West Bank. Negev – a desert located in southern Israel.',\n",
       "  10.4809,\n",
       "  1],\n",
       " ['what is the maximum limit for cash while traveling in usa',\n",
       "  'A. Carry-on baggage limit for Frontier Airlines includes maximum weight limit of 35lbs and maximum dimensions of 10+16+24 inches (L+W+H). Q. What is Frontier Miles? A. Frontier Miles is the loyalty program especially designed for those who travel frequently with the airline.',\n",
       "  10.6485,\n",
       "  0],\n",
       " ['which sentence is written in the active voice?',\n",
       "  'Summary. In a sentence written in the active voice, the subject of sentence performs the action. In a sentence written in the passive voice the subject receives the action. Active is used for most non-scientific writing.',\n",
       "  14.6471,\n",
       "  1]]"
      ]
     },
     "execution_count": 14,
     "metadata": {},
     "output_type": "execute_result"
    }
   ],
   "source": [
    "print(len(list_query_passage_score_rel_train))\n",
    "list_query_passage_score_rel_train[0:3]"
   ]
  },
  {
   "cell_type": "code",
   "execution_count": 15,
   "metadata": {},
   "outputs": [],
   "source": [
    "# def produce_evaluation_list(list_qid_eval, query_df, passage_df):\n",
    "#     list_eval = []\n",
    "#     for qid in list_qid_eval:\n",
    "#         dev_samples = {}\n",
    "#         #print(qid)\n",
    "#         query_all_passage_subset = query_df[query_df[\"query_id\"] == qid]\n",
    "\n",
    "        \n",
    "#         #display(query_all_passage_subset)\n",
    "        \n",
    "#         dev_samples[\"query\"] = query_all_passage_subset[\"query\"].iloc[0]\n",
    "#         dev_samples[\"positive\"] = set()\n",
    "#         dev_samples[\"negative\"] = set()\n",
    "#         #print(dev_samples)\n",
    "#         for index, row in query_all_passage_subset.iterrows():\n",
    "#             #display(passage_df[passage_df['passage_id'] == row['passage_id']])\n",
    "\n",
    "#             if row['rel'] == 1:\n",
    "#                 dev_samples[\"positive\"].add(\n",
    "#                     passage_df[passage_df['passage_id'] == row['passage_id']][\"passage\"].iloc[0])\n",
    "#             elif row['rel'] == 0:\n",
    "#                 dev_samples[\"negative\"].add(\n",
    "#                     passage_df[passage_df['passage_id'] == row['passage_id']][\"passage\"].iloc[0])\n",
    "#         #print(dev_samples)\n",
    "#         list_eval.append(dev_samples)\n",
    "#     return list_eval"
   ]
  },
  {
   "cell_type": "code",
   "execution_count": 16,
   "metadata": {},
   "outputs": [],
   "source": [
    "# list_eval = produce_evaluation_list(list_qid_eval = query_val[\"query_id\"].unique()\n",
    "# , query_df = query_val\n",
    "# , passage_df = passage_train)\n"
   ]
  },
  {
   "cell_type": "code",
   "execution_count": 17,
   "metadata": {},
   "outputs": [],
   "source": [
    "list_eval = df_to_list(query_val, passage_train)"
   ]
  },
  {
   "cell_type": "code",
   "execution_count": 19,
   "metadata": {},
   "outputs": [
    {
     "name": "stdout",
     "output_type": "stream",
     "text": [
      "6000\n"
     ]
    },
    {
     "data": {
      "text/plain": [
       "[['can a landlord change the locks',\n",
       "  'Changing the Locks in New Hampshire. Landlords are prohibited from changing locks without the tenants permission and tenants can request a lock change if they are the victim of domestic abuse and the landlord must cover the cost of changing the locks.',\n",
       "  13.5804,\n",
       "  1],\n",
       " ['what is anhydrous borax',\n",
       "  'Borax Anhydrous puriss. p.a., anhydrous, >= 98.0 % T | 1330-43-4 | Sigma-Aldrich. Sial-71996; Borax Anhydrous puriss. p.a., anhydrous, >=98.0% (T); CAS No.: 1330-43-4; Synonyms: Sodium tetraborate; Linear Formula: Na2B4O7; Empirical Formula: B4Na2O7; find related products, papers, technical documents, MSDS & more at Sigma-Aldrich. ADVANCED SEARCH.',\n",
       "  13.803,\n",
       "  1],\n",
       " ['what does fertilizer do',\n",
       "  'Weeds. Houseplants. You are here: Home / Gardening How-To / Soil & Fertilizers / What is NPK and What Does It Mean? What is NPK and What Does It Mean? By Maxime. You’ve probably seen fertilizer numbers such as 10-10-10 or the acronym NPK in your local garden store and asked yourself: what is NPK? What do the fertilizer numbers mean? or even how does fertilizer work?',\n",
       "  11.6778,\n",
       "  1]]"
      ]
     },
     "execution_count": 19,
     "metadata": {},
     "output_type": "execute_result"
    }
   ],
   "source": [
    "print(len(list_eval))\n",
    "list_eval[0:3]\n"
   ]
  },
  {
   "cell_type": "code",
   "execution_count": 20,
   "metadata": {},
   "outputs": [
    {
     "name": "stdout",
     "output_type": "stream",
     "text": [
      "output/training_ms-marco_cross-encoder-cross-encoder-ms-marco-TinyBERT-L-2-v2-2024-03-24_22-47-21\n"
     ]
    }
   ],
   "source": [
    "model_name = \"cross-encoder/ms-marco-TinyBERT-L-2-v2\"#\"distilroberta-base\"\n",
    "train_batch_size = 32\n",
    "num_epochs = 1\n",
    "model_save_path = (\n",
    "    \"output/training_ms-marco_cross-encoder-\"\n",
    "    + model_name.replace(\"/\", \"-\")\n",
    "    + \"-\"\n",
    "    + datetime.now().strftime(\"%Y-%m-%d_%H-%M-%S\")\n",
    ")\n",
    "print(model_save_path)"
   ]
  },
  {
   "cell_type": "code",
   "execution_count": 21,
   "metadata": {},
   "outputs": [
    {
     "name": "stdout",
     "output_type": "stream",
     "text": [
      "2024-03-24 22:47:22 - Use pytorch device: cpu\n"
     ]
    },
    {
     "name": "stderr",
     "output_type": "stream",
     "text": [
      "/home/lingling/project/enter/lib/python3.11/site-packages/torch/_utils.py:776: UserWarning: TypedStorage is deprecated. It will be removed in the future and UntypedStorage will be the only storage class. This should only matter to you if you are using storages directly.  To access UntypedStorage directly, use tensor.untyped_storage() instead of tensor.storage()\n",
      "  return self.fget.__get__(instance, owner)()\n"
     ]
    },
    {
     "data": {
      "text/plain": [
       "<sentence_transformers.cross_encoder.CrossEncoder.CrossEncoder at 0x7f0b348e7490>"
      ]
     },
     "execution_count": 21,
     "metadata": {},
     "output_type": "execute_result"
    }
   ],
   "source": [
    "model = CrossEncoder(model_name, num_labels=1, max_length=512)\n",
    "model"
   ]
  },
  {
   "cell_type": "code",
   "execution_count": 22,
   "metadata": {},
   "outputs": [],
   "source": [
    "train_sample = []\n",
    "for list in list_query_passage_score_rel_train:\n",
    "    train_sample.append(InputExample(texts=[list[0], list[1]], label = list[3]))"
   ]
  },
  {
   "cell_type": "code",
   "execution_count": 23,
   "metadata": {},
   "outputs": [],
   "source": [
    "val_sample = []\n",
    "for list in list_eval:\n",
    "    val_sample.append(InputExample(texts=[list[0], list[1]], label = list[3]))"
   ]
  },
  {
   "cell_type": "code",
   "execution_count": 24,
   "metadata": {},
   "outputs": [
    {
     "data": {
      "text/plain": [
       "<torch.utils.data.dataloader.DataLoader at 0x7f0b34387890>"
      ]
     },
     "execution_count": 24,
     "metadata": {},
     "output_type": "execute_result"
    }
   ],
   "source": [
    "train_dataloader = DataLoader(train_sample, shuffle=True, batch_size=16)\n",
    "train_dataloader"
   ]
  },
  {
   "cell_type": "code",
   "execution_count": 25,
   "metadata": {},
   "outputs": [
    {
     "data": {
      "text/plain": [
       "<sentence_transformers.cross_encoder.evaluation.CEBinaryClassificationEvaluator.CEBinaryClassificationEvaluator at 0x7f0b34387750>"
      ]
     },
     "execution_count": 25,
     "metadata": {},
     "output_type": "execute_result"
    }
   ],
   "source": [
    "evaluator = CEBinaryClassificationEvaluator.from_input_examples(val_sample, name=\"train-eval-binary\")\n",
    "evaluator"
   ]
  },
  {
   "cell_type": "code",
   "execution_count": 27,
   "metadata": {},
   "outputs": [
    {
     "name": "stdout",
     "output_type": "stream",
     "text": [
      "2024-03-24 23:00:59 - Warmup-steps: 5000\n"
     ]
    },
    {
     "name": "stderr",
     "output_type": "stream",
     "text": [
      "/home/lingling/project/enter/lib/python3.11/site-packages/torch/cuda/amp/grad_scaler.py:120: UserWarning: torch.cuda.amp.GradScaler is enabled, but CUDA is not available.  Disabling.\n",
      "  warnings.warn(\"torch.cuda.amp.GradScaler is enabled, but CUDA is not available.  Disabling.\")\n"
     ]
    },
    {
     "data": {
      "application/vnd.jupyter.widget-view+json": {
       "model_id": "e182c06b242a491791911fb0ccc6f4b4",
       "version_major": 2,
       "version_minor": 0
      },
      "text/plain": [
       "Epoch:   0%|          | 0/1 [00:00<?, ?it/s]"
      ]
     },
     "metadata": {},
     "output_type": "display_data"
    },
    {
     "data": {
      "application/vnd.jupyter.widget-view+json": {
       "model_id": "9d105fae76d043e8bb6d8e10e5aaeab8",
       "version_major": 2,
       "version_minor": 0
      },
      "text/plain": [
       "Iteration:   0%|          | 0/875 [00:00<?, ?it/s]"
      ]
     },
     "metadata": {},
     "output_type": "display_data"
    },
    {
     "name": "stdout",
     "output_type": "stream",
     "text": [
      "2024-03-24 23:27:01 - CEBinaryClassificationEvaluator: Evaluating the model on train-eval-binary dataset after epoch 0:\n",
      "2024-03-24 23:27:08 - Accuracy:           68.82\t(Threshold: 2.7952)\n",
      "2024-03-24 23:27:08 - F1:                 70.78\t(Threshold: 1.0132)\n",
      "2024-03-24 23:27:08 - Precision:          61.63\n",
      "2024-03-24 23:27:08 - Recall:             83.12\n",
      "2024-03-24 23:27:08 - Average Precision:  73.81\n",
      "\n",
      "2024-03-24 23:27:08 - Save model to output/training_ms-marco_cross-encoder-cross-encoder-ms-marco-TinyBERT-L-2-v2-2024-03-24_22-47-21\n"
     ]
    }
   ],
   "source": [
    "# Configure the training\n",
    "warmup_steps = 5000\n",
    "logging.info(\"Warmup-steps: {}\".format(warmup_steps))\n",
    "train_loss = losses.CosineSimilarityLoss(model)\n",
    "\n",
    "# Train the model\n",
    "model.fit(\n",
    "    train_dataloader=train_dataloader,\n",
    "    evaluator=evaluator,\n",
    "    epochs=num_epochs,\n",
    "    evaluation_steps=10000,\n",
    "    warmup_steps=warmup_steps,\n",
    "    output_path=model_save_path,\n",
    "    use_amp=True,\n",
    ")\n"
   ]
  },
  {
   "cell_type": "code",
   "execution_count": 28,
   "metadata": {},
   "outputs": [
    {
     "name": "stdout",
     "output_type": "stream",
     "text": [
      "20000\n"
     ]
    }
   ],
   "source": [
    "list_query_passage_score_rel_test = df_to_list(query_test, passage_test)\n",
    "print(len(list_query_passage_score_rel_test))"
   ]
  },
  {
   "cell_type": "code",
   "execution_count": 29,
   "metadata": {},
   "outputs": [
    {
     "data": {
      "text/html": [
       "<div>\n",
       "<style scoped>\n",
       "    .dataframe tbody tr th:only-of-type {\n",
       "        vertical-align: middle;\n",
       "    }\n",
       "\n",
       "    .dataframe tbody tr th {\n",
       "        vertical-align: top;\n",
       "    }\n",
       "\n",
       "    .dataframe thead th {\n",
       "        text-align: right;\n",
       "    }\n",
       "</style>\n",
       "<table border=\"1\" class=\"dataframe\">\n",
       "  <thead>\n",
       "    <tr style=\"text-align: right;\">\n",
       "      <th></th>\n",
       "      <th>0</th>\n",
       "      <th>1</th>\n",
       "      <th>2</th>\n",
       "      <th>3</th>\n",
       "    </tr>\n",
       "  </thead>\n",
       "  <tbody>\n",
       "    <tr>\n",
       "      <th>0</th>\n",
       "      <td>what us state bears the slogan the land enchan...</td>\n",
       "      <td>New Mexico State Symbols. State Nickname: The ...</td>\n",
       "      <td>16.004101</td>\n",
       "      <td>1</td>\n",
       "    </tr>\n",
       "    <tr>\n",
       "      <th>1</th>\n",
       "      <td>what us state bears the slogan the land enchan...</td>\n",
       "      <td>Land of Enchantment. Before Land of Enchantmen...</td>\n",
       "      <td>15.715500</td>\n",
       "      <td>1</td>\n",
       "    </tr>\n",
       "    <tr>\n",
       "      <th>2</th>\n",
       "      <td>what us state bears the slogan the land enchan...</td>\n",
       "      <td>Land of Enchantment. Before Land of Enchantmen...</td>\n",
       "      <td>15.715499</td>\n",
       "      <td>1</td>\n",
       "    </tr>\n",
       "    <tr>\n",
       "      <th>3</th>\n",
       "      <td>what us state bears the slogan the land enchan...</td>\n",
       "      <td>New Mexico State Slogans. Whereas the New Mexi...</td>\n",
       "      <td>14.983700</td>\n",
       "      <td>1</td>\n",
       "    </tr>\n",
       "    <tr>\n",
       "      <th>4</th>\n",
       "      <td>what us state bears the slogan the land enchan...</td>\n",
       "      <td>1 to approximately 99-000. First use of the \"L...</td>\n",
       "      <td>14.347200</td>\n",
       "      <td>1</td>\n",
       "    </tr>\n",
       "  </tbody>\n",
       "</table>\n",
       "</div>"
      ],
      "text/plain": [
       "                                                   0  \\\n",
       "0  what us state bears the slogan the land enchan...   \n",
       "1  what us state bears the slogan the land enchan...   \n",
       "2  what us state bears the slogan the land enchan...   \n",
       "3  what us state bears the slogan the land enchan...   \n",
       "4  what us state bears the slogan the land enchan...   \n",
       "\n",
       "                                                   1          2  3  \n",
       "0  New Mexico State Symbols. State Nickname: The ...  16.004101  1  \n",
       "1  Land of Enchantment. Before Land of Enchantmen...  15.715500  1  \n",
       "2  Land of Enchantment. Before Land of Enchantmen...  15.715499  1  \n",
       "3  New Mexico State Slogans. Whereas the New Mexi...  14.983700  1  \n",
       "4  1 to approximately 99-000. First use of the \"L...  14.347200  1  "
      ]
     },
     "execution_count": 29,
     "metadata": {},
     "output_type": "execute_result"
    }
   ],
   "source": [
    "pd.DataFrame(list_query_passage_score_rel_test).head()"
   ]
  },
  {
   "cell_type": "code",
   "execution_count": 30,
   "metadata": {},
   "outputs": [],
   "source": [
    "list_query_passage_test  = [l[:2] for l in list_query_passage_score_rel_test]"
   ]
  },
  {
   "cell_type": "code",
   "execution_count": 31,
   "metadata": {},
   "outputs": [
    {
     "data": {
      "text/plain": [
       "[['what us state bears the slogan the land enchantment',\n",
       "  'New Mexico State Symbols. State Nickname: The Land of Enchantment. State Slogan: Land of Enchantment; also on its license plate. State Motto: Crescit eundo (It grows as it goes) State flower: Yucca flower. State bird: Roadrunner aka Greater Roadrunner.'],\n",
       " ['what us state bears the slogan the land enchantment',\n",
       "  'Land of Enchantment. Before Land of Enchantment became the state slogan, New Mexico went by the nickname The Sunshine State, based on the fact that every part of New Mexico receives at least 70 percent sunshine year-round. New Mexico received its nickname because of its natural beauty and rich history. The Spanish and Mexicans used to occupy the state and there is still a lot of their culture leftover.'],\n",
       " ['what us state bears the slogan the land enchantment',\n",
       "  'Land of Enchantment. Before Land of Enchantment became the state slogan, New Mexico went by the nickname The Sunshine State, based on the fact that every part of New Mexico receives at least 70 percent sunshine year-round. New Mexico received its nickname because of its natural beauty and rich history. The Spanish and Mexicans used to occupy the state and there is still a lot of their culture leftover.']]"
      ]
     },
     "execution_count": 31,
     "metadata": {},
     "output_type": "execute_result"
    }
   ],
   "source": [
    "list_query_passage_test[0:3]"
   ]
  },
  {
   "cell_type": "code",
   "execution_count": 32,
   "metadata": {},
   "outputs": [
    {
     "data": {
      "application/vnd.jupyter.widget-view+json": {
       "model_id": "b5dc493a1901495391cec992d9847111",
       "version_major": 2,
       "version_minor": 0
      },
      "text/plain": [
       "Batches:   0%|          | 0/625 [00:00<?, ?it/s]"
      ]
     },
     "metadata": {},
     "output_type": "display_data"
    }
   ],
   "source": [
    "prediction = model.predict(list_query_passage_test)"
   ]
  },
  {
   "cell_type": "code",
   "execution_count": 33,
   "metadata": {},
   "outputs": [
    {
     "name": "stdout",
     "output_type": "stream",
     "text": [
      "20000\n",
      "20000\n"
     ]
    }
   ],
   "source": [
    "print(len(list_query_passage_score_rel_test))\n",
    "print(len(prediction))"
   ]
  },
  {
   "cell_type": "code",
   "execution_count": 34,
   "metadata": {},
   "outputs": [],
   "source": [
    "result = pd.concat([pd.DataFrame(list_query_passage_score_rel_test\n",
    "                                 , columns = [\"query\", \"passage\", \"score\", \"rel\"])\n",
    "          , pd.DataFrame(prediction, columns = [\"predicted_score\"])]\n",
    "          , axis=1)"
   ]
  },
  {
   "cell_type": "code",
   "execution_count": 35,
   "metadata": {},
   "outputs": [
    {
     "data": {
      "text/html": [
       "<div>\n",
       "<style scoped>\n",
       "    .dataframe tbody tr th:only-of-type {\n",
       "        vertical-align: middle;\n",
       "    }\n",
       "\n",
       "    .dataframe tbody tr th {\n",
       "        vertical-align: top;\n",
       "    }\n",
       "\n",
       "    .dataframe thead th {\n",
       "        text-align: right;\n",
       "    }\n",
       "</style>\n",
       "<table border=\"1\" class=\"dataframe\">\n",
       "  <thead>\n",
       "    <tr style=\"text-align: right;\">\n",
       "      <th></th>\n",
       "      <th>score</th>\n",
       "      <th>rel</th>\n",
       "      <th>predicted_score</th>\n",
       "    </tr>\n",
       "  </thead>\n",
       "  <tbody>\n",
       "    <tr>\n",
       "      <th>count</th>\n",
       "      <td>20000.000000</td>\n",
       "      <td>20000.000000</td>\n",
       "      <td>20000.000000</td>\n",
       "    </tr>\n",
       "    <tr>\n",
       "      <th>mean</th>\n",
       "      <td>12.280309</td>\n",
       "      <td>0.500000</td>\n",
       "      <td>2.316410</td>\n",
       "    </tr>\n",
       "    <tr>\n",
       "      <th>std</th>\n",
       "      <td>3.491745</td>\n",
       "      <td>0.500013</td>\n",
       "      <td>3.280652</td>\n",
       "    </tr>\n",
       "    <tr>\n",
       "      <th>min</th>\n",
       "      <td>2.736893</td>\n",
       "      <td>0.000000</td>\n",
       "      <td>-10.275128</td>\n",
       "    </tr>\n",
       "    <tr>\n",
       "      <th>25%</th>\n",
       "      <td>9.751900</td>\n",
       "      <td>0.000000</td>\n",
       "      <td>0.106496</td>\n",
       "    </tr>\n",
       "    <tr>\n",
       "      <th>50%</th>\n",
       "      <td>11.799699</td>\n",
       "      <td>0.500000</td>\n",
       "      <td>2.697643</td>\n",
       "    </tr>\n",
       "    <tr>\n",
       "      <th>75%</th>\n",
       "      <td>14.383775</td>\n",
       "      <td>1.000000</td>\n",
       "      <td>4.950662</td>\n",
       "    </tr>\n",
       "    <tr>\n",
       "      <th>max</th>\n",
       "      <td>38.877602</td>\n",
       "      <td>1.000000</td>\n",
       "      <td>9.457526</td>\n",
       "    </tr>\n",
       "  </tbody>\n",
       "</table>\n",
       "</div>"
      ],
      "text/plain": [
       "              score           rel  predicted_score\n",
       "count  20000.000000  20000.000000     20000.000000\n",
       "mean      12.280309      0.500000         2.316410\n",
       "std        3.491745      0.500013         3.280652\n",
       "min        2.736893      0.000000       -10.275128\n",
       "25%        9.751900      0.000000         0.106496\n",
       "50%       11.799699      0.500000         2.697643\n",
       "75%       14.383775      1.000000         4.950662\n",
       "max       38.877602      1.000000         9.457526"
      ]
     },
     "execution_count": 35,
     "metadata": {},
     "output_type": "execute_result"
    }
   ],
   "source": [
    "result.describe()"
   ]
  },
  {
   "cell_type": "code",
   "execution_count": 36,
   "metadata": {},
   "outputs": [
    {
     "name": "stdout",
     "output_type": "stream",
     "text": [
      "(20000, 5)\n"
     ]
    },
    {
     "data": {
      "text/html": [
       "<div>\n",
       "<style scoped>\n",
       "    .dataframe tbody tr th:only-of-type {\n",
       "        vertical-align: middle;\n",
       "    }\n",
       "\n",
       "    .dataframe tbody tr th {\n",
       "        vertical-align: top;\n",
       "    }\n",
       "\n",
       "    .dataframe thead th {\n",
       "        text-align: right;\n",
       "    }\n",
       "</style>\n",
       "<table border=\"1\" class=\"dataframe\">\n",
       "  <thead>\n",
       "    <tr style=\"text-align: right;\">\n",
       "      <th></th>\n",
       "      <th>query</th>\n",
       "      <th>passage</th>\n",
       "      <th>score</th>\n",
       "      <th>rel</th>\n",
       "      <th>predicted_score</th>\n",
       "    </tr>\n",
       "  </thead>\n",
       "  <tbody>\n",
       "    <tr>\n",
       "      <th>0</th>\n",
       "      <td>what us state bears the slogan the land enchan...</td>\n",
       "      <td>New Mexico State Symbols. State Nickname: The ...</td>\n",
       "      <td>16.004101</td>\n",
       "      <td>1</td>\n",
       "      <td>5.953219</td>\n",
       "    </tr>\n",
       "    <tr>\n",
       "      <th>1</th>\n",
       "      <td>what us state bears the slogan the land enchan...</td>\n",
       "      <td>Land of Enchantment. Before Land of Enchantmen...</td>\n",
       "      <td>15.715500</td>\n",
       "      <td>1</td>\n",
       "      <td>5.636463</td>\n",
       "    </tr>\n",
       "    <tr>\n",
       "      <th>2</th>\n",
       "      <td>what us state bears the slogan the land enchan...</td>\n",
       "      <td>Land of Enchantment. Before Land of Enchantmen...</td>\n",
       "      <td>15.715499</td>\n",
       "      <td>1</td>\n",
       "      <td>5.636463</td>\n",
       "    </tr>\n",
       "    <tr>\n",
       "      <th>3</th>\n",
       "      <td>what us state bears the slogan the land enchan...</td>\n",
       "      <td>New Mexico State Slogans. Whereas the New Mexi...</td>\n",
       "      <td>14.983700</td>\n",
       "      <td>1</td>\n",
       "      <td>4.759048</td>\n",
       "    </tr>\n",
       "    <tr>\n",
       "      <th>4</th>\n",
       "      <td>what us state bears the slogan the land enchan...</td>\n",
       "      <td>1 to approximately 99-000. First use of the \"L...</td>\n",
       "      <td>14.347200</td>\n",
       "      <td>1</td>\n",
       "      <td>5.291733</td>\n",
       "    </tr>\n",
       "  </tbody>\n",
       "</table>\n",
       "</div>"
      ],
      "text/plain": [
       "                                               query  \\\n",
       "0  what us state bears the slogan the land enchan...   \n",
       "1  what us state bears the slogan the land enchan...   \n",
       "2  what us state bears the slogan the land enchan...   \n",
       "3  what us state bears the slogan the land enchan...   \n",
       "4  what us state bears the slogan the land enchan...   \n",
       "\n",
       "                                             passage      score  rel  \\\n",
       "0  New Mexico State Symbols. State Nickname: The ...  16.004101    1   \n",
       "1  Land of Enchantment. Before Land of Enchantmen...  15.715500    1   \n",
       "2  Land of Enchantment. Before Land of Enchantmen...  15.715499    1   \n",
       "3  New Mexico State Slogans. Whereas the New Mexi...  14.983700    1   \n",
       "4  1 to approximately 99-000. First use of the \"L...  14.347200    1   \n",
       "\n",
       "   predicted_score  \n",
       "0         5.953219  \n",
       "1         5.636463  \n",
       "2         5.636463  \n",
       "3         4.759048  \n",
       "4         5.291733  "
      ]
     },
     "execution_count": 36,
     "metadata": {},
     "output_type": "execute_result"
    }
   ],
   "source": [
    "print(result.shape)\n",
    "result.head()"
   ]
  },
  {
   "cell_type": "code",
   "execution_count": 37,
   "metadata": {},
   "outputs": [
    {
     "data": {
      "text/plain": [
       "(array([  4.,  10.,  10.,  17.,  20.,  36.,  22.,  39.,  46.,  53.,  36.,\n",
       "         90.,  85., 120., 105., 111., 161., 200., 235., 285., 406., 412.,\n",
       "        525., 512., 625., 628., 714., 661., 763., 717., 810., 817., 837.,\n",
       "        856., 806., 904., 891., 877., 989., 973., 900., 871., 620., 480.,\n",
       "        361., 199.,  98.,  48.,  10.,   5.]),\n",
       " array([-10.27512836,  -9.88047504,  -9.48582172,  -9.09116936,\n",
       "         -8.69651604,  -8.30186272,  -7.90720987,  -7.51255655,\n",
       "         -7.11790371,  -6.72325039,  -6.32859755,  -5.93394423,\n",
       "         -5.53929138,  -5.14463806,  -4.74998522,  -4.3553319 ,\n",
       "         -3.96067882,  -3.56602573,  -3.17137265,  -2.77671957,\n",
       "         -2.38206649,  -1.98741341,  -1.59276032,  -1.19810724,\n",
       "         -0.80345416,  -0.40880108,  -0.01414799,   0.38050511,\n",
       "          0.77515817,   1.16981125,   1.56446433,   1.95911741,\n",
       "          2.35377049,   2.74842358,   3.14307666,   3.53772974,\n",
       "          3.93238282,   4.3270359 ,   4.72168922,   5.11634207,\n",
       "          5.51099539,   5.90564823,   6.30030155,   6.6949544 ,\n",
       "          7.08960772,   7.48426056,   7.87891388,   8.2735672 ,\n",
       "          8.66821957,   9.06287289,   9.45752621]),\n",
       " <BarContainer object of 50 artists>)"
      ]
     },
     "execution_count": 37,
     "metadata": {},
     "output_type": "execute_result"
    },
    {
     "data": {
      "image/png": "[encoded data removed]",
      "text/plain": [
       "<Figure size 640x480 with 1 Axes>"
      ]
     },
     "metadata": {},
     "output_type": "display_data"
    }
   ],
   "source": [
    "plt.hist(result[\"predicted_score\"], color='lightgreen', ec='black', bins=50)"
   ]
  },
  {
   "cell_type": "code",
   "execution_count": 38,
   "metadata": {},
   "outputs": [],
   "source": [
    "result = pd.concat([query_test\n",
    "          , pd.DataFrame(prediction, columns = [\"predicted_score\"])]\n",
    "          , axis=1)"
   ]
  },
  {
   "cell_type": "code",
   "execution_count": 39,
   "metadata": {},
   "outputs": [
    {
     "name": "stdout",
     "output_type": "stream",
     "text": [
      "(20000, 10)\n"
     ]
    },
    {
     "data": {
      "text/html": [
       "<div>\n",
       "<style scoped>\n",
       "    .dataframe tbody tr th:only-of-type {\n",
       "        vertical-align: middle;\n",
       "    }\n",
       "\n",
       "    .dataframe tbody tr th {\n",
       "        vertical-align: top;\n",
       "    }\n",
       "\n",
       "    .dataframe thead th {\n",
       "        text-align: right;\n",
       "    }\n",
       "</style>\n",
       "<table border=\"1\" class=\"dataframe\">\n",
       "  <thead>\n",
       "    <tr style=\"text-align: right;\">\n",
       "      <th></th>\n",
       "      <th>query_id</th>\n",
       "      <th>query</th>\n",
       "      <th>used</th>\n",
       "      <th>passage_id</th>\n",
       "      <th>rank</th>\n",
       "      <th>score</th>\n",
       "      <th>username</th>\n",
       "      <th>rel</th>\n",
       "      <th>query_cleaned</th>\n",
       "      <th>predicted_score</th>\n",
       "    </tr>\n",
       "  </thead>\n",
       "  <tbody>\n",
       "    <tr>\n",
       "      <th>0</th>\n",
       "      <td>916247</td>\n",
       "      <td>what us state bears the slogan the land enchan...</td>\n",
       "      <td>Q0</td>\n",
       "      <td>msmarco_passage_05_840839268</td>\n",
       "      <td>1</td>\n",
       "      <td>16.004101</td>\n",
       "      <td>Anserini</td>\n",
       "      <td>1</td>\n",
       "      <td>what us state bears the slogan the land enchan...</td>\n",
       "      <td>5.953219</td>\n",
       "    </tr>\n",
       "    <tr>\n",
       "      <th>1</th>\n",
       "      <td>916247</td>\n",
       "      <td>what us state bears the slogan the land enchan...</td>\n",
       "      <td>Q0</td>\n",
       "      <td>msmarco_passage_06_203354916</td>\n",
       "      <td>2</td>\n",
       "      <td>15.715500</td>\n",
       "      <td>Anserini</td>\n",
       "      <td>1</td>\n",
       "      <td>what us state bears the slogan the land enchan...</td>\n",
       "      <td>5.636463</td>\n",
       "    </tr>\n",
       "    <tr>\n",
       "      <th>2</th>\n",
       "      <td>916247</td>\n",
       "      <td>what us state bears the slogan the land enchan...</td>\n",
       "      <td>Q0</td>\n",
       "      <td>msmarco_passage_45_489369159</td>\n",
       "      <td>3</td>\n",
       "      <td>15.715499</td>\n",
       "      <td>Anserini</td>\n",
       "      <td>1</td>\n",
       "      <td>what us state bears the slogan the land enchan...</td>\n",
       "      <td>5.636463</td>\n",
       "    </tr>\n",
       "    <tr>\n",
       "      <th>3</th>\n",
       "      <td>916247</td>\n",
       "      <td>what us state bears the slogan the land enchan...</td>\n",
       "      <td>Q0</td>\n",
       "      <td>msmarco_passage_50_676325639</td>\n",
       "      <td>4</td>\n",
       "      <td>14.983700</td>\n",
       "      <td>Anserini</td>\n",
       "      <td>1</td>\n",
       "      <td>what us state bears the slogan the land enchan...</td>\n",
       "      <td>4.759048</td>\n",
       "    </tr>\n",
       "    <tr>\n",
       "      <th>4</th>\n",
       "      <td>916247</td>\n",
       "      <td>what us state bears the slogan the land enchan...</td>\n",
       "      <td>Q0</td>\n",
       "      <td>msmarco_passage_21_464076261</td>\n",
       "      <td>5</td>\n",
       "      <td>14.347200</td>\n",
       "      <td>Anserini</td>\n",
       "      <td>1</td>\n",
       "      <td>what us state bears the slogan the land enchan...</td>\n",
       "      <td>5.291733</td>\n",
       "    </tr>\n",
       "  </tbody>\n",
       "</table>\n",
       "</div>"
      ],
      "text/plain": [
       "   query_id                                              query used  \\\n",
       "0    916247  what us state bears the slogan the land enchan...   Q0   \n",
       "1    916247  what us state bears the slogan the land enchan...   Q0   \n",
       "2    916247  what us state bears the slogan the land enchan...   Q0   \n",
       "3    916247  what us state bears the slogan the land enchan...   Q0   \n",
       "4    916247  what us state bears the slogan the land enchan...   Q0   \n",
       "\n",
       "                     passage_id  rank      score  username  rel  \\\n",
       "0  msmarco_passage_05_840839268     1  16.004101  Anserini    1   \n",
       "1  msmarco_passage_06_203354916     2  15.715500  Anserini    1   \n",
       "2  msmarco_passage_45_489369159     3  15.715499  Anserini    1   \n",
       "3  msmarco_passage_50_676325639     4  14.983700  Anserini    1   \n",
       "4  msmarco_passage_21_464076261     5  14.347200  Anserini    1   \n",
       "\n",
       "                                       query_cleaned  predicted_score  \n",
       "0  what us state bears the slogan the land enchan...         5.953219  \n",
       "1  what us state bears the slogan the land enchan...         5.636463  \n",
       "2  what us state bears the slogan the land enchan...         5.636463  \n",
       "3  what us state bears the slogan the land enchan...         4.759048  \n",
       "4  what us state bears the slogan the land enchan...         5.291733  "
      ]
     },
     "execution_count": 39,
     "metadata": {},
     "output_type": "execute_result"
    }
   ],
   "source": [
    "print(result.shape)\n",
    "result.head()"
   ]
  },
  {
   "cell_type": "code",
   "execution_count": 40,
   "metadata": {},
   "outputs": [],
   "source": [
    "result.to_csv(\"./output/query_test_result_TinyBERT-L-2-v2_CEBinaryClassificationEvaluator.csv\"\n",
    "                                       , index = False)"
   ]
  },
  {
   "cell_type": "code",
   "execution_count": 41,
   "metadata": {},
   "outputs": [
    {
     "data": {
      "text/plain": [
       "(20000, 9)"
      ]
     },
     "execution_count": 41,
     "metadata": {},
     "output_type": "execute_result"
    }
   ],
   "source": [
    "query_test.shape"
   ]
  },
  {
   "cell_type": "code",
   "execution_count": 42,
   "metadata": {},
   "outputs": [
    {
     "data": {
      "text/plain": [
       "(20000, 10)"
      ]
     },
     "execution_count": 42,
     "metadata": {},
     "output_type": "execute_result"
    }
   ],
   "source": [
    "result.shape"
   ]
  },
  {
   "cell_type": "code",
   "execution_count": 45,
   "metadata": {},
   "outputs": [
    {
     "data": {
      "text/plain": [
       "query_id                                                      916247\n",
       "query              what us state bears the slogan the land enchan...\n",
       "used                                                              Q0\n",
       "passage_id                              msmarco_passage_05_840839268\n",
       "rank                                                               1\n",
       "score                                                      16.004101\n",
       "username                                                    Anserini\n",
       "rel                                                                1\n",
       "query_cleaned      what us state bears the slogan the land enchan...\n",
       "predicted_score                                             5.953219\n",
       "Name: 0, dtype: object"
      ]
     },
     "execution_count": 45,
     "metadata": {},
     "output_type": "execute_result"
    }
   ],
   "source": [
    "result.iloc[0]"
   ]
  },
  {
   "cell_type": "code",
   "execution_count": 83,
   "metadata": {},
   "outputs": [
    {
     "data": {
      "text/html": [
       "<div>\n",
       "<style scoped>\n",
       "    .dataframe tbody tr th:only-of-type {\n",
       "        vertical-align: middle;\n",
       "    }\n",
       "\n",
       "    .dataframe tbody tr th {\n",
       "        vertical-align: top;\n",
       "    }\n",
       "\n",
       "    .dataframe thead th {\n",
       "        text-align: right;\n",
       "    }\n",
       "</style>\n",
       "<table border=\"1\" class=\"dataframe\">\n",
       "  <thead>\n",
       "    <tr style=\"text-align: right;\">\n",
       "      <th></th>\n",
       "      <th>query_id</th>\n",
       "      <th>query</th>\n",
       "      <th>used</th>\n",
       "      <th>passage_id</th>\n",
       "      <th>rank</th>\n",
       "      <th>score</th>\n",
       "      <th>username</th>\n",
       "      <th>rel</th>\n",
       "      <th>query_cleaned</th>\n",
       "      <th>predicted_score</th>\n",
       "    </tr>\n",
       "  </thead>\n",
       "  <tbody>\n",
       "    <tr>\n",
       "      <th>0</th>\n",
       "      <td>916247</td>\n",
       "      <td>what us state bears the slogan the land enchan...</td>\n",
       "      <td>Q0</td>\n",
       "      <td>msmarco_passage_05_840839268</td>\n",
       "      <td>1</td>\n",
       "      <td>16.004101</td>\n",
       "      <td>Anserini</td>\n",
       "      <td>1</td>\n",
       "      <td>what us state bears the slogan the land enchan...</td>\n",
       "      <td>5.953219</td>\n",
       "    </tr>\n",
       "    <tr>\n",
       "      <th>1</th>\n",
       "      <td>916247</td>\n",
       "      <td>what us state bears the slogan the land enchan...</td>\n",
       "      <td>Q0</td>\n",
       "      <td>msmarco_passage_06_203354916</td>\n",
       "      <td>2</td>\n",
       "      <td>15.715500</td>\n",
       "      <td>Anserini</td>\n",
       "      <td>1</td>\n",
       "      <td>what us state bears the slogan the land enchan...</td>\n",
       "      <td>5.636463</td>\n",
       "    </tr>\n",
       "    <tr>\n",
       "      <th>2</th>\n",
       "      <td>916247</td>\n",
       "      <td>what us state bears the slogan the land enchan...</td>\n",
       "      <td>Q0</td>\n",
       "      <td>msmarco_passage_45_489369159</td>\n",
       "      <td>3</td>\n",
       "      <td>15.715499</td>\n",
       "      <td>Anserini</td>\n",
       "      <td>1</td>\n",
       "      <td>what us state bears the slogan the land enchan...</td>\n",
       "      <td>5.636463</td>\n",
       "    </tr>\n",
       "    <tr>\n",
       "      <th>3</th>\n",
       "      <td>916247</td>\n",
       "      <td>what us state bears the slogan the land enchan...</td>\n",
       "      <td>Q0</td>\n",
       "      <td>msmarco_passage_50_676325639</td>\n",
       "      <td>4</td>\n",
       "      <td>14.983700</td>\n",
       "      <td>Anserini</td>\n",
       "      <td>1</td>\n",
       "      <td>what us state bears the slogan the land enchan...</td>\n",
       "      <td>4.759048</td>\n",
       "    </tr>\n",
       "    <tr>\n",
       "      <th>4</th>\n",
       "      <td>916247</td>\n",
       "      <td>what us state bears the slogan the land enchan...</td>\n",
       "      <td>Q0</td>\n",
       "      <td>msmarco_passage_21_464076261</td>\n",
       "      <td>5</td>\n",
       "      <td>14.347200</td>\n",
       "      <td>Anserini</td>\n",
       "      <td>1</td>\n",
       "      <td>what us state bears the slogan the land enchan...</td>\n",
       "      <td>5.291733</td>\n",
       "    </tr>\n",
       "    <tr>\n",
       "      <th>5</th>\n",
       "      <td>916247</td>\n",
       "      <td>what us state bears the slogan the land enchan...</td>\n",
       "      <td>Q0</td>\n",
       "      <td>msmarco_passage_50_676326055</td>\n",
       "      <td>6</td>\n",
       "      <td>14.297500</td>\n",
       "      <td>Anserini</td>\n",
       "      <td>1</td>\n",
       "      <td>what us state bears the slogan the land enchan...</td>\n",
       "      <td>6.077652</td>\n",
       "    </tr>\n",
       "    <tr>\n",
       "      <th>6</th>\n",
       "      <td>916247</td>\n",
       "      <td>what us state bears the slogan the land enchan...</td>\n",
       "      <td>Q0</td>\n",
       "      <td>msmarco_passage_09_683772331</td>\n",
       "      <td>7</td>\n",
       "      <td>13.045700</td>\n",
       "      <td>Anserini</td>\n",
       "      <td>1</td>\n",
       "      <td>what us state bears the slogan the land enchan...</td>\n",
       "      <td>4.548508</td>\n",
       "    </tr>\n",
       "    <tr>\n",
       "      <th>7</th>\n",
       "      <td>916247</td>\n",
       "      <td>what us state bears the slogan the land enchan...</td>\n",
       "      <td>Q0</td>\n",
       "      <td>msmarco_passage_32_845400104</td>\n",
       "      <td>8</td>\n",
       "      <td>13.045699</td>\n",
       "      <td>Anserini</td>\n",
       "      <td>1</td>\n",
       "      <td>what us state bears the slogan the land enchan...</td>\n",
       "      <td>4.548508</td>\n",
       "    </tr>\n",
       "    <tr>\n",
       "      <th>8</th>\n",
       "      <td>916247</td>\n",
       "      <td>what us state bears the slogan the land enchan...</td>\n",
       "      <td>Q0</td>\n",
       "      <td>msmarco_passage_22_677091138</td>\n",
       "      <td>9</td>\n",
       "      <td>12.917000</td>\n",
       "      <td>Anserini</td>\n",
       "      <td>1</td>\n",
       "      <td>what us state bears the slogan the land enchan...</td>\n",
       "      <td>4.271601</td>\n",
       "    </tr>\n",
       "    <tr>\n",
       "      <th>9</th>\n",
       "      <td>916247</td>\n",
       "      <td>what us state bears the slogan the land enchan...</td>\n",
       "      <td>Q0</td>\n",
       "      <td>msmarco_passage_00_583662759</td>\n",
       "      <td>10</td>\n",
       "      <td>12.832800</td>\n",
       "      <td>Anserini</td>\n",
       "      <td>1</td>\n",
       "      <td>what us state bears the slogan the land enchan...</td>\n",
       "      <td>2.821665</td>\n",
       "    </tr>\n",
       "    <tr>\n",
       "      <th>10</th>\n",
       "      <td>916247</td>\n",
       "      <td>what us state bears the slogan the land enchan...</td>\n",
       "      <td>Q0</td>\n",
       "      <td>msmarco_passage_06_45103616</td>\n",
       "      <td>91</td>\n",
       "      <td>10.047100</td>\n",
       "      <td>Anserini</td>\n",
       "      <td>0</td>\n",
       "      <td>what us state bears the slogan the land enchan...</td>\n",
       "      <td>0.251037</td>\n",
       "    </tr>\n",
       "    <tr>\n",
       "      <th>11</th>\n",
       "      <td>916247</td>\n",
       "      <td>what us state bears the slogan the land enchan...</td>\n",
       "      <td>Q0</td>\n",
       "      <td>msmarco_passage_04_268326037</td>\n",
       "      <td>92</td>\n",
       "      <td>10.014200</td>\n",
       "      <td>Anserini</td>\n",
       "      <td>0</td>\n",
       "      <td>what us state bears the slogan the land enchan...</td>\n",
       "      <td>-0.877286</td>\n",
       "    </tr>\n",
       "    <tr>\n",
       "      <th>12</th>\n",
       "      <td>916247</td>\n",
       "      <td>what us state bears the slogan the land enchan...</td>\n",
       "      <td>Q0</td>\n",
       "      <td>msmarco_passage_09_683771169</td>\n",
       "      <td>93</td>\n",
       "      <td>10.011300</td>\n",
       "      <td>Anserini</td>\n",
       "      <td>0</td>\n",
       "      <td>what us state bears the slogan the land enchan...</td>\n",
       "      <td>0.130425</td>\n",
       "    </tr>\n",
       "    <tr>\n",
       "      <th>13</th>\n",
       "      <td>916247</td>\n",
       "      <td>what us state bears the slogan the land enchan...</td>\n",
       "      <td>Q0</td>\n",
       "      <td>msmarco_passage_32_845398939</td>\n",
       "      <td>94</td>\n",
       "      <td>10.011299</td>\n",
       "      <td>Anserini</td>\n",
       "      <td>0</td>\n",
       "      <td>what us state bears the slogan the land enchan...</td>\n",
       "      <td>0.130425</td>\n",
       "    </tr>\n",
       "    <tr>\n",
       "      <th>14</th>\n",
       "      <td>916247</td>\n",
       "      <td>what us state bears the slogan the land enchan...</td>\n",
       "      <td>Q0</td>\n",
       "      <td>msmarco_passage_21_306563782</td>\n",
       "      <td>95</td>\n",
       "      <td>9.998800</td>\n",
       "      <td>Anserini</td>\n",
       "      <td>0</td>\n",
       "      <td>what us state bears the slogan the land enchan...</td>\n",
       "      <td>0.997752</td>\n",
       "    </tr>\n",
       "    <tr>\n",
       "      <th>15</th>\n",
       "      <td>916247</td>\n",
       "      <td>what us state bears the slogan the land enchan...</td>\n",
       "      <td>Q0</td>\n",
       "      <td>msmarco_passage_03_280620334</td>\n",
       "      <td>96</td>\n",
       "      <td>9.979200</td>\n",
       "      <td>Anserini</td>\n",
       "      <td>0</td>\n",
       "      <td>what us state bears the slogan the land enchan...</td>\n",
       "      <td>0.695738</td>\n",
       "    </tr>\n",
       "    <tr>\n",
       "      <th>16</th>\n",
       "      <td>916247</td>\n",
       "      <td>what us state bears the slogan the land enchan...</td>\n",
       "      <td>Q0</td>\n",
       "      <td>msmarco_passage_32_313105536</td>\n",
       "      <td>97</td>\n",
       "      <td>9.978500</td>\n",
       "      <td>Anserini</td>\n",
       "      <td>0</td>\n",
       "      <td>what us state bears the slogan the land enchan...</td>\n",
       "      <td>3.184503</td>\n",
       "    </tr>\n",
       "    <tr>\n",
       "      <th>17</th>\n",
       "      <td>916247</td>\n",
       "      <td>what us state bears the slogan the land enchan...</td>\n",
       "      <td>Q0</td>\n",
       "      <td>msmarco_passage_31_763502859</td>\n",
       "      <td>98</td>\n",
       "      <td>9.976500</td>\n",
       "      <td>Anserini</td>\n",
       "      <td>0</td>\n",
       "      <td>what us state bears the slogan the land enchan...</td>\n",
       "      <td>-0.795551</td>\n",
       "    </tr>\n",
       "    <tr>\n",
       "      <th>18</th>\n",
       "      <td>916247</td>\n",
       "      <td>what us state bears the slogan the land enchan...</td>\n",
       "      <td>Q0</td>\n",
       "      <td>msmarco_passage_59_350363899</td>\n",
       "      <td>99</td>\n",
       "      <td>9.976499</td>\n",
       "      <td>Anserini</td>\n",
       "      <td>0</td>\n",
       "      <td>what us state bears the slogan the land enchan...</td>\n",
       "      <td>-1.149030</td>\n",
       "    </tr>\n",
       "    <tr>\n",
       "      <th>19</th>\n",
       "      <td>916247</td>\n",
       "      <td>what us state bears the slogan the land enchan...</td>\n",
       "      <td>Q0</td>\n",
       "      <td>msmarco_passage_18_161389910</td>\n",
       "      <td>100</td>\n",
       "      <td>9.962400</td>\n",
       "      <td>Anserini</td>\n",
       "      <td>0</td>\n",
       "      <td>what us state bears the slogan the land enchan...</td>\n",
       "      <td>-1.221244</td>\n",
       "    </tr>\n",
       "  </tbody>\n",
       "</table>\n",
       "</div>"
      ],
      "text/plain": [
       "    query_id                                              query used  \\\n",
       "0     916247  what us state bears the slogan the land enchan...   Q0   \n",
       "1     916247  what us state bears the slogan the land enchan...   Q0   \n",
       "2     916247  what us state bears the slogan the land enchan...   Q0   \n",
       "3     916247  what us state bears the slogan the land enchan...   Q0   \n",
       "4     916247  what us state bears the slogan the land enchan...   Q0   \n",
       "5     916247  what us state bears the slogan the land enchan...   Q0   \n",
       "6     916247  what us state bears the slogan the land enchan...   Q0   \n",
       "7     916247  what us state bears the slogan the land enchan...   Q0   \n",
       "8     916247  what us state bears the slogan the land enchan...   Q0   \n",
       "9     916247  what us state bears the slogan the land enchan...   Q0   \n",
       "10    916247  what us state bears the slogan the land enchan...   Q0   \n",
       "11    916247  what us state bears the slogan the land enchan...   Q0   \n",
       "12    916247  what us state bears the slogan the land enchan...   Q0   \n",
       "13    916247  what us state bears the slogan the land enchan...   Q0   \n",
       "14    916247  what us state bears the slogan the land enchan...   Q0   \n",
       "15    916247  what us state bears the slogan the land enchan...   Q0   \n",
       "16    916247  what us state bears the slogan the land enchan...   Q0   \n",
       "17    916247  what us state bears the slogan the land enchan...   Q0   \n",
       "18    916247  what us state bears the slogan the land enchan...   Q0   \n",
       "19    916247  what us state bears the slogan the land enchan...   Q0   \n",
       "\n",
       "                      passage_id  rank      score  username  rel  \\\n",
       "0   msmarco_passage_05_840839268     1  16.004101  Anserini    1   \n",
       "1   msmarco_passage_06_203354916     2  15.715500  Anserini    1   \n",
       "2   msmarco_passage_45_489369159     3  15.715499  Anserini    1   \n",
       "3   msmarco_passage_50_676325639     4  14.983700  Anserini    1   \n",
       "4   msmarco_passage_21_464076261     5  14.347200  Anserini    1   \n",
       "5   msmarco_passage_50_676326055     6  14.297500  Anserini    1   \n",
       "6   msmarco_passage_09_683772331     7  13.045700  Anserini    1   \n",
       "7   msmarco_passage_32_845400104     8  13.045699  Anserini    1   \n",
       "8   msmarco_passage_22_677091138     9  12.917000  Anserini    1   \n",
       "9   msmarco_passage_00_583662759    10  12.832800  Anserini    1   \n",
       "10   msmarco_passage_06_45103616    91  10.047100  Anserini    0   \n",
       "11  msmarco_passage_04_268326037    92  10.014200  Anserini    0   \n",
       "12  msmarco_passage_09_683771169    93  10.011300  Anserini    0   \n",
       "13  msmarco_passage_32_845398939    94  10.011299  Anserini    0   \n",
       "14  msmarco_passage_21_306563782    95   9.998800  Anserini    0   \n",
       "15  msmarco_passage_03_280620334    96   9.979200  Anserini    0   \n",
       "16  msmarco_passage_32_313105536    97   9.978500  Anserini    0   \n",
       "17  msmarco_passage_31_763502859    98   9.976500  Anserini    0   \n",
       "18  msmarco_passage_59_350363899    99   9.976499  Anserini    0   \n",
       "19  msmarco_passage_18_161389910   100   9.962400  Anserini    0   \n",
       "\n",
       "                                        query_cleaned  predicted_score  \n",
       "0   what us state bears the slogan the land enchan...         5.953219  \n",
       "1   what us state bears the slogan the land enchan...         5.636463  \n",
       "2   what us state bears the slogan the land enchan...         5.636463  \n",
       "3   what us state bears the slogan the land enchan...         4.759048  \n",
       "4   what us state bears the slogan the land enchan...         5.291733  \n",
       "5   what us state bears the slogan the land enchan...         6.077652  \n",
       "6   what us state bears the slogan the land enchan...         4.548508  \n",
       "7   what us state bears the slogan the land enchan...         4.548508  \n",
       "8   what us state bears the slogan the land enchan...         4.271601  \n",
       "9   what us state bears the slogan the land enchan...         2.821665  \n",
       "10  what us state bears the slogan the land enchan...         0.251037  \n",
       "11  what us state bears the slogan the land enchan...        -0.877286  \n",
       "12  what us state bears the slogan the land enchan...         0.130425  \n",
       "13  what us state bears the slogan the land enchan...         0.130425  \n",
       "14  what us state bears the slogan the land enchan...         0.997752  \n",
       "15  what us state bears the slogan the land enchan...         0.695738  \n",
       "16  what us state bears the slogan the land enchan...         3.184503  \n",
       "17  what us state bears the slogan the land enchan...        -0.795551  \n",
       "18  what us state bears the slogan the land enchan...        -1.149030  \n",
       "19  what us state bears the slogan the land enchan...        -1.221244  "
      ]
     },
     "execution_count": 83,
     "metadata": {},
     "output_type": "execute_result"
    }
   ],
   "source": [
    "result[result[\"query_id\"] == 916247]"
   ]
  },
  {
   "cell_type": "code",
   "execution_count": 87,
   "metadata": {},
   "outputs": [],
   "source": [
    "# Function for calculating average precision for a query\n",
    "def average_precision(qid, topn = 10):\n",
    "    \n",
    "    # ========= for each query_id, do the following:\n",
    "    #print(f\"Started to work on query_id {qid}\")\n",
    "    # get passage_id (each query_id would have upto 10 passage_id)\n",
    "    qresult = result.loc[result[\"query_id\"] == qid, [\"passage_id\", \"rel\", \"predicted_score\"]]\n",
    "\n",
    "\n",
    "    \n",
    "    # sort rows so that passages with the highest similarity ranks as top \n",
    "    qresult.sort_values(by=\"predicted_score\", ascending = False, inplace=True)\n",
    "\n",
    "    # # Taking Top 10 documents for the evaluation\n",
    "    ranking = qresult.head(topn)['rel'].values\n",
    "    #display(qresult.head(topn))\n",
    "    \n",
    "    # # Calculating precision\n",
    "    precision=[]\n",
    "    for i in range(1,11):\n",
    "      if ranking[i-1]:\n",
    "        precision.append(np.sum(ranking[:i])/i)\n",
    "    \n",
    "    # If no relevant document in list then return 0\n",
    "    if precision==[]:\n",
    "      return 0\n",
    "    #print(len(precision))\n",
    "    #print(precision)\n",
    "    avg_precision = np.mean(precision)\n",
    "    #print(\"Avg precision: {}\".format(avg_precision))\n",
    "    return avg_precision#, len(precision), qresult.shape[0]"
   ]
  },
  {
   "cell_type": "code",
   "execution_count": 89,
   "metadata": {},
   "outputs": [],
   "source": [
    "result[\"avg_precision\"] = result.apply(lambda x: average_precision(x['query_id'])\n",
    "                                    ,axis=1)"
   ]
  },
  {
   "cell_type": "code",
   "execution_count": 90,
   "metadata": {},
   "outputs": [
    {
     "data": {
      "text/plain": [
       "0    1.0\n",
       "1    1.0\n",
       "2    1.0\n",
       "3    1.0\n",
       "4    1.0\n",
       "Name: avg_precision, dtype: float64"
      ]
     },
     "execution_count": 90,
     "metadata": {},
     "output_type": "execute_result"
    }
   ],
   "source": [
    "result[\"avg_precision\"].head()"
   ]
  },
  {
   "cell_type": "code",
   "execution_count": 92,
   "metadata": {},
   "outputs": [
    {
     "data": {
      "text/html": [
       "<div>\n",
       "<style scoped>\n",
       "    .dataframe tbody tr th:only-of-type {\n",
       "        vertical-align: middle;\n",
       "    }\n",
       "\n",
       "    .dataframe tbody tr th {\n",
       "        vertical-align: top;\n",
       "    }\n",
       "\n",
       "    .dataframe thead th {\n",
       "        text-align: right;\n",
       "    }\n",
       "</style>\n",
       "<table border=\"1\" class=\"dataframe\">\n",
       "  <thead>\n",
       "    <tr style=\"text-align: right;\">\n",
       "      <th></th>\n",
       "      <th>query_id</th>\n",
       "      <th>query</th>\n",
       "      <th>used</th>\n",
       "      <th>passage_id</th>\n",
       "      <th>rank</th>\n",
       "      <th>score</th>\n",
       "      <th>username</th>\n",
       "      <th>rel</th>\n",
       "      <th>query_cleaned</th>\n",
       "      <th>predicted_score</th>\n",
       "      <th>avg_precision</th>\n",
       "    </tr>\n",
       "  </thead>\n",
       "  <tbody>\n",
       "    <tr>\n",
       "      <th>0</th>\n",
       "      <td>916247</td>\n",
       "      <td>what us state bears the slogan the land enchan...</td>\n",
       "      <td>Q0</td>\n",
       "      <td>msmarco_passage_05_840839268</td>\n",
       "      <td>1</td>\n",
       "      <td>16.004101</td>\n",
       "      <td>Anserini</td>\n",
       "      <td>1</td>\n",
       "      <td>what us state bears the slogan the land enchan...</td>\n",
       "      <td>5.953219</td>\n",
       "      <td>1.0</td>\n",
       "    </tr>\n",
       "    <tr>\n",
       "      <th>1</th>\n",
       "      <td>916247</td>\n",
       "      <td>what us state bears the slogan the land enchan...</td>\n",
       "      <td>Q0</td>\n",
       "      <td>msmarco_passage_06_203354916</td>\n",
       "      <td>2</td>\n",
       "      <td>15.715500</td>\n",
       "      <td>Anserini</td>\n",
       "      <td>1</td>\n",
       "      <td>what us state bears the slogan the land enchan...</td>\n",
       "      <td>5.636463</td>\n",
       "      <td>1.0</td>\n",
       "    </tr>\n",
       "    <tr>\n",
       "      <th>2</th>\n",
       "      <td>916247</td>\n",
       "      <td>what us state bears the slogan the land enchan...</td>\n",
       "      <td>Q0</td>\n",
       "      <td>msmarco_passage_45_489369159</td>\n",
       "      <td>3</td>\n",
       "      <td>15.715499</td>\n",
       "      <td>Anserini</td>\n",
       "      <td>1</td>\n",
       "      <td>what us state bears the slogan the land enchan...</td>\n",
       "      <td>5.636463</td>\n",
       "      <td>1.0</td>\n",
       "    </tr>\n",
       "    <tr>\n",
       "      <th>3</th>\n",
       "      <td>916247</td>\n",
       "      <td>what us state bears the slogan the land enchan...</td>\n",
       "      <td>Q0</td>\n",
       "      <td>msmarco_passage_50_676325639</td>\n",
       "      <td>4</td>\n",
       "      <td>14.983700</td>\n",
       "      <td>Anserini</td>\n",
       "      <td>1</td>\n",
       "      <td>what us state bears the slogan the land enchan...</td>\n",
       "      <td>4.759048</td>\n",
       "      <td>1.0</td>\n",
       "    </tr>\n",
       "    <tr>\n",
       "      <th>4</th>\n",
       "      <td>916247</td>\n",
       "      <td>what us state bears the slogan the land enchan...</td>\n",
       "      <td>Q0</td>\n",
       "      <td>msmarco_passage_21_464076261</td>\n",
       "      <td>5</td>\n",
       "      <td>14.347200</td>\n",
       "      <td>Anserini</td>\n",
       "      <td>1</td>\n",
       "      <td>what us state bears the slogan the land enchan...</td>\n",
       "      <td>5.291733</td>\n",
       "      <td>1.0</td>\n",
       "    </tr>\n",
       "  </tbody>\n",
       "</table>\n",
       "</div>"
      ],
      "text/plain": [
       "   query_id                                              query used  \\\n",
       "0    916247  what us state bears the slogan the land enchan...   Q0   \n",
       "1    916247  what us state bears the slogan the land enchan...   Q0   \n",
       "2    916247  what us state bears the slogan the land enchan...   Q0   \n",
       "3    916247  what us state bears the slogan the land enchan...   Q0   \n",
       "4    916247  what us state bears the slogan the land enchan...   Q0   \n",
       "\n",
       "                     passage_id  rank      score  username  rel  \\\n",
       "0  msmarco_passage_05_840839268     1  16.004101  Anserini    1   \n",
       "1  msmarco_passage_06_203354916     2  15.715500  Anserini    1   \n",
       "2  msmarco_passage_45_489369159     3  15.715499  Anserini    1   \n",
       "3  msmarco_passage_50_676325639     4  14.983700  Anserini    1   \n",
       "4  msmarco_passage_21_464076261     5  14.347200  Anserini    1   \n",
       "\n",
       "                                       query_cleaned  predicted_score  \\\n",
       "0  what us state bears the slogan the land enchan...         5.953219   \n",
       "1  what us state bears the slogan the land enchan...         5.636463   \n",
       "2  what us state bears the slogan the land enchan...         5.636463   \n",
       "3  what us state bears the slogan the land enchan...         4.759048   \n",
       "4  what us state bears the slogan the land enchan...         5.291733   \n",
       "\n",
       "   avg_precision  \n",
       "0            1.0  \n",
       "1            1.0  \n",
       "2            1.0  \n",
       "3            1.0  \n",
       "4            1.0  "
      ]
     },
     "execution_count": 92,
     "metadata": {},
     "output_type": "execute_result"
    }
   ],
   "source": [
    "result.head()"
   ]
  },
  {
   "cell_type": "code",
   "execution_count": 91,
   "metadata": {},
   "outputs": [
    {
     "name": "stdout",
     "output_type": "stream",
     "text": [
      "Mean Average Precision=> 0.8705241320231795\n"
     ]
    }
   ],
   "source": [
    "print('Mean Average Precision=>', result[\"avg_precision\"].mean())"
   ]
  },
  {
   "cell_type": "code",
   "execution_count": 93,
   "metadata": {},
   "outputs": [],
   "source": [
    "result.to_csv(\"./output/query_test_result_TinyBERT-L-2-v2_CEBinaryClassificationEvaluator.csv\"\n",
    "                                       , index = False)"
   ]
  },
  {
   "cell_type": "code",
   "execution_count": null,
   "metadata": {},
   "outputs": [],
   "source": []
  }
 ],
 "metadata": {
  "kernelspec": {
   "display_name": "base",
   "language": "python",
   "name": "python3"
  },
  "language_info": {
   "codemirror_mode": {
    "name": "ipython",
    "version": 3
   },
   "file_extension": ".py",
   "mimetype": "text/x-python",
   "name": "python",
   "nbconvert_exporter": "python",
   "pygments_lexer": "ipython3",
   "version": "3.11.4"
  },
  "orig_nbformat": 4
 },
 "nbformat": 4,
 "nbformat_minor": 2
}
